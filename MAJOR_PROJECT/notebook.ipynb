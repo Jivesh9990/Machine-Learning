{
 "metadata": {
  "language_info": {
   "codemirror_mode": {
    "name": "ipython",
    "version": 3
   },
   "file_extension": ".py",
   "mimetype": "text/x-python",
   "name": "python",
   "nbconvert_exporter": "python",
   "pygments_lexer": "ipython3",
   "version": "3.7.4"
  },
  "orig_nbformat": 2,
  "kernelspec": {
   "name": "python374jvsc74a57bd0b3ba2566441a7c06988d0923437866b63cedc61552a5af99d1f4fb67d367b25f",
   "display_name": "Python 3.7.4 64-bit ('base': conda)"
  }
 },
 "nbformat": 4,
 "nbformat_minor": 2,
 "cells": [
  {
   "cell_type": "code",
   "execution_count": 1,
   "metadata": {},
   "outputs": [],
   "source": [
    "# import the necessary packages\n",
    "from imutils.video import VideoStream\n",
    "from imutils.video import FPS\n",
    "import argparse\n",
    "import imutils\n",
    "import time\n",
    "import cv2\n",
    "import pyautogui"
   ]
  },
  {
   "cell_type": "code",
   "execution_count": 2,
   "metadata": {},
   "outputs": [],
   "source": [
    "vs = VideoStream(src=0).start()\n",
    "time.sleep(1.0)"
   ]
  },
  {
   "cell_type": "code",
   "execution_count": 3,
   "metadata": {},
   "outputs": [
    {
     "output_type": "stream",
     "name": "stdout",
     "text": [
      "[[[132 134 124]\n  [133 135 126]\n  [133 134 129]\n  ...\n  [211 199 200]\n  [211 201 193]\n  [211 201 193]]\n\n [[132 133 128]\n  [133 134 129]\n  [130 131 127]\n  ...\n  [214 199 195]\n  [214 199 195]\n  [214 199 195]]\n\n [[132 133 128]\n  [133 134 129]\n  [133 134 129]\n  ...\n  [214 198 199]\n  [212 196 193]\n  [213 197 194]]\n\n ...\n\n [[ 11  20  39]\n  [ 13  22  42]\n  [ 11  20  39]\n  ...\n  [ 67  83 114]\n  [ 69  88 123]\n  [ 70  90 124]]\n\n [[ 11  20  39]\n  [ 11  20  39]\n  [  8  17  37]\n  ...\n  [ 69  88 123]\n  [ 69  88 123]\n  [ 71  91 125]]\n\n [[  8  17  37]\n  [  9  19  38]\n  [  8  17  37]\n  ...\n  [ 65  85 119]\n  [ 65  85 119]\n  [ 68  87 122]]]\n"
     ]
    }
   ],
   "source": [
    "frame = vs.read()\n",
    "print(frame)"
   ]
  },
  {
   "cell_type": "code",
   "execution_count": 4,
   "metadata": {},
   "outputs": [],
   "source": [
    "vs.stop()"
   ]
  },
  {
   "cell_type": "code",
   "execution_count": 5,
   "metadata": {},
   "outputs": [
    {
     "output_type": "error",
     "ename": "AttributeError",
     "evalue": "'WebcamVideoStream' object has no attribute 'release'",
     "traceback": [
      "\u001b[1;31m---------------------------------------------------------------------------\u001b[0m",
      "\u001b[1;31mAttributeError\u001b[0m                            Traceback (most recent call last)",
      "\u001b[1;32m<ipython-input-5-3fd18e0337ed>\u001b[0m in \u001b[0;36m<module>\u001b[1;34m\u001b[0m\n\u001b[1;32m----> 1\u001b[1;33m \u001b[0mvs\u001b[0m\u001b[1;33m.\u001b[0m\u001b[0mrelease\u001b[0m\u001b[1;33m(\u001b[0m\u001b[1;33m)\u001b[0m\u001b[1;33m\u001b[0m\u001b[1;33m\u001b[0m\u001b[0m\n\u001b[0m",
      "\u001b[1;31mAttributeError\u001b[0m: 'WebcamVideoStream' object has no attribute 'release'"
     ]
    }
   ],
   "source": []
  }
 ]
}