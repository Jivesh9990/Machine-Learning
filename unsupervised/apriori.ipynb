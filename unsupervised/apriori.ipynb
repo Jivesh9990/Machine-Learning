{
 "metadata": {
  "language_info": {
   "codemirror_mode": {
    "name": "ipython",
    "version": 3
   },
   "file_extension": ".py",
   "mimetype": "text/x-python",
   "name": "python",
   "nbconvert_exporter": "python",
   "pygments_lexer": "ipython3",
   "version": "3.7.4-final"
  },
  "orig_nbformat": 2,
  "kernelspec": {
   "name": "python3",
   "display_name": "Python 3.7.4 64-bit (conda)",
   "metadata": {
    "interpreter": {
     "hash": "b3ba2566441a7c06988d0923437866b63cedc61552a5af99d1f4fb67d367b25f"
    }
   }
  }
 },
 "nbformat": 4,
 "nbformat_minor": 2,
 "cells": [
  {
   "cell_type": "code",
   "execution_count": 1,
   "metadata": {},
   "outputs": [],
   "source": [
    "import numpy as np\n",
    "import pandas as pd\n",
    "import matplotlib.pyplot as plt\n",
    "import seaborn as sns\n",
    "import plotly.express as plt"
   ]
  },
  {
   "cell_type": "code",
   "execution_count": 2,
   "metadata": {},
   "outputs": [
    {
     "output_type": "stream",
     "name": "stdout",
     "text": [
      "<class 'pandas.core.frame.DataFrame'>\nInt64Index: 541909 entries, 0 to 541908\nData columns (total 8 columns):\n #   Column         Non-Null Count   Dtype  \n---  ------         --------------   -----  \n 0   Country        541909 non-null  object \n 1   CustomerID     406829 non-null  float64\n 2   Description    540455 non-null  object \n 3   InvoiceNo      541909 non-null  object \n 4   Quantity       541909 non-null  float64\n 5   StockCode      541909 non-null  object \n 6   UnitPrice      541909 non-null  float64\n 7   InvoiceDate_1  541909 non-null  object \ndtypes: float64(3), object(5)\nmemory usage: 37.2+ MB\n"
     ]
    },
    {
     "output_type": "execute_result",
     "data": {
      "text/plain": [
       "          Country  CustomerID                          Description InvoiceNo  \\\n",
       "0  United Kingdom     17850.0   WHITE HANGING HEART T-LIGHT HOLDER  536365.0   \n",
       "1  United Kingdom     17850.0                  WHITE METAL LANTERN  536365.0   \n",
       "2  United Kingdom     17850.0       CREAM CUPID HEARTS COAT HANGER  536365.0   \n",
       "3  United Kingdom     17850.0  KNITTED UNION FLAG HOT WATER BOTTLE  536365.0   \n",
       "4  United Kingdom     17850.0       RED WOOLLY HOTTIE WHITE HEART.  536365.0   \n",
       "\n",
       "   Quantity StockCode  UnitPrice        InvoiceDate_1  \n",
       "0       6.0    85123A       2.55  2010-12-01 08:26:00  \n",
       "1       6.0   71053.0       3.39  2010-12-01 08:26:00  \n",
       "2       8.0    84406B       2.75  2010-12-01 08:26:00  \n",
       "3       6.0    84029G       3.39  2010-12-01 08:26:00  \n",
       "4       6.0    84029E       3.39  2010-12-01 08:26:00  "
      ],
      "text/html": "<div>\n<style scoped>\n    .dataframe tbody tr th:only-of-type {\n        vertical-align: middle;\n    }\n\n    .dataframe tbody tr th {\n        vertical-align: top;\n    }\n\n    .dataframe thead th {\n        text-align: right;\n    }\n</style>\n<table border=\"1\" class=\"dataframe\">\n  <thead>\n    <tr style=\"text-align: right;\">\n      <th></th>\n      <th>Country</th>\n      <th>CustomerID</th>\n      <th>Description</th>\n      <th>InvoiceNo</th>\n      <th>Quantity</th>\n      <th>StockCode</th>\n      <th>UnitPrice</th>\n      <th>InvoiceDate_1</th>\n    </tr>\n  </thead>\n  <tbody>\n    <tr>\n      <th>0</th>\n      <td>United Kingdom</td>\n      <td>17850.0</td>\n      <td>WHITE HANGING HEART T-LIGHT HOLDER</td>\n      <td>536365.0</td>\n      <td>6.0</td>\n      <td>85123A</td>\n      <td>2.55</td>\n      <td>2010-12-01 08:26:00</td>\n    </tr>\n    <tr>\n      <th>1</th>\n      <td>United Kingdom</td>\n      <td>17850.0</td>\n      <td>WHITE METAL LANTERN</td>\n      <td>536365.0</td>\n      <td>6.0</td>\n      <td>71053.0</td>\n      <td>3.39</td>\n      <td>2010-12-01 08:26:00</td>\n    </tr>\n    <tr>\n      <th>2</th>\n      <td>United Kingdom</td>\n      <td>17850.0</td>\n      <td>CREAM CUPID HEARTS COAT HANGER</td>\n      <td>536365.0</td>\n      <td>8.0</td>\n      <td>84406B</td>\n      <td>2.75</td>\n      <td>2010-12-01 08:26:00</td>\n    </tr>\n    <tr>\n      <th>3</th>\n      <td>United Kingdom</td>\n      <td>17850.0</td>\n      <td>KNITTED UNION FLAG HOT WATER BOTTLE</td>\n      <td>536365.0</td>\n      <td>6.0</td>\n      <td>84029G</td>\n      <td>3.39</td>\n      <td>2010-12-01 08:26:00</td>\n    </tr>\n    <tr>\n      <th>4</th>\n      <td>United Kingdom</td>\n      <td>17850.0</td>\n      <td>RED WOOLLY HOTTIE WHITE HEART.</td>\n      <td>536365.0</td>\n      <td>6.0</td>\n      <td>84029E</td>\n      <td>3.39</td>\n      <td>2010-12-01 08:26:00</td>\n    </tr>\n  </tbody>\n</table>\n</div>"
     },
     "metadata": {},
     "execution_count": 2
    }
   ],
   "source": [
    "df=pd.read_csv(\"../datasets/Online_Retail.csv\",index_col='Unnamed: 0')\n",
    "df.info()\n",
    "df.head()"
   ]
  },
  {
   "cell_type": "code",
   "execution_count": 3,
   "metadata": {},
   "outputs": [
    {
     "output_type": "execute_result",
     "data": {
      "text/plain": [
       "               Country     CustomerID                         Description  \\\n",
       "count           541909  406829.000000                              540455   \n",
       "unique              38            NaN                                4223   \n",
       "top     United Kingdom            NaN  WHITE HANGING HEART T-LIGHT HOLDER   \n",
       "freq            495478            NaN                                2369   \n",
       "mean               NaN   15287.690570                                 NaN   \n",
       "std                NaN    1713.600303                                 NaN   \n",
       "min                NaN   12346.000000                                 NaN   \n",
       "25%                NaN   13953.000000                                 NaN   \n",
       "50%                NaN   15152.000000                                 NaN   \n",
       "75%                NaN   16791.000000                                 NaN   \n",
       "max                NaN   18287.000000                                 NaN   \n",
       "\n",
       "       InvoiceNo       Quantity StockCode      UnitPrice        InvoiceDate_1  \n",
       "count     541909  541909.000000    541909  541909.000000               541909  \n",
       "unique     25900            NaN      4070            NaN                23260  \n",
       "top     573585.0            NaN    85123A            NaN  2011-10-31 14:41:00  \n",
       "freq        1114            NaN      2313            NaN                 1114  \n",
       "mean         NaN       9.552250       NaN       4.611114                  NaN  \n",
       "std          NaN     218.081158       NaN      96.759853                  NaN  \n",
       "min          NaN  -80995.000000       NaN  -11062.060000                  NaN  \n",
       "25%          NaN       1.000000       NaN       1.250000                  NaN  \n",
       "50%          NaN       3.000000       NaN       2.080000                  NaN  \n",
       "75%          NaN      10.000000       NaN       4.130000                  NaN  \n",
       "max          NaN   80995.000000       NaN   38970.000000                  NaN  "
      ],
      "text/html": "<div>\n<style scoped>\n    .dataframe tbody tr th:only-of-type {\n        vertical-align: middle;\n    }\n\n    .dataframe tbody tr th {\n        vertical-align: top;\n    }\n\n    .dataframe thead th {\n        text-align: right;\n    }\n</style>\n<table border=\"1\" class=\"dataframe\">\n  <thead>\n    <tr style=\"text-align: right;\">\n      <th></th>\n      <th>Country</th>\n      <th>CustomerID</th>\n      <th>Description</th>\n      <th>InvoiceNo</th>\n      <th>Quantity</th>\n      <th>StockCode</th>\n      <th>UnitPrice</th>\n      <th>InvoiceDate_1</th>\n    </tr>\n  </thead>\n  <tbody>\n    <tr>\n      <th>count</th>\n      <td>541909</td>\n      <td>406829.000000</td>\n      <td>540455</td>\n      <td>541909</td>\n      <td>541909.000000</td>\n      <td>541909</td>\n      <td>541909.000000</td>\n      <td>541909</td>\n    </tr>\n    <tr>\n      <th>unique</th>\n      <td>38</td>\n      <td>NaN</td>\n      <td>4223</td>\n      <td>25900</td>\n      <td>NaN</td>\n      <td>4070</td>\n      <td>NaN</td>\n      <td>23260</td>\n    </tr>\n    <tr>\n      <th>top</th>\n      <td>United Kingdom</td>\n      <td>NaN</td>\n      <td>WHITE HANGING HEART T-LIGHT HOLDER</td>\n      <td>573585.0</td>\n      <td>NaN</td>\n      <td>85123A</td>\n      <td>NaN</td>\n      <td>2011-10-31 14:41:00</td>\n    </tr>\n    <tr>\n      <th>freq</th>\n      <td>495478</td>\n      <td>NaN</td>\n      <td>2369</td>\n      <td>1114</td>\n      <td>NaN</td>\n      <td>2313</td>\n      <td>NaN</td>\n      <td>1114</td>\n    </tr>\n    <tr>\n      <th>mean</th>\n      <td>NaN</td>\n      <td>15287.690570</td>\n      <td>NaN</td>\n      <td>NaN</td>\n      <td>9.552250</td>\n      <td>NaN</td>\n      <td>4.611114</td>\n      <td>NaN</td>\n    </tr>\n    <tr>\n      <th>std</th>\n      <td>NaN</td>\n      <td>1713.600303</td>\n      <td>NaN</td>\n      <td>NaN</td>\n      <td>218.081158</td>\n      <td>NaN</td>\n      <td>96.759853</td>\n      <td>NaN</td>\n    </tr>\n    <tr>\n      <th>min</th>\n      <td>NaN</td>\n      <td>12346.000000</td>\n      <td>NaN</td>\n      <td>NaN</td>\n      <td>-80995.000000</td>\n      <td>NaN</td>\n      <td>-11062.060000</td>\n      <td>NaN</td>\n    </tr>\n    <tr>\n      <th>25%</th>\n      <td>NaN</td>\n      <td>13953.000000</td>\n      <td>NaN</td>\n      <td>NaN</td>\n      <td>1.000000</td>\n      <td>NaN</td>\n      <td>1.250000</td>\n      <td>NaN</td>\n    </tr>\n    <tr>\n      <th>50%</th>\n      <td>NaN</td>\n      <td>15152.000000</td>\n      <td>NaN</td>\n      <td>NaN</td>\n      <td>3.000000</td>\n      <td>NaN</td>\n      <td>2.080000</td>\n      <td>NaN</td>\n    </tr>\n    <tr>\n      <th>75%</th>\n      <td>NaN</td>\n      <td>16791.000000</td>\n      <td>NaN</td>\n      <td>NaN</td>\n      <td>10.000000</td>\n      <td>NaN</td>\n      <td>4.130000</td>\n      <td>NaN</td>\n    </tr>\n    <tr>\n      <th>max</th>\n      <td>NaN</td>\n      <td>18287.000000</td>\n      <td>NaN</td>\n      <td>NaN</td>\n      <td>80995.000000</td>\n      <td>NaN</td>\n      <td>38970.000000</td>\n      <td>NaN</td>\n    </tr>\n  </tbody>\n</table>\n</div>"
     },
     "metadata": {},
     "execution_count": 3
    }
   ],
   "source": [
    "df.describe(include='all')"
   ]
  },
  {
   "cell_type": "code",
   "execution_count": 4,
   "metadata": {},
   "outputs": [
    {
     "output_type": "execute_result",
     "data": {
      "text/plain": [
       "0          WHITE HANGING HEART T-LIGHT HOLDER\n",
       "1                         WHITE METAL LANTERN\n",
       "2              CREAM CUPID HEARTS COAT HANGER\n",
       "3         KNITTED UNION FLAG HOT WATER BOTTLE\n",
       "4              RED WOOLLY HOTTIE WHITE HEART.\n",
       "                         ...                 \n",
       "541904            PACK OF 20 SPACEBOY NAPKINS\n",
       "541905           CHILDREN'S APRON DOLLY GIRL \n",
       "541906          CHILDRENS CUTLERY DOLLY GIRL \n",
       "541907        CHILDRENS CUTLERY CIRCUS PARADE\n",
       "541908          BAKING SET 9 PIECE RETROSPOT \n",
       "Name: Description, Length: 541909, dtype: object"
      ]
     },
     "metadata": {},
     "execution_count": 4
    }
   ],
   "source": [
    "df[\"Description\"]"
   ]
  },
  {
   "cell_type": "code",
   "execution_count": 5,
   "metadata": {},
   "outputs": [],
   "source": [
    "df[\"Description\"]=df[\"Description\"].str.strip() # remove extra spaces from both sides\n",
    "df[\"Description\"]=df[\"Description\"].str.lower() #to lower case\n",
    "df[\"Description\"] = df['Description'].str.replace('[^\\w\\s]','') # to remove Punctuation"
   ]
  },
  {
   "cell_type": "code",
   "execution_count": 6,
   "metadata": {},
   "outputs": [
    {
     "output_type": "execute_result",
     "data": {
      "text/plain": [
       "0           white hanging heart tlight holder\n",
       "1                         white metal lantern\n",
       "2              cream cupid hearts coat hanger\n",
       "3         knitted union flag hot water bottle\n",
       "4               red woolly hottie white heart\n",
       "                         ...                 \n",
       "541904            pack of 20 spaceboy napkins\n",
       "541905             childrens apron dolly girl\n",
       "541906           childrens cutlery dolly girl\n",
       "541907        childrens cutlery circus parade\n",
       "541908           baking set 9 piece retrospot\n",
       "Name: Description, Length: 541909, dtype: object"
      ]
     },
     "metadata": {},
     "execution_count": 6
    }
   ],
   "source": [
    "df[\"Description\"]"
   ]
  },
  {
   "cell_type": "code",
   "execution_count": 7,
   "metadata": {},
   "outputs": [
    {
     "output_type": "execute_result",
     "data": {
      "text/plain": [
       "0         536365.0\n",
       "1         536365.0\n",
       "2         536365.0\n",
       "3         536365.0\n",
       "4         536365.0\n",
       "            ...   \n",
       "540449     C581490\n",
       "541541     C581499\n",
       "541715     C581568\n",
       "541716     C581569\n",
       "541717     C581569\n",
       "Name: InvoiceNo, Length: 541909, dtype: object"
      ]
     },
     "metadata": {},
     "execution_count": 7
    }
   ],
   "source": [
    "df['InvoiceNo'].sort_values()"
   ]
  },
  {
   "cell_type": "code",
   "execution_count": 8,
   "metadata": {},
   "outputs": [],
   "source": [
    "def clean_invoice(invoice):\n",
    "    invoice=invoice.replace('.','')\n",
    "    if invoice.isalnum():\n",
    "        return int(invoice[1:])\n",
    "    return int(invoice)"
   ]
  },
  {
   "cell_type": "code",
   "execution_count": 9,
   "metadata": {},
   "outputs": [],
   "source": [
    "df['InvoiceNo'] = df['InvoiceNo'].apply(clean_invoice)"
   ]
  },
  {
   "cell_type": "code",
   "execution_count": 10,
   "metadata": {},
   "outputs": [
    {
     "output_type": "execute_result",
     "data": {
      "text/plain": [
       "0         363650\n",
       "1         363650\n",
       "2         363650\n",
       "3         363650\n",
       "4         363650\n",
       "           ...  \n",
       "541896    815870\n",
       "541895    815870\n",
       "541907    815870\n",
       "541900    815870\n",
       "541908    815870\n",
       "Name: InvoiceNo, Length: 541909, dtype: int64"
      ]
     },
     "metadata": {},
     "execution_count": 10
    }
   ],
   "source": [
    "df['InvoiceNo'].sort_values()"
   ]
  },
  {
   "cell_type": "code",
   "execution_count": 11,
   "metadata": {},
   "outputs": [
    {
     "output_type": "execute_result",
     "data": {
      "text/plain": [
       "array(['United Kingdom', 'France', 'Australia', 'Netherlands', 'Germany',\n",
       "       'Norway', 'EIRE', 'Switzerland', 'Spain', 'Poland', 'Portugal',\n",
       "       'Italy', 'Belgium', 'Lithuania', 'Japan', 'Iceland',\n",
       "       'Channel Islands', 'Denmark', 'Cyprus', 'Sweden', 'Austria',\n",
       "       'Israel', 'Finland', 'Bahrain', 'Greece', 'Hong Kong', 'Singapore',\n",
       "       'Lebanon', 'United Arab Emirates', 'Saudi Arabia',\n",
       "       'Czech Republic', 'Canada', 'Unspecified', 'Brazil', 'USA',\n",
       "       'European Community', 'Malta', 'RSA'], dtype=object)"
      ]
     },
     "metadata": {},
     "execution_count": 11
    }
   ],
   "source": [
    "df['Country'].unique()"
   ]
  },
  {
   "cell_type": "code",
   "execution_count": 12,
   "metadata": {},
   "outputs": [
    {
     "output_type": "execute_result",
     "data": {
      "text/plain": [
       "          Country  CustomerID                          Description  InvoiceNo  \\\n",
       "197     Australia     12431.0         christmas lights 10 reindeer     363890   \n",
       "198     Australia     12431.0     vintage union jack cushion cover     363890   \n",
       "199     Australia     12431.0    vintage heads and tails card game     363890   \n",
       "200     Australia     12431.0      set of 3 coloured  flying ducks     363890   \n",
       "201     Australia     12431.0           set of 3 gold flying ducks     363890   \n",
       "...           ...         ...                                  ...        ...   \n",
       "497681  Australia     12388.0        paper chain kit 50s christmas     784590   \n",
       "497682  Australia     12388.0            noel garland painted zinc     784590   \n",
       "497683  Australia     12388.0  swallow wooden christmas decoration     784590   \n",
       "497684  Australia     12388.0         advent calendar gingham sack     784590   \n",
       "497685  Australia     12388.0                     red baby bunting     784590   \n",
       "\n",
       "        Quantity StockCode  UnitPrice        InvoiceDate_1  \n",
       "197          6.0   22941.0       8.50  2010-12-01 10:03:00  \n",
       "198          8.0   21622.0       4.95  2010-12-01 10:03:00  \n",
       "199         12.0   21791.0       1.25  2010-12-01 10:03:00  \n",
       "200          6.0    35004C       5.45  2010-12-01 10:03:00  \n",
       "201          4.0    35004G       6.35  2010-12-01 10:03:00  \n",
       "...          ...       ...        ...                  ...  \n",
       "497681      20.0   22086.0       2.95  2011-11-24 12:30:00  \n",
       "497682      24.0   22340.0       0.39  2011-11-24 12:30:00  \n",
       "497683      20.0   22576.0       0.85  2011-11-24 12:30:00  \n",
       "497684      12.0   22580.0       5.95  2011-11-24 12:30:00  \n",
       "497685      12.0   22669.0       2.95  2011-11-24 12:30:00  \n",
       "\n",
       "[1259 rows x 8 columns]"
      ],
      "text/html": "<div>\n<style scoped>\n    .dataframe tbody tr th:only-of-type {\n        vertical-align: middle;\n    }\n\n    .dataframe tbody tr th {\n        vertical-align: top;\n    }\n\n    .dataframe thead th {\n        text-align: right;\n    }\n</style>\n<table border=\"1\" class=\"dataframe\">\n  <thead>\n    <tr style=\"text-align: right;\">\n      <th></th>\n      <th>Country</th>\n      <th>CustomerID</th>\n      <th>Description</th>\n      <th>InvoiceNo</th>\n      <th>Quantity</th>\n      <th>StockCode</th>\n      <th>UnitPrice</th>\n      <th>InvoiceDate_1</th>\n    </tr>\n  </thead>\n  <tbody>\n    <tr>\n      <th>197</th>\n      <td>Australia</td>\n      <td>12431.0</td>\n      <td>christmas lights 10 reindeer</td>\n      <td>363890</td>\n      <td>6.0</td>\n      <td>22941.0</td>\n      <td>8.50</td>\n      <td>2010-12-01 10:03:00</td>\n    </tr>\n    <tr>\n      <th>198</th>\n      <td>Australia</td>\n      <td>12431.0</td>\n      <td>vintage union jack cushion cover</td>\n      <td>363890</td>\n      <td>8.0</td>\n      <td>21622.0</td>\n      <td>4.95</td>\n      <td>2010-12-01 10:03:00</td>\n    </tr>\n    <tr>\n      <th>199</th>\n      <td>Australia</td>\n      <td>12431.0</td>\n      <td>vintage heads and tails card game</td>\n      <td>363890</td>\n      <td>12.0</td>\n      <td>21791.0</td>\n      <td>1.25</td>\n      <td>2010-12-01 10:03:00</td>\n    </tr>\n    <tr>\n      <th>200</th>\n      <td>Australia</td>\n      <td>12431.0</td>\n      <td>set of 3 coloured  flying ducks</td>\n      <td>363890</td>\n      <td>6.0</td>\n      <td>35004C</td>\n      <td>5.45</td>\n      <td>2010-12-01 10:03:00</td>\n    </tr>\n    <tr>\n      <th>201</th>\n      <td>Australia</td>\n      <td>12431.0</td>\n      <td>set of 3 gold flying ducks</td>\n      <td>363890</td>\n      <td>4.0</td>\n      <td>35004G</td>\n      <td>6.35</td>\n      <td>2010-12-01 10:03:00</td>\n    </tr>\n    <tr>\n      <th>...</th>\n      <td>...</td>\n      <td>...</td>\n      <td>...</td>\n      <td>...</td>\n      <td>...</td>\n      <td>...</td>\n      <td>...</td>\n      <td>...</td>\n    </tr>\n    <tr>\n      <th>497681</th>\n      <td>Australia</td>\n      <td>12388.0</td>\n      <td>paper chain kit 50s christmas</td>\n      <td>784590</td>\n      <td>20.0</td>\n      <td>22086.0</td>\n      <td>2.95</td>\n      <td>2011-11-24 12:30:00</td>\n    </tr>\n    <tr>\n      <th>497682</th>\n      <td>Australia</td>\n      <td>12388.0</td>\n      <td>noel garland painted zinc</td>\n      <td>784590</td>\n      <td>24.0</td>\n      <td>22340.0</td>\n      <td>0.39</td>\n      <td>2011-11-24 12:30:00</td>\n    </tr>\n    <tr>\n      <th>497683</th>\n      <td>Australia</td>\n      <td>12388.0</td>\n      <td>swallow wooden christmas decoration</td>\n      <td>784590</td>\n      <td>20.0</td>\n      <td>22576.0</td>\n      <td>0.85</td>\n      <td>2011-11-24 12:30:00</td>\n    </tr>\n    <tr>\n      <th>497684</th>\n      <td>Australia</td>\n      <td>12388.0</td>\n      <td>advent calendar gingham sack</td>\n      <td>784590</td>\n      <td>12.0</td>\n      <td>22580.0</td>\n      <td>5.95</td>\n      <td>2011-11-24 12:30:00</td>\n    </tr>\n    <tr>\n      <th>497685</th>\n      <td>Australia</td>\n      <td>12388.0</td>\n      <td>red baby bunting</td>\n      <td>784590</td>\n      <td>12.0</td>\n      <td>22669.0</td>\n      <td>2.95</td>\n      <td>2011-11-24 12:30:00</td>\n    </tr>\n  </tbody>\n</table>\n<p>1259 rows × 8 columns</p>\n</div>"
     },
     "metadata": {},
     "execution_count": 12
    }
   ],
   "source": [
    "countryfilter=df['Country']=='Australia'\n",
    "df[countryfilter]"
   ]
  },
  {
   "cell_type": "code",
   "execution_count": 13,
   "metadata": {},
   "outputs": [
    {
     "output_type": "execute_result",
     "data": {
      "text/plain": [
       "InvoiceNo  Description                        \n",
       "363890     alarm clock bakelike green              4.0\n",
       "           alarm clock bakelike red                4.0\n",
       "           blackblue polkadot umbrella             3.0\n",
       "           blue diner wall clock                   2.0\n",
       "           christmas lights 10 reindeer            6.0\n",
       "                                                  ... \n",
       "784590     paper chain kit 50s christmas          20.0\n",
       "           paper chain kit vintage christmas      20.0\n",
       "           red baby bunting                       12.0\n",
       "           star decoration painted zinc           96.0\n",
       "           swallow wooden christmas decoration    20.0\n",
       "Name: Quantity, Length: 1256, dtype: float64"
      ]
     },
     "metadata": {},
     "execution_count": 13
    }
   ],
   "source": [
    "uk_df=df[countryfilter].groupby(['InvoiceNo','Description'])['Quantity'].sum()\n",
    "uk_df"
   ]
  },
  {
   "cell_type": "code",
   "execution_count": 14,
   "metadata": {},
   "outputs": [
    {
     "output_type": "execute_result",
     "data": {
      "text/plain": [
       "Description  10 colour spaceboy pen  12 pencil small tube woodland  \\\n",
       "InvoiceNo                                                            \n",
       "363890                          NaN                            NaN   \n",
       "376760                          NaN                            NaN   \n",
       "394190                          NaN                            NaN   \n",
       "402670                          NaN                            NaN   \n",
       "402800                          NaN                            NaN   \n",
       "...                             ...                            ...   \n",
       "741380                          NaN                            NaN   \n",
       "744690                          NaN                            NaN   \n",
       "763940                          NaN                            NaN   \n",
       "765860                          NaN                            NaN   \n",
       "784590                          NaN                            NaN   \n",
       "\n",
       "Description  12 pencils tall tube posy  12 pencils tall tube red retrospot  \\\n",
       "InvoiceNo                                                                    \n",
       "363890                             NaN                                 NaN   \n",
       "376760                             NaN                                 NaN   \n",
       "394190                             NaN                                 NaN   \n",
       "402670                             NaN                                 NaN   \n",
       "402800                             NaN                                 NaN   \n",
       "...                                ...                                 ...   \n",
       "741380                             NaN                                 NaN   \n",
       "744690                             NaN                                 NaN   \n",
       "763940                             NaN                                 NaN   \n",
       "765860                             NaN                                 NaN   \n",
       "784590                             NaN                                 NaN   \n",
       "\n",
       "Description  16 piece cutlery set pantry design  20 dolly pegs retrospot  \\\n",
       "InvoiceNo                                                                  \n",
       "363890                                      NaN                      NaN   \n",
       "376760                                      NaN                     24.0   \n",
       "394190                                      NaN                      NaN   \n",
       "402670                                      NaN                      NaN   \n",
       "402800                                      NaN                      NaN   \n",
       "...                                         ...                      ...   \n",
       "741380                                      NaN                      NaN   \n",
       "744690                                      NaN                      NaN   \n",
       "763940                                      NaN                      NaN   \n",
       "765860                                      NaN                      NaN   \n",
       "784590                                      NaN                      NaN   \n",
       "\n",
       "Description  3 hook hanger magic garden  3 stripey mice feltcraft  \\\n",
       "InvoiceNo                                                           \n",
       "363890                              NaN                       NaN   \n",
       "376760                              NaN                       NaN   \n",
       "394190                              NaN                       NaN   \n",
       "402670                              NaN                       NaN   \n",
       "402800                              NaN                       NaN   \n",
       "...                                 ...                       ...   \n",
       "741380                              NaN                       NaN   \n",
       "744690                              NaN                       NaN   \n",
       "763940                              NaN                       NaN   \n",
       "765860                              NaN                       NaN   \n",
       "784590                              NaN                       NaN   \n",
       "\n",
       "Description  3 tier cake tin green and cream  3 tier cake tin red and cream  \\\n",
       "InvoiceNo                                                                     \n",
       "363890                                   NaN                            NaN   \n",
       "376760                                   NaN                            NaN   \n",
       "394190                                   NaN                            NaN   \n",
       "402670                                   NaN                            NaN   \n",
       "402800                                   NaN                            NaN   \n",
       "...                                      ...                            ...   \n",
       "741380                                   NaN                            NaN   \n",
       "744690                                   NaN                            NaN   \n",
       "763940                                   NaN                            NaN   \n",
       "765860                                   NaN                            NaN   \n",
       "784590                                   NaN                            NaN   \n",
       "\n",
       "Description  ...  wrap doiley design  wrap dolly girl  wrap english rose  \\\n",
       "InvoiceNo    ...                                                           \n",
       "363890       ...                 NaN              NaN                NaN   \n",
       "376760       ...                 NaN              NaN                NaN   \n",
       "394190       ...                 NaN              NaN                NaN   \n",
       "402670       ...                 NaN              NaN                NaN   \n",
       "402800       ...                 NaN              NaN                NaN   \n",
       "...          ...                 ...              ...                ...   \n",
       "741380       ...                 NaN              NaN                NaN   \n",
       "744690       ...                 NaN              NaN                NaN   \n",
       "763940       ...                 NaN              NaN                NaN   \n",
       "765860       ...                 NaN              NaN                NaN   \n",
       "784590       ...                 NaN              NaN                NaN   \n",
       "\n",
       "Description  wrap i love london  wrap poppies  design  wrap red apples  \\\n",
       "InvoiceNo                                                                \n",
       "363890                      NaN                   NaN              NaN   \n",
       "376760                      NaN                   NaN              NaN   \n",
       "394190                      NaN                   NaN              NaN   \n",
       "402670                      NaN                   NaN              NaN   \n",
       "402800                      NaN                   NaN              NaN   \n",
       "...                         ...                   ...              ...   \n",
       "741380                      NaN                   NaN              NaN   \n",
       "744690                      NaN                   NaN              NaN   \n",
       "763940                      NaN                   NaN              NaN   \n",
       "765860                      NaN                   NaN              NaN   \n",
       "784590                      NaN                   NaN              NaN   \n",
       "\n",
       "Description  wrap red vintage doily  wrap vintage leaf design  \\\n",
       "InvoiceNo                                                       \n",
       "363890                          NaN                       NaN   \n",
       "376760                          NaN                       NaN   \n",
       "394190                          NaN                       NaN   \n",
       "402670                          NaN                       NaN   \n",
       "402800                          NaN                       NaN   \n",
       "...                             ...                       ...   \n",
       "741380                          NaN                       NaN   \n",
       "744690                          NaN                       NaN   \n",
       "763940                          NaN                       NaN   \n",
       "765860                          NaN                       NaN   \n",
       "784590                          NaN                       NaN   \n",
       "\n",
       "Description  wrap wedding day  yellow giant garden thermometer  \n",
       "InvoiceNo                                                       \n",
       "363890                    NaN                              NaN  \n",
       "376760                    NaN                              NaN  \n",
       "394190                    NaN                              NaN  \n",
       "402670                    NaN                              NaN  \n",
       "402800                    NaN                              NaN  \n",
       "...                       ...                              ...  \n",
       "741380                    NaN                              NaN  \n",
       "744690                    NaN                              NaN  \n",
       "763940                    NaN                              NaN  \n",
       "765860                    NaN                              NaN  \n",
       "784590                    NaN                              NaN  \n",
       "\n",
       "[69 rows x 609 columns]"
      ],
      "text/html": "<div>\n<style scoped>\n    .dataframe tbody tr th:only-of-type {\n        vertical-align: middle;\n    }\n\n    .dataframe tbody tr th {\n        vertical-align: top;\n    }\n\n    .dataframe thead th {\n        text-align: right;\n    }\n</style>\n<table border=\"1\" class=\"dataframe\">\n  <thead>\n    <tr style=\"text-align: right;\">\n      <th>Description</th>\n      <th>10 colour spaceboy pen</th>\n      <th>12 pencil small tube woodland</th>\n      <th>12 pencils tall tube posy</th>\n      <th>12 pencils tall tube red retrospot</th>\n      <th>16 piece cutlery set pantry design</th>\n      <th>20 dolly pegs retrospot</th>\n      <th>3 hook hanger magic garden</th>\n      <th>3 stripey mice feltcraft</th>\n      <th>3 tier cake tin green and cream</th>\n      <th>3 tier cake tin red and cream</th>\n      <th>...</th>\n      <th>wrap doiley design</th>\n      <th>wrap dolly girl</th>\n      <th>wrap english rose</th>\n      <th>wrap i love london</th>\n      <th>wrap poppies  design</th>\n      <th>wrap red apples</th>\n      <th>wrap red vintage doily</th>\n      <th>wrap vintage leaf design</th>\n      <th>wrap wedding day</th>\n      <th>yellow giant garden thermometer</th>\n    </tr>\n    <tr>\n      <th>InvoiceNo</th>\n      <th></th>\n      <th></th>\n      <th></th>\n      <th></th>\n      <th></th>\n      <th></th>\n      <th></th>\n      <th></th>\n      <th></th>\n      <th></th>\n      <th></th>\n      <th></th>\n      <th></th>\n      <th></th>\n      <th></th>\n      <th></th>\n      <th></th>\n      <th></th>\n      <th></th>\n      <th></th>\n      <th></th>\n    </tr>\n  </thead>\n  <tbody>\n    <tr>\n      <th>363890</th>\n      <td>NaN</td>\n      <td>NaN</td>\n      <td>NaN</td>\n      <td>NaN</td>\n      <td>NaN</td>\n      <td>NaN</td>\n      <td>NaN</td>\n      <td>NaN</td>\n      <td>NaN</td>\n      <td>NaN</td>\n      <td>...</td>\n      <td>NaN</td>\n      <td>NaN</td>\n      <td>NaN</td>\n      <td>NaN</td>\n      <td>NaN</td>\n      <td>NaN</td>\n      <td>NaN</td>\n      <td>NaN</td>\n      <td>NaN</td>\n      <td>NaN</td>\n    </tr>\n    <tr>\n      <th>376760</th>\n      <td>NaN</td>\n      <td>NaN</td>\n      <td>NaN</td>\n      <td>NaN</td>\n      <td>NaN</td>\n      <td>24.0</td>\n      <td>NaN</td>\n      <td>NaN</td>\n      <td>NaN</td>\n      <td>NaN</td>\n      <td>...</td>\n      <td>NaN</td>\n      <td>NaN</td>\n      <td>NaN</td>\n      <td>NaN</td>\n      <td>NaN</td>\n      <td>NaN</td>\n      <td>NaN</td>\n      <td>NaN</td>\n      <td>NaN</td>\n      <td>NaN</td>\n    </tr>\n    <tr>\n      <th>394190</th>\n      <td>NaN</td>\n      <td>NaN</td>\n      <td>NaN</td>\n      <td>NaN</td>\n      <td>NaN</td>\n      <td>NaN</td>\n      <td>NaN</td>\n      <td>NaN</td>\n      <td>NaN</td>\n      <td>NaN</td>\n      <td>...</td>\n      <td>NaN</td>\n      <td>NaN</td>\n      <td>NaN</td>\n      <td>NaN</td>\n      <td>NaN</td>\n      <td>NaN</td>\n      <td>NaN</td>\n      <td>NaN</td>\n      <td>NaN</td>\n      <td>NaN</td>\n    </tr>\n    <tr>\n      <th>402670</th>\n      <td>NaN</td>\n      <td>NaN</td>\n      <td>NaN</td>\n      <td>NaN</td>\n      <td>NaN</td>\n      <td>NaN</td>\n      <td>NaN</td>\n      <td>NaN</td>\n      <td>NaN</td>\n      <td>NaN</td>\n      <td>...</td>\n      <td>NaN</td>\n      <td>NaN</td>\n      <td>NaN</td>\n      <td>NaN</td>\n      <td>NaN</td>\n      <td>NaN</td>\n      <td>NaN</td>\n      <td>NaN</td>\n      <td>NaN</td>\n      <td>NaN</td>\n    </tr>\n    <tr>\n      <th>402800</th>\n      <td>NaN</td>\n      <td>NaN</td>\n      <td>NaN</td>\n      <td>NaN</td>\n      <td>NaN</td>\n      <td>NaN</td>\n      <td>NaN</td>\n      <td>NaN</td>\n      <td>NaN</td>\n      <td>NaN</td>\n      <td>...</td>\n      <td>NaN</td>\n      <td>NaN</td>\n      <td>NaN</td>\n      <td>NaN</td>\n      <td>NaN</td>\n      <td>NaN</td>\n      <td>NaN</td>\n      <td>NaN</td>\n      <td>NaN</td>\n      <td>NaN</td>\n    </tr>\n    <tr>\n      <th>...</th>\n      <td>...</td>\n      <td>...</td>\n      <td>...</td>\n      <td>...</td>\n      <td>...</td>\n      <td>...</td>\n      <td>...</td>\n      <td>...</td>\n      <td>...</td>\n      <td>...</td>\n      <td>...</td>\n      <td>...</td>\n      <td>...</td>\n      <td>...</td>\n      <td>...</td>\n      <td>...</td>\n      <td>...</td>\n      <td>...</td>\n      <td>...</td>\n      <td>...</td>\n      <td>...</td>\n    </tr>\n    <tr>\n      <th>741380</th>\n      <td>NaN</td>\n      <td>NaN</td>\n      <td>NaN</td>\n      <td>NaN</td>\n      <td>NaN</td>\n      <td>NaN</td>\n      <td>NaN</td>\n      <td>NaN</td>\n      <td>NaN</td>\n      <td>NaN</td>\n      <td>...</td>\n      <td>NaN</td>\n      <td>NaN</td>\n      <td>NaN</td>\n      <td>NaN</td>\n      <td>NaN</td>\n      <td>NaN</td>\n      <td>NaN</td>\n      <td>NaN</td>\n      <td>NaN</td>\n      <td>NaN</td>\n    </tr>\n    <tr>\n      <th>744690</th>\n      <td>NaN</td>\n      <td>NaN</td>\n      <td>NaN</td>\n      <td>NaN</td>\n      <td>NaN</td>\n      <td>NaN</td>\n      <td>NaN</td>\n      <td>NaN</td>\n      <td>NaN</td>\n      <td>NaN</td>\n      <td>...</td>\n      <td>NaN</td>\n      <td>NaN</td>\n      <td>NaN</td>\n      <td>NaN</td>\n      <td>NaN</td>\n      <td>NaN</td>\n      <td>NaN</td>\n      <td>NaN</td>\n      <td>NaN</td>\n      <td>NaN</td>\n    </tr>\n    <tr>\n      <th>763940</th>\n      <td>NaN</td>\n      <td>NaN</td>\n      <td>NaN</td>\n      <td>NaN</td>\n      <td>NaN</td>\n      <td>NaN</td>\n      <td>NaN</td>\n      <td>NaN</td>\n      <td>NaN</td>\n      <td>NaN</td>\n      <td>...</td>\n      <td>NaN</td>\n      <td>NaN</td>\n      <td>NaN</td>\n      <td>NaN</td>\n      <td>NaN</td>\n      <td>NaN</td>\n      <td>NaN</td>\n      <td>NaN</td>\n      <td>NaN</td>\n      <td>NaN</td>\n    </tr>\n    <tr>\n      <th>765860</th>\n      <td>NaN</td>\n      <td>NaN</td>\n      <td>NaN</td>\n      <td>NaN</td>\n      <td>NaN</td>\n      <td>NaN</td>\n      <td>NaN</td>\n      <td>NaN</td>\n      <td>NaN</td>\n      <td>NaN</td>\n      <td>...</td>\n      <td>NaN</td>\n      <td>NaN</td>\n      <td>NaN</td>\n      <td>NaN</td>\n      <td>NaN</td>\n      <td>NaN</td>\n      <td>NaN</td>\n      <td>NaN</td>\n      <td>NaN</td>\n      <td>NaN</td>\n    </tr>\n    <tr>\n      <th>784590</th>\n      <td>NaN</td>\n      <td>NaN</td>\n      <td>NaN</td>\n      <td>NaN</td>\n      <td>NaN</td>\n      <td>NaN</td>\n      <td>NaN</td>\n      <td>NaN</td>\n      <td>NaN</td>\n      <td>NaN</td>\n      <td>...</td>\n      <td>NaN</td>\n      <td>NaN</td>\n      <td>NaN</td>\n      <td>NaN</td>\n      <td>NaN</td>\n      <td>NaN</td>\n      <td>NaN</td>\n      <td>NaN</td>\n      <td>NaN</td>\n      <td>NaN</td>\n    </tr>\n  </tbody>\n</table>\n<p>69 rows × 609 columns</p>\n</div>"
     },
     "metadata": {},
     "execution_count": 14
    }
   ],
   "source": [
    "pivotdata=uk_df.unstack()\n",
    "pivotdata"
   ]
  },
  {
   "cell_type": "code",
   "execution_count": 15,
   "metadata": {},
   "outputs": [
    {
     "output_type": "execute_result",
     "data": {
      "text/plain": [
       "Description  10 colour spaceboy pen  12 pencil small tube woodland  \\\n",
       "InvoiceNo                                                            \n",
       "363890                          0.0                            0.0   \n",
       "376760                          0.0                            0.0   \n",
       "394190                          0.0                            0.0   \n",
       "402670                          0.0                            0.0   \n",
       "402800                          0.0                            0.0   \n",
       "...                             ...                            ...   \n",
       "741380                          0.0                            0.0   \n",
       "744690                          0.0                            0.0   \n",
       "763940                          0.0                            0.0   \n",
       "765860                          0.0                            0.0   \n",
       "784590                          0.0                            0.0   \n",
       "\n",
       "Description  12 pencils tall tube posy  12 pencils tall tube red retrospot  \\\n",
       "InvoiceNo                                                                    \n",
       "363890                             0.0                                 0.0   \n",
       "376760                             0.0                                 0.0   \n",
       "394190                             0.0                                 0.0   \n",
       "402670                             0.0                                 0.0   \n",
       "402800                             0.0                                 0.0   \n",
       "...                                ...                                 ...   \n",
       "741380                             0.0                                 0.0   \n",
       "744690                             0.0                                 0.0   \n",
       "763940                             0.0                                 0.0   \n",
       "765860                             0.0                                 0.0   \n",
       "784590                             0.0                                 0.0   \n",
       "\n",
       "Description  16 piece cutlery set pantry design  20 dolly pegs retrospot  \\\n",
       "InvoiceNo                                                                  \n",
       "363890                                      0.0                      0.0   \n",
       "376760                                      0.0                     24.0   \n",
       "394190                                      0.0                      0.0   \n",
       "402670                                      0.0                      0.0   \n",
       "402800                                      0.0                      0.0   \n",
       "...                                         ...                      ...   \n",
       "741380                                      0.0                      0.0   \n",
       "744690                                      0.0                      0.0   \n",
       "763940                                      0.0                      0.0   \n",
       "765860                                      0.0                      0.0   \n",
       "784590                                      0.0                      0.0   \n",
       "\n",
       "Description  3 hook hanger magic garden  3 stripey mice feltcraft  \\\n",
       "InvoiceNo                                                           \n",
       "363890                              0.0                       0.0   \n",
       "376760                              0.0                       0.0   \n",
       "394190                              0.0                       0.0   \n",
       "402670                              0.0                       0.0   \n",
       "402800                              0.0                       0.0   \n",
       "...                                 ...                       ...   \n",
       "741380                              0.0                       0.0   \n",
       "744690                              0.0                       0.0   \n",
       "763940                              0.0                       0.0   \n",
       "765860                              0.0                       0.0   \n",
       "784590                              0.0                       0.0   \n",
       "\n",
       "Description  3 tier cake tin green and cream  3 tier cake tin red and cream  \\\n",
       "InvoiceNo                                                                     \n",
       "363890                                   0.0                            0.0   \n",
       "376760                                   0.0                            0.0   \n",
       "394190                                   0.0                            0.0   \n",
       "402670                                   0.0                            0.0   \n",
       "402800                                   0.0                            0.0   \n",
       "...                                      ...                            ...   \n",
       "741380                                   0.0                            0.0   \n",
       "744690                                   0.0                            0.0   \n",
       "763940                                   0.0                            0.0   \n",
       "765860                                   0.0                            0.0   \n",
       "784590                                   0.0                            0.0   \n",
       "\n",
       "Description  ...  wrap doiley design  wrap dolly girl  wrap english rose  \\\n",
       "InvoiceNo    ...                                                           \n",
       "363890       ...                 0.0              0.0                0.0   \n",
       "376760       ...                 0.0              0.0                0.0   \n",
       "394190       ...                 0.0              0.0                0.0   \n",
       "402670       ...                 0.0              0.0                0.0   \n",
       "402800       ...                 0.0              0.0                0.0   \n",
       "...          ...                 ...              ...                ...   \n",
       "741380       ...                 0.0              0.0                0.0   \n",
       "744690       ...                 0.0              0.0                0.0   \n",
       "763940       ...                 0.0              0.0                0.0   \n",
       "765860       ...                 0.0              0.0                0.0   \n",
       "784590       ...                 0.0              0.0                0.0   \n",
       "\n",
       "Description  wrap i love london  wrap poppies  design  wrap red apples  \\\n",
       "InvoiceNo                                                                \n",
       "363890                      0.0                   0.0              0.0   \n",
       "376760                      0.0                   0.0              0.0   \n",
       "394190                      0.0                   0.0              0.0   \n",
       "402670                      0.0                   0.0              0.0   \n",
       "402800                      0.0                   0.0              0.0   \n",
       "...                         ...                   ...              ...   \n",
       "741380                      0.0                   0.0              0.0   \n",
       "744690                      0.0                   0.0              0.0   \n",
       "763940                      0.0                   0.0              0.0   \n",
       "765860                      0.0                   0.0              0.0   \n",
       "784590                      0.0                   0.0              0.0   \n",
       "\n",
       "Description  wrap red vintage doily  wrap vintage leaf design  \\\n",
       "InvoiceNo                                                       \n",
       "363890                          0.0                       0.0   \n",
       "376760                          0.0                       0.0   \n",
       "394190                          0.0                       0.0   \n",
       "402670                          0.0                       0.0   \n",
       "402800                          0.0                       0.0   \n",
       "...                             ...                       ...   \n",
       "741380                          0.0                       0.0   \n",
       "744690                          0.0                       0.0   \n",
       "763940                          0.0                       0.0   \n",
       "765860                          0.0                       0.0   \n",
       "784590                          0.0                       0.0   \n",
       "\n",
       "Description  wrap wedding day  yellow giant garden thermometer  \n",
       "InvoiceNo                                                       \n",
       "363890                    0.0                              0.0  \n",
       "376760                    0.0                              0.0  \n",
       "394190                    0.0                              0.0  \n",
       "402670                    0.0                              0.0  \n",
       "402800                    0.0                              0.0  \n",
       "...                       ...                              ...  \n",
       "741380                    0.0                              0.0  \n",
       "744690                    0.0                              0.0  \n",
       "763940                    0.0                              0.0  \n",
       "765860                    0.0                              0.0  \n",
       "784590                    0.0                              0.0  \n",
       "\n",
       "[69 rows x 609 columns]"
      ],
      "text/html": "<div>\n<style scoped>\n    .dataframe tbody tr th:only-of-type {\n        vertical-align: middle;\n    }\n\n    .dataframe tbody tr th {\n        vertical-align: top;\n    }\n\n    .dataframe thead th {\n        text-align: right;\n    }\n</style>\n<table border=\"1\" class=\"dataframe\">\n  <thead>\n    <tr style=\"text-align: right;\">\n      <th>Description</th>\n      <th>10 colour spaceboy pen</th>\n      <th>12 pencil small tube woodland</th>\n      <th>12 pencils tall tube posy</th>\n      <th>12 pencils tall tube red retrospot</th>\n      <th>16 piece cutlery set pantry design</th>\n      <th>20 dolly pegs retrospot</th>\n      <th>3 hook hanger magic garden</th>\n      <th>3 stripey mice feltcraft</th>\n      <th>3 tier cake tin green and cream</th>\n      <th>3 tier cake tin red and cream</th>\n      <th>...</th>\n      <th>wrap doiley design</th>\n      <th>wrap dolly girl</th>\n      <th>wrap english rose</th>\n      <th>wrap i love london</th>\n      <th>wrap poppies  design</th>\n      <th>wrap red apples</th>\n      <th>wrap red vintage doily</th>\n      <th>wrap vintage leaf design</th>\n      <th>wrap wedding day</th>\n      <th>yellow giant garden thermometer</th>\n    </tr>\n    <tr>\n      <th>InvoiceNo</th>\n      <th></th>\n      <th></th>\n      <th></th>\n      <th></th>\n      <th></th>\n      <th></th>\n      <th></th>\n      <th></th>\n      <th></th>\n      <th></th>\n      <th></th>\n      <th></th>\n      <th></th>\n      <th></th>\n      <th></th>\n      <th></th>\n      <th></th>\n      <th></th>\n      <th></th>\n      <th></th>\n      <th></th>\n    </tr>\n  </thead>\n  <tbody>\n    <tr>\n      <th>363890</th>\n      <td>0.0</td>\n      <td>0.0</td>\n      <td>0.0</td>\n      <td>0.0</td>\n      <td>0.0</td>\n      <td>0.0</td>\n      <td>0.0</td>\n      <td>0.0</td>\n      <td>0.0</td>\n      <td>0.0</td>\n      <td>...</td>\n      <td>0.0</td>\n      <td>0.0</td>\n      <td>0.0</td>\n      <td>0.0</td>\n      <td>0.0</td>\n      <td>0.0</td>\n      <td>0.0</td>\n      <td>0.0</td>\n      <td>0.0</td>\n      <td>0.0</td>\n    </tr>\n    <tr>\n      <th>376760</th>\n      <td>0.0</td>\n      <td>0.0</td>\n      <td>0.0</td>\n      <td>0.0</td>\n      <td>0.0</td>\n      <td>24.0</td>\n      <td>0.0</td>\n      <td>0.0</td>\n      <td>0.0</td>\n      <td>0.0</td>\n      <td>...</td>\n      <td>0.0</td>\n      <td>0.0</td>\n      <td>0.0</td>\n      <td>0.0</td>\n      <td>0.0</td>\n      <td>0.0</td>\n      <td>0.0</td>\n      <td>0.0</td>\n      <td>0.0</td>\n      <td>0.0</td>\n    </tr>\n    <tr>\n      <th>394190</th>\n      <td>0.0</td>\n      <td>0.0</td>\n      <td>0.0</td>\n      <td>0.0</td>\n      <td>0.0</td>\n      <td>0.0</td>\n      <td>0.0</td>\n      <td>0.0</td>\n      <td>0.0</td>\n      <td>0.0</td>\n      <td>...</td>\n      <td>0.0</td>\n      <td>0.0</td>\n      <td>0.0</td>\n      <td>0.0</td>\n      <td>0.0</td>\n      <td>0.0</td>\n      <td>0.0</td>\n      <td>0.0</td>\n      <td>0.0</td>\n      <td>0.0</td>\n    </tr>\n    <tr>\n      <th>402670</th>\n      <td>0.0</td>\n      <td>0.0</td>\n      <td>0.0</td>\n      <td>0.0</td>\n      <td>0.0</td>\n      <td>0.0</td>\n      <td>0.0</td>\n      <td>0.0</td>\n      <td>0.0</td>\n      <td>0.0</td>\n      <td>...</td>\n      <td>0.0</td>\n      <td>0.0</td>\n      <td>0.0</td>\n      <td>0.0</td>\n      <td>0.0</td>\n      <td>0.0</td>\n      <td>0.0</td>\n      <td>0.0</td>\n      <td>0.0</td>\n      <td>0.0</td>\n    </tr>\n    <tr>\n      <th>402800</th>\n      <td>0.0</td>\n      <td>0.0</td>\n      <td>0.0</td>\n      <td>0.0</td>\n      <td>0.0</td>\n      <td>0.0</td>\n      <td>0.0</td>\n      <td>0.0</td>\n      <td>0.0</td>\n      <td>0.0</td>\n      <td>...</td>\n      <td>0.0</td>\n      <td>0.0</td>\n      <td>0.0</td>\n      <td>0.0</td>\n      <td>0.0</td>\n      <td>0.0</td>\n      <td>0.0</td>\n      <td>0.0</td>\n      <td>0.0</td>\n      <td>0.0</td>\n    </tr>\n    <tr>\n      <th>...</th>\n      <td>...</td>\n      <td>...</td>\n      <td>...</td>\n      <td>...</td>\n      <td>...</td>\n      <td>...</td>\n      <td>...</td>\n      <td>...</td>\n      <td>...</td>\n      <td>...</td>\n      <td>...</td>\n      <td>...</td>\n      <td>...</td>\n      <td>...</td>\n      <td>...</td>\n      <td>...</td>\n      <td>...</td>\n      <td>...</td>\n      <td>...</td>\n      <td>...</td>\n      <td>...</td>\n    </tr>\n    <tr>\n      <th>741380</th>\n      <td>0.0</td>\n      <td>0.0</td>\n      <td>0.0</td>\n      <td>0.0</td>\n      <td>0.0</td>\n      <td>0.0</td>\n      <td>0.0</td>\n      <td>0.0</td>\n      <td>0.0</td>\n      <td>0.0</td>\n      <td>...</td>\n      <td>0.0</td>\n      <td>0.0</td>\n      <td>0.0</td>\n      <td>0.0</td>\n      <td>0.0</td>\n      <td>0.0</td>\n      <td>0.0</td>\n      <td>0.0</td>\n      <td>0.0</td>\n      <td>0.0</td>\n    </tr>\n    <tr>\n      <th>744690</th>\n      <td>0.0</td>\n      <td>0.0</td>\n      <td>0.0</td>\n      <td>0.0</td>\n      <td>0.0</td>\n      <td>0.0</td>\n      <td>0.0</td>\n      <td>0.0</td>\n      <td>0.0</td>\n      <td>0.0</td>\n      <td>...</td>\n      <td>0.0</td>\n      <td>0.0</td>\n      <td>0.0</td>\n      <td>0.0</td>\n      <td>0.0</td>\n      <td>0.0</td>\n      <td>0.0</td>\n      <td>0.0</td>\n      <td>0.0</td>\n      <td>0.0</td>\n    </tr>\n    <tr>\n      <th>763940</th>\n      <td>0.0</td>\n      <td>0.0</td>\n      <td>0.0</td>\n      <td>0.0</td>\n      <td>0.0</td>\n      <td>0.0</td>\n      <td>0.0</td>\n      <td>0.0</td>\n      <td>0.0</td>\n      <td>0.0</td>\n      <td>...</td>\n      <td>0.0</td>\n      <td>0.0</td>\n      <td>0.0</td>\n      <td>0.0</td>\n      <td>0.0</td>\n      <td>0.0</td>\n      <td>0.0</td>\n      <td>0.0</td>\n      <td>0.0</td>\n      <td>0.0</td>\n    </tr>\n    <tr>\n      <th>765860</th>\n      <td>0.0</td>\n      <td>0.0</td>\n      <td>0.0</td>\n      <td>0.0</td>\n      <td>0.0</td>\n      <td>0.0</td>\n      <td>0.0</td>\n      <td>0.0</td>\n      <td>0.0</td>\n      <td>0.0</td>\n      <td>...</td>\n      <td>0.0</td>\n      <td>0.0</td>\n      <td>0.0</td>\n      <td>0.0</td>\n      <td>0.0</td>\n      <td>0.0</td>\n      <td>0.0</td>\n      <td>0.0</td>\n      <td>0.0</td>\n      <td>0.0</td>\n    </tr>\n    <tr>\n      <th>784590</th>\n      <td>0.0</td>\n      <td>0.0</td>\n      <td>0.0</td>\n      <td>0.0</td>\n      <td>0.0</td>\n      <td>0.0</td>\n      <td>0.0</td>\n      <td>0.0</td>\n      <td>0.0</td>\n      <td>0.0</td>\n      <td>...</td>\n      <td>0.0</td>\n      <td>0.0</td>\n      <td>0.0</td>\n      <td>0.0</td>\n      <td>0.0</td>\n      <td>0.0</td>\n      <td>0.0</td>\n      <td>0.0</td>\n      <td>0.0</td>\n      <td>0.0</td>\n    </tr>\n  </tbody>\n</table>\n<p>69 rows × 609 columns</p>\n</div>"
     },
     "metadata": {},
     "execution_count": 15
    }
   ],
   "source": [
    "pivotdata.fillna(0,inplace=True)\n",
    "pivotdata"
   ]
  },
  {
   "cell_type": "code",
   "execution_count": 16,
   "metadata": {},
   "outputs": [],
   "source": [
    "def hot_encoder(val):\n",
    "    if val >= 1:\n",
    "        return 1\n",
    "    return 0"
   ]
  },
  {
   "cell_type": "code",
   "execution_count": 17,
   "metadata": {},
   "outputs": [],
   "source": [
    "pivotdata=pivotdata.applymap(hot_encoder)"
   ]
  },
  {
   "cell_type": "code",
   "execution_count": 18,
   "metadata": {},
   "outputs": [
    {
     "output_type": "execute_result",
     "data": {
      "text/plain": [
       "Description  10 colour spaceboy pen  12 pencil small tube woodland  \\\n",
       "InvoiceNo                                                            \n",
       "363890                            0                              0   \n",
       "376760                            0                              0   \n",
       "394190                            0                              0   \n",
       "402670                            0                              0   \n",
       "402800                            0                              0   \n",
       "...                             ...                            ...   \n",
       "741380                            0                              0   \n",
       "744690                            0                              0   \n",
       "763940                            0                              0   \n",
       "765860                            0                              0   \n",
       "784590                            0                              0   \n",
       "\n",
       "Description  12 pencils tall tube posy  12 pencils tall tube red retrospot  \\\n",
       "InvoiceNo                                                                    \n",
       "363890                               0                                   0   \n",
       "376760                               0                                   0   \n",
       "394190                               0                                   0   \n",
       "402670                               0                                   0   \n",
       "402800                               0                                   0   \n",
       "...                                ...                                 ...   \n",
       "741380                               0                                   0   \n",
       "744690                               0                                   0   \n",
       "763940                               0                                   0   \n",
       "765860                               0                                   0   \n",
       "784590                               0                                   0   \n",
       "\n",
       "Description  16 piece cutlery set pantry design  20 dolly pegs retrospot  \\\n",
       "InvoiceNo                                                                  \n",
       "363890                                        0                        0   \n",
       "376760                                        0                        1   \n",
       "394190                                        0                        0   \n",
       "402670                                        0                        0   \n",
       "402800                                        0                        0   \n",
       "...                                         ...                      ...   \n",
       "741380                                        0                        0   \n",
       "744690                                        0                        0   \n",
       "763940                                        0                        0   \n",
       "765860                                        0                        0   \n",
       "784590                                        0                        0   \n",
       "\n",
       "Description  3 hook hanger magic garden  3 stripey mice feltcraft  \\\n",
       "InvoiceNo                                                           \n",
       "363890                                0                         0   \n",
       "376760                                0                         0   \n",
       "394190                                0                         0   \n",
       "402670                                0                         0   \n",
       "402800                                0                         0   \n",
       "...                                 ...                       ...   \n",
       "741380                                0                         0   \n",
       "744690                                0                         0   \n",
       "763940                                0                         0   \n",
       "765860                                0                         0   \n",
       "784590                                0                         0   \n",
       "\n",
       "Description  3 tier cake tin green and cream  3 tier cake tin red and cream  \\\n",
       "InvoiceNo                                                                     \n",
       "363890                                     0                              0   \n",
       "376760                                     0                              0   \n",
       "394190                                     0                              0   \n",
       "402670                                     0                              0   \n",
       "402800                                     0                              0   \n",
       "...                                      ...                            ...   \n",
       "741380                                     0                              0   \n",
       "744690                                     0                              0   \n",
       "763940                                     0                              0   \n",
       "765860                                     0                              0   \n",
       "784590                                     0                              0   \n",
       "\n",
       "Description  ...  wrap doiley design  wrap dolly girl  wrap english rose  \\\n",
       "InvoiceNo    ...                                                           \n",
       "363890       ...                   0                0                  0   \n",
       "376760       ...                   0                0                  0   \n",
       "394190       ...                   0                0                  0   \n",
       "402670       ...                   0                0                  0   \n",
       "402800       ...                   0                0                  0   \n",
       "...          ...                 ...              ...                ...   \n",
       "741380       ...                   0                0                  0   \n",
       "744690       ...                   0                0                  0   \n",
       "763940       ...                   0                0                  0   \n",
       "765860       ...                   0                0                  0   \n",
       "784590       ...                   0                0                  0   \n",
       "\n",
       "Description  wrap i love london  wrap poppies  design  wrap red apples  \\\n",
       "InvoiceNo                                                                \n",
       "363890                        0                     0                0   \n",
       "376760                        0                     0                0   \n",
       "394190                        0                     0                0   \n",
       "402670                        0                     0                0   \n",
       "402800                        0                     0                0   \n",
       "...                         ...                   ...              ...   \n",
       "741380                        0                     0                0   \n",
       "744690                        0                     0                0   \n",
       "763940                        0                     0                0   \n",
       "765860                        0                     0                0   \n",
       "784590                        0                     0                0   \n",
       "\n",
       "Description  wrap red vintage doily  wrap vintage leaf design  \\\n",
       "InvoiceNo                                                       \n",
       "363890                            0                         0   \n",
       "376760                            0                         0   \n",
       "394190                            0                         0   \n",
       "402670                            0                         0   \n",
       "402800                            0                         0   \n",
       "...                             ...                       ...   \n",
       "741380                            0                         0   \n",
       "744690                            0                         0   \n",
       "763940                            0                         0   \n",
       "765860                            0                         0   \n",
       "784590                            0                         0   \n",
       "\n",
       "Description  wrap wedding day  yellow giant garden thermometer  \n",
       "InvoiceNo                                                       \n",
       "363890                      0                                0  \n",
       "376760                      0                                0  \n",
       "394190                      0                                0  \n",
       "402670                      0                                0  \n",
       "402800                      0                                0  \n",
       "...                       ...                              ...  \n",
       "741380                      0                                0  \n",
       "744690                      0                                0  \n",
       "763940                      0                                0  \n",
       "765860                      0                                0  \n",
       "784590                      0                                0  \n",
       "\n",
       "[69 rows x 609 columns]"
      ],
      "text/html": "<div>\n<style scoped>\n    .dataframe tbody tr th:only-of-type {\n        vertical-align: middle;\n    }\n\n    .dataframe tbody tr th {\n        vertical-align: top;\n    }\n\n    .dataframe thead th {\n        text-align: right;\n    }\n</style>\n<table border=\"1\" class=\"dataframe\">\n  <thead>\n    <tr style=\"text-align: right;\">\n      <th>Description</th>\n      <th>10 colour spaceboy pen</th>\n      <th>12 pencil small tube woodland</th>\n      <th>12 pencils tall tube posy</th>\n      <th>12 pencils tall tube red retrospot</th>\n      <th>16 piece cutlery set pantry design</th>\n      <th>20 dolly pegs retrospot</th>\n      <th>3 hook hanger magic garden</th>\n      <th>3 stripey mice feltcraft</th>\n      <th>3 tier cake tin green and cream</th>\n      <th>3 tier cake tin red and cream</th>\n      <th>...</th>\n      <th>wrap doiley design</th>\n      <th>wrap dolly girl</th>\n      <th>wrap english rose</th>\n      <th>wrap i love london</th>\n      <th>wrap poppies  design</th>\n      <th>wrap red apples</th>\n      <th>wrap red vintage doily</th>\n      <th>wrap vintage leaf design</th>\n      <th>wrap wedding day</th>\n      <th>yellow giant garden thermometer</th>\n    </tr>\n    <tr>\n      <th>InvoiceNo</th>\n      <th></th>\n      <th></th>\n      <th></th>\n      <th></th>\n      <th></th>\n      <th></th>\n      <th></th>\n      <th></th>\n      <th></th>\n      <th></th>\n      <th></th>\n      <th></th>\n      <th></th>\n      <th></th>\n      <th></th>\n      <th></th>\n      <th></th>\n      <th></th>\n      <th></th>\n      <th></th>\n      <th></th>\n    </tr>\n  </thead>\n  <tbody>\n    <tr>\n      <th>363890</th>\n      <td>0</td>\n      <td>0</td>\n      <td>0</td>\n      <td>0</td>\n      <td>0</td>\n      <td>0</td>\n      <td>0</td>\n      <td>0</td>\n      <td>0</td>\n      <td>0</td>\n      <td>...</td>\n      <td>0</td>\n      <td>0</td>\n      <td>0</td>\n      <td>0</td>\n      <td>0</td>\n      <td>0</td>\n      <td>0</td>\n      <td>0</td>\n      <td>0</td>\n      <td>0</td>\n    </tr>\n    <tr>\n      <th>376760</th>\n      <td>0</td>\n      <td>0</td>\n      <td>0</td>\n      <td>0</td>\n      <td>0</td>\n      <td>1</td>\n      <td>0</td>\n      <td>0</td>\n      <td>0</td>\n      <td>0</td>\n      <td>...</td>\n      <td>0</td>\n      <td>0</td>\n      <td>0</td>\n      <td>0</td>\n      <td>0</td>\n      <td>0</td>\n      <td>0</td>\n      <td>0</td>\n      <td>0</td>\n      <td>0</td>\n    </tr>\n    <tr>\n      <th>394190</th>\n      <td>0</td>\n      <td>0</td>\n      <td>0</td>\n      <td>0</td>\n      <td>0</td>\n      <td>0</td>\n      <td>0</td>\n      <td>0</td>\n      <td>0</td>\n      <td>0</td>\n      <td>...</td>\n      <td>0</td>\n      <td>0</td>\n      <td>0</td>\n      <td>0</td>\n      <td>0</td>\n      <td>0</td>\n      <td>0</td>\n      <td>0</td>\n      <td>0</td>\n      <td>0</td>\n    </tr>\n    <tr>\n      <th>402670</th>\n      <td>0</td>\n      <td>0</td>\n      <td>0</td>\n      <td>0</td>\n      <td>0</td>\n      <td>0</td>\n      <td>0</td>\n      <td>0</td>\n      <td>0</td>\n      <td>0</td>\n      <td>...</td>\n      <td>0</td>\n      <td>0</td>\n      <td>0</td>\n      <td>0</td>\n      <td>0</td>\n      <td>0</td>\n      <td>0</td>\n      <td>0</td>\n      <td>0</td>\n      <td>0</td>\n    </tr>\n    <tr>\n      <th>402800</th>\n      <td>0</td>\n      <td>0</td>\n      <td>0</td>\n      <td>0</td>\n      <td>0</td>\n      <td>0</td>\n      <td>0</td>\n      <td>0</td>\n      <td>0</td>\n      <td>0</td>\n      <td>...</td>\n      <td>0</td>\n      <td>0</td>\n      <td>0</td>\n      <td>0</td>\n      <td>0</td>\n      <td>0</td>\n      <td>0</td>\n      <td>0</td>\n      <td>0</td>\n      <td>0</td>\n    </tr>\n    <tr>\n      <th>...</th>\n      <td>...</td>\n      <td>...</td>\n      <td>...</td>\n      <td>...</td>\n      <td>...</td>\n      <td>...</td>\n      <td>...</td>\n      <td>...</td>\n      <td>...</td>\n      <td>...</td>\n      <td>...</td>\n      <td>...</td>\n      <td>...</td>\n      <td>...</td>\n      <td>...</td>\n      <td>...</td>\n      <td>...</td>\n      <td>...</td>\n      <td>...</td>\n      <td>...</td>\n      <td>...</td>\n    </tr>\n    <tr>\n      <th>741380</th>\n      <td>0</td>\n      <td>0</td>\n      <td>0</td>\n      <td>0</td>\n      <td>0</td>\n      <td>0</td>\n      <td>0</td>\n      <td>0</td>\n      <td>0</td>\n      <td>0</td>\n      <td>...</td>\n      <td>0</td>\n      <td>0</td>\n      <td>0</td>\n      <td>0</td>\n      <td>0</td>\n      <td>0</td>\n      <td>0</td>\n      <td>0</td>\n      <td>0</td>\n      <td>0</td>\n    </tr>\n    <tr>\n      <th>744690</th>\n      <td>0</td>\n      <td>0</td>\n      <td>0</td>\n      <td>0</td>\n      <td>0</td>\n      <td>0</td>\n      <td>0</td>\n      <td>0</td>\n      <td>0</td>\n      <td>0</td>\n      <td>...</td>\n      <td>0</td>\n      <td>0</td>\n      <td>0</td>\n      <td>0</td>\n      <td>0</td>\n      <td>0</td>\n      <td>0</td>\n      <td>0</td>\n      <td>0</td>\n      <td>0</td>\n    </tr>\n    <tr>\n      <th>763940</th>\n      <td>0</td>\n      <td>0</td>\n      <td>0</td>\n      <td>0</td>\n      <td>0</td>\n      <td>0</td>\n      <td>0</td>\n      <td>0</td>\n      <td>0</td>\n      <td>0</td>\n      <td>...</td>\n      <td>0</td>\n      <td>0</td>\n      <td>0</td>\n      <td>0</td>\n      <td>0</td>\n      <td>0</td>\n      <td>0</td>\n      <td>0</td>\n      <td>0</td>\n      <td>0</td>\n    </tr>\n    <tr>\n      <th>765860</th>\n      <td>0</td>\n      <td>0</td>\n      <td>0</td>\n      <td>0</td>\n      <td>0</td>\n      <td>0</td>\n      <td>0</td>\n      <td>0</td>\n      <td>0</td>\n      <td>0</td>\n      <td>...</td>\n      <td>0</td>\n      <td>0</td>\n      <td>0</td>\n      <td>0</td>\n      <td>0</td>\n      <td>0</td>\n      <td>0</td>\n      <td>0</td>\n      <td>0</td>\n      <td>0</td>\n    </tr>\n    <tr>\n      <th>784590</th>\n      <td>0</td>\n      <td>0</td>\n      <td>0</td>\n      <td>0</td>\n      <td>0</td>\n      <td>0</td>\n      <td>0</td>\n      <td>0</td>\n      <td>0</td>\n      <td>0</td>\n      <td>...</td>\n      <td>0</td>\n      <td>0</td>\n      <td>0</td>\n      <td>0</td>\n      <td>0</td>\n      <td>0</td>\n      <td>0</td>\n      <td>0</td>\n      <td>0</td>\n      <td>0</td>\n    </tr>\n  </tbody>\n</table>\n<p>69 rows × 609 columns</p>\n</div>"
     },
     "metadata": {},
     "execution_count": 18
    }
   ],
   "source": [
    "pivotdata"
   ]
  },
  {
   "cell_type": "code",
   "execution_count": 19,
   "metadata": {},
   "outputs": [],
   "source": [
    "from mlxtend.frequent_patterns import apriori,association_rules"
   ]
  },
  {
   "cell_type": "code",
   "execution_count": 28,
   "metadata": {},
   "outputs": [
    {
     "output_type": "execute_result",
     "data": {
      "text/plain": [
       "      support                                           itemsets\n",
       "49   0.130435                    (red toadstool led night light)\n",
       "59   0.130435                 (set of 3 cake tins pantry design)\n",
       "27   0.115942                          (lunch bag red retrospot)\n",
       "54   0.115942                  (roses regency teacup and saucer)\n",
       "28   0.115942                        (lunch bag spaceboy design)\n",
       "..        ...                                                ...\n",
       "79   0.057971  (baking set 9 piece retrospot, regency sugar b...\n",
       "78   0.057971  (lunch bag red retrospot, baking set 9 piece r...\n",
       "76   0.057971   (alarm clock bakelike red, red diner wall clock)\n",
       "75   0.057971  (alarm clock bakelike green, red diner wall cl...\n",
       "188  0.057971  (spaceboy lunch box, dolly girl lunch box, ros...\n",
       "\n",
       "[189 rows x 2 columns]"
      ],
      "text/html": "<div>\n<style scoped>\n    .dataframe tbody tr th:only-of-type {\n        vertical-align: middle;\n    }\n\n    .dataframe tbody tr th {\n        vertical-align: top;\n    }\n\n    .dataframe thead th {\n        text-align: right;\n    }\n</style>\n<table border=\"1\" class=\"dataframe\">\n  <thead>\n    <tr style=\"text-align: right;\">\n      <th></th>\n      <th>support</th>\n      <th>itemsets</th>\n    </tr>\n  </thead>\n  <tbody>\n    <tr>\n      <th>49</th>\n      <td>0.130435</td>\n      <td>(red toadstool led night light)</td>\n    </tr>\n    <tr>\n      <th>59</th>\n      <td>0.130435</td>\n      <td>(set of 3 cake tins pantry design)</td>\n    </tr>\n    <tr>\n      <th>27</th>\n      <td>0.115942</td>\n      <td>(lunch bag red retrospot)</td>\n    </tr>\n    <tr>\n      <th>54</th>\n      <td>0.115942</td>\n      <td>(roses regency teacup and saucer)</td>\n    </tr>\n    <tr>\n      <th>28</th>\n      <td>0.115942</td>\n      <td>(lunch bag spaceboy design)</td>\n    </tr>\n    <tr>\n      <th>...</th>\n      <td>...</td>\n      <td>...</td>\n    </tr>\n    <tr>\n      <th>79</th>\n      <td>0.057971</td>\n      <td>(baking set 9 piece retrospot, regency sugar b...</td>\n    </tr>\n    <tr>\n      <th>78</th>\n      <td>0.057971</td>\n      <td>(lunch bag red retrospot, baking set 9 piece r...</td>\n    </tr>\n    <tr>\n      <th>76</th>\n      <td>0.057971</td>\n      <td>(alarm clock bakelike red, red diner wall clock)</td>\n    </tr>\n    <tr>\n      <th>75</th>\n      <td>0.057971</td>\n      <td>(alarm clock bakelike green, red diner wall cl...</td>\n    </tr>\n    <tr>\n      <th>188</th>\n      <td>0.057971</td>\n      <td>(spaceboy lunch box, dolly girl lunch box, ros...</td>\n    </tr>\n  </tbody>\n</table>\n<p>189 rows × 2 columns</p>\n</div>"
     },
     "metadata": {},
     "execution_count": 28
    }
   ],
   "source": [
    "item_freq=apriori(pivotdata,min_support=.05,use_colnames=True)\n",
    "\n",
    "item_freq.sort_values(by='support',ascending=False)"
   ]
  },
  {
   "cell_type": "code",
   "execution_count": 29,
   "metadata": {},
   "outputs": [
    {
     "output_type": "execute_result",
     "data": {
      "text/plain": [
       "                            antecedents  \\\n",
       "0       (36 pencils tube red retrospot)   \n",
       "1            (red retrospot cake stand)   \n",
       "2       (36 pencils tube red retrospot)   \n",
       "3    (set of 3 cake tins pantry design)   \n",
       "4         (4 traditional spinning tops)   \n",
       "..                                  ...   \n",
       "795              (dolly girl lunch box)   \n",
       "796   (roses regency teacup and saucer)   \n",
       "797      (homemade jam scented candles)   \n",
       "798           (circus parade lunch box)   \n",
       "799          (regency cakestand 3 tier)   \n",
       "\n",
       "                                           consequents  antecedent support  \\\n",
       "0                           (red retrospot cake stand)            0.057971   \n",
       "1                      (36 pencils tube red retrospot)            0.057971   \n",
       "2                   (set of 3 cake tins pantry design)            0.057971   \n",
       "3                      (36 pencils tube red retrospot)            0.130435   \n",
       "4                          (set of 6 soldier skittles)            0.072464   \n",
       "..                                                 ...                 ...   \n",
       "795  (spaceboy lunch box, roses regency teacup and ...            0.086957   \n",
       "796  (spaceboy lunch box, dolly girl lunch box, hom...            0.115942   \n",
       "797  (spaceboy lunch box, dolly girl lunch box, ros...            0.072464   \n",
       "798  (spaceboy lunch box, dolly girl lunch box, ros...            0.072464   \n",
       "799  (spaceboy lunch box, dolly girl lunch box, ros...            0.086957   \n",
       "\n",
       "     consequent support   support  confidence       lift  leverage  conviction  \n",
       "0              0.057971  0.057971    1.000000  17.250000   0.05461         inf  \n",
       "1              0.057971  0.057971    1.000000  17.250000   0.05461         inf  \n",
       "2              0.130435  0.057971    1.000000   7.666667   0.05041         inf  \n",
       "3              0.057971  0.057971    0.444444   7.666667   0.05041    1.695652  \n",
       "4              0.101449  0.057971    0.800000   7.885714   0.05062    4.492754  \n",
       "..                  ...       ...         ...        ...       ...         ...  \n",
       "795            0.057971  0.057971    0.666667  11.500000   0.05293    2.826087  \n",
       "796            0.057971  0.057971    0.500000   8.625000   0.05125    1.884058  \n",
       "797            0.057971  0.057971    0.800000  13.800000   0.05377    4.710145  \n",
       "798            0.057971  0.057971    0.800000  13.800000   0.05377    4.710145  \n",
       "799            0.057971  0.057971    0.666667  11.500000   0.05293    2.826087  \n",
       "\n",
       "[800 rows x 9 columns]"
      ],
      "text/html": "<div>\n<style scoped>\n    .dataframe tbody tr th:only-of-type {\n        vertical-align: middle;\n    }\n\n    .dataframe tbody tr th {\n        vertical-align: top;\n    }\n\n    .dataframe thead th {\n        text-align: right;\n    }\n</style>\n<table border=\"1\" class=\"dataframe\">\n  <thead>\n    <tr style=\"text-align: right;\">\n      <th></th>\n      <th>antecedents</th>\n      <th>consequents</th>\n      <th>antecedent support</th>\n      <th>consequent support</th>\n      <th>support</th>\n      <th>confidence</th>\n      <th>lift</th>\n      <th>leverage</th>\n      <th>conviction</th>\n    </tr>\n  </thead>\n  <tbody>\n    <tr>\n      <th>0</th>\n      <td>(36 pencils tube red retrospot)</td>\n      <td>(red retrospot cake stand)</td>\n      <td>0.057971</td>\n      <td>0.057971</td>\n      <td>0.057971</td>\n      <td>1.000000</td>\n      <td>17.250000</td>\n      <td>0.05461</td>\n      <td>inf</td>\n    </tr>\n    <tr>\n      <th>1</th>\n      <td>(red retrospot cake stand)</td>\n      <td>(36 pencils tube red retrospot)</td>\n      <td>0.057971</td>\n      <td>0.057971</td>\n      <td>0.057971</td>\n      <td>1.000000</td>\n      <td>17.250000</td>\n      <td>0.05461</td>\n      <td>inf</td>\n    </tr>\n    <tr>\n      <th>2</th>\n      <td>(36 pencils tube red retrospot)</td>\n      <td>(set of 3 cake tins pantry design)</td>\n      <td>0.057971</td>\n      <td>0.130435</td>\n      <td>0.057971</td>\n      <td>1.000000</td>\n      <td>7.666667</td>\n      <td>0.05041</td>\n      <td>inf</td>\n    </tr>\n    <tr>\n      <th>3</th>\n      <td>(set of 3 cake tins pantry design)</td>\n      <td>(36 pencils tube red retrospot)</td>\n      <td>0.130435</td>\n      <td>0.057971</td>\n      <td>0.057971</td>\n      <td>0.444444</td>\n      <td>7.666667</td>\n      <td>0.05041</td>\n      <td>1.695652</td>\n    </tr>\n    <tr>\n      <th>4</th>\n      <td>(4 traditional spinning tops)</td>\n      <td>(set of 6 soldier skittles)</td>\n      <td>0.072464</td>\n      <td>0.101449</td>\n      <td>0.057971</td>\n      <td>0.800000</td>\n      <td>7.885714</td>\n      <td>0.05062</td>\n      <td>4.492754</td>\n    </tr>\n    <tr>\n      <th>...</th>\n      <td>...</td>\n      <td>...</td>\n      <td>...</td>\n      <td>...</td>\n      <td>...</td>\n      <td>...</td>\n      <td>...</td>\n      <td>...</td>\n      <td>...</td>\n    </tr>\n    <tr>\n      <th>795</th>\n      <td>(dolly girl lunch box)</td>\n      <td>(spaceboy lunch box, roses regency teacup and ...</td>\n      <td>0.086957</td>\n      <td>0.057971</td>\n      <td>0.057971</td>\n      <td>0.666667</td>\n      <td>11.500000</td>\n      <td>0.05293</td>\n      <td>2.826087</td>\n    </tr>\n    <tr>\n      <th>796</th>\n      <td>(roses regency teacup and saucer)</td>\n      <td>(spaceboy lunch box, dolly girl lunch box, hom...</td>\n      <td>0.115942</td>\n      <td>0.057971</td>\n      <td>0.057971</td>\n      <td>0.500000</td>\n      <td>8.625000</td>\n      <td>0.05125</td>\n      <td>1.884058</td>\n    </tr>\n    <tr>\n      <th>797</th>\n      <td>(homemade jam scented candles)</td>\n      <td>(spaceboy lunch box, dolly girl lunch box, ros...</td>\n      <td>0.072464</td>\n      <td>0.057971</td>\n      <td>0.057971</td>\n      <td>0.800000</td>\n      <td>13.800000</td>\n      <td>0.05377</td>\n      <td>4.710145</td>\n    </tr>\n    <tr>\n      <th>798</th>\n      <td>(circus parade lunch box)</td>\n      <td>(spaceboy lunch box, dolly girl lunch box, ros...</td>\n      <td>0.072464</td>\n      <td>0.057971</td>\n      <td>0.057971</td>\n      <td>0.800000</td>\n      <td>13.800000</td>\n      <td>0.05377</td>\n      <td>4.710145</td>\n    </tr>\n    <tr>\n      <th>799</th>\n      <td>(regency cakestand 3 tier)</td>\n      <td>(spaceboy lunch box, dolly girl lunch box, ros...</td>\n      <td>0.086957</td>\n      <td>0.057971</td>\n      <td>0.057971</td>\n      <td>0.666667</td>\n      <td>11.500000</td>\n      <td>0.05293</td>\n      <td>2.826087</td>\n    </tr>\n  </tbody>\n</table>\n<p>800 rows × 9 columns</p>\n</div>"
     },
     "metadata": {},
     "execution_count": 29
    }
   ],
   "source": [
    "arule=association_rules(item_freq,metric='lift',min_threshold=1)\n",
    "arule"
   ]
  },
  {
   "cell_type": "code",
   "execution_count": 30,
   "metadata": {},
   "outputs": [
    {
     "output_type": "execute_result",
     "data": {
      "text/plain": [
       "                                           antecedents  \\\n",
       "0                      (36 pencils tube red retrospot)   \n",
       "1                           (red retrospot cake stand)   \n",
       "52                              (feltcraft doll molly)   \n",
       "53                      (set of 4 pantry jelly moulds)   \n",
       "106                (set of 12 fairy cake baking cases)   \n",
       "107                 (set of 12 mini loaf baking cases)   \n",
       "108                 (set of 6 snack loaf baking cases)   \n",
       "109                (set of 12 fairy cake baking cases)   \n",
       "110                (set of 12 fairy cake baking cases)   \n",
       "111                   (set of 6 tea time baking cases)   \n",
       "112                 (set of 6 snack loaf baking cases)   \n",
       "113                 (set of 12 mini loaf baking cases)   \n",
       "114                   (set of 6 tea time baking cases)   \n",
       "115                 (set of 12 mini loaf baking cases)   \n",
       "120                 (set of 6 snack loaf baking cases)   \n",
       "121                   (set of 6 tea time baking cases)   \n",
       "123  (36 pencils tube red retrospot, set of 3 cake ...   \n",
       "124  (red retrospot cake stand, set of 3 cake tins ...   \n",
       "125                    (36 pencils tube red retrospot)   \n",
       "126                         (red retrospot cake stand)   \n",
       "296  (set of 6 snack loaf baking cases, set of 12 f...   \n",
       "297  (set of 6 snack loaf baking cases, set of 12 m...   \n",
       "298  (set of 12 fairy cake baking cases, set of 12 ...   \n",
       "299                 (set of 6 snack loaf baking cases)   \n",
       "300                (set of 12 fairy cake baking cases)   \n",
       "301                 (set of 12 mini loaf baking cases)   \n",
       "302  (set of 12 fairy cake baking cases, set of 6 t...   \n",
       "303  (set of 12 fairy cake baking cases, set of 12 ...   \n",
       "304  (set of 6 tea time baking cases, set of 12 min...   \n",
       "305                (set of 12 fairy cake baking cases)   \n",
       "306                   (set of 6 tea time baking cases)   \n",
       "307                 (set of 12 mini loaf baking cases)   \n",
       "308  (set of 6 snack loaf baking cases, set of 12 f...   \n",
       "309  (set of 6 snack loaf baking cases, set of 6 te...   \n",
       "310  (set of 12 fairy cake baking cases, set of 6 t...   \n",
       "311                 (set of 6 snack loaf baking cases)   \n",
       "312                (set of 12 fairy cake baking cases)   \n",
       "313                   (set of 6 tea time baking cases)   \n",
       "314  (set of 6 snack loaf baking cases, set of 6 te...   \n",
       "315  (set of 6 snack loaf baking cases, set of 12 m...   \n",
       "316  (set of 6 tea time baking cases, set of 12 min...   \n",
       "317                 (set of 6 snack loaf baking cases)   \n",
       "318                   (set of 6 tea time baking cases)   \n",
       "319                 (set of 12 mini loaf baking cases)   \n",
       "324  (dolly girl lunch box, homemade jam scented ca...   \n",
       "329  (circus parade lunch box, regency cakestand 3 ...   \n",
       "338  (dolly girl lunch box, homemade jam scented ca...   \n",
       "343  (circus parade lunch box, roses regency teacup...   \n",
       "408  (homemade jam scented candles, roses regency t...   \n",
       "409  (circus parade lunch box, roses regency teacup...   \n",
       "\n",
       "                                           consequents  antecedent support  \\\n",
       "0                           (red retrospot cake stand)            0.057971   \n",
       "1                      (36 pencils tube red retrospot)            0.057971   \n",
       "52                      (set of 4 pantry jelly moulds)            0.057971   \n",
       "53                              (feltcraft doll molly)            0.057971   \n",
       "106                 (set of 12 mini loaf baking cases)            0.057971   \n",
       "107                (set of 12 fairy cake baking cases)            0.057971   \n",
       "108                (set of 12 fairy cake baking cases)            0.057971   \n",
       "109                 (set of 6 snack loaf baking cases)            0.057971   \n",
       "110                   (set of 6 tea time baking cases)            0.057971   \n",
       "111                (set of 12 fairy cake baking cases)            0.057971   \n",
       "112                 (set of 12 mini loaf baking cases)            0.057971   \n",
       "113                 (set of 6 snack loaf baking cases)            0.057971   \n",
       "114                 (set of 12 mini loaf baking cases)            0.057971   \n",
       "115                   (set of 6 tea time baking cases)            0.057971   \n",
       "120                   (set of 6 tea time baking cases)            0.057971   \n",
       "121                 (set of 6 snack loaf baking cases)            0.057971   \n",
       "123                         (red retrospot cake stand)            0.057971   \n",
       "124                    (36 pencils tube red retrospot)            0.057971   \n",
       "125  (red retrospot cake stand, set of 3 cake tins ...            0.057971   \n",
       "126  (36 pencils tube red retrospot, set of 3 cake ...            0.057971   \n",
       "296                 (set of 12 mini loaf baking cases)            0.057971   \n",
       "297                (set of 12 fairy cake baking cases)            0.057971   \n",
       "298                 (set of 6 snack loaf baking cases)            0.057971   \n",
       "299  (set of 12 fairy cake baking cases, set of 12 ...            0.057971   \n",
       "300  (set of 6 snack loaf baking cases, set of 12 m...            0.057971   \n",
       "301  (set of 6 snack loaf baking cases, set of 12 f...            0.057971   \n",
       "302                 (set of 12 mini loaf baking cases)            0.057971   \n",
       "303                   (set of 6 tea time baking cases)            0.057971   \n",
       "304                (set of 12 fairy cake baking cases)            0.057971   \n",
       "305  (set of 6 tea time baking cases, set of 12 min...            0.057971   \n",
       "306  (set of 12 fairy cake baking cases, set of 12 ...            0.057971   \n",
       "307  (set of 12 fairy cake baking cases, set of 6 t...            0.057971   \n",
       "308                   (set of 6 tea time baking cases)            0.057971   \n",
       "309                (set of 12 fairy cake baking cases)            0.057971   \n",
       "310                 (set of 6 snack loaf baking cases)            0.057971   \n",
       "311  (set of 12 fairy cake baking cases, set of 6 t...            0.057971   \n",
       "312  (set of 6 snack loaf baking cases, set of 6 te...            0.057971   \n",
       "313  (set of 6 snack loaf baking cases, set of 12 f...            0.057971   \n",
       "314                 (set of 12 mini loaf baking cases)            0.057971   \n",
       "315                   (set of 6 tea time baking cases)            0.057971   \n",
       "316                 (set of 6 snack loaf baking cases)            0.057971   \n",
       "317  (set of 6 tea time baking cases, set of 12 min...            0.057971   \n",
       "318  (set of 6 snack loaf baking cases, set of 12 m...            0.057971   \n",
       "319  (set of 6 snack loaf baking cases, set of 6 te...            0.057971   \n",
       "324  (circus parade lunch box, regency cakestand 3 ...            0.057971   \n",
       "329  (dolly girl lunch box, homemade jam scented ca...            0.057971   \n",
       "338  (circus parade lunch box, roses regency teacup...            0.057971   \n",
       "343  (dolly girl lunch box, homemade jam scented ca...            0.057971   \n",
       "408  (circus parade lunch box, regency cakestand 3 ...            0.057971   \n",
       "409  (homemade jam scented candles, regency cakesta...            0.057971   \n",
       "\n",
       "     consequent support   support  confidence   lift  leverage  conviction  \n",
       "0              0.057971  0.057971         1.0  17.25   0.05461         inf  \n",
       "1              0.057971  0.057971         1.0  17.25   0.05461         inf  \n",
       "52             0.057971  0.057971         1.0  17.25   0.05461         inf  \n",
       "53             0.057971  0.057971         1.0  17.25   0.05461         inf  \n",
       "106            0.057971  0.057971         1.0  17.25   0.05461         inf  \n",
       "107            0.057971  0.057971         1.0  17.25   0.05461         inf  \n",
       "108            0.057971  0.057971         1.0  17.25   0.05461         inf  \n",
       "109            0.057971  0.057971         1.0  17.25   0.05461         inf  \n",
       "110            0.057971  0.057971         1.0  17.25   0.05461         inf  \n",
       "111            0.057971  0.057971         1.0  17.25   0.05461         inf  \n",
       "112            0.057971  0.057971         1.0  17.25   0.05461         inf  \n",
       "113            0.057971  0.057971         1.0  17.25   0.05461         inf  \n",
       "114            0.057971  0.057971         1.0  17.25   0.05461         inf  \n",
       "115            0.057971  0.057971         1.0  17.25   0.05461         inf  \n",
       "120            0.057971  0.057971         1.0  17.25   0.05461         inf  \n",
       "121            0.057971  0.057971         1.0  17.25   0.05461         inf  \n",
       "123            0.057971  0.057971         1.0  17.25   0.05461         inf  \n",
       "124            0.057971  0.057971         1.0  17.25   0.05461         inf  \n",
       "125            0.057971  0.057971         1.0  17.25   0.05461         inf  \n",
       "126            0.057971  0.057971         1.0  17.25   0.05461         inf  \n",
       "296            0.057971  0.057971         1.0  17.25   0.05461         inf  \n",
       "297            0.057971  0.057971         1.0  17.25   0.05461         inf  \n",
       "298            0.057971  0.057971         1.0  17.25   0.05461         inf  \n",
       "299            0.057971  0.057971         1.0  17.25   0.05461         inf  \n",
       "300            0.057971  0.057971         1.0  17.25   0.05461         inf  \n",
       "301            0.057971  0.057971         1.0  17.25   0.05461         inf  \n",
       "302            0.057971  0.057971         1.0  17.25   0.05461         inf  \n",
       "303            0.057971  0.057971         1.0  17.25   0.05461         inf  \n",
       "304            0.057971  0.057971         1.0  17.25   0.05461         inf  \n",
       "305            0.057971  0.057971         1.0  17.25   0.05461         inf  \n",
       "306            0.057971  0.057971         1.0  17.25   0.05461         inf  \n",
       "307            0.057971  0.057971         1.0  17.25   0.05461         inf  \n",
       "308            0.057971  0.057971         1.0  17.25   0.05461         inf  \n",
       "309            0.057971  0.057971         1.0  17.25   0.05461         inf  \n",
       "310            0.057971  0.057971         1.0  17.25   0.05461         inf  \n",
       "311            0.057971  0.057971         1.0  17.25   0.05461         inf  \n",
       "312            0.057971  0.057971         1.0  17.25   0.05461         inf  \n",
       "313            0.057971  0.057971         1.0  17.25   0.05461         inf  \n",
       "314            0.057971  0.057971         1.0  17.25   0.05461         inf  \n",
       "315            0.057971  0.057971         1.0  17.25   0.05461         inf  \n",
       "316            0.057971  0.057971         1.0  17.25   0.05461         inf  \n",
       "317            0.057971  0.057971         1.0  17.25   0.05461         inf  \n",
       "318            0.057971  0.057971         1.0  17.25   0.05461         inf  \n",
       "319            0.057971  0.057971         1.0  17.25   0.05461         inf  \n",
       "324            0.057971  0.057971         1.0  17.25   0.05461         inf  \n",
       "329            0.057971  0.057971         1.0  17.25   0.05461         inf  \n",
       "338            0.057971  0.057971         1.0  17.25   0.05461         inf  \n",
       "343            0.057971  0.057971         1.0  17.25   0.05461         inf  \n",
       "408            0.057971  0.057971         1.0  17.25   0.05461         inf  \n",
       "409            0.057971  0.057971         1.0  17.25   0.05461         inf  "
      ],
      "text/html": "<div>\n<style scoped>\n    .dataframe tbody tr th:only-of-type {\n        vertical-align: middle;\n    }\n\n    .dataframe tbody tr th {\n        vertical-align: top;\n    }\n\n    .dataframe thead th {\n        text-align: right;\n    }\n</style>\n<table border=\"1\" class=\"dataframe\">\n  <thead>\n    <tr style=\"text-align: right;\">\n      <th></th>\n      <th>antecedents</th>\n      <th>consequents</th>\n      <th>antecedent support</th>\n      <th>consequent support</th>\n      <th>support</th>\n      <th>confidence</th>\n      <th>lift</th>\n      <th>leverage</th>\n      <th>conviction</th>\n    </tr>\n  </thead>\n  <tbody>\n    <tr>\n      <th>0</th>\n      <td>(36 pencils tube red retrospot)</td>\n      <td>(red retrospot cake stand)</td>\n      <td>0.057971</td>\n      <td>0.057971</td>\n      <td>0.057971</td>\n      <td>1.0</td>\n      <td>17.25</td>\n      <td>0.05461</td>\n      <td>inf</td>\n    </tr>\n    <tr>\n      <th>1</th>\n      <td>(red retrospot cake stand)</td>\n      <td>(36 pencils tube red retrospot)</td>\n      <td>0.057971</td>\n      <td>0.057971</td>\n      <td>0.057971</td>\n      <td>1.0</td>\n      <td>17.25</td>\n      <td>0.05461</td>\n      <td>inf</td>\n    </tr>\n    <tr>\n      <th>52</th>\n      <td>(feltcraft doll molly)</td>\n      <td>(set of 4 pantry jelly moulds)</td>\n      <td>0.057971</td>\n      <td>0.057971</td>\n      <td>0.057971</td>\n      <td>1.0</td>\n      <td>17.25</td>\n      <td>0.05461</td>\n      <td>inf</td>\n    </tr>\n    <tr>\n      <th>53</th>\n      <td>(set of 4 pantry jelly moulds)</td>\n      <td>(feltcraft doll molly)</td>\n      <td>0.057971</td>\n      <td>0.057971</td>\n      <td>0.057971</td>\n      <td>1.0</td>\n      <td>17.25</td>\n      <td>0.05461</td>\n      <td>inf</td>\n    </tr>\n    <tr>\n      <th>106</th>\n      <td>(set of 12 fairy cake baking cases)</td>\n      <td>(set of 12 mini loaf baking cases)</td>\n      <td>0.057971</td>\n      <td>0.057971</td>\n      <td>0.057971</td>\n      <td>1.0</td>\n      <td>17.25</td>\n      <td>0.05461</td>\n      <td>inf</td>\n    </tr>\n    <tr>\n      <th>107</th>\n      <td>(set of 12 mini loaf baking cases)</td>\n      <td>(set of 12 fairy cake baking cases)</td>\n      <td>0.057971</td>\n      <td>0.057971</td>\n      <td>0.057971</td>\n      <td>1.0</td>\n      <td>17.25</td>\n      <td>0.05461</td>\n      <td>inf</td>\n    </tr>\n    <tr>\n      <th>108</th>\n      <td>(set of 6 snack loaf baking cases)</td>\n      <td>(set of 12 fairy cake baking cases)</td>\n      <td>0.057971</td>\n      <td>0.057971</td>\n      <td>0.057971</td>\n      <td>1.0</td>\n      <td>17.25</td>\n      <td>0.05461</td>\n      <td>inf</td>\n    </tr>\n    <tr>\n      <th>109</th>\n      <td>(set of 12 fairy cake baking cases)</td>\n      <td>(set of 6 snack loaf baking cases)</td>\n      <td>0.057971</td>\n      <td>0.057971</td>\n      <td>0.057971</td>\n      <td>1.0</td>\n      <td>17.25</td>\n      <td>0.05461</td>\n      <td>inf</td>\n    </tr>\n    <tr>\n      <th>110</th>\n      <td>(set of 12 fairy cake baking cases)</td>\n      <td>(set of 6 tea time baking cases)</td>\n      <td>0.057971</td>\n      <td>0.057971</td>\n      <td>0.057971</td>\n      <td>1.0</td>\n      <td>17.25</td>\n      <td>0.05461</td>\n      <td>inf</td>\n    </tr>\n    <tr>\n      <th>111</th>\n      <td>(set of 6 tea time baking cases)</td>\n      <td>(set of 12 fairy cake baking cases)</td>\n      <td>0.057971</td>\n      <td>0.057971</td>\n      <td>0.057971</td>\n      <td>1.0</td>\n      <td>17.25</td>\n      <td>0.05461</td>\n      <td>inf</td>\n    </tr>\n    <tr>\n      <th>112</th>\n      <td>(set of 6 snack loaf baking cases)</td>\n      <td>(set of 12 mini loaf baking cases)</td>\n      <td>0.057971</td>\n      <td>0.057971</td>\n      <td>0.057971</td>\n      <td>1.0</td>\n      <td>17.25</td>\n      <td>0.05461</td>\n      <td>inf</td>\n    </tr>\n    <tr>\n      <th>113</th>\n      <td>(set of 12 mini loaf baking cases)</td>\n      <td>(set of 6 snack loaf baking cases)</td>\n      <td>0.057971</td>\n      <td>0.057971</td>\n      <td>0.057971</td>\n      <td>1.0</td>\n      <td>17.25</td>\n      <td>0.05461</td>\n      <td>inf</td>\n    </tr>\n    <tr>\n      <th>114</th>\n      <td>(set of 6 tea time baking cases)</td>\n      <td>(set of 12 mini loaf baking cases)</td>\n      <td>0.057971</td>\n      <td>0.057971</td>\n      <td>0.057971</td>\n      <td>1.0</td>\n      <td>17.25</td>\n      <td>0.05461</td>\n      <td>inf</td>\n    </tr>\n    <tr>\n      <th>115</th>\n      <td>(set of 12 mini loaf baking cases)</td>\n      <td>(set of 6 tea time baking cases)</td>\n      <td>0.057971</td>\n      <td>0.057971</td>\n      <td>0.057971</td>\n      <td>1.0</td>\n      <td>17.25</td>\n      <td>0.05461</td>\n      <td>inf</td>\n    </tr>\n    <tr>\n      <th>120</th>\n      <td>(set of 6 snack loaf baking cases)</td>\n      <td>(set of 6 tea time baking cases)</td>\n      <td>0.057971</td>\n      <td>0.057971</td>\n      <td>0.057971</td>\n      <td>1.0</td>\n      <td>17.25</td>\n      <td>0.05461</td>\n      <td>inf</td>\n    </tr>\n    <tr>\n      <th>121</th>\n      <td>(set of 6 tea time baking cases)</td>\n      <td>(set of 6 snack loaf baking cases)</td>\n      <td>0.057971</td>\n      <td>0.057971</td>\n      <td>0.057971</td>\n      <td>1.0</td>\n      <td>17.25</td>\n      <td>0.05461</td>\n      <td>inf</td>\n    </tr>\n    <tr>\n      <th>123</th>\n      <td>(36 pencils tube red retrospot, set of 3 cake ...</td>\n      <td>(red retrospot cake stand)</td>\n      <td>0.057971</td>\n      <td>0.057971</td>\n      <td>0.057971</td>\n      <td>1.0</td>\n      <td>17.25</td>\n      <td>0.05461</td>\n      <td>inf</td>\n    </tr>\n    <tr>\n      <th>124</th>\n      <td>(red retrospot cake stand, set of 3 cake tins ...</td>\n      <td>(36 pencils tube red retrospot)</td>\n      <td>0.057971</td>\n      <td>0.057971</td>\n      <td>0.057971</td>\n      <td>1.0</td>\n      <td>17.25</td>\n      <td>0.05461</td>\n      <td>inf</td>\n    </tr>\n    <tr>\n      <th>125</th>\n      <td>(36 pencils tube red retrospot)</td>\n      <td>(red retrospot cake stand, set of 3 cake tins ...</td>\n      <td>0.057971</td>\n      <td>0.057971</td>\n      <td>0.057971</td>\n      <td>1.0</td>\n      <td>17.25</td>\n      <td>0.05461</td>\n      <td>inf</td>\n    </tr>\n    <tr>\n      <th>126</th>\n      <td>(red retrospot cake stand)</td>\n      <td>(36 pencils tube red retrospot, set of 3 cake ...</td>\n      <td>0.057971</td>\n      <td>0.057971</td>\n      <td>0.057971</td>\n      <td>1.0</td>\n      <td>17.25</td>\n      <td>0.05461</td>\n      <td>inf</td>\n    </tr>\n    <tr>\n      <th>296</th>\n      <td>(set of 6 snack loaf baking cases, set of 12 f...</td>\n      <td>(set of 12 mini loaf baking cases)</td>\n      <td>0.057971</td>\n      <td>0.057971</td>\n      <td>0.057971</td>\n      <td>1.0</td>\n      <td>17.25</td>\n      <td>0.05461</td>\n      <td>inf</td>\n    </tr>\n    <tr>\n      <th>297</th>\n      <td>(set of 6 snack loaf baking cases, set of 12 m...</td>\n      <td>(set of 12 fairy cake baking cases)</td>\n      <td>0.057971</td>\n      <td>0.057971</td>\n      <td>0.057971</td>\n      <td>1.0</td>\n      <td>17.25</td>\n      <td>0.05461</td>\n      <td>inf</td>\n    </tr>\n    <tr>\n      <th>298</th>\n      <td>(set of 12 fairy cake baking cases, set of 12 ...</td>\n      <td>(set of 6 snack loaf baking cases)</td>\n      <td>0.057971</td>\n      <td>0.057971</td>\n      <td>0.057971</td>\n      <td>1.0</td>\n      <td>17.25</td>\n      <td>0.05461</td>\n      <td>inf</td>\n    </tr>\n    <tr>\n      <th>299</th>\n      <td>(set of 6 snack loaf baking cases)</td>\n      <td>(set of 12 fairy cake baking cases, set of 12 ...</td>\n      <td>0.057971</td>\n      <td>0.057971</td>\n      <td>0.057971</td>\n      <td>1.0</td>\n      <td>17.25</td>\n      <td>0.05461</td>\n      <td>inf</td>\n    </tr>\n    <tr>\n      <th>300</th>\n      <td>(set of 12 fairy cake baking cases)</td>\n      <td>(set of 6 snack loaf baking cases, set of 12 m...</td>\n      <td>0.057971</td>\n      <td>0.057971</td>\n      <td>0.057971</td>\n      <td>1.0</td>\n      <td>17.25</td>\n      <td>0.05461</td>\n      <td>inf</td>\n    </tr>\n    <tr>\n      <th>301</th>\n      <td>(set of 12 mini loaf baking cases)</td>\n      <td>(set of 6 snack loaf baking cases, set of 12 f...</td>\n      <td>0.057971</td>\n      <td>0.057971</td>\n      <td>0.057971</td>\n      <td>1.0</td>\n      <td>17.25</td>\n      <td>0.05461</td>\n      <td>inf</td>\n    </tr>\n    <tr>\n      <th>302</th>\n      <td>(set of 12 fairy cake baking cases, set of 6 t...</td>\n      <td>(set of 12 mini loaf baking cases)</td>\n      <td>0.057971</td>\n      <td>0.057971</td>\n      <td>0.057971</td>\n      <td>1.0</td>\n      <td>17.25</td>\n      <td>0.05461</td>\n      <td>inf</td>\n    </tr>\n    <tr>\n      <th>303</th>\n      <td>(set of 12 fairy cake baking cases, set of 12 ...</td>\n      <td>(set of 6 tea time baking cases)</td>\n      <td>0.057971</td>\n      <td>0.057971</td>\n      <td>0.057971</td>\n      <td>1.0</td>\n      <td>17.25</td>\n      <td>0.05461</td>\n      <td>inf</td>\n    </tr>\n    <tr>\n      <th>304</th>\n      <td>(set of 6 tea time baking cases, set of 12 min...</td>\n      <td>(set of 12 fairy cake baking cases)</td>\n      <td>0.057971</td>\n      <td>0.057971</td>\n      <td>0.057971</td>\n      <td>1.0</td>\n      <td>17.25</td>\n      <td>0.05461</td>\n      <td>inf</td>\n    </tr>\n    <tr>\n      <th>305</th>\n      <td>(set of 12 fairy cake baking cases)</td>\n      <td>(set of 6 tea time baking cases, set of 12 min...</td>\n      <td>0.057971</td>\n      <td>0.057971</td>\n      <td>0.057971</td>\n      <td>1.0</td>\n      <td>17.25</td>\n      <td>0.05461</td>\n      <td>inf</td>\n    </tr>\n    <tr>\n      <th>306</th>\n      <td>(set of 6 tea time baking cases)</td>\n      <td>(set of 12 fairy cake baking cases, set of 12 ...</td>\n      <td>0.057971</td>\n      <td>0.057971</td>\n      <td>0.057971</td>\n      <td>1.0</td>\n      <td>17.25</td>\n      <td>0.05461</td>\n      <td>inf</td>\n    </tr>\n    <tr>\n      <th>307</th>\n      <td>(set of 12 mini loaf baking cases)</td>\n      <td>(set of 12 fairy cake baking cases, set of 6 t...</td>\n      <td>0.057971</td>\n      <td>0.057971</td>\n      <td>0.057971</td>\n      <td>1.0</td>\n      <td>17.25</td>\n      <td>0.05461</td>\n      <td>inf</td>\n    </tr>\n    <tr>\n      <th>308</th>\n      <td>(set of 6 snack loaf baking cases, set of 12 f...</td>\n      <td>(set of 6 tea time baking cases)</td>\n      <td>0.057971</td>\n      <td>0.057971</td>\n      <td>0.057971</td>\n      <td>1.0</td>\n      <td>17.25</td>\n      <td>0.05461</td>\n      <td>inf</td>\n    </tr>\n    <tr>\n      <th>309</th>\n      <td>(set of 6 snack loaf baking cases, set of 6 te...</td>\n      <td>(set of 12 fairy cake baking cases)</td>\n      <td>0.057971</td>\n      <td>0.057971</td>\n      <td>0.057971</td>\n      <td>1.0</td>\n      <td>17.25</td>\n      <td>0.05461</td>\n      <td>inf</td>\n    </tr>\n    <tr>\n      <th>310</th>\n      <td>(set of 12 fairy cake baking cases, set of 6 t...</td>\n      <td>(set of 6 snack loaf baking cases)</td>\n      <td>0.057971</td>\n      <td>0.057971</td>\n      <td>0.057971</td>\n      <td>1.0</td>\n      <td>17.25</td>\n      <td>0.05461</td>\n      <td>inf</td>\n    </tr>\n    <tr>\n      <th>311</th>\n      <td>(set of 6 snack loaf baking cases)</td>\n      <td>(set of 12 fairy cake baking cases, set of 6 t...</td>\n      <td>0.057971</td>\n      <td>0.057971</td>\n      <td>0.057971</td>\n      <td>1.0</td>\n      <td>17.25</td>\n      <td>0.05461</td>\n      <td>inf</td>\n    </tr>\n    <tr>\n      <th>312</th>\n      <td>(set of 12 fairy cake baking cases)</td>\n      <td>(set of 6 snack loaf baking cases, set of 6 te...</td>\n      <td>0.057971</td>\n      <td>0.057971</td>\n      <td>0.057971</td>\n      <td>1.0</td>\n      <td>17.25</td>\n      <td>0.05461</td>\n      <td>inf</td>\n    </tr>\n    <tr>\n      <th>313</th>\n      <td>(set of 6 tea time baking cases)</td>\n      <td>(set of 6 snack loaf baking cases, set of 12 f...</td>\n      <td>0.057971</td>\n      <td>0.057971</td>\n      <td>0.057971</td>\n      <td>1.0</td>\n      <td>17.25</td>\n      <td>0.05461</td>\n      <td>inf</td>\n    </tr>\n    <tr>\n      <th>314</th>\n      <td>(set of 6 snack loaf baking cases, set of 6 te...</td>\n      <td>(set of 12 mini loaf baking cases)</td>\n      <td>0.057971</td>\n      <td>0.057971</td>\n      <td>0.057971</td>\n      <td>1.0</td>\n      <td>17.25</td>\n      <td>0.05461</td>\n      <td>inf</td>\n    </tr>\n    <tr>\n      <th>315</th>\n      <td>(set of 6 snack loaf baking cases, set of 12 m...</td>\n      <td>(set of 6 tea time baking cases)</td>\n      <td>0.057971</td>\n      <td>0.057971</td>\n      <td>0.057971</td>\n      <td>1.0</td>\n      <td>17.25</td>\n      <td>0.05461</td>\n      <td>inf</td>\n    </tr>\n    <tr>\n      <th>316</th>\n      <td>(set of 6 tea time baking cases, set of 12 min...</td>\n      <td>(set of 6 snack loaf baking cases)</td>\n      <td>0.057971</td>\n      <td>0.057971</td>\n      <td>0.057971</td>\n      <td>1.0</td>\n      <td>17.25</td>\n      <td>0.05461</td>\n      <td>inf</td>\n    </tr>\n    <tr>\n      <th>317</th>\n      <td>(set of 6 snack loaf baking cases)</td>\n      <td>(set of 6 tea time baking cases, set of 12 min...</td>\n      <td>0.057971</td>\n      <td>0.057971</td>\n      <td>0.057971</td>\n      <td>1.0</td>\n      <td>17.25</td>\n      <td>0.05461</td>\n      <td>inf</td>\n    </tr>\n    <tr>\n      <th>318</th>\n      <td>(set of 6 tea time baking cases)</td>\n      <td>(set of 6 snack loaf baking cases, set of 12 m...</td>\n      <td>0.057971</td>\n      <td>0.057971</td>\n      <td>0.057971</td>\n      <td>1.0</td>\n      <td>17.25</td>\n      <td>0.05461</td>\n      <td>inf</td>\n    </tr>\n    <tr>\n      <th>319</th>\n      <td>(set of 12 mini loaf baking cases)</td>\n      <td>(set of 6 snack loaf baking cases, set of 6 te...</td>\n      <td>0.057971</td>\n      <td>0.057971</td>\n      <td>0.057971</td>\n      <td>1.0</td>\n      <td>17.25</td>\n      <td>0.05461</td>\n      <td>inf</td>\n    </tr>\n    <tr>\n      <th>324</th>\n      <td>(dolly girl lunch box, homemade jam scented ca...</td>\n      <td>(circus parade lunch box, regency cakestand 3 ...</td>\n      <td>0.057971</td>\n      <td>0.057971</td>\n      <td>0.057971</td>\n      <td>1.0</td>\n      <td>17.25</td>\n      <td>0.05461</td>\n      <td>inf</td>\n    </tr>\n    <tr>\n      <th>329</th>\n      <td>(circus parade lunch box, regency cakestand 3 ...</td>\n      <td>(dolly girl lunch box, homemade jam scented ca...</td>\n      <td>0.057971</td>\n      <td>0.057971</td>\n      <td>0.057971</td>\n      <td>1.0</td>\n      <td>17.25</td>\n      <td>0.05461</td>\n      <td>inf</td>\n    </tr>\n    <tr>\n      <th>338</th>\n      <td>(dolly girl lunch box, homemade jam scented ca...</td>\n      <td>(circus parade lunch box, roses regency teacup...</td>\n      <td>0.057971</td>\n      <td>0.057971</td>\n      <td>0.057971</td>\n      <td>1.0</td>\n      <td>17.25</td>\n      <td>0.05461</td>\n      <td>inf</td>\n    </tr>\n    <tr>\n      <th>343</th>\n      <td>(circus parade lunch box, roses regency teacup...</td>\n      <td>(dolly girl lunch box, homemade jam scented ca...</td>\n      <td>0.057971</td>\n      <td>0.057971</td>\n      <td>0.057971</td>\n      <td>1.0</td>\n      <td>17.25</td>\n      <td>0.05461</td>\n      <td>inf</td>\n    </tr>\n    <tr>\n      <th>408</th>\n      <td>(homemade jam scented candles, roses regency t...</td>\n      <td>(circus parade lunch box, regency cakestand 3 ...</td>\n      <td>0.057971</td>\n      <td>0.057971</td>\n      <td>0.057971</td>\n      <td>1.0</td>\n      <td>17.25</td>\n      <td>0.05461</td>\n      <td>inf</td>\n    </tr>\n    <tr>\n      <th>409</th>\n      <td>(circus parade lunch box, roses regency teacup...</td>\n      <td>(homemade jam scented candles, regency cakesta...</td>\n      <td>0.057971</td>\n      <td>0.057971</td>\n      <td>0.057971</td>\n      <td>1.0</td>\n      <td>17.25</td>\n      <td>0.05461</td>\n      <td>inf</td>\n    </tr>\n  </tbody>\n</table>\n</div>"
     },
     "metadata": {},
     "execution_count": 30
    }
   ],
   "source": [
    "arule.sort_values(by=['lift','confidence'],ascending=[False,False],inplace=True)\n",
    "arule.head(50)"
   ]
  },
  {
   "cell_type": "code",
   "execution_count": 31,
   "metadata": {},
   "outputs": [],
   "source": [
    "arule.antecedents=arule.antecedents.apply(lambda word: list(word)[0])\n",
    "arule.consequents=arule.consequents.apply(lambda word: list(word)[0])"
   ]
  },
  {
   "cell_type": "code",
   "execution_count": 32,
   "metadata": {},
   "outputs": [
    {
     "output_type": "execute_result",
     "data": {
      "text/plain": [
       "                           antecedents                       consequents  \\\n",
       "0        36 pencils tube red retrospot          red retrospot cake stand   \n",
       "1             red retrospot cake stand     36 pencils tube red retrospot   \n",
       "52                feltcraft doll molly      set of 4 pantry jelly moulds   \n",
       "53        set of 4 pantry jelly moulds              feltcraft doll molly   \n",
       "106  set of 12 fairy cake baking cases  set of 12 mini loaf baking cases   \n",
       "\n",
       "     antecedent support  consequent support   support  confidence   lift  \\\n",
       "0              0.057971            0.057971  0.057971         1.0  17.25   \n",
       "1              0.057971            0.057971  0.057971         1.0  17.25   \n",
       "52             0.057971            0.057971  0.057971         1.0  17.25   \n",
       "53             0.057971            0.057971  0.057971         1.0  17.25   \n",
       "106            0.057971            0.057971  0.057971         1.0  17.25   \n",
       "\n",
       "     leverage  conviction  \n",
       "0     0.05461         inf  \n",
       "1     0.05461         inf  \n",
       "52    0.05461         inf  \n",
       "53    0.05461         inf  \n",
       "106   0.05461         inf  "
      ],
      "text/html": "<div>\n<style scoped>\n    .dataframe tbody tr th:only-of-type {\n        vertical-align: middle;\n    }\n\n    .dataframe tbody tr th {\n        vertical-align: top;\n    }\n\n    .dataframe thead th {\n        text-align: right;\n    }\n</style>\n<table border=\"1\" class=\"dataframe\">\n  <thead>\n    <tr style=\"text-align: right;\">\n      <th></th>\n      <th>antecedents</th>\n      <th>consequents</th>\n      <th>antecedent support</th>\n      <th>consequent support</th>\n      <th>support</th>\n      <th>confidence</th>\n      <th>lift</th>\n      <th>leverage</th>\n      <th>conviction</th>\n    </tr>\n  </thead>\n  <tbody>\n    <tr>\n      <th>0</th>\n      <td>36 pencils tube red retrospot</td>\n      <td>red retrospot cake stand</td>\n      <td>0.057971</td>\n      <td>0.057971</td>\n      <td>0.057971</td>\n      <td>1.0</td>\n      <td>17.25</td>\n      <td>0.05461</td>\n      <td>inf</td>\n    </tr>\n    <tr>\n      <th>1</th>\n      <td>red retrospot cake stand</td>\n      <td>36 pencils tube red retrospot</td>\n      <td>0.057971</td>\n      <td>0.057971</td>\n      <td>0.057971</td>\n      <td>1.0</td>\n      <td>17.25</td>\n      <td>0.05461</td>\n      <td>inf</td>\n    </tr>\n    <tr>\n      <th>52</th>\n      <td>feltcraft doll molly</td>\n      <td>set of 4 pantry jelly moulds</td>\n      <td>0.057971</td>\n      <td>0.057971</td>\n      <td>0.057971</td>\n      <td>1.0</td>\n      <td>17.25</td>\n      <td>0.05461</td>\n      <td>inf</td>\n    </tr>\n    <tr>\n      <th>53</th>\n      <td>set of 4 pantry jelly moulds</td>\n      <td>feltcraft doll molly</td>\n      <td>0.057971</td>\n      <td>0.057971</td>\n      <td>0.057971</td>\n      <td>1.0</td>\n      <td>17.25</td>\n      <td>0.05461</td>\n      <td>inf</td>\n    </tr>\n    <tr>\n      <th>106</th>\n      <td>set of 12 fairy cake baking cases</td>\n      <td>set of 12 mini loaf baking cases</td>\n      <td>0.057971</td>\n      <td>0.057971</td>\n      <td>0.057971</td>\n      <td>1.0</td>\n      <td>17.25</td>\n      <td>0.05461</td>\n      <td>inf</td>\n    </tr>\n  </tbody>\n</table>\n</div>"
     },
     "metadata": {},
     "execution_count": 32
    }
   ],
   "source": [
    "arule.head()"
   ]
  },
  {
   "cell_type": "code",
   "execution_count": 34,
   "metadata": {},
   "outputs": [
    {
     "output_type": "execute_result",
     "data": {
      "text/plain": [
       "                          antecedents                       consequents  \\\n",
       "0       36 pencils tube red retrospot          red retrospot cake stand   \n",
       "1            red retrospot cake stand     36 pencils tube red retrospot   \n",
       "123     36 pencils tube red retrospot          red retrospot cake stand   \n",
       "124          red retrospot cake stand     36 pencils tube red retrospot   \n",
       "125     36 pencils tube red retrospot          red retrospot cake stand   \n",
       "126          red retrospot cake stand     36 pencils tube red retrospot   \n",
       "2       36 pencils tube red retrospot  set of 3 cake tins pantry design   \n",
       "122     36 pencils tube red retrospot  set of 3 cake tins pantry design   \n",
       "3    set of 3 cake tins pantry design     36 pencils tube red retrospot   \n",
       "127  set of 3 cake tins pantry design     36 pencils tube red retrospot   \n",
       "\n",
       "     antecedent support  consequent support   support  confidence       lift  \\\n",
       "0              0.057971            0.057971  0.057971    1.000000  17.250000   \n",
       "1              0.057971            0.057971  0.057971    1.000000  17.250000   \n",
       "123            0.057971            0.057971  0.057971    1.000000  17.250000   \n",
       "124            0.057971            0.057971  0.057971    1.000000  17.250000   \n",
       "125            0.057971            0.057971  0.057971    1.000000  17.250000   \n",
       "126            0.057971            0.057971  0.057971    1.000000  17.250000   \n",
       "2              0.057971            0.130435  0.057971    1.000000   7.666667   \n",
       "122            0.057971            0.130435  0.057971    1.000000   7.666667   \n",
       "3              0.130435            0.057971  0.057971    0.444444   7.666667   \n",
       "127            0.130435            0.057971  0.057971    0.444444   7.666667   \n",
       "\n",
       "     leverage  conviction  \n",
       "0     0.05461         inf  \n",
       "1     0.05461         inf  \n",
       "123   0.05461         inf  \n",
       "124   0.05461         inf  \n",
       "125   0.05461         inf  \n",
       "126   0.05461         inf  \n",
       "2     0.05041         inf  \n",
       "122   0.05041         inf  \n",
       "3     0.05041    1.695652  \n",
       "127   0.05041    1.695652  "
      ],
      "text/html": "<div>\n<style scoped>\n    .dataframe tbody tr th:only-of-type {\n        vertical-align: middle;\n    }\n\n    .dataframe tbody tr th {\n        vertical-align: top;\n    }\n\n    .dataframe thead th {\n        text-align: right;\n    }\n</style>\n<table border=\"1\" class=\"dataframe\">\n  <thead>\n    <tr style=\"text-align: right;\">\n      <th></th>\n      <th>antecedents</th>\n      <th>consequents</th>\n      <th>antecedent support</th>\n      <th>consequent support</th>\n      <th>support</th>\n      <th>confidence</th>\n      <th>lift</th>\n      <th>leverage</th>\n      <th>conviction</th>\n    </tr>\n  </thead>\n  <tbody>\n    <tr>\n      <th>0</th>\n      <td>36 pencils tube red retrospot</td>\n      <td>red retrospot cake stand</td>\n      <td>0.057971</td>\n      <td>0.057971</td>\n      <td>0.057971</td>\n      <td>1.000000</td>\n      <td>17.250000</td>\n      <td>0.05461</td>\n      <td>inf</td>\n    </tr>\n    <tr>\n      <th>1</th>\n      <td>red retrospot cake stand</td>\n      <td>36 pencils tube red retrospot</td>\n      <td>0.057971</td>\n      <td>0.057971</td>\n      <td>0.057971</td>\n      <td>1.000000</td>\n      <td>17.250000</td>\n      <td>0.05461</td>\n      <td>inf</td>\n    </tr>\n    <tr>\n      <th>123</th>\n      <td>36 pencils tube red retrospot</td>\n      <td>red retrospot cake stand</td>\n      <td>0.057971</td>\n      <td>0.057971</td>\n      <td>0.057971</td>\n      <td>1.000000</td>\n      <td>17.250000</td>\n      <td>0.05461</td>\n      <td>inf</td>\n    </tr>\n    <tr>\n      <th>124</th>\n      <td>red retrospot cake stand</td>\n      <td>36 pencils tube red retrospot</td>\n      <td>0.057971</td>\n      <td>0.057971</td>\n      <td>0.057971</td>\n      <td>1.000000</td>\n      <td>17.250000</td>\n      <td>0.05461</td>\n      <td>inf</td>\n    </tr>\n    <tr>\n      <th>125</th>\n      <td>36 pencils tube red retrospot</td>\n      <td>red retrospot cake stand</td>\n      <td>0.057971</td>\n      <td>0.057971</td>\n      <td>0.057971</td>\n      <td>1.000000</td>\n      <td>17.250000</td>\n      <td>0.05461</td>\n      <td>inf</td>\n    </tr>\n    <tr>\n      <th>126</th>\n      <td>red retrospot cake stand</td>\n      <td>36 pencils tube red retrospot</td>\n      <td>0.057971</td>\n      <td>0.057971</td>\n      <td>0.057971</td>\n      <td>1.000000</td>\n      <td>17.250000</td>\n      <td>0.05461</td>\n      <td>inf</td>\n    </tr>\n    <tr>\n      <th>2</th>\n      <td>36 pencils tube red retrospot</td>\n      <td>set of 3 cake tins pantry design</td>\n      <td>0.057971</td>\n      <td>0.130435</td>\n      <td>0.057971</td>\n      <td>1.000000</td>\n      <td>7.666667</td>\n      <td>0.05041</td>\n      <td>inf</td>\n    </tr>\n    <tr>\n      <th>122</th>\n      <td>36 pencils tube red retrospot</td>\n      <td>set of 3 cake tins pantry design</td>\n      <td>0.057971</td>\n      <td>0.130435</td>\n      <td>0.057971</td>\n      <td>1.000000</td>\n      <td>7.666667</td>\n      <td>0.05041</td>\n      <td>inf</td>\n    </tr>\n    <tr>\n      <th>3</th>\n      <td>set of 3 cake tins pantry design</td>\n      <td>36 pencils tube red retrospot</td>\n      <td>0.130435</td>\n      <td>0.057971</td>\n      <td>0.057971</td>\n      <td>0.444444</td>\n      <td>7.666667</td>\n      <td>0.05041</td>\n      <td>1.695652</td>\n    </tr>\n    <tr>\n      <th>127</th>\n      <td>set of 3 cake tins pantry design</td>\n      <td>36 pencils tube red retrospot</td>\n      <td>0.130435</td>\n      <td>0.057971</td>\n      <td>0.057971</td>\n      <td>0.444444</td>\n      <td>7.666667</td>\n      <td>0.05041</td>\n      <td>1.695652</td>\n    </tr>\n  </tbody>\n</table>\n</div>"
     },
     "metadata": {},
     "execution_count": 34
    }
   ],
   "source": [
    "f1 = arule['antecedents'] == '36 pencils tube red retrospot'\n",
    "f2 = arule['consequents'] == '36 pencils tube red retrospot'\n",
    "arule[f1|f2]"
   ]
  },
  {
   "cell_type": "code",
   "execution_count": null,
   "metadata": {},
   "outputs": [],
   "source": []
  }
 ]
}