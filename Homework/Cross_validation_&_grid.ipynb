{
 "metadata": {
  "language_info": {
   "codemirror_mode": {
    "name": "ipython",
    "version": 3
   },
   "file_extension": ".py",
   "mimetype": "text/x-python",
   "name": "python",
   "nbconvert_exporter": "python",
   "pygments_lexer": "ipython3",
   "version": "3.7.4-final"
  },
  "orig_nbformat": 2,
  "kernelspec": {
   "name": "python3",
   "display_name": "Python 3",
   "language": "python"
  }
 },
 "nbformat": 4,
 "nbformat_minor": 2,
 "cells": [
  {
   "cell_type": "code",
   "execution_count": 1,
   "metadata": {},
   "outputs": [],
   "source": [
    "# common \n",
    "import pandas as pd\n",
    "import seaborn as sns\n",
    "import numpy as np\n",
    "import matplotlib.pyplot as plt\n",
    "import plotly.express as px\n",
    "\n",
    "# ml preprocessing\n",
    "from sklearn.preprocessing import StandardScaler\n",
    "from sklearn.preprocessing import LabelEncoder\n",
    "from sklearn.preprocessing import OneHotEncoder\n",
    "from sklearn.model_selection import train_test_split\n",
    "from sklearn.impute import SimpleImputer\n",
    "\n",
    "# algo\n",
    "from sklearn.linear_model import LinearRegression\n",
    "from sklearn.tree import DecisionTreeRegressor\n",
    "from sklearn.ensemble import RandomForestRegressor\n",
    "from sklearn.neighbors import KNeighborsRegressor"
   ]
  },
  {
   "cell_type": "code",
   "execution_count": 2,
   "metadata": {},
   "outputs": [
    {
     "output_type": "stream",
     "name": "stdout",
     "text": [
      "<class 'pandas.core.frame.DataFrame'>\nRangeIndex: 814 entries, 0 to 813\nData columns (total 6 columns):\n #   Column      Non-Null Count  Dtype  \n---  ------      --------------  -----  \n 0   City        814 non-null    object \n 1   Type        814 non-null    object \n 2   Beds        814 non-null    int64  \n 3   Baths       814 non-null    int64  \n 4   SquareFeet  814 non-null    int64  \n 5   Price       814 non-null    float64\ndtypes: float64(1), int64(3), object(2)\nmemory usage: 38.3+ KB\n"
     ]
    },
    {
     "output_type": "execute_result",
     "data": {
      "text/plain": [
       "         City         Type  Beds  Baths  SquareFeet      Price\n",
       "0  SACRAMENTO  Residential     2      1         836  138159.85\n",
       "1  SACRAMENTO  Residential     3      1        1167  167541.46\n",
       "2  SACRAMENTO  Residential     2      1         796  119095.12\n",
       "3  SACRAMENTO  Residential     2      1         852  130904.95\n",
       "4  SACRAMENTO  Residential     2      1         797  120266.19"
      ],
      "text/html": "<div>\n<style scoped>\n    .dataframe tbody tr th:only-of-type {\n        vertical-align: middle;\n    }\n\n    .dataframe tbody tr th {\n        vertical-align: top;\n    }\n\n    .dataframe thead th {\n        text-align: right;\n    }\n</style>\n<table border=\"1\" class=\"dataframe\">\n  <thead>\n    <tr style=\"text-align: right;\">\n      <th></th>\n      <th>City</th>\n      <th>Type</th>\n      <th>Beds</th>\n      <th>Baths</th>\n      <th>SquareFeet</th>\n      <th>Price</th>\n    </tr>\n  </thead>\n  <tbody>\n    <tr>\n      <th>0</th>\n      <td>SACRAMENTO</td>\n      <td>Residential</td>\n      <td>2</td>\n      <td>1</td>\n      <td>836</td>\n      <td>138159.85</td>\n    </tr>\n    <tr>\n      <th>1</th>\n      <td>SACRAMENTO</td>\n      <td>Residential</td>\n      <td>3</td>\n      <td>1</td>\n      <td>1167</td>\n      <td>167541.46</td>\n    </tr>\n    <tr>\n      <th>2</th>\n      <td>SACRAMENTO</td>\n      <td>Residential</td>\n      <td>2</td>\n      <td>1</td>\n      <td>796</td>\n      <td>119095.12</td>\n    </tr>\n    <tr>\n      <th>3</th>\n      <td>SACRAMENTO</td>\n      <td>Residential</td>\n      <td>2</td>\n      <td>1</td>\n      <td>852</td>\n      <td>130904.95</td>\n    </tr>\n    <tr>\n      <th>4</th>\n      <td>SACRAMENTO</td>\n      <td>Residential</td>\n      <td>2</td>\n      <td>1</td>\n      <td>797</td>\n      <td>120266.19</td>\n    </tr>\n  </tbody>\n</table>\n</div>"
     },
     "metadata": {},
     "execution_count": 2
    }
   ],
   "source": [
    "df = pd.read_csv('../datasets/house_pricing.csv')\n",
    "df.info()\n",
    "df.head()"
   ]
  },
  {
   "cell_type": "code",
   "execution_count": 4,
   "metadata": {},
   "outputs": [],
   "source": [
    "x=df[['Beds','Baths','SquareFeet']]\n",
    "y=df['Price']\n",
    "xtrain,xtest,ytrain,ytest=train_test_split(x,y,random_state=0)"
   ]
  },
  {
   "cell_type": "code",
   "execution_count": 5,
   "metadata": {},
   "outputs": [
    {
     "output_type": "execute_result",
     "data": {
      "text/plain": [
       "87.86128521017118"
      ]
     },
     "metadata": {},
     "execution_count": 5
    }
   ],
   "source": [
    "m0=LinearRegression()\n",
    "m0.fit(xtrain,ytrain)\n",
    "m0.score(xtest,ytest)*100"
   ]
  },
  {
   "cell_type": "code",
   "execution_count": 6,
   "metadata": {},
   "outputs": [
    {
     "output_type": "execute_result",
     "data": {
      "text/plain": [
       "72.55681155064987"
      ]
     },
     "metadata": {},
     "execution_count": 6
    }
   ],
   "source": [
    "m1=DecisionTreeRegressor()\n",
    "m1.fit(xtrain,ytrain)\n",
    "m1.score(xtest,ytest)*100"
   ]
  },
  {
   "cell_type": "code",
   "execution_count": 7,
   "metadata": {},
   "outputs": [
    {
     "output_type": "execute_result",
     "data": {
      "text/plain": [
       "78.66741123342378"
      ]
     },
     "metadata": {},
     "execution_count": 7
    }
   ],
   "source": [
    "m2=RandomForestRegressor()\n",
    "m2.fit(xtrain,ytrain)\n",
    "m2.score(xtest,ytest)*100"
   ]
  },
  {
   "cell_type": "code",
   "execution_count": 8,
   "metadata": {},
   "outputs": [
    {
     "output_type": "execute_result",
     "data": {
      "text/plain": [
       "82.87029914478055"
      ]
     },
     "metadata": {},
     "execution_count": 8
    }
   ],
   "source": [
    "m3=KNeighborsRegressor()\n",
    "m3.fit(xtrain,ytrain)\n",
    "m3.score(xtest,ytest)*100"
   ]
  },
  {
   "cell_type": "code",
   "execution_count": 9,
   "metadata": {},
   "outputs": [],
   "source": [
    "from sklearn.model_selection import cross_val_score"
   ]
  },
  {
   "cell_type": "code",
   "execution_count": 10,
   "metadata": {},
   "outputs": [],
   "source": [
    "data=[]"
   ]
  },
  {
   "cell_type": "code",
   "execution_count": 11,
   "metadata": {},
   "outputs": [
    {
     "output_type": "stream",
     "name": "stdout",
     "text": [
      "mean score => 70.73, cross val => [87.36574128 75.78184402 74.70608302 45.08534347]\n"
     ]
    },
    {
     "output_type": "execute_result",
     "data": {
      "text/plain": [
       "[{'algo': 'linear reg.',\n",
       "  'cv0': 87.36574127649914,\n",
       "  'cv1': 75.78184402195292,\n",
       "  'cv2': 74.70608301656637,\n",
       "  'cv3': 45.08534347105299}]"
      ]
     },
     "metadata": {},
     "execution_count": 11
    }
   ],
   "source": [
    "# linear reg\n",
    "scores = cross_val_score(m0,x,y,cv=4)\n",
    "print(f'mean score => {scores.mean() *100:.2f}, cross val => {scores * 100}')\n",
    "scores = scores * 100\n",
    "data.append({\n",
    "    'algo':'linear reg.',\n",
    "    'cv0': scores[0],\n",
    "    'cv1': scores[1],\n",
    "    'cv2': scores[2],\n",
    "    'cv3': scores[3],\n",
    "})\n",
    "data"
   ]
  },
  {
   "cell_type": "code",
   "execution_count": 12,
   "metadata": {},
   "outputs": [
    {
     "output_type": "stream",
     "name": "stdout",
     "text": [
      "mean score => 57.03, cross val => [70.31708185 55.54999114 57.4349625  44.82421322]\n"
     ]
    },
    {
     "output_type": "execute_result",
     "data": {
      "text/plain": [
       "[{'algo': 'linear reg.',\n",
       "  'cv0': 87.36574127649914,\n",
       "  'cv1': 75.78184402195292,\n",
       "  'cv2': 74.70608301656637,\n",
       "  'cv3': 45.08534347105299},\n",
       " {'algo': 'decision tree',\n",
       "  'cv0': 70.31708184758357,\n",
       "  'cv1': 55.549991140376086,\n",
       "  'cv2': 57.43496250295721,\n",
       "  'cv3': 44.8242132221745}]"
      ]
     },
     "metadata": {},
     "execution_count": 12
    }
   ],
   "source": [
    "scores = cross_val_score(m1,x,y,cv=4)\n",
    "print(f'mean score => {scores.mean() *100:.2f}, cross val => {scores * 100}')\n",
    "scores = scores * 100\n",
    "data.append({\n",
    "    'algo':'decision tree',\n",
    "    'cv0': scores[0],\n",
    "    'cv1': scores[1],\n",
    "    'cv2': scores[2],\n",
    "    'cv3': scores[3],\n",
    "})\n",
    "data"
   ]
  },
  {
   "cell_type": "code",
   "execution_count": 13,
   "metadata": {},
   "outputs": [
    {
     "output_type": "stream",
     "name": "stdout",
     "text": [
      "mean score => 65.72, cross val => [74.32378905 66.43322414 67.95459045 54.17849523]\n"
     ]
    },
    {
     "output_type": "execute_result",
     "data": {
      "text/plain": [
       "[{'algo': 'linear reg.',\n",
       "  'cv0': 87.36574127649914,\n",
       "  'cv1': 75.78184402195292,\n",
       "  'cv2': 74.70608301656637,\n",
       "  'cv3': 45.08534347105299},\n",
       " {'algo': 'decision tree',\n",
       "  'cv0': 70.31708184758357,\n",
       "  'cv1': 55.549991140376086,\n",
       "  'cv2': 57.43496250295721,\n",
       "  'cv3': 44.8242132221745},\n",
       " {'algo': 'random forest',\n",
       "  'cv0': 74.32378904992036,\n",
       "  'cv1': 66.4332241359083,\n",
       "  'cv2': 67.95459045125247,\n",
       "  'cv3': 54.17849523108686}]"
      ]
     },
     "metadata": {},
     "execution_count": 13
    }
   ],
   "source": [
    "# random forest\n",
    "scores = cross_val_score(m2,x,y,cv=4)\n",
    "print(f'mean score => {scores.mean() *100:.2f}, cross val => {scores * 100}')\n",
    "scores = scores * 100\n",
    "data.append({\n",
    "    'algo':'random forest',\n",
    "    'cv0': scores[0],\n",
    "    'cv1': scores[1],\n",
    "    'cv2': scores[2],\n",
    "    'cv3': scores[3],\n",
    "})\n",
    "data"
   ]
  },
  {
   "cell_type": "code",
   "execution_count": 14,
   "metadata": {},
   "outputs": [
    {
     "output_type": "stream",
     "name": "stdout",
     "text": [
      "mean score => 72.65, cross val => [82.73315368 72.27136026 74.2208122  61.38933171]\n"
     ]
    },
    {
     "output_type": "execute_result",
     "data": {
      "text/plain": [
       "[{'algo': 'linear reg.',\n",
       "  'cv0': 87.36574127649914,\n",
       "  'cv1': 75.78184402195292,\n",
       "  'cv2': 74.70608301656637,\n",
       "  'cv3': 45.08534347105299},\n",
       " {'algo': 'decision tree',\n",
       "  'cv0': 70.31708184758357,\n",
       "  'cv1': 55.549991140376086,\n",
       "  'cv2': 57.43496250295721,\n",
       "  'cv3': 44.8242132221745},\n",
       " {'algo': 'random forest',\n",
       "  'cv0': 74.32378904992036,\n",
       "  'cv1': 66.4332241359083,\n",
       "  'cv2': 67.95459045125247,\n",
       "  'cv3': 54.17849523108686},\n",
       " {'algo': 'knn',\n",
       "  'cv0': 82.73315368474647,\n",
       "  'cv1': 72.27136026354582,\n",
       "  'cv2': 74.22081219782439,\n",
       "  'cv3': 61.38933170603549}]"
      ]
     },
     "metadata": {},
     "execution_count": 14
    }
   ],
   "source": [
    "# nearest neighbor\n",
    "scores = cross_val_score(m3,x,y,cv=4)\n",
    "print(f'mean score => {scores.mean() *100:.2f}, cross val => {scores * 100}')\n",
    "scores = scores * 100\n",
    "data.append({\n",
    "    'algo':'knn',\n",
    "    'cv0': scores[0],\n",
    "    'cv1': scores[1],\n",
    "    'cv2': scores[2],\n",
    "    'cv3': scores[3],\n",
    "})\n",
    "data"
   ]
  },
  {
   "cell_type": "code",
   "execution_count": 15,
   "metadata": {},
   "outputs": [
    {
     "output_type": "execute_result",
     "data": {
      "text/plain": [
       "                     cv0        cv1        cv2        cv3\n",
       "algo                                                     \n",
       "linear reg.    87.365741  75.781844  74.706083  45.085343\n",
       "decision tree  70.317082  55.549991  57.434963  44.824213\n",
       "random forest  74.323789  66.433224  67.954590  54.178495\n",
       "knn            82.733154  72.271360  74.220812  61.389332"
      ],
      "text/html": "<div>\n<style scoped>\n    .dataframe tbody tr th:only-of-type {\n        vertical-align: middle;\n    }\n\n    .dataframe tbody tr th {\n        vertical-align: top;\n    }\n\n    .dataframe thead th {\n        text-align: right;\n    }\n</style>\n<table border=\"1\" class=\"dataframe\">\n  <thead>\n    <tr style=\"text-align: right;\">\n      <th></th>\n      <th>cv0</th>\n      <th>cv1</th>\n      <th>cv2</th>\n      <th>cv3</th>\n    </tr>\n    <tr>\n      <th>algo</th>\n      <th></th>\n      <th></th>\n      <th></th>\n      <th></th>\n    </tr>\n  </thead>\n  <tbody>\n    <tr>\n      <th>linear reg.</th>\n      <td>87.365741</td>\n      <td>75.781844</td>\n      <td>74.706083</td>\n      <td>45.085343</td>\n    </tr>\n    <tr>\n      <th>decision tree</th>\n      <td>70.317082</td>\n      <td>55.549991</td>\n      <td>57.434963</td>\n      <td>44.824213</td>\n    </tr>\n    <tr>\n      <th>random forest</th>\n      <td>74.323789</td>\n      <td>66.433224</td>\n      <td>67.954590</td>\n      <td>54.178495</td>\n    </tr>\n    <tr>\n      <th>knn</th>\n      <td>82.733154</td>\n      <td>72.271360</td>\n      <td>74.220812</td>\n      <td>61.389332</td>\n    </tr>\n  </tbody>\n</table>\n</div>"
     },
     "metadata": {},
     "execution_count": 15
    }
   ],
   "source": [
    "# convert to data frame\n",
    "cross_val_df = pd.DataFrame(data)\n",
    "cross_val_df = cross_val_df.set_index('algo')\n",
    "cross_val_df"
   ]
  },
  {
   "cell_type": "code",
   "execution_count": 16,
   "metadata": {},
   "outputs": [
    {
     "output_type": "display_data",
     "data": {
      "text/plain": "<Figure size 1080x288 with 4 Axes>",
      "image/svg+xml": "<?xml version=\"1.0\" encoding=\"utf-8\" standalone=\"no\"?>\r\n<!DOCTYPE svg PUBLIC \"-//W3C//DTD SVG 1.1//EN\"\r\n  \"http://www.w3.org/Graphics/SVG/1.1/DTD/svg11.dtd\">\r\n<!-- Created with matplotlib (https://matplotlib.org/) -->\r\n<svg height=\"242.898261pt\" version=\"1.1\" viewBox=\"0 0 865.078125 242.898261\" width=\"865.078125pt\" xmlns=\"http://www.w3.org/2000/svg\" xmlns:xlink=\"http://www.w3.org/1999/xlink\">\r\n <defs>\r\n  <style type=\"text/css\">\r\n*{stroke-linecap:butt;stroke-linejoin:round;}\r\n  </style>\r\n </defs>\r\n <g id=\"figure_1\">\r\n  <g id=\"patch_1\">\r\n   <path d=\"M 0 242.898261 \r\nL 865.078125 242.898261 \r\nL 865.078125 0 \r\nL 0 0 \r\nz\r\n\" style=\"fill:none;\"/>\r\n  </g>\r\n  <g id=\"axes_1\">\r\n   <g id=\"patch_2\">\r\n    <path d=\"M 184.638995 144.72 \r\nC 184.638995 132.895395 181.757373 121.247007 176.244334 110.786238 \r\nC 170.731296 100.325469 162.751157 91.364104 152.996815 84.680236 \r\nC 143.242472 77.996368 132.004656 73.789212 120.259118 72.424065 \r\nC 108.51358 71.058918 96.610399 72.576467 85.583099 76.844949 \r\nL 111.856386 144.72 \r\nL 184.638995 144.72 \r\nz\r\n\" style=\"fill:#1f77b4;\"/>\r\n   </g>\r\n   <g id=\"patch_3\">\r\n    <path d=\"M 85.583099 76.844949 \r\nC 76.02936 80.54304 67.363174 86.216906 60.152927 93.494415 \r\nC 52.942681 100.771925 47.349528 109.490421 43.740306 119.078086 \r\nC 40.131083 128.665751 38.58646 138.908292 39.207743 149.133937 \r\nC 39.829026 159.359582 42.602329 169.339778 47.345759 178.419958 \r\nL 111.856386 144.72 \r\nL 85.583099 76.844949 \r\nz\r\n\" style=\"fill:#ff7f0e;\"/>\r\n   </g>\r\n   <g id=\"patch_4\">\r\n    <path d=\"M 47.345759 178.419958 \r\nC 52.021374 187.370321 58.508918 195.250448 66.394749 201.557907 \r\nC 74.280579 207.865366 83.39346 212.463194 93.15236 215.058237 \r\nC 102.911259 217.653279 113.104268 218.189186 123.081486 216.631788 \r\nC 133.058704 215.07439 142.60348 211.457506 151.107248 206.011745 \r\nL 111.856386 144.72 \r\nL 47.345759 178.419958 \r\nz\r\n\" style=\"fill:#2ca02c;\"/>\r\n   </g>\r\n   <g id=\"patch_5\">\r\n    <path d=\"M 151.107248 206.011745 \r\nC 161.387928 199.42806 169.848803 190.362359 175.708118 179.652283 \r\nC 181.567433 168.942208 184.638992 156.928097 184.638995 144.720014 \r\nL 111.856386 144.72 \r\nL 151.107248 206.011745 \r\nz\r\n\" style=\"fill:#d62728;\"/>\r\n   </g>\r\n   <g id=\"matplotlib.axis_1\"/>\r\n   <g id=\"matplotlib.axis_2\">\r\n    <g id=\"text_1\">\r\n     <!-- linear reg. -->\r\n     <defs>\r\n      <path d=\"M 9.421875 75.984375 \r\nL 18.40625 75.984375 \r\nL 18.40625 0 \r\nL 9.421875 0 \r\nz\r\n\" id=\"DejaVuSans-108\"/>\r\n      <path d=\"M 9.421875 54.6875 \r\nL 18.40625 54.6875 \r\nL 18.40625 0 \r\nL 9.421875 0 \r\nz\r\nM 9.421875 75.984375 \r\nL 18.40625 75.984375 \r\nL 18.40625 64.59375 \r\nL 9.421875 64.59375 \r\nz\r\n\" id=\"DejaVuSans-105\"/>\r\n      <path d=\"M 54.890625 33.015625 \r\nL 54.890625 0 \r\nL 45.90625 0 \r\nL 45.90625 32.71875 \r\nQ 45.90625 40.484375 42.875 44.328125 \r\nQ 39.84375 48.1875 33.796875 48.1875 \r\nQ 26.515625 48.1875 22.3125 43.546875 \r\nQ 18.109375 38.921875 18.109375 30.90625 \r\nL 18.109375 0 \r\nL 9.078125 0 \r\nL 9.078125 54.6875 \r\nL 18.109375 54.6875 \r\nL 18.109375 46.1875 \r\nQ 21.34375 51.125 25.703125 53.5625 \r\nQ 30.078125 56 35.796875 56 \r\nQ 45.21875 56 50.046875 50.171875 \r\nQ 54.890625 44.34375 54.890625 33.015625 \r\nz\r\n\" id=\"DejaVuSans-110\"/>\r\n      <path d=\"M 56.203125 29.59375 \r\nL 56.203125 25.203125 \r\nL 14.890625 25.203125 \r\nQ 15.484375 15.921875 20.484375 11.0625 \r\nQ 25.484375 6.203125 34.421875 6.203125 \r\nQ 39.59375 6.203125 44.453125 7.46875 \r\nQ 49.3125 8.734375 54.109375 11.28125 \r\nL 54.109375 2.78125 \r\nQ 49.265625 0.734375 44.1875 -0.34375 \r\nQ 39.109375 -1.421875 33.890625 -1.421875 \r\nQ 20.796875 -1.421875 13.15625 6.1875 \r\nQ 5.515625 13.8125 5.515625 26.8125 \r\nQ 5.515625 40.234375 12.765625 48.109375 \r\nQ 20.015625 56 32.328125 56 \r\nQ 43.359375 56 49.78125 48.890625 \r\nQ 56.203125 41.796875 56.203125 29.59375 \r\nz\r\nM 47.21875 32.234375 \r\nQ 47.125 39.59375 43.09375 43.984375 \r\nQ 39.0625 48.390625 32.421875 48.390625 \r\nQ 24.90625 48.390625 20.390625 44.140625 \r\nQ 15.875 39.890625 15.1875 32.171875 \r\nz\r\n\" id=\"DejaVuSans-101\"/>\r\n      <path d=\"M 34.28125 27.484375 \r\nQ 23.390625 27.484375 19.1875 25 \r\nQ 14.984375 22.515625 14.984375 16.5 \r\nQ 14.984375 11.71875 18.140625 8.90625 \r\nQ 21.296875 6.109375 26.703125 6.109375 \r\nQ 34.1875 6.109375 38.703125 11.40625 \r\nQ 43.21875 16.703125 43.21875 25.484375 \r\nL 43.21875 27.484375 \r\nz\r\nM 52.203125 31.203125 \r\nL 52.203125 0 \r\nL 43.21875 0 \r\nL 43.21875 8.296875 \r\nQ 40.140625 3.328125 35.546875 0.953125 \r\nQ 30.953125 -1.421875 24.3125 -1.421875 \r\nQ 15.921875 -1.421875 10.953125 3.296875 \r\nQ 6 8.015625 6 15.921875 \r\nQ 6 25.140625 12.171875 29.828125 \r\nQ 18.359375 34.515625 30.609375 34.515625 \r\nL 43.21875 34.515625 \r\nL 43.21875 35.40625 \r\nQ 43.21875 41.609375 39.140625 45 \r\nQ 35.0625 48.390625 27.6875 48.390625 \r\nQ 23 48.390625 18.546875 47.265625 \r\nQ 14.109375 46.140625 10.015625 43.890625 \r\nL 10.015625 52.203125 \r\nQ 14.9375 54.109375 19.578125 55.046875 \r\nQ 24.21875 56 28.609375 56 \r\nQ 40.484375 56 46.34375 49.84375 \r\nQ 52.203125 43.703125 52.203125 31.203125 \r\nz\r\n\" id=\"DejaVuSans-97\"/>\r\n      <path d=\"M 41.109375 46.296875 \r\nQ 39.59375 47.171875 37.8125 47.578125 \r\nQ 36.03125 48 33.890625 48 \r\nQ 26.265625 48 22.1875 43.046875 \r\nQ 18.109375 38.09375 18.109375 28.8125 \r\nL 18.109375 0 \r\nL 9.078125 0 \r\nL 9.078125 54.6875 \r\nL 18.109375 54.6875 \r\nL 18.109375 46.1875 \r\nQ 20.953125 51.171875 25.484375 53.578125 \r\nQ 30.03125 56 36.53125 56 \r\nQ 37.453125 56 38.578125 55.875 \r\nQ 39.703125 55.765625 41.0625 55.515625 \r\nz\r\n\" id=\"DejaVuSans-114\"/>\r\n      <path id=\"DejaVuSans-32\"/>\r\n      <path d=\"M 45.40625 27.984375 \r\nQ 45.40625 37.75 41.375 43.109375 \r\nQ 37.359375 48.484375 30.078125 48.484375 \r\nQ 22.859375 48.484375 18.828125 43.109375 \r\nQ 14.796875 37.75 14.796875 27.984375 \r\nQ 14.796875 18.265625 18.828125 12.890625 \r\nQ 22.859375 7.515625 30.078125 7.515625 \r\nQ 37.359375 7.515625 41.375 12.890625 \r\nQ 45.40625 18.265625 45.40625 27.984375 \r\nz\r\nM 54.390625 6.78125 \r\nQ 54.390625 -7.171875 48.1875 -13.984375 \r\nQ 42 -20.796875 29.203125 -20.796875 \r\nQ 24.46875 -20.796875 20.265625 -20.09375 \r\nQ 16.0625 -19.390625 12.109375 -17.921875 \r\nL 12.109375 -9.1875 \r\nQ 16.0625 -11.328125 19.921875 -12.34375 \r\nQ 23.78125 -13.375 27.78125 -13.375 \r\nQ 36.625 -13.375 41.015625 -8.765625 \r\nQ 45.40625 -4.15625 45.40625 5.171875 \r\nL 45.40625 9.625 \r\nQ 42.625 4.78125 38.28125 2.390625 \r\nQ 33.9375 0 27.875 0 \r\nQ 17.828125 0 11.671875 7.65625 \r\nQ 5.515625 15.328125 5.515625 27.984375 \r\nQ 5.515625 40.671875 11.671875 48.328125 \r\nQ 17.828125 56 27.875 56 \r\nQ 33.9375 56 38.28125 53.609375 \r\nQ 42.625 51.21875 45.40625 46.390625 \r\nL 45.40625 54.6875 \r\nL 54.390625 54.6875 \r\nz\r\n\" id=\"DejaVuSans-103\"/>\r\n      <path d=\"M 10.6875 12.40625 \r\nL 21 12.40625 \r\nL 21 0 \r\nL 10.6875 0 \r\nz\r\n\" id=\"DejaVuSans-46\"/>\r\n     </defs>\r\n     <g transform=\"translate(14.798438 170.345781)rotate(-90)scale(0.1 -0.1)\">\r\n      <use xlink:href=\"#DejaVuSans-108\"/>\r\n      <use x=\"27.783203\" xlink:href=\"#DejaVuSans-105\"/>\r\n      <use x=\"55.566406\" xlink:href=\"#DejaVuSans-110\"/>\r\n      <use x=\"118.945312\" xlink:href=\"#DejaVuSans-101\"/>\r\n      <use x=\"180.46875\" xlink:href=\"#DejaVuSans-97\"/>\r\n      <use x=\"241.748047\" xlink:href=\"#DejaVuSans-114\"/>\r\n      <use x=\"282.861328\" xlink:href=\"#DejaVuSans-32\"/>\r\n      <use x=\"314.648438\" xlink:href=\"#DejaVuSans-114\"/>\r\n      <use x=\"355.730469\" xlink:href=\"#DejaVuSans-101\"/>\r\n      <use x=\"417.253906\" xlink:href=\"#DejaVuSans-103\"/>\r\n      <use x=\"480.730469\" xlink:href=\"#DejaVuSans-46\"/>\r\n     </g>\r\n    </g>\r\n   </g>\r\n   <g id=\"text_2\">\r\n    <!-- cv0 -->\r\n    <defs>\r\n     <path d=\"M 48.78125 52.59375 \r\nL 48.78125 44.1875 \r\nQ 44.96875 46.296875 41.140625 47.34375 \r\nQ 37.3125 48.390625 33.40625 48.390625 \r\nQ 24.65625 48.390625 19.8125 42.84375 \r\nQ 14.984375 37.3125 14.984375 27.296875 \r\nQ 14.984375 17.28125 19.8125 11.734375 \r\nQ 24.65625 6.203125 33.40625 6.203125 \r\nQ 37.3125 6.203125 41.140625 7.25 \r\nQ 44.96875 8.296875 48.78125 10.40625 \r\nL 48.78125 2.09375 \r\nQ 45.015625 0.34375 40.984375 -0.53125 \r\nQ 36.96875 -1.421875 32.421875 -1.421875 \r\nQ 20.0625 -1.421875 12.78125 6.34375 \r\nQ 5.515625 14.109375 5.515625 27.296875 \r\nQ 5.515625 40.671875 12.859375 48.328125 \r\nQ 20.21875 56 33.015625 56 \r\nQ 37.15625 56 41.109375 55.140625 \r\nQ 45.0625 54.296875 48.78125 52.59375 \r\nz\r\n\" id=\"DejaVuSans-99\"/>\r\n     <path d=\"M 2.984375 54.6875 \r\nL 12.5 54.6875 \r\nL 29.59375 8.796875 \r\nL 46.6875 54.6875 \r\nL 56.203125 54.6875 \r\nL 35.6875 0 \r\nL 23.484375 0 \r\nz\r\n\" id=\"DejaVuSans-118\"/>\r\n     <path d=\"M 31.78125 66.40625 \r\nQ 24.171875 66.40625 20.328125 58.90625 \r\nQ 16.5 51.421875 16.5 36.375 \r\nQ 16.5 21.390625 20.328125 13.890625 \r\nQ 24.171875 6.390625 31.78125 6.390625 \r\nQ 39.453125 6.390625 43.28125 13.890625 \r\nQ 47.125 21.390625 47.125 36.375 \r\nQ 47.125 51.421875 43.28125 58.90625 \r\nQ 39.453125 66.40625 31.78125 66.40625 \r\nz\r\nM 31.78125 74.21875 \r\nQ 44.046875 74.21875 50.515625 64.515625 \r\nQ 56.984375 54.828125 56.984375 36.375 \r\nQ 56.984375 17.96875 50.515625 8.265625 \r\nQ 44.046875 -1.421875 31.78125 -1.421875 \r\nQ 19.53125 -1.421875 13.0625 8.265625 \r\nQ 6.59375 17.96875 6.59375 36.375 \r\nQ 6.59375 54.828125 13.0625 64.515625 \r\nQ 19.53125 74.21875 31.78125 74.21875 \r\nz\r\n\" id=\"DejaVuSans-48\"/>\r\n    </defs>\r\n    <g transform=\"translate(157.110857 81.435635)scale(0.1 -0.1)\">\r\n     <use xlink:href=\"#DejaVuSans-99\"/>\r\n     <use x=\"54.980469\" xlink:href=\"#DejaVuSans-118\"/>\r\n     <use x=\"114.160156\" xlink:href=\"#DejaVuSans-48\"/>\r\n    </g>\r\n   </g>\r\n   <g id=\"text_3\">\r\n    <!-- cv1 -->\r\n    <defs>\r\n     <path d=\"M 12.40625 8.296875 \r\nL 28.515625 8.296875 \r\nL 28.515625 63.921875 \r\nL 10.984375 60.40625 \r\nL 10.984375 69.390625 \r\nL 28.421875 72.90625 \r\nL 38.28125 72.90625 \r\nL 38.28125 8.296875 \r\nL 54.390625 8.296875 \r\nL 54.390625 0 \r\nL 12.40625 0 \r\nz\r\n\" id=\"DejaVuSans-49\"/>\r\n    </defs>\r\n    <g transform=\"translate(19.14901 119.273269)scale(0.1 -0.1)\">\r\n     <use xlink:href=\"#DejaVuSans-99\"/>\r\n     <use x=\"54.980469\" xlink:href=\"#DejaVuSans-118\"/>\r\n     <use x=\"114.160156\" xlink:href=\"#DejaVuSans-49\"/>\r\n    </g>\r\n   </g>\r\n   <g id=\"text_4\">\r\n    <!-- cv2 -->\r\n    <defs>\r\n     <path d=\"M 19.1875 8.296875 \r\nL 53.609375 8.296875 \r\nL 53.609375 0 \r\nL 7.328125 0 \r\nL 7.328125 8.296875 \r\nQ 12.9375 14.109375 22.625 23.890625 \r\nQ 32.328125 33.6875 34.8125 36.53125 \r\nQ 39.546875 41.84375 41.421875 45.53125 \r\nQ 43.3125 49.21875 43.3125 52.78125 \r\nQ 43.3125 58.59375 39.234375 62.25 \r\nQ 35.15625 65.921875 28.609375 65.921875 \r\nQ 23.96875 65.921875 18.8125 64.3125 \r\nQ 13.671875 62.703125 7.8125 59.421875 \r\nL 7.8125 69.390625 \r\nQ 13.765625 71.78125 18.9375 73 \r\nQ 24.125 74.21875 28.421875 74.21875 \r\nQ 39.75 74.21875 46.484375 68.546875 \r\nQ 53.21875 62.890625 53.21875 53.421875 \r\nQ 53.21875 48.921875 51.53125 44.890625 \r\nQ 49.859375 40.875 45.40625 35.40625 \r\nQ 44.1875 33.984375 37.640625 27.21875 \r\nQ 31.109375 20.453125 19.1875 8.296875 \r\nz\r\n\" id=\"DejaVuSans-50\"/>\r\n    </defs>\r\n    <g transform=\"translate(73.502269 224.851435)scale(0.1 -0.1)\">\r\n     <use xlink:href=\"#DejaVuSans-99\"/>\r\n     <use x=\"54.980469\" xlink:href=\"#DejaVuSans-118\"/>\r\n     <use x=\"114.160156\" xlink:href=\"#DejaVuSans-50\"/>\r\n    </g>\r\n   </g>\r\n   <g id=\"text_5\">\r\n    <!-- cv3 -->\r\n    <defs>\r\n     <path d=\"M 40.578125 39.3125 \r\nQ 47.65625 37.796875 51.625 33 \r\nQ 55.609375 28.21875 55.609375 21.1875 \r\nQ 55.609375 10.40625 48.1875 4.484375 \r\nQ 40.765625 -1.421875 27.09375 -1.421875 \r\nQ 22.515625 -1.421875 17.65625 -0.515625 \r\nQ 12.796875 0.390625 7.625 2.203125 \r\nL 7.625 11.71875 \r\nQ 11.71875 9.328125 16.59375 8.109375 \r\nQ 21.484375 6.890625 26.8125 6.890625 \r\nQ 36.078125 6.890625 40.9375 10.546875 \r\nQ 45.796875 14.203125 45.796875 21.1875 \r\nQ 45.796875 27.640625 41.28125 31.265625 \r\nQ 36.765625 34.90625 28.71875 34.90625 \r\nL 20.21875 34.90625 \r\nL 20.21875 43.015625 \r\nL 29.109375 43.015625 \r\nQ 36.375 43.015625 40.234375 45.921875 \r\nQ 44.09375 48.828125 44.09375 54.296875 \r\nQ 44.09375 59.90625 40.109375 62.90625 \r\nQ 36.140625 65.921875 28.71875 65.921875 \r\nQ 24.65625 65.921875 20.015625 65.03125 \r\nQ 15.375 64.15625 9.8125 62.3125 \r\nL 9.8125 71.09375 \r\nQ 15.4375 72.65625 20.34375 73.4375 \r\nQ 25.25 74.21875 29.59375 74.21875 \r\nQ 40.828125 74.21875 47.359375 69.109375 \r\nQ 53.90625 64.015625 53.90625 55.328125 \r\nQ 53.90625 49.265625 50.4375 45.09375 \r\nQ 46.96875 40.921875 40.578125 39.3125 \r\nz\r\n\" id=\"DejaVuSans-51\"/>\r\n    </defs>\r\n    <g transform=\"translate(182.093291 185.904887)scale(0.1 -0.1)\">\r\n     <use xlink:href=\"#DejaVuSans-99\"/>\r\n     <use x=\"54.980469\" xlink:href=\"#DejaVuSans-118\"/>\r\n     <use x=\"114.160156\" xlink:href=\"#DejaVuSans-51\"/>\r\n    </g>\r\n   </g>\r\n   <g id=\"legend_1\">\r\n    <g id=\"patch_6\">\r\n     <path d=\"M 146.054959 120.454239 \r\nL 195.834647 120.454239 \r\nQ 197.834647 120.454239 197.834647 118.454239 \r\nL 197.834647 60.741739 \r\nQ 197.834647 58.741739 195.834647 58.741739 \r\nL 146.054959 58.741739 \r\nQ 144.054959 58.741739 144.054959 60.741739 \r\nL 144.054959 118.454239 \r\nQ 144.054959 120.454239 146.054959 120.454239 \r\nz\r\n\" style=\"fill:#ffffff;opacity:0.8;stroke:#cccccc;stroke-linejoin:miter;\"/>\r\n    </g>\r\n    <g id=\"patch_7\">\r\n     <path d=\"M 148.054959 70.340177 \r\nL 168.054959 70.340177 \r\nL 168.054959 63.340177 \r\nL 148.054959 63.340177 \r\nz\r\n\" style=\"fill:#1f77b4;\"/>\r\n    </g>\r\n    <g id=\"text_6\">\r\n     <!-- cv0 -->\r\n     <g transform=\"translate(176.054959 70.340177)scale(0.1 -0.1)\">\r\n      <use xlink:href=\"#DejaVuSans-99\"/>\r\n      <use x=\"54.980469\" xlink:href=\"#DejaVuSans-118\"/>\r\n      <use x=\"114.160156\" xlink:href=\"#DejaVuSans-48\"/>\r\n     </g>\r\n    </g>\r\n    <g id=\"patch_8\">\r\n     <path d=\"M 148.054959 85.018302 \r\nL 168.054959 85.018302 \r\nL 168.054959 78.018302 \r\nL 148.054959 78.018302 \r\nz\r\n\" style=\"fill:#ff7f0e;\"/>\r\n    </g>\r\n    <g id=\"text_7\">\r\n     <!-- cv1 -->\r\n     <g transform=\"translate(176.054959 85.018302)scale(0.1 -0.1)\">\r\n      <use xlink:href=\"#DejaVuSans-99\"/>\r\n      <use x=\"54.980469\" xlink:href=\"#DejaVuSans-118\"/>\r\n      <use x=\"114.160156\" xlink:href=\"#DejaVuSans-49\"/>\r\n     </g>\r\n    </g>\r\n    <g id=\"patch_9\">\r\n     <path d=\"M 148.054959 99.696427 \r\nL 168.054959 99.696427 \r\nL 168.054959 92.696427 \r\nL 148.054959 92.696427 \r\nz\r\n\" style=\"fill:#2ca02c;\"/>\r\n    </g>\r\n    <g id=\"text_8\">\r\n     <!-- cv2 -->\r\n     <g transform=\"translate(176.054959 99.696427)scale(0.1 -0.1)\">\r\n      <use xlink:href=\"#DejaVuSans-99\"/>\r\n      <use x=\"54.980469\" xlink:href=\"#DejaVuSans-118\"/>\r\n      <use x=\"114.160156\" xlink:href=\"#DejaVuSans-50\"/>\r\n     </g>\r\n    </g>\r\n    <g id=\"patch_10\">\r\n     <path d=\"M 148.054959 114.374552 \r\nL 168.054959 114.374552 \r\nL 168.054959 107.374552 \r\nL 148.054959 107.374552 \r\nz\r\n\" style=\"fill:#d62728;\"/>\r\n    </g>\r\n    <g id=\"text_9\">\r\n     <!-- cv3 -->\r\n     <g transform=\"translate(176.054959 114.374552)scale(0.1 -0.1)\">\r\n      <use xlink:href=\"#DejaVuSans-99\"/>\r\n      <use x=\"54.980469\" xlink:href=\"#DejaVuSans-118\"/>\r\n      <use x=\"114.160156\" xlink:href=\"#DejaVuSans-51\"/>\r\n     </g>\r\n    </g>\r\n   </g>\r\n  </g>\r\n  <g id=\"axes_2\">\r\n   <g id=\"patch_11\">\r\n    <path d=\"M 402.986821 144.72 \r\nC 402.986821 132.916344 400.115401 121.287968 394.621019 110.841052 \r\nC 389.126637 100.394136 381.172472 91.438945 371.446782 84.750353 \r\nC 361.721093 78.061762 350.512724 73.838417 338.791513 72.445756 \r\nC 327.070302 71.053094 315.18436 72.532477 304.162154 76.755897 \r\nL 330.204212 144.72 \r\nL 402.986821 144.72 \r\nz\r\n\" style=\"fill:#1f77b4;\"/>\r\n   </g>\r\n   <g id=\"patch_12\">\r\n    <path d=\"M 304.162154 76.755897 \r\nC 286.623034 83.476426 272.348712 96.732131 264.350431 113.726652 \r\nC 256.352149 130.721173 255.234873 150.169095 261.234299 167.967779 \r\nL 330.204212 144.72 \r\nL 304.162154 76.755897 \r\nz\r\n\" style=\"fill:#ff7f0e;\"/>\r\n   </g>\r\n   <g id=\"patch_13\">\r\n    <path d=\"M 261.234299 167.967779 \r\nC 264.308902 177.089299 269.16271 185.510912 275.514042 192.743884 \r\nC 281.865374 199.976856 289.588943 205.87851 298.236523 210.106352 \r\nC 306.884104 214.334194 316.285115 216.804826 325.893984 217.374869 \r\nC 335.502852 217.944913 345.130034 216.603122 354.216831 213.427367 \r\nL 330.204212 144.72 \r\nL 261.234299 167.967779 \r\nz\r\n\" style=\"fill:#2ca02c;\"/>\r\n   </g>\r\n   <g id=\"patch_14\">\r\n    <path d=\"M 354.216831 213.427367 \r\nC 368.465471 208.447593 380.818234 199.156667 389.554894 186.848431 \r\nC 398.291553 174.540195 402.986814 159.813804 402.986821 144.720034 \r\nL 330.204212 144.72 \r\nL 354.216831 213.427367 \r\nz\r\n\" style=\"fill:#d62728;\"/>\r\n   </g>\r\n   <g id=\"matplotlib.axis_3\"/>\r\n   <g id=\"matplotlib.axis_4\">\r\n    <g id=\"text_10\">\r\n     <!-- decision tree -->\r\n     <defs>\r\n      <path d=\"M 45.40625 46.390625 \r\nL 45.40625 75.984375 \r\nL 54.390625 75.984375 \r\nL 54.390625 0 \r\nL 45.40625 0 \r\nL 45.40625 8.203125 \r\nQ 42.578125 3.328125 38.25 0.953125 \r\nQ 33.9375 -1.421875 27.875 -1.421875 \r\nQ 17.96875 -1.421875 11.734375 6.484375 \r\nQ 5.515625 14.40625 5.515625 27.296875 \r\nQ 5.515625 40.1875 11.734375 48.09375 \r\nQ 17.96875 56 27.875 56 \r\nQ 33.9375 56 38.25 53.625 \r\nQ 42.578125 51.265625 45.40625 46.390625 \r\nz\r\nM 14.796875 27.296875 \r\nQ 14.796875 17.390625 18.875 11.75 \r\nQ 22.953125 6.109375 30.078125 6.109375 \r\nQ 37.203125 6.109375 41.296875 11.75 \r\nQ 45.40625 17.390625 45.40625 27.296875 \r\nQ 45.40625 37.203125 41.296875 42.84375 \r\nQ 37.203125 48.484375 30.078125 48.484375 \r\nQ 22.953125 48.484375 18.875 42.84375 \r\nQ 14.796875 37.203125 14.796875 27.296875 \r\nz\r\n\" id=\"DejaVuSans-100\"/>\r\n      <path d=\"M 44.28125 53.078125 \r\nL 44.28125 44.578125 \r\nQ 40.484375 46.53125 36.375 47.5 \r\nQ 32.28125 48.484375 27.875 48.484375 \r\nQ 21.1875 48.484375 17.84375 46.4375 \r\nQ 14.5 44.390625 14.5 40.28125 \r\nQ 14.5 37.15625 16.890625 35.375 \r\nQ 19.28125 33.59375 26.515625 31.984375 \r\nL 29.59375 31.296875 \r\nQ 39.15625 29.25 43.1875 25.515625 \r\nQ 47.21875 21.78125 47.21875 15.09375 \r\nQ 47.21875 7.46875 41.1875 3.015625 \r\nQ 35.15625 -1.421875 24.609375 -1.421875 \r\nQ 20.21875 -1.421875 15.453125 -0.5625 \r\nQ 10.6875 0.296875 5.421875 2 \r\nL 5.421875 11.28125 \r\nQ 10.40625 8.6875 15.234375 7.390625 \r\nQ 20.0625 6.109375 24.8125 6.109375 \r\nQ 31.15625 6.109375 34.5625 8.28125 \r\nQ 37.984375 10.453125 37.984375 14.40625 \r\nQ 37.984375 18.0625 35.515625 20.015625 \r\nQ 33.0625 21.96875 24.703125 23.78125 \r\nL 21.578125 24.515625 \r\nQ 13.234375 26.265625 9.515625 29.90625 \r\nQ 5.8125 33.546875 5.8125 39.890625 \r\nQ 5.8125 47.609375 11.28125 51.796875 \r\nQ 16.75 56 26.8125 56 \r\nQ 31.78125 56 36.171875 55.265625 \r\nQ 40.578125 54.546875 44.28125 53.078125 \r\nz\r\n\" id=\"DejaVuSans-115\"/>\r\n      <path d=\"M 30.609375 48.390625 \r\nQ 23.390625 48.390625 19.1875 42.75 \r\nQ 14.984375 37.109375 14.984375 27.296875 \r\nQ 14.984375 17.484375 19.15625 11.84375 \r\nQ 23.34375 6.203125 30.609375 6.203125 \r\nQ 37.796875 6.203125 41.984375 11.859375 \r\nQ 46.1875 17.53125 46.1875 27.296875 \r\nQ 46.1875 37.015625 41.984375 42.703125 \r\nQ 37.796875 48.390625 30.609375 48.390625 \r\nz\r\nM 30.609375 56 \r\nQ 42.328125 56 49.015625 48.375 \r\nQ 55.71875 40.765625 55.71875 27.296875 \r\nQ 55.71875 13.875 49.015625 6.21875 \r\nQ 42.328125 -1.421875 30.609375 -1.421875 \r\nQ 18.84375 -1.421875 12.171875 6.21875 \r\nQ 5.515625 13.875 5.515625 27.296875 \r\nQ 5.515625 40.765625 12.171875 48.375 \r\nQ 18.84375 56 30.609375 56 \r\nz\r\n\" id=\"DejaVuSans-111\"/>\r\n      <path d=\"M 18.3125 70.21875 \r\nL 18.3125 54.6875 \r\nL 36.8125 54.6875 \r\nL 36.8125 47.703125 \r\nL 18.3125 47.703125 \r\nL 18.3125 18.015625 \r\nQ 18.3125 11.328125 20.140625 9.421875 \r\nQ 21.96875 7.515625 27.59375 7.515625 \r\nL 36.8125 7.515625 \r\nL 36.8125 0 \r\nL 27.59375 0 \r\nQ 17.1875 0 13.234375 3.875 \r\nQ 9.28125 7.765625 9.28125 18.015625 \r\nL 9.28125 47.703125 \r\nL 2.6875 47.703125 \r\nL 2.6875 54.6875 \r\nL 9.28125 54.6875 \r\nL 9.28125 70.21875 \r\nz\r\n\" id=\"DejaVuSans-116\"/>\r\n     </defs>\r\n     <g transform=\"translate(233.146264 177.087187)rotate(-90)scale(0.1 -0.1)\">\r\n      <use xlink:href=\"#DejaVuSans-100\"/>\r\n      <use x=\"63.476562\" xlink:href=\"#DejaVuSans-101\"/>\r\n      <use x=\"125\" xlink:href=\"#DejaVuSans-99\"/>\r\n      <use x=\"179.980469\" xlink:href=\"#DejaVuSans-105\"/>\r\n      <use x=\"207.763672\" xlink:href=\"#DejaVuSans-115\"/>\r\n      <use x=\"259.863281\" xlink:href=\"#DejaVuSans-105\"/>\r\n      <use x=\"287.646484\" xlink:href=\"#DejaVuSans-111\"/>\r\n      <use x=\"348.828125\" xlink:href=\"#DejaVuSans-110\"/>\r\n      <use x=\"412.207031\" xlink:href=\"#DejaVuSans-32\"/>\r\n      <use x=\"443.994141\" xlink:href=\"#DejaVuSans-116\"/>\r\n      <use x=\"483.203125\" xlink:href=\"#DejaVuSans-114\"/>\r\n      <use x=\"524.285156\" xlink:href=\"#DejaVuSans-101\"/>\r\n      <use x=\"585.808594\" xlink:href=\"#DejaVuSans-101\"/>\r\n     </g>\r\n    </g>\r\n   </g>\r\n   <g id=\"text_11\">\r\n    <!-- cv0 -->\r\n    <g transform=\"translate(375.571039 81.512764)scale(0.1 -0.1)\">\r\n     <use xlink:href=\"#DejaVuSans-99\"/>\r\n     <use x=\"54.980469\" xlink:href=\"#DejaVuSans-118\"/>\r\n     <use x=\"114.160156\" xlink:href=\"#DejaVuSans-48\"/>\r\n    </g>\r\n   </g>\r\n   <g id=\"text_12\">\r\n    <!-- cv1 -->\r\n    <g transform=\"translate(239.985365 113.386692)scale(0.1 -0.1)\">\r\n     <use xlink:href=\"#DejaVuSans-99\"/>\r\n     <use x=\"54.980469\" xlink:href=\"#DejaVuSans-118\"/>\r\n     <use x=\"114.160156\" xlink:href=\"#DejaVuSans-49\"/>\r\n    </g>\r\n   </g>\r\n   <g id=\"text_13\">\r\n    <!-- cv2 -->\r\n    <g transform=\"translate(277.260067 219.404362)scale(0.1 -0.1)\">\r\n     <use xlink:href=\"#DejaVuSans-99\"/>\r\n     <use x=\"54.980469\" xlink:href=\"#DejaVuSans-118\"/>\r\n     <use x=\"114.160156\" xlink:href=\"#DejaVuSans-50\"/>\r\n    </g>\r\n   </g>\r\n   <g id=\"text_14\">\r\n    <!-- cv3 -->\r\n    <g transform=\"translate(395.489962 193.820649)scale(0.1 -0.1)\">\r\n     <use xlink:href=\"#DejaVuSans-99\"/>\r\n     <use x=\"54.980469\" xlink:href=\"#DejaVuSans-118\"/>\r\n     <use x=\"114.160156\" xlink:href=\"#DejaVuSans-51\"/>\r\n    </g>\r\n   </g>\r\n   <g id=\"legend_2\">\r\n    <g id=\"patch_15\">\r\n     <path d=\"M 364.402785 120.454239 \r\nL 414.182473 120.454239 \r\nQ 416.182473 120.454239 416.182473 118.454239 \r\nL 416.182473 60.741739 \r\nQ 416.182473 58.741739 414.182473 58.741739 \r\nL 364.402785 58.741739 \r\nQ 362.402785 58.741739 362.402785 60.741739 \r\nL 362.402785 118.454239 \r\nQ 362.402785 120.454239 364.402785 120.454239 \r\nz\r\n\" style=\"fill:#ffffff;opacity:0.8;stroke:#cccccc;stroke-linejoin:miter;\"/>\r\n    </g>\r\n    <g id=\"patch_16\">\r\n     <path d=\"M 366.402785 70.340177 \r\nL 386.402785 70.340177 \r\nL 386.402785 63.340177 \r\nL 366.402785 63.340177 \r\nz\r\n\" style=\"fill:#1f77b4;\"/>\r\n    </g>\r\n    <g id=\"text_15\">\r\n     <!-- cv0 -->\r\n     <g transform=\"translate(394.402785 70.340177)scale(0.1 -0.1)\">\r\n      <use xlink:href=\"#DejaVuSans-99\"/>\r\n      <use x=\"54.980469\" xlink:href=\"#DejaVuSans-118\"/>\r\n      <use x=\"114.160156\" xlink:href=\"#DejaVuSans-48\"/>\r\n     </g>\r\n    </g>\r\n    <g id=\"patch_17\">\r\n     <path d=\"M 366.402785 85.018302 \r\nL 386.402785 85.018302 \r\nL 386.402785 78.018302 \r\nL 366.402785 78.018302 \r\nz\r\n\" style=\"fill:#ff7f0e;\"/>\r\n    </g>\r\n    <g id=\"text_16\">\r\n     <!-- cv1 -->\r\n     <g transform=\"translate(394.402785 85.018302)scale(0.1 -0.1)\">\r\n      <use xlink:href=\"#DejaVuSans-99\"/>\r\n      <use x=\"54.980469\" xlink:href=\"#DejaVuSans-118\"/>\r\n      <use x=\"114.160156\" xlink:href=\"#DejaVuSans-49\"/>\r\n     </g>\r\n    </g>\r\n    <g id=\"patch_18\">\r\n     <path d=\"M 366.402785 99.696427 \r\nL 386.402785 99.696427 \r\nL 386.402785 92.696427 \r\nL 366.402785 92.696427 \r\nz\r\n\" style=\"fill:#2ca02c;\"/>\r\n    </g>\r\n    <g id=\"text_17\">\r\n     <!-- cv2 -->\r\n     <g transform=\"translate(394.402785 99.696427)scale(0.1 -0.1)\">\r\n      <use xlink:href=\"#DejaVuSans-99\"/>\r\n      <use x=\"54.980469\" xlink:href=\"#DejaVuSans-118\"/>\r\n      <use x=\"114.160156\" xlink:href=\"#DejaVuSans-50\"/>\r\n     </g>\r\n    </g>\r\n    <g id=\"patch_19\">\r\n     <path d=\"M 366.402785 114.374552 \r\nL 386.402785 114.374552 \r\nL 386.402785 107.374552 \r\nL 366.402785 107.374552 \r\nz\r\n\" style=\"fill:#d62728;\"/>\r\n    </g>\r\n    <g id=\"text_18\">\r\n     <!-- cv3 -->\r\n     <g transform=\"translate(394.402785 114.374552)scale(0.1 -0.1)\">\r\n      <use xlink:href=\"#DejaVuSans-99\"/>\r\n      <use x=\"54.980469\" xlink:href=\"#DejaVuSans-118\"/>\r\n      <use x=\"114.160156\" xlink:href=\"#DejaVuSans-51\"/>\r\n     </g>\r\n    </g>\r\n   </g>\r\n  </g>\r\n  <g id=\"axes_3\">\r\n   <g id=\"patch_20\">\r\n    <path d=\"M 621.334647 144.72 \r\nC 621.334647 133.901857 618.922692 123.218573 614.2748 113.44978 \r\nC 609.626908 103.680987 602.85896 95.070241 594.464859 88.245926 \r\nC 586.070757 81.421611 576.259785 76.553871 565.747914 73.997939 \r\nC 555.236043 71.442006 544.285357 71.261605 533.695001 73.469901 \r\nL 548.552038 144.72 \r\nL 621.334647 144.72 \r\nz\r\n\" style=\"fill:#1f77b4;\"/>\r\n   </g>\r\n   <g id=\"patch_21\">\r\n    <path d=\"M 533.695001 73.469901 \r\nC 524.236691 75.442144 515.265087 79.278145 507.304673 84.753651 \r\nC 499.344259 90.229157 492.553242 97.235347 487.328629 105.362633 \r\nC 482.104017 113.489919 478.549643 122.576779 476.8733 132.09199 \r\nC 475.196957 141.6072 475.431959 151.361654 477.564569 160.7851 \r\nL 548.552038 144.72 \r\nL 533.695001 73.469901 \r\nz\r\n\" style=\"fill:#ff7f0e;\"/>\r\n   </g>\r\n   <g id=\"patch_22\">\r\n    <path d=\"M 477.564569 160.7851 \r\nC 479.746346 170.425798 483.86936 179.521761 489.681537 187.516872 \r\nC 495.493714 195.511984 502.87414 202.239918 511.371585 207.289338 \r\nC 519.86903 212.338758 529.306717 215.604617 539.107639 216.887246 \r\nC 548.908562 218.169876 558.868825 217.442591 568.379471 214.749858 \r\nL 548.552038 144.72 \r\nL 477.564569 160.7851 \r\nz\r\n\" style=\"fill:#2ca02c;\"/>\r\n   </g>\r\n   <g id=\"patch_23\">\r\n    <path d=\"M 568.379471 214.749858 \r\nC 583.623665 210.433796 597.049503 201.255987 606.605462 188.61884 \r\nC 616.16142 175.981693 621.334645 160.563423 621.334647 144.720007 \r\nL 548.552038 144.72 \r\nL 568.379471 214.749858 \r\nz\r\n\" style=\"fill:#d62728;\"/>\r\n   </g>\r\n   <g id=\"matplotlib.axis_5\"/>\r\n   <g id=\"matplotlib.axis_6\">\r\n    <g id=\"text_19\">\r\n     <!-- random forest -->\r\n     <defs>\r\n      <path d=\"M 52 44.1875 \r\nQ 55.375 50.25 60.0625 53.125 \r\nQ 64.75 56 71.09375 56 \r\nQ 79.640625 56 84.28125 50.015625 \r\nQ 88.921875 44.046875 88.921875 33.015625 \r\nL 88.921875 0 \r\nL 79.890625 0 \r\nL 79.890625 32.71875 \r\nQ 79.890625 40.578125 77.09375 44.375 \r\nQ 74.3125 48.1875 68.609375 48.1875 \r\nQ 61.625 48.1875 57.5625 43.546875 \r\nQ 53.515625 38.921875 53.515625 30.90625 \r\nL 53.515625 0 \r\nL 44.484375 0 \r\nL 44.484375 32.71875 \r\nQ 44.484375 40.625 41.703125 44.40625 \r\nQ 38.921875 48.1875 33.109375 48.1875 \r\nQ 26.21875 48.1875 22.15625 43.53125 \r\nQ 18.109375 38.875 18.109375 30.90625 \r\nL 18.109375 0 \r\nL 9.078125 0 \r\nL 9.078125 54.6875 \r\nL 18.109375 54.6875 \r\nL 18.109375 46.1875 \r\nQ 21.1875 51.21875 25.484375 53.609375 \r\nQ 29.78125 56 35.6875 56 \r\nQ 41.65625 56 45.828125 52.96875 \r\nQ 50 49.953125 52 44.1875 \r\nz\r\n\" id=\"DejaVuSans-109\"/>\r\n      <path d=\"M 37.109375 75.984375 \r\nL 37.109375 68.5 \r\nL 28.515625 68.5 \r\nQ 23.6875 68.5 21.796875 66.546875 \r\nQ 19.921875 64.59375 19.921875 59.515625 \r\nL 19.921875 54.6875 \r\nL 34.71875 54.6875 \r\nL 34.71875 47.703125 \r\nL 19.921875 47.703125 \r\nL 19.921875 0 \r\nL 10.890625 0 \r\nL 10.890625 47.703125 \r\nL 2.296875 47.703125 \r\nL 2.296875 54.6875 \r\nL 10.890625 54.6875 \r\nL 10.890625 58.5 \r\nQ 10.890625 67.625 15.140625 71.796875 \r\nQ 19.390625 75.984375 28.609375 75.984375 \r\nz\r\n\" id=\"DejaVuSans-102\"/>\r\n     </defs>\r\n     <g transform=\"translate(451.49409 180.216094)rotate(-90)scale(0.1 -0.1)\">\r\n      <use xlink:href=\"#DejaVuSans-114\"/>\r\n      <use x=\"41.113281\" xlink:href=\"#DejaVuSans-97\"/>\r\n      <use x=\"102.392578\" xlink:href=\"#DejaVuSans-110\"/>\r\n      <use x=\"165.771484\" xlink:href=\"#DejaVuSans-100\"/>\r\n      <use x=\"229.248047\" xlink:href=\"#DejaVuSans-111\"/>\r\n      <use x=\"290.429688\" xlink:href=\"#DejaVuSans-109\"/>\r\n      <use x=\"387.841797\" xlink:href=\"#DejaVuSans-32\"/>\r\n      <use x=\"419.628906\" xlink:href=\"#DejaVuSans-102\"/>\r\n      <use x=\"454.833984\" xlink:href=\"#DejaVuSans-111\"/>\r\n      <use x=\"516.015625\" xlink:href=\"#DejaVuSans-114\"/>\r\n      <use x=\"557.097656\" xlink:href=\"#DejaVuSans-101\"/>\r\n      <use x=\"618.621094\" xlink:href=\"#DejaVuSans-115\"/>\r\n      <use x=\"670.720703\" xlink:href=\"#DejaVuSans-116\"/>\r\n     </g>\r\n    </g>\r\n   </g>\r\n   <g id=\"text_20\">\r\n    <!-- cv0 -->\r\n    <g transform=\"translate(599.056141 85.357894)scale(0.1 -0.1)\">\r\n     <use xlink:href=\"#DejaVuSans-99\"/>\r\n     <use x=\"54.980469\" xlink:href=\"#DejaVuSans-118\"/>\r\n     <use x=\"114.160156\" xlink:href=\"#DejaVuSans-48\"/>\r\n    </g>\r\n   </g>\r\n   <g id=\"text_21\">\r\n    <!-- cv1 -->\r\n    <g transform=\"translate(463.426601 104.186271)scale(0.1 -0.1)\">\r\n     <use xlink:href=\"#DejaVuSans-99\"/>\r\n     <use x=\"54.980469\" xlink:href=\"#DejaVuSans-118\"/>\r\n     <use x=\"114.160156\" xlink:href=\"#DejaVuSans-49\"/>\r\n    </g>\r\n   </g>\r\n   <g id=\"text_22\">\r\n    <!-- cv2 -->\r\n    <g transform=\"translate(489.873852 216.305647)scale(0.1 -0.1)\">\r\n     <use xlink:href=\"#DejaVuSans-99\"/>\r\n     <use x=\"54.980469\" xlink:href=\"#DejaVuSans-118\"/>\r\n     <use x=\"114.160156\" xlink:href=\"#DejaVuSans-50\"/>\r\n    </g>\r\n   </g>\r\n   <g id=\"text_23\">\r\n    <!-- cv3 -->\r\n    <g transform=\"translate(612.410804 195.768099)scale(0.1 -0.1)\">\r\n     <use xlink:href=\"#DejaVuSans-99\"/>\r\n     <use x=\"54.980469\" xlink:href=\"#DejaVuSans-118\"/>\r\n     <use x=\"114.160156\" xlink:href=\"#DejaVuSans-51\"/>\r\n    </g>\r\n   </g>\r\n   <g id=\"legend_3\">\r\n    <g id=\"patch_24\">\r\n     <path d=\"M 582.750611 120.454239 \r\nL 632.530299 120.454239 \r\nQ 634.530299 120.454239 634.530299 118.454239 \r\nL 634.530299 60.741739 \r\nQ 634.530299 58.741739 632.530299 58.741739 \r\nL 582.750611 58.741739 \r\nQ 580.750611 58.741739 580.750611 60.741739 \r\nL 580.750611 118.454239 \r\nQ 580.750611 120.454239 582.750611 120.454239 \r\nz\r\n\" style=\"fill:#ffffff;opacity:0.8;stroke:#cccccc;stroke-linejoin:miter;\"/>\r\n    </g>\r\n    <g id=\"patch_25\">\r\n     <path d=\"M 584.750611 70.340177 \r\nL 604.750611 70.340177 \r\nL 604.750611 63.340177 \r\nL 584.750611 63.340177 \r\nz\r\n\" style=\"fill:#1f77b4;\"/>\r\n    </g>\r\n    <g id=\"text_24\">\r\n     <!-- cv0 -->\r\n     <g transform=\"translate(612.750611 70.340177)scale(0.1 -0.1)\">\r\n      <use xlink:href=\"#DejaVuSans-99\"/>\r\n      <use x=\"54.980469\" xlink:href=\"#DejaVuSans-118\"/>\r\n      <use x=\"114.160156\" xlink:href=\"#DejaVuSans-48\"/>\r\n     </g>\r\n    </g>\r\n    <g id=\"patch_26\">\r\n     <path d=\"M 584.750611 85.018302 \r\nL 604.750611 85.018302 \r\nL 604.750611 78.018302 \r\nL 584.750611 78.018302 \r\nz\r\n\" style=\"fill:#ff7f0e;\"/>\r\n    </g>\r\n    <g id=\"text_25\">\r\n     <!-- cv1 -->\r\n     <g transform=\"translate(612.750611 85.018302)scale(0.1 -0.1)\">\r\n      <use xlink:href=\"#DejaVuSans-99\"/>\r\n      <use x=\"54.980469\" xlink:href=\"#DejaVuSans-118\"/>\r\n      <use x=\"114.160156\" xlink:href=\"#DejaVuSans-49\"/>\r\n     </g>\r\n    </g>\r\n    <g id=\"patch_27\">\r\n     <path d=\"M 584.750611 99.696427 \r\nL 604.750611 99.696427 \r\nL 604.750611 92.696427 \r\nL 584.750611 92.696427 \r\nz\r\n\" style=\"fill:#2ca02c;\"/>\r\n    </g>\r\n    <g id=\"text_26\">\r\n     <!-- cv2 -->\r\n     <g transform=\"translate(612.750611 99.696427)scale(0.1 -0.1)\">\r\n      <use xlink:href=\"#DejaVuSans-99\"/>\r\n      <use x=\"54.980469\" xlink:href=\"#DejaVuSans-118\"/>\r\n      <use x=\"114.160156\" xlink:href=\"#DejaVuSans-50\"/>\r\n     </g>\r\n    </g>\r\n    <g id=\"patch_28\">\r\n     <path d=\"M 584.750611 114.374552 \r\nL 604.750611 114.374552 \r\nL 604.750611 107.374552 \r\nL 584.750611 107.374552 \r\nz\r\n\" style=\"fill:#d62728;\"/>\r\n    </g>\r\n    <g id=\"text_27\">\r\n     <!-- cv3 -->\r\n     <g transform=\"translate(612.750611 114.374552)scale(0.1 -0.1)\">\r\n      <use xlink:href=\"#DejaVuSans-99\"/>\r\n      <use x=\"54.980469\" xlink:href=\"#DejaVuSans-118\"/>\r\n      <use x=\"114.160156\" xlink:href=\"#DejaVuSans-51\"/>\r\n     </g>\r\n    </g>\r\n   </g>\r\n  </g>\r\n  <g id=\"axes_4\">\r\n   <g id=\"patch_29\">\r\n    <path d=\"M 839.682473 144.72 \r\nC 839.682473 133.826041 837.236593 123.069802 832.525782 113.247043 \r\nC 827.814971 103.424283 820.958336 94.783359 812.463139 87.963537 \r\nC 803.967942 81.143715 794.048975 76.317425 783.440052 73.841722 \r\nC 772.831129 71.366019 761.800486 71.303498 751.164181 73.658784 \r\nL 766.899864 144.72 \r\nL 839.682473 144.72 \r\nz\r\n\" style=\"fill:#1f77b4;\"/>\r\n   </g>\r\n   <g id=\"patch_30\">\r\n    <path d=\"M 751.164181 73.658784 \r\nC 732.426357 77.808058 716.069847 89.204777 705.687389 105.34563 \r\nC 695.304932 121.486483 691.716757 141.096318 695.711014 159.867798 \r\nL 766.899864 144.72 \r\nL 751.164181 73.658784 \r\nz\r\n\" style=\"fill:#ff7f0e;\"/>\r\n   </g>\r\n   <g id=\"patch_31\">\r\n    <path d=\"M 695.711014 159.867798 \r\nC 697.743394 169.419203 701.677408 178.464619 707.278206 186.464054 \r\nC 712.879004 194.463489 720.03287 201.254529 728.312735 206.431762 \r\nC 736.592599 211.608995 745.830353 215.067308 755.474522 216.600245 \r\nC 765.118691 218.133183 774.973468 217.709622 784.450542 215.354849 \r\nL 766.899864 144.72 \r\nL 695.711014 159.867798 \r\nz\r\n\" style=\"fill:#2ca02c;\"/>\r\n   </g>\r\n   <g id=\"patch_32\">\r\n    <path d=\"M 784.450542 215.354849 \r\nC 800.217553 211.437211 814.22778 202.35092 824.235249 189.552597 \r\nC 834.242718 176.754274 839.682474 160.966424 839.682473 144.719993 \r\nL 766.899864 144.72 \r\nL 784.450542 215.354849 \r\nz\r\n\" style=\"fill:#d62728;\"/>\r\n   </g>\r\n   <g id=\"matplotlib.axis_7\"/>\r\n   <g id=\"matplotlib.axis_8\">\r\n    <g id=\"text_28\">\r\n     <!-- knn -->\r\n     <defs>\r\n      <path d=\"M 9.078125 75.984375 \r\nL 18.109375 75.984375 \r\nL 18.109375 31.109375 \r\nL 44.921875 54.6875 \r\nL 56.390625 54.6875 \r\nL 27.390625 29.109375 \r\nL 57.625 0 \r\nL 45.90625 0 \r\nL 18.109375 26.703125 \r\nL 18.109375 0 \r\nL 9.078125 0 \r\nz\r\n\" id=\"DejaVuSans-107\"/>\r\n     </defs>\r\n     <g transform=\"translate(669.841916 153.952812)rotate(-90)scale(0.1 -0.1)\">\r\n      <use xlink:href=\"#DejaVuSans-107\"/>\r\n      <use x=\"57.910156\" xlink:href=\"#DejaVuSans-110\"/>\r\n      <use x=\"121.289062\" xlink:href=\"#DejaVuSans-110\"/>\r\n     </g>\r\n    </g>\r\n   </g>\r\n   <g id=\"text_29\">\r\n    <!-- cv0 -->\r\n    <g transform=\"translate(817.019467 85.047266)scale(0.1 -0.1)\">\r\n     <use xlink:href=\"#DejaVuSans-99\"/>\r\n     <use x=\"54.980469\" xlink:href=\"#DejaVuSans-118\"/>\r\n     <use x=\"114.160156\" xlink:href=\"#DejaVuSans-48\"/>\r\n    </g>\r\n   </g>\r\n   <g id=\"text_30\">\r\n    <!-- cv1 -->\r\n    <g transform=\"translate(681.786454 104.167568)scale(0.1 -0.1)\">\r\n     <use xlink:href=\"#DejaVuSans-99\"/>\r\n     <use x=\"54.980469\" xlink:href=\"#DejaVuSans-118\"/>\r\n     <use x=\"114.160156\" xlink:href=\"#DejaVuSans-49\"/>\r\n    </g>\r\n   </g>\r\n   <g id=\"text_31\">\r\n    <!-- cv2 -->\r\n    <g transform=\"translate(706.674334 215.362313)scale(0.1 -0.1)\">\r\n     <use xlink:href=\"#DejaVuSans-99\"/>\r\n     <use x=\"54.980469\" xlink:href=\"#DejaVuSans-118\"/>\r\n     <use x=\"114.160156\" xlink:href=\"#DejaVuSans-50\"/>\r\n    </g>\r\n   </g>\r\n   <g id=\"text_32\">\r\n    <!-- cv3 -->\r\n    <g transform=\"translate(829.968788 196.795232)scale(0.1 -0.1)\">\r\n     <use xlink:href=\"#DejaVuSans-99\"/>\r\n     <use x=\"54.980469\" xlink:href=\"#DejaVuSans-118\"/>\r\n     <use x=\"114.160156\" xlink:href=\"#DejaVuSans-51\"/>\r\n    </g>\r\n   </g>\r\n   <g id=\"legend_4\">\r\n    <g id=\"patch_33\">\r\n     <path d=\"M 801.098438 120.454239 \r\nL 850.878125 120.454239 \r\nQ 852.878125 120.454239 852.878125 118.454239 \r\nL 852.878125 60.741739 \r\nQ 852.878125 58.741739 850.878125 58.741739 \r\nL 801.098438 58.741739 \r\nQ 799.098438 58.741739 799.098438 60.741739 \r\nL 799.098438 118.454239 \r\nQ 799.098438 120.454239 801.098438 120.454239 \r\nz\r\n\" style=\"fill:#ffffff;opacity:0.8;stroke:#cccccc;stroke-linejoin:miter;\"/>\r\n    </g>\r\n    <g id=\"patch_34\">\r\n     <path d=\"M 803.098438 70.340177 \r\nL 823.098438 70.340177 \r\nL 823.098438 63.340177 \r\nL 803.098438 63.340177 \r\nz\r\n\" style=\"fill:#1f77b4;\"/>\r\n    </g>\r\n    <g id=\"text_33\">\r\n     <!-- cv0 -->\r\n     <g transform=\"translate(831.098438 70.340177)scale(0.1 -0.1)\">\r\n      <use xlink:href=\"#DejaVuSans-99\"/>\r\n      <use x=\"54.980469\" xlink:href=\"#DejaVuSans-118\"/>\r\n      <use x=\"114.160156\" xlink:href=\"#DejaVuSans-48\"/>\r\n     </g>\r\n    </g>\r\n    <g id=\"patch_35\">\r\n     <path d=\"M 803.098438 85.018302 \r\nL 823.098438 85.018302 \r\nL 823.098438 78.018302 \r\nL 803.098438 78.018302 \r\nz\r\n\" style=\"fill:#ff7f0e;\"/>\r\n    </g>\r\n    <g id=\"text_34\">\r\n     <!-- cv1 -->\r\n     <g transform=\"translate(831.098438 85.018302)scale(0.1 -0.1)\">\r\n      <use xlink:href=\"#DejaVuSans-99\"/>\r\n      <use x=\"54.980469\" xlink:href=\"#DejaVuSans-118\"/>\r\n      <use x=\"114.160156\" xlink:href=\"#DejaVuSans-49\"/>\r\n     </g>\r\n    </g>\r\n    <g id=\"patch_36\">\r\n     <path d=\"M 803.098438 99.696427 \r\nL 823.098438 99.696427 \r\nL 823.098438 92.696427 \r\nL 803.098438 92.696427 \r\nz\r\n\" style=\"fill:#2ca02c;\"/>\r\n    </g>\r\n    <g id=\"text_35\">\r\n     <!-- cv2 -->\r\n     <g transform=\"translate(831.098438 99.696427)scale(0.1 -0.1)\">\r\n      <use xlink:href=\"#DejaVuSans-99\"/>\r\n      <use x=\"54.980469\" xlink:href=\"#DejaVuSans-118\"/>\r\n      <use x=\"114.160156\" xlink:href=\"#DejaVuSans-50\"/>\r\n     </g>\r\n    </g>\r\n    <g id=\"patch_37\">\r\n     <path d=\"M 803.098438 114.374552 \r\nL 823.098438 114.374552 \r\nL 823.098438 107.374552 \r\nL 803.098438 107.374552 \r\nz\r\n\" style=\"fill:#d62728;\"/>\r\n    </g>\r\n    <g id=\"text_36\">\r\n     <!-- cv3 -->\r\n     <g transform=\"translate(831.098438 114.374552)scale(0.1 -0.1)\">\r\n      <use xlink:href=\"#DejaVuSans-99\"/>\r\n      <use x=\"54.980469\" xlink:href=\"#DejaVuSans-118\"/>\r\n      <use x=\"114.160156\" xlink:href=\"#DejaVuSans-51\"/>\r\n     </g>\r\n    </g>\r\n   </g>\r\n  </g>\r\n  <g id=\"text_37\">\r\n   <!-- cross validation -->\r\n   <g transform=\"translate(378.744375 16.318125)scale(0.12 -0.12)\">\r\n    <use xlink:href=\"#DejaVuSans-99\"/>\r\n    <use x=\"54.980469\" xlink:href=\"#DejaVuSans-114\"/>\r\n    <use x=\"96.0625\" xlink:href=\"#DejaVuSans-111\"/>\r\n    <use x=\"157.244141\" xlink:href=\"#DejaVuSans-115\"/>\r\n    <use x=\"209.34375\" xlink:href=\"#DejaVuSans-115\"/>\r\n    <use x=\"261.443359\" xlink:href=\"#DejaVuSans-32\"/>\r\n    <use x=\"293.230469\" xlink:href=\"#DejaVuSans-118\"/>\r\n    <use x=\"352.410156\" xlink:href=\"#DejaVuSans-97\"/>\r\n    <use x=\"413.689453\" xlink:href=\"#DejaVuSans-108\"/>\r\n    <use x=\"441.472656\" xlink:href=\"#DejaVuSans-105\"/>\r\n    <use x=\"469.255859\" xlink:href=\"#DejaVuSans-100\"/>\r\n    <use x=\"532.732422\" xlink:href=\"#DejaVuSans-97\"/>\r\n    <use x=\"594.011719\" xlink:href=\"#DejaVuSans-116\"/>\r\n    <use x=\"633.220703\" xlink:href=\"#DejaVuSans-105\"/>\r\n    <use x=\"661.003906\" xlink:href=\"#DejaVuSans-111\"/>\r\n    <use x=\"722.185547\" xlink:href=\"#DejaVuSans-110\"/>\r\n   </g>\r\n  </g>\r\n </g>\r\n</svg>\r\n",
      "image/png": "[encoded data removed]"
     },
     "metadata": {}
    }
   ],
   "source": [
    "cross_val_df.T.plot(kind='pie',subplots=True,figsize=(15,4),title='cross validation')\n",
    "plt.show()"
   ]
  },
  {
   "cell_type": "code",
   "execution_count": 17,
   "metadata": {},
   "outputs": [],
   "source": [
    "from sklearn.model_selection import GridSearchCV"
   ]
  },
  {
   "cell_type": "code",
   "execution_count": 18,
   "metadata": {},
   "outputs": [
    {
     "output_type": "stream",
     "name": "stdout",
     "text": [
      "mean score => 72.65, cross val => [82.73315368 72.27136026 74.2208122  61.38933171]\n"
     ]
    }
   ],
   "source": [
    "scores = cross_val_score(m3,x,y,cv=4)\n",
    "print(f'mean score => {scores.mean() *100:.2f}, cross val => {scores * 100}')"
   ]
  },
  {
   "cell_type": "code",
   "execution_count": 32,
   "metadata": {},
   "outputs": [],
   "source": [
    "params = {\n",
    "    'n_neighbors':[3,5,7,8],\n",
    "    'algorithm' : ['ball_tree', 'kd_tree', 'brute'],\n",
    "    'p':[2,3,4,5]\n",
    "}\n",
    "model = KNeighborsRegressor()\n",
    "grid = GridSearchCV(model, param_grid=params, n_jobs=-1)"
   ]
  },
  {
   "cell_type": "code",
   "execution_count": 33,
   "metadata": {},
   "outputs": [
    {
     "output_type": "execute_result",
     "data": {
      "text/plain": [
       "GridSearchCV(cv='warn', error_score='raise-deprecating',\n",
       "             estimator=KNeighborsRegressor(algorithm='auto', leaf_size=30,\n",
       "                                           metric='minkowski',\n",
       "                                           metric_params=None, n_jobs=None,\n",
       "                                           n_neighbors=5, p=2,\n",
       "                                           weights='uniform'),\n",
       "             iid='warn', n_jobs=-1,\n",
       "             param_grid={'algorithm': ['ball_tree', 'kd_tree', 'brute'],\n",
       "                         'n_neighbors': [3, 5, 7, 8], 'p': [2, 3, 4, 5]},\n",
       "             pre_dispatch='2*n_jobs', refit=True, return_train_score=False,\n",
       "             scoring=None, verbose=0)"
      ]
     },
     "metadata": {},
     "execution_count": 33
    }
   ],
   "source": [
    "grid"
   ]
  },
  {
   "cell_type": "code",
   "execution_count": 34,
   "metadata": {},
   "outputs": [
    {
     "output_type": "execute_result",
     "data": {
      "text/plain": [
       "GridSearchCV(cv='warn', error_score='raise-deprecating',\n",
       "             estimator=KNeighborsRegressor(algorithm='auto', leaf_size=30,\n",
       "                                           metric='minkowski',\n",
       "                                           metric_params=None, n_jobs=None,\n",
       "                                           n_neighbors=5, p=2,\n",
       "                                           weights='uniform'),\n",
       "             iid='warn', n_jobs=-1,\n",
       "             param_grid={'algorithm': ['ball_tree', 'kd_tree', 'brute'],\n",
       "                         'n_neighbors': [3, 5, 7, 8], 'p': [2, 3, 4, 5]},\n",
       "             pre_dispatch='2*n_jobs', refit=True, return_train_score=False,\n",
       "             scoring=None, verbose=0)"
      ]
     },
     "metadata": {},
     "execution_count": 34
    }
   ],
   "source": [
    "grid.fit(x,y)"
   ]
  },
  {
   "cell_type": "code",
   "execution_count": 35,
   "metadata": {},
   "outputs": [
    {
     "output_type": "execute_result",
     "data": {
      "text/plain": [
       "dict_keys(['mean_fit_time', 'std_fit_time', 'mean_score_time', 'std_score_time', 'param_algorithm', 'param_n_neighbors', 'param_p', 'params', 'split0_test_score', 'split1_test_score', 'split2_test_score', 'mean_test_score', 'std_test_score', 'rank_test_score'])"
      ]
     },
     "metadata": {},
     "execution_count": 35
    }
   ],
   "source": [
    "\n",
    "grid.cv_results_.keys()"
   ]
  },
  {
   "cell_type": "code",
   "execution_count": 37,
   "metadata": {},
   "outputs": [
    {
     "output_type": "execute_result",
     "data": {
      "text/plain": [
       "array([41, 41, 41, 41, 33, 34, 34, 34, 17, 17, 17, 17,  1,  1,  1,  1, 37,\n",
       "       37, 37, 37, 29, 30, 30, 30, 13, 13, 13, 13,  5,  5,  5,  5, 45, 45,\n",
       "       45, 45, 25, 26, 26, 26, 21, 21, 21, 21,  9,  9,  9,  9])"
      ]
     },
     "metadata": {},
     "execution_count": 37
    }
   ],
   "source": [
    "grid.cv_results_.get('rank_test_score')"
   ]
  },
  {
   "cell_type": "code",
   "execution_count": 38,
   "metadata": {},
   "outputs": [
    {
     "output_type": "execute_result",
     "data": {
      "text/plain": [
       "   mean_fit_time  std_fit_time  mean_score_time  std_score_time  \\\n",
       "0       0.320142      0.191187         0.011969        0.002821   \n",
       "1       0.410897      0.058646         0.315824        0.032699   \n",
       "2       0.062167      0.069886         0.269945        0.041406   \n",
       "3       0.003656      0.000470         0.140291        0.093563   \n",
       "4       0.003327      0.000471         0.004654        0.000473   \n",
       "5       0.004652      0.000472         0.011304        0.001243   \n",
       "6       0.004653      0.001694         0.010306        0.000471   \n",
       "7       0.003990      0.000002         0.012302        0.003390   \n",
       "8       0.003325      0.000470         0.005657        0.000462   \n",
       "9       0.004322      0.001243         0.010638        0.002488   \n",
       "\n",
       "  param_algorithm param_n_neighbors param_p  \\\n",
       "0       ball_tree                 3       2   \n",
       "1       ball_tree                 3       3   \n",
       "2       ball_tree                 3       4   \n",
       "3       ball_tree                 3       5   \n",
       "4       ball_tree                 5       2   \n",
       "5       ball_tree                 5       3   \n",
       "6       ball_tree                 5       4   \n",
       "7       ball_tree                 5       5   \n",
       "8       ball_tree                 7       2   \n",
       "9       ball_tree                 7       3   \n",
       "\n",
       "                                              params  split0_test_score  \\\n",
       "0  {'algorithm': 'ball_tree', 'n_neighbors': 3, '...           0.710816   \n",
       "1  {'algorithm': 'ball_tree', 'n_neighbors': 3, '...           0.710816   \n",
       "2  {'algorithm': 'ball_tree', 'n_neighbors': 3, '...           0.710816   \n",
       "3  {'algorithm': 'ball_tree', 'n_neighbors': 3, '...           0.710816   \n",
       "4  {'algorithm': 'ball_tree', 'n_neighbors': 5, '...           0.780354   \n",
       "5  {'algorithm': 'ball_tree', 'n_neighbors': 5, '...           0.780354   \n",
       "6  {'algorithm': 'ball_tree', 'n_neighbors': 5, '...           0.780354   \n",
       "7  {'algorithm': 'ball_tree', 'n_neighbors': 5, '...           0.780354   \n",
       "8  {'algorithm': 'ball_tree', 'n_neighbors': 7, '...           0.781584   \n",
       "9  {'algorithm': 'ball_tree', 'n_neighbors': 7, '...           0.781584   \n",
       "\n",
       "   split1_test_score  split2_test_score  mean_test_score  std_test_score  \\\n",
       "0           0.754191           0.572750         0.679291        0.077323   \n",
       "1           0.754191           0.572750         0.679291        0.077323   \n",
       "2           0.754191           0.572750         0.679291        0.077323   \n",
       "3           0.754191           0.572750         0.679291        0.077323   \n",
       "4           0.758434           0.613246         0.717422        0.074138   \n",
       "5           0.758434           0.613245         0.717422        0.074139   \n",
       "6           0.758434           0.613245         0.717422        0.074139   \n",
       "7           0.758434           0.613245         0.717422        0.074139   \n",
       "8           0.759565           0.617008         0.719462        0.072936   \n",
       "9           0.759565           0.617008         0.719462        0.072936   \n",
       "\n",
       "   rank_test_score  \n",
       "0               41  \n",
       "1               41  \n",
       "2               41  \n",
       "3               41  \n",
       "4               33  \n",
       "5               34  \n",
       "6               34  \n",
       "7               34  \n",
       "8               17  \n",
       "9               17  "
      ],
      "text/html": "<div>\n<style scoped>\n    .dataframe tbody tr th:only-of-type {\n        vertical-align: middle;\n    }\n\n    .dataframe tbody tr th {\n        vertical-align: top;\n    }\n\n    .dataframe thead th {\n        text-align: right;\n    }\n</style>\n<table border=\"1\" class=\"dataframe\">\n  <thead>\n    <tr style=\"text-align: right;\">\n      <th></th>\n      <th>mean_fit_time</th>\n      <th>std_fit_time</th>\n      <th>mean_score_time</th>\n      <th>std_score_time</th>\n      <th>param_algorithm</th>\n      <th>param_n_neighbors</th>\n      <th>param_p</th>\n      <th>params</th>\n      <th>split0_test_score</th>\n      <th>split1_test_score</th>\n      <th>split2_test_score</th>\n      <th>mean_test_score</th>\n      <th>std_test_score</th>\n      <th>rank_test_score</th>\n    </tr>\n  </thead>\n  <tbody>\n    <tr>\n      <th>0</th>\n      <td>0.320142</td>\n      <td>0.191187</td>\n      <td>0.011969</td>\n      <td>0.002821</td>\n      <td>ball_tree</td>\n      <td>3</td>\n      <td>2</td>\n      <td>{'algorithm': 'ball_tree', 'n_neighbors': 3, '...</td>\n      <td>0.710816</td>\n      <td>0.754191</td>\n      <td>0.572750</td>\n      <td>0.679291</td>\n      <td>0.077323</td>\n      <td>41</td>\n    </tr>\n    <tr>\n      <th>1</th>\n      <td>0.410897</td>\n      <td>0.058646</td>\n      <td>0.315824</td>\n      <td>0.032699</td>\n      <td>ball_tree</td>\n      <td>3</td>\n      <td>3</td>\n      <td>{'algorithm': 'ball_tree', 'n_neighbors': 3, '...</td>\n      <td>0.710816</td>\n      <td>0.754191</td>\n      <td>0.572750</td>\n      <td>0.679291</td>\n      <td>0.077323</td>\n      <td>41</td>\n    </tr>\n    <tr>\n      <th>2</th>\n      <td>0.062167</td>\n      <td>0.069886</td>\n      <td>0.269945</td>\n      <td>0.041406</td>\n      <td>ball_tree</td>\n      <td>3</td>\n      <td>4</td>\n      <td>{'algorithm': 'ball_tree', 'n_neighbors': 3, '...</td>\n      <td>0.710816</td>\n      <td>0.754191</td>\n      <td>0.572750</td>\n      <td>0.679291</td>\n      <td>0.077323</td>\n      <td>41</td>\n    </tr>\n    <tr>\n      <th>3</th>\n      <td>0.003656</td>\n      <td>0.000470</td>\n      <td>0.140291</td>\n      <td>0.093563</td>\n      <td>ball_tree</td>\n      <td>3</td>\n      <td>5</td>\n      <td>{'algorithm': 'ball_tree', 'n_neighbors': 3, '...</td>\n      <td>0.710816</td>\n      <td>0.754191</td>\n      <td>0.572750</td>\n      <td>0.679291</td>\n      <td>0.077323</td>\n      <td>41</td>\n    </tr>\n    <tr>\n      <th>4</th>\n      <td>0.003327</td>\n      <td>0.000471</td>\n      <td>0.004654</td>\n      <td>0.000473</td>\n      <td>ball_tree</td>\n      <td>5</td>\n      <td>2</td>\n      <td>{'algorithm': 'ball_tree', 'n_neighbors': 5, '...</td>\n      <td>0.780354</td>\n      <td>0.758434</td>\n      <td>0.613246</td>\n      <td>0.717422</td>\n      <td>0.074138</td>\n      <td>33</td>\n    </tr>\n    <tr>\n      <th>5</th>\n      <td>0.004652</td>\n      <td>0.000472</td>\n      <td>0.011304</td>\n      <td>0.001243</td>\n      <td>ball_tree</td>\n      <td>5</td>\n      <td>3</td>\n      <td>{'algorithm': 'ball_tree', 'n_neighbors': 5, '...</td>\n      <td>0.780354</td>\n      <td>0.758434</td>\n      <td>0.613245</td>\n      <td>0.717422</td>\n      <td>0.074139</td>\n      <td>34</td>\n    </tr>\n    <tr>\n      <th>6</th>\n      <td>0.004653</td>\n      <td>0.001694</td>\n      <td>0.010306</td>\n      <td>0.000471</td>\n      <td>ball_tree</td>\n      <td>5</td>\n      <td>4</td>\n      <td>{'algorithm': 'ball_tree', 'n_neighbors': 5, '...</td>\n      <td>0.780354</td>\n      <td>0.758434</td>\n      <td>0.613245</td>\n      <td>0.717422</td>\n      <td>0.074139</td>\n      <td>34</td>\n    </tr>\n    <tr>\n      <th>7</th>\n      <td>0.003990</td>\n      <td>0.000002</td>\n      <td>0.012302</td>\n      <td>0.003390</td>\n      <td>ball_tree</td>\n      <td>5</td>\n      <td>5</td>\n      <td>{'algorithm': 'ball_tree', 'n_neighbors': 5, '...</td>\n      <td>0.780354</td>\n      <td>0.758434</td>\n      <td>0.613245</td>\n      <td>0.717422</td>\n      <td>0.074139</td>\n      <td>34</td>\n    </tr>\n    <tr>\n      <th>8</th>\n      <td>0.003325</td>\n      <td>0.000470</td>\n      <td>0.005657</td>\n      <td>0.000462</td>\n      <td>ball_tree</td>\n      <td>7</td>\n      <td>2</td>\n      <td>{'algorithm': 'ball_tree', 'n_neighbors': 7, '...</td>\n      <td>0.781584</td>\n      <td>0.759565</td>\n      <td>0.617008</td>\n      <td>0.719462</td>\n      <td>0.072936</td>\n      <td>17</td>\n    </tr>\n    <tr>\n      <th>9</th>\n      <td>0.004322</td>\n      <td>0.001243</td>\n      <td>0.010638</td>\n      <td>0.002488</td>\n      <td>ball_tree</td>\n      <td>7</td>\n      <td>3</td>\n      <td>{'algorithm': 'ball_tree', 'n_neighbors': 7, '...</td>\n      <td>0.781584</td>\n      <td>0.759565</td>\n      <td>0.617008</td>\n      <td>0.719462</td>\n      <td>0.072936</td>\n      <td>17</td>\n    </tr>\n  </tbody>\n</table>\n</div>"
     },
     "metadata": {},
     "execution_count": 38
    }
   ],
   "source": [
    "grid_scores_df = pd.DataFrame(grid.cv_results_)\n",
    "grid_scores_df.head(10)"
   ]
  },
  {
   "cell_type": "code",
   "execution_count": null,
   "metadata": {},
   "outputs": [],
   "source": []
  }
 ]
}