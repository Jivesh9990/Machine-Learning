{
 "metadata": {
  "language_info": {
   "codemirror_mode": {
    "name": "ipython",
    "version": 3
   },
   "file_extension": ".py",
   "mimetype": "text/x-python",
   "name": "python",
   "nbconvert_exporter": "python",
   "pygments_lexer": "ipython3",
   "version": "3.7.4-final"
  },
  "orig_nbformat": 2,
  "kernelspec": {
   "name": "python3",
   "display_name": "Python 3.7.4 64-bit (conda)",
   "metadata": {
    "interpreter": {
     "hash": "b3ba2566441a7c06988d0923437866b63cedc61552a5af99d1f4fb67d367b25f"
    }
   }
  }
 },
 "nbformat": 4,
 "nbformat_minor": 2,
 "cells": [
  {
   "cell_type": "code",
   "execution_count": 1,
   "metadata": {},
   "outputs": [],
   "source": [
    "import pandas as pd\n",
    "import numpy as np\n",
    "import matplotlib.pyplot as plt\n",
    "import seaborn as sns\n",
    "import plotly.express as px"
   ]
  },
  {
   "cell_type": "code",
   "execution_count": 25,
   "metadata": {},
   "outputs": [
    {
     "output_type": "stream",
     "name": "stdout",
     "text": [
      "<class 'pandas.core.frame.DataFrame'>\nRangeIndex: 1693 entries, 0 to 1692\nData columns (total 23 columns):\n #   Column                Non-Null Count  Dtype  \n---  ------                --------------  -----  \n 0   id                    1693 non-null   int64  \n 1   date                  1690 non-null   object \n 2   time                  629 non-null    object \n 3   continent_code        164 non-null    object \n 4   country_name          1693 non-null   object \n 5   country_code          1693 non-null   object \n 6   state/province        1692 non-null   object \n 7   population            1693 non-null   int64  \n 8   city/town             1689 non-null   object \n 9   distance              1692 non-null   float64\n 10  location_description  551 non-null    object \n 11  latitude              1692 non-null   float64\n 12  longitude             1692 non-null   float64\n 13  geolocation           1692 non-null   object \n 14  hazard_type           1693 non-null   object \n 15  landslide_type        1692 non-null   object \n 16  landslide_size        1692 non-null   object \n 17  trigger               1691 non-null   object \n 18  storm_name            132 non-null    object \n 19  injuries              515 non-null    float64\n 20  fatalities            1446 non-null   float64\n 21  source_name           872 non-null    object \n 22  source_link           1593 non-null   object \ndtypes: float64(5), int64(2), object(16)\nmemory usage: 304.3+ KB\n"
     ]
    },
    {
     "output_type": "execute_result",
     "data": {
      "text/plain": [
       "    id     date   time continent_code   country_name country_code  \\\n",
       "0   34   3/2/07  Night            NaN  United States           US   \n",
       "1   42  3/22/07    NaN            NaN  United States           US   \n",
       "2   56   4/6/07    NaN            NaN  United States           US   \n",
       "3   59  4/14/07    NaN            NaN         Canada           CA   \n",
       "4   61  4/15/07    NaN            NaN  United States           US   \n",
       "5   64  4/20/07    NaN            NaN  United States           US   \n",
       "6   67  4/24/07    NaN            NaN  United States           US   \n",
       "7   77  5/21/07    NaN             SA       Colombia           CO   \n",
       "8  105  6/27/07    NaN             SA        Ecuador           EC   \n",
       "9  106  6/27/07    NaN             SA        Ecuador           EC   \n",
       "\n",
       "     state/province  population         city/town  distance  ...  \\\n",
       "0          Virginia       16000       Cherry Hill   3.40765  ...   \n",
       "1              Ohio       17288  New Philadelphia   3.33522  ...   \n",
       "2      Pennsylvania       15930       Wilkinsburg   2.91977  ...   \n",
       "3            Quebec       42786       Châteauguay   2.98682  ...   \n",
       "4          Kentucky        6903         Pikeville   5.66542  ...   \n",
       "5          Kentucky        6903         Pikeville   0.23715  ...   \n",
       "6      South Dakota        2540      Dakota Dunes   2.48033  ...   \n",
       "7         Risaralda      440118           Pereira   0.62022  ...   \n",
       "8  Zamora-Chinchipe       15276            Zamora   0.47714  ...   \n",
       "9              Loja      117796              Loja   0.35649  ...   \n",
       "\n",
       "                                  geolocation  hazard_type  \\\n",
       "0   (38.600900000000003, -77.268199999999993)    Landslide   \n",
       "1   (40.517499999999998, -81.430499999999995)    Landslide   \n",
       "2              (40.4377, -79.915999999999997)    Landslide   \n",
       "3   (45.322600000000001, -73.777100000000004)    Landslide   \n",
       "4   (37.432499999999997, -82.493099999999998)    Landslide   \n",
       "5   (37.481400000000001, -82.518600000000006)    Landslide   \n",
       "6   (42.494100000000003, -96.457599999999999)    Landslide   \n",
       "7   (4.8080999999999996, -75.694100000000006)    Landslide   \n",
       "8  (-4.0650000000000004, -78.950999999999993)    Landslide   \n",
       "9                (-3.99, -79.204999999999998)    Landslide   \n",
       "\n",
       "       landslide_type landslide_size   trigger storm_name injuries fatalities  \\\n",
       "0           Landslide          Small      Rain        NaN      NaN        NaN   \n",
       "1           Landslide          Small      Rain        NaN      NaN        NaN   \n",
       "2           Landslide          Small      Rain        NaN      NaN        NaN   \n",
       "3  Riverbank collapse          Small      Rain        NaN      NaN        NaN   \n",
       "4           Landslide          Small  Downpour        NaN      NaN        0.0   \n",
       "5           Landslide          Small      Rain        NaN      NaN        NaN   \n",
       "6           Landslide          Small      Rain        NaN      NaN        NaN   \n",
       "7            Mudslide          Large      Rain        NaN      NaN       13.0   \n",
       "8           Landslide         Medium  Downpour        NaN      NaN        NaN   \n",
       "9           Landslide         Medium  Downpour        NaN      NaN        NaN   \n",
       "\n",
       "                  source_name  \\\n",
       "0                  NBC 4 news   \n",
       "1              Canton Rep.com   \n",
       "2  The Pittsburgh Channel.com   \n",
       "3                   Le Soleil   \n",
       "4      Matthew Crawford (KGS)   \n",
       "5   Applalachain news-express   \n",
       "6         Sioux City Journnal   \n",
       "7      Reuters - AlertNet.org   \n",
       "8   Red Cross - Field reports   \n",
       "9   Red Cross - Field reports   \n",
       "\n",
       "                                         source_link  \n",
       "0      http://www.nbc4.com/news/11186871/detail.html  \n",
       "1  http://www.cantonrep.com/index.php?ID=345054&C...  \n",
       "2  https://web.archive.org/web/20080423132842/htt...  \n",
       "3  http://www.hebdos.net/lsc/edition162007/articl...  \n",
       "4                                                NaN  \n",
       "5  http://www.news-expressky.com/articles/2007/04...  \n",
       "6  http://www.siouxcityjournal.com/articles/2007/...  \n",
       "7  http://www.reuters.com/news/video/videoStory?v...  \n",
       "8  https://www-secure.ifrc.org/dmis/prepare/view_...  \n",
       "9  https://www-secure.ifrc.org/dmis/prepare/view_...  \n",
       "\n",
       "[10 rows x 23 columns]"
      ],
      "text/html": "<div>\n<style scoped>\n    .dataframe tbody tr th:only-of-type {\n        vertical-align: middle;\n    }\n\n    .dataframe tbody tr th {\n        vertical-align: top;\n    }\n\n    .dataframe thead th {\n        text-align: right;\n    }\n</style>\n<table border=\"1\" class=\"dataframe\">\n  <thead>\n    <tr style=\"text-align: right;\">\n      <th></th>\n      <th>id</th>\n      <th>date</th>\n      <th>time</th>\n      <th>continent_code</th>\n      <th>country_name</th>\n      <th>country_code</th>\n      <th>state/province</th>\n      <th>population</th>\n      <th>city/town</th>\n      <th>distance</th>\n      <th>...</th>\n      <th>geolocation</th>\n      <th>hazard_type</th>\n      <th>landslide_type</th>\n      <th>landslide_size</th>\n      <th>trigger</th>\n      <th>storm_name</th>\n      <th>injuries</th>\n      <th>fatalities</th>\n      <th>source_name</th>\n      <th>source_link</th>\n    </tr>\n  </thead>\n  <tbody>\n    <tr>\n      <th>0</th>\n      <td>34</td>\n      <td>3/2/07</td>\n      <td>Night</td>\n      <td>NaN</td>\n      <td>United States</td>\n      <td>US</td>\n      <td>Virginia</td>\n      <td>16000</td>\n      <td>Cherry Hill</td>\n      <td>3.40765</td>\n      <td>...</td>\n      <td>(38.600900000000003, -77.268199999999993)</td>\n      <td>Landslide</td>\n      <td>Landslide</td>\n      <td>Small</td>\n      <td>Rain</td>\n      <td>NaN</td>\n      <td>NaN</td>\n      <td>NaN</td>\n      <td>NBC 4 news</td>\n      <td>http://www.nbc4.com/news/11186871/detail.html</td>\n    </tr>\n    <tr>\n      <th>1</th>\n      <td>42</td>\n      <td>3/22/07</td>\n      <td>NaN</td>\n      <td>NaN</td>\n      <td>United States</td>\n      <td>US</td>\n      <td>Ohio</td>\n      <td>17288</td>\n      <td>New Philadelphia</td>\n      <td>3.33522</td>\n      <td>...</td>\n      <td>(40.517499999999998, -81.430499999999995)</td>\n      <td>Landslide</td>\n      <td>Landslide</td>\n      <td>Small</td>\n      <td>Rain</td>\n      <td>NaN</td>\n      <td>NaN</td>\n      <td>NaN</td>\n      <td>Canton Rep.com</td>\n      <td>http://www.cantonrep.com/index.php?ID=345054&amp;C...</td>\n    </tr>\n    <tr>\n      <th>2</th>\n      <td>56</td>\n      <td>4/6/07</td>\n      <td>NaN</td>\n      <td>NaN</td>\n      <td>United States</td>\n      <td>US</td>\n      <td>Pennsylvania</td>\n      <td>15930</td>\n      <td>Wilkinsburg</td>\n      <td>2.91977</td>\n      <td>...</td>\n      <td>(40.4377, -79.915999999999997)</td>\n      <td>Landslide</td>\n      <td>Landslide</td>\n      <td>Small</td>\n      <td>Rain</td>\n      <td>NaN</td>\n      <td>NaN</td>\n      <td>NaN</td>\n      <td>The Pittsburgh Channel.com</td>\n      <td>https://web.archive.org/web/20080423132842/htt...</td>\n    </tr>\n    <tr>\n      <th>3</th>\n      <td>59</td>\n      <td>4/14/07</td>\n      <td>NaN</td>\n      <td>NaN</td>\n      <td>Canada</td>\n      <td>CA</td>\n      <td>Quebec</td>\n      <td>42786</td>\n      <td>Châteauguay</td>\n      <td>2.98682</td>\n      <td>...</td>\n      <td>(45.322600000000001, -73.777100000000004)</td>\n      <td>Landslide</td>\n      <td>Riverbank collapse</td>\n      <td>Small</td>\n      <td>Rain</td>\n      <td>NaN</td>\n      <td>NaN</td>\n      <td>NaN</td>\n      <td>Le Soleil</td>\n      <td>http://www.hebdos.net/lsc/edition162007/articl...</td>\n    </tr>\n    <tr>\n      <th>4</th>\n      <td>61</td>\n      <td>4/15/07</td>\n      <td>NaN</td>\n      <td>NaN</td>\n      <td>United States</td>\n      <td>US</td>\n      <td>Kentucky</td>\n      <td>6903</td>\n      <td>Pikeville</td>\n      <td>5.66542</td>\n      <td>...</td>\n      <td>(37.432499999999997, -82.493099999999998)</td>\n      <td>Landslide</td>\n      <td>Landslide</td>\n      <td>Small</td>\n      <td>Downpour</td>\n      <td>NaN</td>\n      <td>NaN</td>\n      <td>0.0</td>\n      <td>Matthew Crawford (KGS)</td>\n      <td>NaN</td>\n    </tr>\n    <tr>\n      <th>5</th>\n      <td>64</td>\n      <td>4/20/07</td>\n      <td>NaN</td>\n      <td>NaN</td>\n      <td>United States</td>\n      <td>US</td>\n      <td>Kentucky</td>\n      <td>6903</td>\n      <td>Pikeville</td>\n      <td>0.23715</td>\n      <td>...</td>\n      <td>(37.481400000000001, -82.518600000000006)</td>\n      <td>Landslide</td>\n      <td>Landslide</td>\n      <td>Small</td>\n      <td>Rain</td>\n      <td>NaN</td>\n      <td>NaN</td>\n      <td>NaN</td>\n      <td>Applalachain news-express</td>\n      <td>http://www.news-expressky.com/articles/2007/04...</td>\n    </tr>\n    <tr>\n      <th>6</th>\n      <td>67</td>\n      <td>4/24/07</td>\n      <td>NaN</td>\n      <td>NaN</td>\n      <td>United States</td>\n      <td>US</td>\n      <td>South Dakota</td>\n      <td>2540</td>\n      <td>Dakota Dunes</td>\n      <td>2.48033</td>\n      <td>...</td>\n      <td>(42.494100000000003, -96.457599999999999)</td>\n      <td>Landslide</td>\n      <td>Landslide</td>\n      <td>Small</td>\n      <td>Rain</td>\n      <td>NaN</td>\n      <td>NaN</td>\n      <td>NaN</td>\n      <td>Sioux City Journnal</td>\n      <td>http://www.siouxcityjournal.com/articles/2007/...</td>\n    </tr>\n    <tr>\n      <th>7</th>\n      <td>77</td>\n      <td>5/21/07</td>\n      <td>NaN</td>\n      <td>SA</td>\n      <td>Colombia</td>\n      <td>CO</td>\n      <td>Risaralda</td>\n      <td>440118</td>\n      <td>Pereira</td>\n      <td>0.62022</td>\n      <td>...</td>\n      <td>(4.8080999999999996, -75.694100000000006)</td>\n      <td>Landslide</td>\n      <td>Mudslide</td>\n      <td>Large</td>\n      <td>Rain</td>\n      <td>NaN</td>\n      <td>NaN</td>\n      <td>13.0</td>\n      <td>Reuters - AlertNet.org</td>\n      <td>http://www.reuters.com/news/video/videoStory?v...</td>\n    </tr>\n    <tr>\n      <th>8</th>\n      <td>105</td>\n      <td>6/27/07</td>\n      <td>NaN</td>\n      <td>SA</td>\n      <td>Ecuador</td>\n      <td>EC</td>\n      <td>Zamora-Chinchipe</td>\n      <td>15276</td>\n      <td>Zamora</td>\n      <td>0.47714</td>\n      <td>...</td>\n      <td>(-4.0650000000000004, -78.950999999999993)</td>\n      <td>Landslide</td>\n      <td>Landslide</td>\n      <td>Medium</td>\n      <td>Downpour</td>\n      <td>NaN</td>\n      <td>NaN</td>\n      <td>NaN</td>\n      <td>Red Cross - Field reports</td>\n      <td>https://www-secure.ifrc.org/dmis/prepare/view_...</td>\n    </tr>\n    <tr>\n      <th>9</th>\n      <td>106</td>\n      <td>6/27/07</td>\n      <td>NaN</td>\n      <td>SA</td>\n      <td>Ecuador</td>\n      <td>EC</td>\n      <td>Loja</td>\n      <td>117796</td>\n      <td>Loja</td>\n      <td>0.35649</td>\n      <td>...</td>\n      <td>(-3.99, -79.204999999999998)</td>\n      <td>Landslide</td>\n      <td>Landslide</td>\n      <td>Medium</td>\n      <td>Downpour</td>\n      <td>NaN</td>\n      <td>NaN</td>\n      <td>NaN</td>\n      <td>Red Cross - Field reports</td>\n      <td>https://www-secure.ifrc.org/dmis/prepare/view_...</td>\n    </tr>\n  </tbody>\n</table>\n<p>10 rows × 23 columns</p>\n</div>"
     },
     "metadata": {},
     "execution_count": 25
    }
   ],
   "source": [
    "df=pd.read_csv(\"../datasets/catalog.csv\")\n",
    "df.info()\n",
    "df.head(10)"
   ]
  },
  {
   "cell_type": "code",
   "execution_count": 26,
   "metadata": {},
   "outputs": [
    {
     "output_type": "execute_result",
     "data": {
      "text/plain": [
       "(1693, 23)"
      ]
     },
     "metadata": {},
     "execution_count": 26
    }
   ],
   "source": [
    "df.shape"
   ]
  },
  {
   "cell_type": "code",
   "execution_count": 27,
   "metadata": {},
   "outputs": [
    {
     "output_type": "execute_result",
     "data": {
      "text/plain": [
       "Landslide             866\n",
       "Mudslide              635\n",
       "Rockfall               70\n",
       "Complex                48\n",
       "Debris flow            38\n",
       "Other                  14\n",
       "Riverbank collapse      5\n",
       "Creep                   5\n",
       "mudslide                4\n",
       "Lahar                   2\n",
       "Snow avalanche          2\n",
       "landslide               1\n",
       "Unknown                 1\n",
       "Rockslide               1\n",
       "Name: landslide_type, dtype: int64"
      ]
     },
     "metadata": {},
     "execution_count": 27
    }
   ],
   "source": [
    "df['landslide_type'].value_counts()"
   ]
  },
  {
   "cell_type": "code",
   "execution_count": 28,
   "metadata": {},
   "outputs": [
    {
     "output_type": "execute_result",
     "data": {
      "text/plain": [
       "        id      date     time continent_code   country_name country_code  \\\n",
       "655   3391   4/21/11      NaN            NaN  United States           US   \n",
       "1385  6698   9/19/14      NaN            NaN     Costa Rica           CR   \n",
       "1108  5440    9/2/13    Night            NaN  United States           US   \n",
       "920   4637  11/28/12      NaN             SA       Colombia           CO   \n",
       "594   3175    3/6/11      NaN            NaN  United States           US   \n",
       "257   1472    2/5/10      NaN            NaN         Mexico           MX   \n",
       "487   2658  10/30/10      NaN            NaN    Saint Lucia           LC   \n",
       "1410  6809    3/2/15  Morning            NaN  United States           US   \n",
       "299   1746   4/12/10      NaN            NaN       Dominica           DM   \n",
       "1561  7348   7/19/15      NaN            NaN  United States           US   \n",
       "\n",
       "          state/province  population             city/town  distance  ...  \\\n",
       "655             Kentucky        3035                Wilder   1.24385  ...   \n",
       "1385            San José       34877            San Isidro  10.73752  ...   \n",
       "1108               Idaho        7960                Hailey   2.19542  ...   \n",
       "920   Norte de Santander        2080           San Calixto  11.19714  ...   \n",
       "594       North Carolina        1241          Blowing Rock  13.11943  ...   \n",
       "257            Michoacán        4943  Mineral de Angangueo   1.69508  ...   \n",
       "487              Laborie        1131               Laborie   2.74715  ...   \n",
       "1410            Kentucky        1706      Coal Run Village  16.40897  ...   \n",
       "299        Saint Patrick        2608               Berekua   5.61495  ...   \n",
       "1561          California      193365         Moreno Valley   5.33395  ...   \n",
       "\n",
       "                                    geolocation  hazard_type  landslide_type  \\\n",
       "655                         (39.0456, -84.4833)    Landslide       Landslide   \n",
       "1385  (9.4359000000000002, -83.630300000000005)    Landslide       Landslide   \n",
       "1108  (43.509700000000002, -114.33880000000001)    Landslide        Mudslide   \n",
       "920   (8.4682999999999993, -73.284300000000002)    Landslide       Landslide   \n",
       "594   (36.037799999999997, -81.594899999999996)    Landslide        Mudslide   \n",
       "257                (19.616700000000002, -100.3)    Landslide        Mudslide   \n",
       "487              (13.7705, -60.969000000000001)    Landslide       Landslide   \n",
       "1410  (37.423299999999998, -82.705799999999996)    Landslide        Mudslide   \n",
       "299              (15.255599999999999, -61.2697)    Landslide       Landslide   \n",
       "1561            (33.980499999999999, -117.2564)    Landslide     Debris flow   \n",
       "\n",
       "     landslide_size            trigger       storm_name injuries fatalities  \\\n",
       "655          Medium           Downpour              NaN      NaN        0.0   \n",
       "1385         Medium               Rain              NaN      0.0        0.0   \n",
       "1108          Small           Downpour              NaN      NaN        0.0   \n",
       "920           Large               Rain              NaN      NaN        NaN   \n",
       "594          Medium           Downpour              NaN      NaN        0.0   \n",
       "257          Medium           Downpour              NaN      NaN        3.0   \n",
       "487          Medium   Tropical cyclone  Hurricane Tomas      NaN        0.0   \n",
       "1410          Small  Snowfall snowmelt              NaN      0.0        0.0   \n",
       "299           Small           Downpour              NaN      NaN        0.0   \n",
       "1561         Medium           Downpour              NaN      0.0        0.0   \n",
       "\n",
       "       source_name                                        source_link  \n",
       "655            NaN  http://www.kypost.com/dpp/news/local_news/high...  \n",
       "1385      Canal 14  http://www.tvsur.co.cr/noticias/general/desliz...  \n",
       "1108  www.kmvt.com  http://www.kmvt.com/news/local/Wood-River-Anim...  \n",
       "920            NaN  http://latino.foxnews.com/latino/news/2012/11/...  \n",
       "594            NaN  http://www2.hickoryrecord.com/news/2011/mar/10...  \n",
       "257            NaN  http://www.aajtv.com/news/World/158635_detail....  \n",
       "487            NaN                                                NaN  \n",
       "1410          WKYT  http://www.wkyt.com/wymt/home/headlines/Crews-...  \n",
       "299            NaN  http://www.dominicacentral.com/general/communi...  \n",
       "1561           NBC  http://www.nbclosangeles.com/on-air/as-seen-on...  \n",
       "\n",
       "[10 rows x 23 columns]"
      ],
      "text/html": "<div>\n<style scoped>\n    .dataframe tbody tr th:only-of-type {\n        vertical-align: middle;\n    }\n\n    .dataframe tbody tr th {\n        vertical-align: top;\n    }\n\n    .dataframe thead th {\n        text-align: right;\n    }\n</style>\n<table border=\"1\" class=\"dataframe\">\n  <thead>\n    <tr style=\"text-align: right;\">\n      <th></th>\n      <th>id</th>\n      <th>date</th>\n      <th>time</th>\n      <th>continent_code</th>\n      <th>country_name</th>\n      <th>country_code</th>\n      <th>state/province</th>\n      <th>population</th>\n      <th>city/town</th>\n      <th>distance</th>\n      <th>...</th>\n      <th>geolocation</th>\n      <th>hazard_type</th>\n      <th>landslide_type</th>\n      <th>landslide_size</th>\n      <th>trigger</th>\n      <th>storm_name</th>\n      <th>injuries</th>\n      <th>fatalities</th>\n      <th>source_name</th>\n      <th>source_link</th>\n    </tr>\n  </thead>\n  <tbody>\n    <tr>\n      <th>655</th>\n      <td>3391</td>\n      <td>4/21/11</td>\n      <td>NaN</td>\n      <td>NaN</td>\n      <td>United States</td>\n      <td>US</td>\n      <td>Kentucky</td>\n      <td>3035</td>\n      <td>Wilder</td>\n      <td>1.24385</td>\n      <td>...</td>\n      <td>(39.0456, -84.4833)</td>\n      <td>Landslide</td>\n      <td>Landslide</td>\n      <td>Medium</td>\n      <td>Downpour</td>\n      <td>NaN</td>\n      <td>NaN</td>\n      <td>0.0</td>\n      <td>NaN</td>\n      <td>http://www.kypost.com/dpp/news/local_news/high...</td>\n    </tr>\n    <tr>\n      <th>1385</th>\n      <td>6698</td>\n      <td>9/19/14</td>\n      <td>NaN</td>\n      <td>NaN</td>\n      <td>Costa Rica</td>\n      <td>CR</td>\n      <td>San José</td>\n      <td>34877</td>\n      <td>San Isidro</td>\n      <td>10.73752</td>\n      <td>...</td>\n      <td>(9.4359000000000002, -83.630300000000005)</td>\n      <td>Landslide</td>\n      <td>Landslide</td>\n      <td>Medium</td>\n      <td>Rain</td>\n      <td>NaN</td>\n      <td>0.0</td>\n      <td>0.0</td>\n      <td>Canal 14</td>\n      <td>http://www.tvsur.co.cr/noticias/general/desliz...</td>\n    </tr>\n    <tr>\n      <th>1108</th>\n      <td>5440</td>\n      <td>9/2/13</td>\n      <td>Night</td>\n      <td>NaN</td>\n      <td>United States</td>\n      <td>US</td>\n      <td>Idaho</td>\n      <td>7960</td>\n      <td>Hailey</td>\n      <td>2.19542</td>\n      <td>...</td>\n      <td>(43.509700000000002, -114.33880000000001)</td>\n      <td>Landslide</td>\n      <td>Mudslide</td>\n      <td>Small</td>\n      <td>Downpour</td>\n      <td>NaN</td>\n      <td>NaN</td>\n      <td>0.0</td>\n      <td>www.kmvt.com</td>\n      <td>http://www.kmvt.com/news/local/Wood-River-Anim...</td>\n    </tr>\n    <tr>\n      <th>920</th>\n      <td>4637</td>\n      <td>11/28/12</td>\n      <td>NaN</td>\n      <td>SA</td>\n      <td>Colombia</td>\n      <td>CO</td>\n      <td>Norte de Santander</td>\n      <td>2080</td>\n      <td>San Calixto</td>\n      <td>11.19714</td>\n      <td>...</td>\n      <td>(8.4682999999999993, -73.284300000000002)</td>\n      <td>Landslide</td>\n      <td>Landslide</td>\n      <td>Large</td>\n      <td>Rain</td>\n      <td>NaN</td>\n      <td>NaN</td>\n      <td>NaN</td>\n      <td>NaN</td>\n      <td>http://latino.foxnews.com/latino/news/2012/11/...</td>\n    </tr>\n    <tr>\n      <th>594</th>\n      <td>3175</td>\n      <td>3/6/11</td>\n      <td>NaN</td>\n      <td>NaN</td>\n      <td>United States</td>\n      <td>US</td>\n      <td>North Carolina</td>\n      <td>1241</td>\n      <td>Blowing Rock</td>\n      <td>13.11943</td>\n      <td>...</td>\n      <td>(36.037799999999997, -81.594899999999996)</td>\n      <td>Landslide</td>\n      <td>Mudslide</td>\n      <td>Medium</td>\n      <td>Downpour</td>\n      <td>NaN</td>\n      <td>NaN</td>\n      <td>0.0</td>\n      <td>NaN</td>\n      <td>http://www2.hickoryrecord.com/news/2011/mar/10...</td>\n    </tr>\n    <tr>\n      <th>257</th>\n      <td>1472</td>\n      <td>2/5/10</td>\n      <td>NaN</td>\n      <td>NaN</td>\n      <td>Mexico</td>\n      <td>MX</td>\n      <td>Michoacán</td>\n      <td>4943</td>\n      <td>Mineral de Angangueo</td>\n      <td>1.69508</td>\n      <td>...</td>\n      <td>(19.616700000000002, -100.3)</td>\n      <td>Landslide</td>\n      <td>Mudslide</td>\n      <td>Medium</td>\n      <td>Downpour</td>\n      <td>NaN</td>\n      <td>NaN</td>\n      <td>3.0</td>\n      <td>NaN</td>\n      <td>http://www.aajtv.com/news/World/158635_detail....</td>\n    </tr>\n    <tr>\n      <th>487</th>\n      <td>2658</td>\n      <td>10/30/10</td>\n      <td>NaN</td>\n      <td>NaN</td>\n      <td>Saint Lucia</td>\n      <td>LC</td>\n      <td>Laborie</td>\n      <td>1131</td>\n      <td>Laborie</td>\n      <td>2.74715</td>\n      <td>...</td>\n      <td>(13.7705, -60.969000000000001)</td>\n      <td>Landslide</td>\n      <td>Landslide</td>\n      <td>Medium</td>\n      <td>Tropical cyclone</td>\n      <td>Hurricane Tomas</td>\n      <td>NaN</td>\n      <td>0.0</td>\n      <td>NaN</td>\n      <td>NaN</td>\n    </tr>\n    <tr>\n      <th>1410</th>\n      <td>6809</td>\n      <td>3/2/15</td>\n      <td>Morning</td>\n      <td>NaN</td>\n      <td>United States</td>\n      <td>US</td>\n      <td>Kentucky</td>\n      <td>1706</td>\n      <td>Coal Run Village</td>\n      <td>16.40897</td>\n      <td>...</td>\n      <td>(37.423299999999998, -82.705799999999996)</td>\n      <td>Landslide</td>\n      <td>Mudslide</td>\n      <td>Small</td>\n      <td>Snowfall snowmelt</td>\n      <td>NaN</td>\n      <td>0.0</td>\n      <td>0.0</td>\n      <td>WKYT</td>\n      <td>http://www.wkyt.com/wymt/home/headlines/Crews-...</td>\n    </tr>\n    <tr>\n      <th>299</th>\n      <td>1746</td>\n      <td>4/12/10</td>\n      <td>NaN</td>\n      <td>NaN</td>\n      <td>Dominica</td>\n      <td>DM</td>\n      <td>Saint Patrick</td>\n      <td>2608</td>\n      <td>Berekua</td>\n      <td>5.61495</td>\n      <td>...</td>\n      <td>(15.255599999999999, -61.2697)</td>\n      <td>Landslide</td>\n      <td>Landslide</td>\n      <td>Small</td>\n      <td>Downpour</td>\n      <td>NaN</td>\n      <td>NaN</td>\n      <td>0.0</td>\n      <td>NaN</td>\n      <td>http://www.dominicacentral.com/general/communi...</td>\n    </tr>\n    <tr>\n      <th>1561</th>\n      <td>7348</td>\n      <td>7/19/15</td>\n      <td>NaN</td>\n      <td>NaN</td>\n      <td>United States</td>\n      <td>US</td>\n      <td>California</td>\n      <td>193365</td>\n      <td>Moreno Valley</td>\n      <td>5.33395</td>\n      <td>...</td>\n      <td>(33.980499999999999, -117.2564)</td>\n      <td>Landslide</td>\n      <td>Debris flow</td>\n      <td>Medium</td>\n      <td>Downpour</td>\n      <td>NaN</td>\n      <td>0.0</td>\n      <td>0.0</td>\n      <td>NBC</td>\n      <td>http://www.nbclosangeles.com/on-air/as-seen-on...</td>\n    </tr>\n  </tbody>\n</table>\n<p>10 rows × 23 columns</p>\n</div>"
     },
     "metadata": {},
     "execution_count": 28
    }
   ],
   "source": [
    "df.sample(10)"
   ]
  },
  {
   "cell_type": "code",
   "execution_count": 45,
   "metadata": {},
   "outputs": [],
   "source": [
    "df.drop([\"source_name\",\"source_link\"],axis=1,inplace=True)"
   ]
  },
  {
   "cell_type": "code",
   "execution_count": 46,
   "metadata": {},
   "outputs": [
    {
     "output_type": "execute_result",
     "data": {
      "text/plain": [
       "3"
      ]
     },
     "metadata": {},
     "execution_count": 46
    }
   ],
   "source": [
    "df['date'].isnull().sum()"
   ]
  },
  {
   "cell_type": "code",
   "execution_count": 47,
   "metadata": {},
   "outputs": [
    {
     "output_type": "execute_result",
     "data": {
      "text/plain": [
       "0   2007-03-02\n",
       "1   2007-03-22\n",
       "2   2007-04-06\n",
       "3   2007-04-14\n",
       "4   2007-04-15\n",
       "Name: date_parsed, dtype: datetime64[ns]"
      ]
     },
     "metadata": {},
     "execution_count": 47
    }
   ],
   "source": [
    "df['date_parsed']=pd.to_datetime(df['date'],format=\"%m/%d/%y\")\n",
    "df['date_parsed'].head()"
   ]
  },
  {
   "cell_type": "code",
   "execution_count": 48,
   "metadata": {},
   "outputs": [],
   "source": [
    "day_of_month_landslides = df['date_parsed'].dt.day"
   ]
  },
  {
   "cell_type": "code",
   "execution_count": 49,
   "metadata": {},
   "outputs": [
    {
     "output_type": "execute_result",
     "data": {
      "text/plain": [
       "0        2.0\n",
       "1       22.0\n",
       "2        6.0\n",
       "3       14.0\n",
       "4       15.0\n",
       "        ... \n",
       "1688     7.0\n",
       "1689    22.0\n",
       "1690    23.0\n",
       "1691    26.0\n",
       "1692     2.0\n",
       "Name: date_parsed, Length: 1693, dtype: float64"
      ]
     },
     "metadata": {},
     "execution_count": 49
    }
   ],
   "source": [
    "day_of_month_landslides"
   ]
  },
  {
   "cell_type": "code",
   "execution_count": 50,
   "metadata": {},
   "outputs": [
    {
     "output_type": "stream",
     "name": "stderr",
     "text": [
      "C:\\ProgramData\\Anaconda3\\lib\\site-packages\\seaborn\\distributions.py:2557: FutureWarning: `distplot` is a deprecated function and will be removed in a future version. Please adapt your code to use either `displot` (a figure-level function with similar flexibility) or `histplot` (an axes-level function for histograms).\n  warnings.warn(msg, FutureWarning)\n"
     ]
    },
    {
     "output_type": "execute_result",
     "data": {
      "text/plain": [
       "<AxesSubplot:xlabel='date_parsed'>"
      ]
     },
     "metadata": {},
     "execution_count": 50
    },
    {
     "output_type": "display_data",
     "data": {
      "text/plain": "<Figure size 432x288 with 1 Axes>",
      "image/svg+xml": "<?xml version=\"1.0\" encoding=\"utf-8\" standalone=\"no\"?>\r\n<!DOCTYPE svg PUBLIC \"-//W3C//DTD SVG 1.1//EN\"\r\n  \"http://www.w3.org/Graphics/SVG/1.1/DTD/svg11.dtd\">\r\n<!-- Created with matplotlib (https://matplotlib.org/) -->\r\n<svg height=\"262.474375pt\" version=\"1.1\" viewBox=\"0 0 368.925 262.474375\" width=\"368.925pt\" xmlns=\"http://www.w3.org/2000/svg\" xmlns:xlink=\"http://www.w3.org/1999/xlink\">\r\n <metadata>\r\n  <rdf:RDF xmlns:cc=\"http://creativecommons.org/ns#\" xmlns:dc=\"http://purl.org/dc/elements/1.1/\" xmlns:rdf=\"http://www.w3.org/1999/02/22-rdf-syntax-ns#\">\r\n   <cc:Work>\r\n    <dc:type rdf:resource=\"http://purl.org/dc/dcmitype/StillImage\"/>\r\n    <dc:date>2021-03-16T13:39:55.544493</dc:date>\r\n    <dc:format>image/svg+xml</dc:format>\r\n    <dc:creator>\r\n     <cc:Agent>\r\n      <dc:title>Matplotlib v3.3.4, https://matplotlib.org/</dc:title>\r\n     </cc:Agent>\r\n    </dc:creator>\r\n   </cc:Work>\r\n  </rdf:RDF>\r\n </metadata>\r\n <defs>\r\n  <style type=\"text/css\">*{stroke-linecap:butt;stroke-linejoin:round;}</style>\r\n </defs>\r\n <g id=\"figure_1\">\r\n  <g id=\"patch_1\">\r\n   <path d=\"M -0 262.474375 \r\nL 368.925 262.474375 \r\nL 368.925 0 \r\nL -0 0 \r\nz\r\n\" style=\"fill:none;\"/>\r\n  </g>\r\n  <g id=\"axes_1\">\r\n   <g id=\"patch_2\">\r\n    <path d=\"M 26.925 224.64 \r\nL 361.725 224.64 \r\nL 361.725 7.2 \r\nL 26.925 7.2 \r\nz\r\n\" style=\"fill:#ffffff;\"/>\r\n   </g>\r\n   <g id=\"patch_3\">\r\n    <path clip-path=\"url(#pb915f810a0)\" d=\"M 42.143182 224.64 \r\nL 51.961364 224.64 \r\nL 51.961364 97.8 \r\nL 42.143182 97.8 \r\nz\r\n\" style=\"fill:#1f77b4;opacity:0.4;\"/>\r\n   </g>\r\n   <g id=\"patch_4\">\r\n    <path clip-path=\"url(#pb915f810a0)\" d=\"M 51.961364 224.64 \r\nL 61.779545 224.64 \r\nL 61.779545 84.857143 \r\nL 51.961364 84.857143 \r\nz\r\n\" style=\"fill:#1f77b4;opacity:0.4;\"/>\r\n   </g>\r\n   <g id=\"patch_5\">\r\n    <path clip-path=\"url(#pb915f810a0)\" d=\"M 61.779545 224.64 \r\nL 71.597727 224.64 \r\nL 71.597727 48.617143 \r\nL 61.779545 48.617143 \r\nz\r\n\" style=\"fill:#1f77b4;opacity:0.4;\"/>\r\n   </g>\r\n   <g id=\"patch_6\">\r\n    <path clip-path=\"url(#pb915f810a0)\" d=\"M 71.597727 224.64 \r\nL 81.415909 224.64 \r\nL 81.415909 43.44 \r\nL 71.597727 43.44 \r\nz\r\n\" style=\"fill:#1f77b4;opacity:0.4;\"/>\r\n   </g>\r\n   <g id=\"patch_7\">\r\n    <path clip-path=\"url(#pb915f810a0)\" d=\"M 81.415909 224.64 \r\nL 91.234091 224.64 \r\nL 91.234091 100.388571 \r\nL 81.415909 100.388571 \r\nz\r\n\" style=\"fill:#1f77b4;opacity:0.4;\"/>\r\n   </g>\r\n   <g id=\"patch_8\">\r\n    <path clip-path=\"url(#pb915f810a0)\" d=\"M 91.234091 224.64 \r\nL 101.052273 224.64 \r\nL 101.052273 102.977143 \r\nL 91.234091 102.977143 \r\nz\r\n\" style=\"fill:#1f77b4;opacity:0.4;\"/>\r\n   </g>\r\n   <g id=\"patch_9\">\r\n    <path clip-path=\"url(#pb915f810a0)\" d=\"M 101.052273 224.64 \r\nL 110.870455 224.64 \r\nL 110.870455 77.091429 \r\nL 101.052273 77.091429 \r\nz\r\n\" style=\"fill:#1f77b4;opacity:0.4;\"/>\r\n   </g>\r\n   <g id=\"patch_10\">\r\n    <path clip-path=\"url(#pb915f810a0)\" d=\"M 110.870455 224.64 \r\nL 120.688636 224.64 \r\nL 120.688636 118.508571 \r\nL 110.870455 118.508571 \r\nz\r\n\" style=\"fill:#1f77b4;opacity:0.4;\"/>\r\n   </g>\r\n   <g id=\"patch_11\">\r\n    <path clip-path=\"url(#pb915f810a0)\" d=\"M 120.688636 224.64 \r\nL 130.506818 224.64 \r\nL 130.506818 113.331429 \r\nL 120.688636 113.331429 \r\nz\r\n\" style=\"fill:#1f77b4;opacity:0.4;\"/>\r\n   </g>\r\n   <g id=\"patch_12\">\r\n    <path clip-path=\"url(#pb915f810a0)\" d=\"M 130.506818 224.64 \r\nL 140.325 224.64 \r\nL 140.325 121.097143 \r\nL 130.506818 121.097143 \r\nz\r\n\" style=\"fill:#1f77b4;opacity:0.4;\"/>\r\n   </g>\r\n   <g id=\"patch_13\">\r\n    <path clip-path=\"url(#pb915f810a0)\" d=\"M 140.325 224.64 \r\nL 150.143182 224.64 \r\nL 150.143182 90.034286 \r\nL 140.325 90.034286 \r\nz\r\n\" style=\"fill:#1f77b4;opacity:0.4;\"/>\r\n   </g>\r\n   <g id=\"patch_14\">\r\n    <path clip-path=\"url(#pb915f810a0)\" d=\"M 150.143182 224.64 \r\nL 159.961364 224.64 \r\nL 159.961364 17.554286 \r\nL 150.143182 17.554286 \r\nz\r\n\" style=\"fill:#1f77b4;opacity:0.4;\"/>\r\n   </g>\r\n   <g id=\"patch_15\">\r\n    <path clip-path=\"url(#pb915f810a0)\" d=\"M 159.961364 224.64 \r\nL 169.779545 224.64 \r\nL 169.779545 77.091429 \r\nL 159.961364 77.091429 \r\nz\r\n\" style=\"fill:#1f77b4;opacity:0.4;\"/>\r\n   </g>\r\n   <g id=\"patch_16\">\r\n    <path clip-path=\"url(#pb915f810a0)\" d=\"M 169.779545 224.64 \r\nL 179.597727 224.64 \r\nL 179.597727 84.857143 \r\nL 169.779545 84.857143 \r\nz\r\n\" style=\"fill:#1f77b4;opacity:0.4;\"/>\r\n   </g>\r\n   <g id=\"patch_17\">\r\n    <path clip-path=\"url(#pb915f810a0)\" d=\"M 179.597727 224.64 \r\nL 189.415909 224.64 \r\nL 189.415909 84.857143 \r\nL 179.597727 84.857143 \r\nz\r\n\" style=\"fill:#1f77b4;opacity:0.4;\"/>\r\n   </g>\r\n   <g id=\"patch_18\">\r\n    <path clip-path=\"url(#pb915f810a0)\" d=\"M 189.415909 224.64 \r\nL 199.234091 224.64 \r\nL 199.234091 53.794286 \r\nL 189.415909 53.794286 \r\nz\r\n\" style=\"fill:#1f77b4;opacity:0.4;\"/>\r\n   </g>\r\n   <g id=\"patch_19\">\r\n    <path clip-path=\"url(#pb915f810a0)\" d=\"M 199.234091 224.64 \r\nL 209.052273 224.64 \r\nL 209.052273 100.388571 \r\nL 199.234091 100.388571 \r\nz\r\n\" style=\"fill:#1f77b4;opacity:0.4;\"/>\r\n   </g>\r\n   <g id=\"patch_20\">\r\n    <path clip-path=\"url(#pb915f810a0)\" d=\"M 209.052273 224.64 \r\nL 218.870455 224.64 \r\nL 218.870455 20.142857 \r\nL 209.052273 20.142857 \r\nz\r\n\" style=\"fill:#1f77b4;opacity:0.4;\"/>\r\n   </g>\r\n   <g id=\"patch_21\">\r\n    <path clip-path=\"url(#pb915f810a0)\" d=\"M 218.870455 224.64 \r\nL 228.688636 224.64 \r\nL 228.688636 69.325714 \r\nL 218.870455 69.325714 \r\nz\r\n\" style=\"fill:#1f77b4;opacity:0.4;\"/>\r\n   </g>\r\n   <g id=\"patch_22\">\r\n    <path clip-path=\"url(#pb915f810a0)\" d=\"M 228.688636 224.64 \r\nL 238.506818 224.64 \r\nL 238.506818 90.034286 \r\nL 228.688636 90.034286 \r\nz\r\n\" style=\"fill:#1f77b4;opacity:0.4;\"/>\r\n   </g>\r\n   <g id=\"patch_23\">\r\n    <path clip-path=\"url(#pb915f810a0)\" d=\"M 238.506818 224.64 \r\nL 248.325 224.64 \r\nL 248.325 66.737143 \r\nL 238.506818 66.737143 \r\nz\r\n\" style=\"fill:#1f77b4;opacity:0.4;\"/>\r\n   </g>\r\n   <g id=\"patch_24\">\r\n    <path clip-path=\"url(#pb915f810a0)\" d=\"M 248.325 224.64 \r\nL 258.143182 224.64 \r\nL 258.143182 90.034286 \r\nL 248.325 90.034286 \r\nz\r\n\" style=\"fill:#1f77b4;opacity:0.4;\"/>\r\n   </g>\r\n   <g id=\"patch_25\">\r\n    <path clip-path=\"url(#pb915f810a0)\" d=\"M 258.143182 224.64 \r\nL 267.961364 224.64 \r\nL 267.961364 66.737143 \r\nL 258.143182 66.737143 \r\nz\r\n\" style=\"fill:#1f77b4;opacity:0.4;\"/>\r\n   </g>\r\n   <g id=\"patch_26\">\r\n    <path clip-path=\"url(#pb915f810a0)\" d=\"M 267.961364 224.64 \r\nL 277.779545 224.64 \r\nL 277.779545 100.388571 \r\nL 267.961364 100.388571 \r\nz\r\n\" style=\"fill:#1f77b4;opacity:0.4;\"/>\r\n   </g>\r\n   <g id=\"patch_27\">\r\n    <path clip-path=\"url(#pb915f810a0)\" d=\"M 277.779545 224.64 \r\nL 287.597727 224.64 \r\nL 287.597727 92.622857 \r\nL 277.779545 92.622857 \r\nz\r\n\" style=\"fill:#1f77b4;opacity:0.4;\"/>\r\n   </g>\r\n   <g id=\"patch_28\">\r\n    <path clip-path=\"url(#pb915f810a0)\" d=\"M 287.597727 224.64 \r\nL 297.415909 224.64 \r\nL 297.415909 146.982857 \r\nL 287.597727 146.982857 \r\nz\r\n\" style=\"fill:#1f77b4;opacity:0.4;\"/>\r\n   </g>\r\n   <g id=\"patch_29\">\r\n    <path clip-path=\"url(#pb915f810a0)\" d=\"M 297.415909 224.64 \r\nL 307.234091 224.64 \r\nL 307.234091 25.32 \r\nL 297.415909 25.32 \r\nz\r\n\" style=\"fill:#1f77b4;opacity:0.4;\"/>\r\n   </g>\r\n   <g id=\"patch_30\">\r\n    <path clip-path=\"url(#pb915f810a0)\" d=\"M 307.234091 224.64 \r\nL 317.052273 224.64 \r\nL 317.052273 90.034286 \r\nL 307.234091 90.034286 \r\nz\r\n\" style=\"fill:#1f77b4;opacity:0.4;\"/>\r\n   </g>\r\n   <g id=\"patch_31\">\r\n    <path clip-path=\"url(#pb915f810a0)\" d=\"M 317.052273 224.64 \r\nL 326.870455 224.64 \r\nL 326.870455 82.268571 \r\nL 317.052273 82.268571 \r\nz\r\n\" style=\"fill:#1f77b4;opacity:0.4;\"/>\r\n   </g>\r\n   <g id=\"patch_32\">\r\n    <path clip-path=\"url(#pb915f810a0)\" d=\"M 326.870455 224.64 \r\nL 336.688636 224.64 \r\nL 336.688636 87.445714 \r\nL 326.870455 87.445714 \r\nz\r\n\" style=\"fill:#1f77b4;opacity:0.4;\"/>\r\n   </g>\r\n   <g id=\"patch_33\">\r\n    <path clip-path=\"url(#pb915f810a0)\" d=\"M 336.688636 224.64 \r\nL 346.506818 224.64 \r\nL 346.506818 144.394286 \r\nL 336.688636 144.394286 \r\nz\r\n\" style=\"fill:#1f77b4;opacity:0.4;\"/>\r\n   </g>\r\n   <g id=\"matplotlib.axis_1\">\r\n    <g id=\"xtick_1\">\r\n     <g id=\"line2d_1\">\r\n      <defs>\r\n       <path d=\"M 0 0 \r\nL 0 3.5 \r\n\" id=\"m4b031f0313\" style=\"stroke:#000000;stroke-width:0.8;\"/>\r\n      </defs>\r\n      <g>\r\n       <use style=\"stroke:#000000;stroke-width:0.8;\" x=\"31.997727\" xlink:href=\"#m4b031f0313\" y=\"224.64\"/>\r\n      </g>\r\n     </g>\r\n     <g id=\"text_1\">\r\n      <!-- 0 -->\r\n      <g transform=\"translate(28.816477 239.238438)scale(0.1 -0.1)\">\r\n       <defs>\r\n        <path d=\"M 31.78125 66.40625 \r\nQ 24.171875 66.40625 20.328125 58.90625 \r\nQ 16.5 51.421875 16.5 36.375 \r\nQ 16.5 21.390625 20.328125 13.890625 \r\nQ 24.171875 6.390625 31.78125 6.390625 \r\nQ 39.453125 6.390625 43.28125 13.890625 \r\nQ 47.125 21.390625 47.125 36.375 \r\nQ 47.125 51.421875 43.28125 58.90625 \r\nQ 39.453125 66.40625 31.78125 66.40625 \r\nz\r\nM 31.78125 74.21875 \r\nQ 44.046875 74.21875 50.515625 64.515625 \r\nQ 56.984375 54.828125 56.984375 36.375 \r\nQ 56.984375 17.96875 50.515625 8.265625 \r\nQ 44.046875 -1.421875 31.78125 -1.421875 \r\nQ 19.53125 -1.421875 13.0625 8.265625 \r\nQ 6.59375 17.96875 6.59375 36.375 \r\nQ 6.59375 54.828125 13.0625 64.515625 \r\nQ 19.53125 74.21875 31.78125 74.21875 \r\nz\r\n\" id=\"DejaVuSans-48\"/>\r\n       </defs>\r\n       <use xlink:href=\"#DejaVuSans-48\"/>\r\n      </g>\r\n     </g>\r\n    </g>\r\n    <g id=\"xtick_2\">\r\n     <g id=\"line2d_2\">\r\n      <g>\r\n       <use style=\"stroke:#000000;stroke-width:0.8;\" x=\"82.725\" xlink:href=\"#m4b031f0313\" y=\"224.64\"/>\r\n      </g>\r\n     </g>\r\n     <g id=\"text_2\">\r\n      <!-- 5 -->\r\n      <g transform=\"translate(79.54375 239.238438)scale(0.1 -0.1)\">\r\n       <defs>\r\n        <path d=\"M 10.796875 72.90625 \r\nL 49.515625 72.90625 \r\nL 49.515625 64.59375 \r\nL 19.828125 64.59375 \r\nL 19.828125 46.734375 \r\nQ 21.96875 47.46875 24.109375 47.828125 \r\nQ 26.265625 48.1875 28.421875 48.1875 \r\nQ 40.625 48.1875 47.75 41.5 \r\nQ 54.890625 34.8125 54.890625 23.390625 \r\nQ 54.890625 11.625 47.5625 5.09375 \r\nQ 40.234375 -1.421875 26.90625 -1.421875 \r\nQ 22.3125 -1.421875 17.546875 -0.640625 \r\nQ 12.796875 0.140625 7.71875 1.703125 \r\nL 7.71875 11.625 \r\nQ 12.109375 9.234375 16.796875 8.0625 \r\nQ 21.484375 6.890625 26.703125 6.890625 \r\nQ 35.15625 6.890625 40.078125 11.328125 \r\nQ 45.015625 15.765625 45.015625 23.390625 \r\nQ 45.015625 31 40.078125 35.4375 \r\nQ 35.15625 39.890625 26.703125 39.890625 \r\nQ 22.75 39.890625 18.8125 39.015625 \r\nQ 14.890625 38.140625 10.796875 36.28125 \r\nz\r\n\" id=\"DejaVuSans-53\"/>\r\n       </defs>\r\n       <use xlink:href=\"#DejaVuSans-53\"/>\r\n      </g>\r\n     </g>\r\n    </g>\r\n    <g id=\"xtick_3\">\r\n     <g id=\"line2d_3\">\r\n      <g>\r\n       <use style=\"stroke:#000000;stroke-width:0.8;\" x=\"133.452273\" xlink:href=\"#m4b031f0313\" y=\"224.64\"/>\r\n      </g>\r\n     </g>\r\n     <g id=\"text_3\">\r\n      <!-- 10 -->\r\n      <g transform=\"translate(127.089773 239.238438)scale(0.1 -0.1)\">\r\n       <defs>\r\n        <path d=\"M 12.40625 8.296875 \r\nL 28.515625 8.296875 \r\nL 28.515625 63.921875 \r\nL 10.984375 60.40625 \r\nL 10.984375 69.390625 \r\nL 28.421875 72.90625 \r\nL 38.28125 72.90625 \r\nL 38.28125 8.296875 \r\nL 54.390625 8.296875 \r\nL 54.390625 0 \r\nL 12.40625 0 \r\nz\r\n\" id=\"DejaVuSans-49\"/>\r\n       </defs>\r\n       <use xlink:href=\"#DejaVuSans-49\"/>\r\n       <use x=\"63.623047\" xlink:href=\"#DejaVuSans-48\"/>\r\n      </g>\r\n     </g>\r\n    </g>\r\n    <g id=\"xtick_4\">\r\n     <g id=\"line2d_4\">\r\n      <g>\r\n       <use style=\"stroke:#000000;stroke-width:0.8;\" x=\"184.179545\" xlink:href=\"#m4b031f0313\" y=\"224.64\"/>\r\n      </g>\r\n     </g>\r\n     <g id=\"text_4\">\r\n      <!-- 15 -->\r\n      <g transform=\"translate(177.817045 239.238438)scale(0.1 -0.1)\">\r\n       <use xlink:href=\"#DejaVuSans-49\"/>\r\n       <use x=\"63.623047\" xlink:href=\"#DejaVuSans-53\"/>\r\n      </g>\r\n     </g>\r\n    </g>\r\n    <g id=\"xtick_5\">\r\n     <g id=\"line2d_5\">\r\n      <g>\r\n       <use style=\"stroke:#000000;stroke-width:0.8;\" x=\"234.906818\" xlink:href=\"#m4b031f0313\" y=\"224.64\"/>\r\n      </g>\r\n     </g>\r\n     <g id=\"text_5\">\r\n      <!-- 20 -->\r\n      <g transform=\"translate(228.544318 239.238438)scale(0.1 -0.1)\">\r\n       <defs>\r\n        <path d=\"M 19.1875 8.296875 \r\nL 53.609375 8.296875 \r\nL 53.609375 0 \r\nL 7.328125 0 \r\nL 7.328125 8.296875 \r\nQ 12.9375 14.109375 22.625 23.890625 \r\nQ 32.328125 33.6875 34.8125 36.53125 \r\nQ 39.546875 41.84375 41.421875 45.53125 \r\nQ 43.3125 49.21875 43.3125 52.78125 \r\nQ 43.3125 58.59375 39.234375 62.25 \r\nQ 35.15625 65.921875 28.609375 65.921875 \r\nQ 23.96875 65.921875 18.8125 64.3125 \r\nQ 13.671875 62.703125 7.8125 59.421875 \r\nL 7.8125 69.390625 \r\nQ 13.765625 71.78125 18.9375 73 \r\nQ 24.125 74.21875 28.421875 74.21875 \r\nQ 39.75 74.21875 46.484375 68.546875 \r\nQ 53.21875 62.890625 53.21875 53.421875 \r\nQ 53.21875 48.921875 51.53125 44.890625 \r\nQ 49.859375 40.875 45.40625 35.40625 \r\nQ 44.1875 33.984375 37.640625 27.21875 \r\nQ 31.109375 20.453125 19.1875 8.296875 \r\nz\r\n\" id=\"DejaVuSans-50\"/>\r\n       </defs>\r\n       <use xlink:href=\"#DejaVuSans-50\"/>\r\n       <use x=\"63.623047\" xlink:href=\"#DejaVuSans-48\"/>\r\n      </g>\r\n     </g>\r\n    </g>\r\n    <g id=\"xtick_6\">\r\n     <g id=\"line2d_6\">\r\n      <g>\r\n       <use style=\"stroke:#000000;stroke-width:0.8;\" x=\"285.634091\" xlink:href=\"#m4b031f0313\" y=\"224.64\"/>\r\n      </g>\r\n     </g>\r\n     <g id=\"text_6\">\r\n      <!-- 25 -->\r\n      <g transform=\"translate(279.271591 239.238438)scale(0.1 -0.1)\">\r\n       <use xlink:href=\"#DejaVuSans-50\"/>\r\n       <use x=\"63.623047\" xlink:href=\"#DejaVuSans-53\"/>\r\n      </g>\r\n     </g>\r\n    </g>\r\n    <g id=\"xtick_7\">\r\n     <g id=\"line2d_7\">\r\n      <g>\r\n       <use style=\"stroke:#000000;stroke-width:0.8;\" x=\"336.361364\" xlink:href=\"#m4b031f0313\" y=\"224.64\"/>\r\n      </g>\r\n     </g>\r\n     <g id=\"text_7\">\r\n      <!-- 30 -->\r\n      <g transform=\"translate(329.998864 239.238438)scale(0.1 -0.1)\">\r\n       <defs>\r\n        <path d=\"M 40.578125 39.3125 \r\nQ 47.65625 37.796875 51.625 33 \r\nQ 55.609375 28.21875 55.609375 21.1875 \r\nQ 55.609375 10.40625 48.1875 4.484375 \r\nQ 40.765625 -1.421875 27.09375 -1.421875 \r\nQ 22.515625 -1.421875 17.65625 -0.515625 \r\nQ 12.796875 0.390625 7.625 2.203125 \r\nL 7.625 11.71875 \r\nQ 11.71875 9.328125 16.59375 8.109375 \r\nQ 21.484375 6.890625 26.8125 6.890625 \r\nQ 36.078125 6.890625 40.9375 10.546875 \r\nQ 45.796875 14.203125 45.796875 21.1875 \r\nQ 45.796875 27.640625 41.28125 31.265625 \r\nQ 36.765625 34.90625 28.71875 34.90625 \r\nL 20.21875 34.90625 \r\nL 20.21875 43.015625 \r\nL 29.109375 43.015625 \r\nQ 36.375 43.015625 40.234375 45.921875 \r\nQ 44.09375 48.828125 44.09375 54.296875 \r\nQ 44.09375 59.90625 40.109375 62.90625 \r\nQ 36.140625 65.921875 28.71875 65.921875 \r\nQ 24.65625 65.921875 20.015625 65.03125 \r\nQ 15.375 64.15625 9.8125 62.3125 \r\nL 9.8125 71.09375 \r\nQ 15.4375 72.65625 20.34375 73.4375 \r\nQ 25.25 74.21875 29.59375 74.21875 \r\nQ 40.828125 74.21875 47.359375 69.109375 \r\nQ 53.90625 64.015625 53.90625 55.328125 \r\nQ 53.90625 49.265625 50.4375 45.09375 \r\nQ 46.96875 40.921875 40.578125 39.3125 \r\nz\r\n\" id=\"DejaVuSans-51\"/>\r\n       </defs>\r\n       <use xlink:href=\"#DejaVuSans-51\"/>\r\n       <use x=\"63.623047\" xlink:href=\"#DejaVuSans-48\"/>\r\n      </g>\r\n     </g>\r\n    </g>\r\n    <g id=\"text_8\">\r\n     <!-- date_parsed -->\r\n     <g transform=\"translate(163.400781 252.916562)scale(0.1 -0.1)\">\r\n      <defs>\r\n       <path d=\"M 45.40625 46.390625 \r\nL 45.40625 75.984375 \r\nL 54.390625 75.984375 \r\nL 54.390625 0 \r\nL 45.40625 0 \r\nL 45.40625 8.203125 \r\nQ 42.578125 3.328125 38.25 0.953125 \r\nQ 33.9375 -1.421875 27.875 -1.421875 \r\nQ 17.96875 -1.421875 11.734375 6.484375 \r\nQ 5.515625 14.40625 5.515625 27.296875 \r\nQ 5.515625 40.1875 11.734375 48.09375 \r\nQ 17.96875 56 27.875 56 \r\nQ 33.9375 56 38.25 53.625 \r\nQ 42.578125 51.265625 45.40625 46.390625 \r\nz\r\nM 14.796875 27.296875 \r\nQ 14.796875 17.390625 18.875 11.75 \r\nQ 22.953125 6.109375 30.078125 6.109375 \r\nQ 37.203125 6.109375 41.296875 11.75 \r\nQ 45.40625 17.390625 45.40625 27.296875 \r\nQ 45.40625 37.203125 41.296875 42.84375 \r\nQ 37.203125 48.484375 30.078125 48.484375 \r\nQ 22.953125 48.484375 18.875 42.84375 \r\nQ 14.796875 37.203125 14.796875 27.296875 \r\nz\r\n\" id=\"DejaVuSans-100\"/>\r\n       <path d=\"M 34.28125 27.484375 \r\nQ 23.390625 27.484375 19.1875 25 \r\nQ 14.984375 22.515625 14.984375 16.5 \r\nQ 14.984375 11.71875 18.140625 8.90625 \r\nQ 21.296875 6.109375 26.703125 6.109375 \r\nQ 34.1875 6.109375 38.703125 11.40625 \r\nQ 43.21875 16.703125 43.21875 25.484375 \r\nL 43.21875 27.484375 \r\nz\r\nM 52.203125 31.203125 \r\nL 52.203125 0 \r\nL 43.21875 0 \r\nL 43.21875 8.296875 \r\nQ 40.140625 3.328125 35.546875 0.953125 \r\nQ 30.953125 -1.421875 24.3125 -1.421875 \r\nQ 15.921875 -1.421875 10.953125 3.296875 \r\nQ 6 8.015625 6 15.921875 \r\nQ 6 25.140625 12.171875 29.828125 \r\nQ 18.359375 34.515625 30.609375 34.515625 \r\nL 43.21875 34.515625 \r\nL 43.21875 35.40625 \r\nQ 43.21875 41.609375 39.140625 45 \r\nQ 35.0625 48.390625 27.6875 48.390625 \r\nQ 23 48.390625 18.546875 47.265625 \r\nQ 14.109375 46.140625 10.015625 43.890625 \r\nL 10.015625 52.203125 \r\nQ 14.9375 54.109375 19.578125 55.046875 \r\nQ 24.21875 56 28.609375 56 \r\nQ 40.484375 56 46.34375 49.84375 \r\nQ 52.203125 43.703125 52.203125 31.203125 \r\nz\r\n\" id=\"DejaVuSans-97\"/>\r\n       <path d=\"M 18.3125 70.21875 \r\nL 18.3125 54.6875 \r\nL 36.8125 54.6875 \r\nL 36.8125 47.703125 \r\nL 18.3125 47.703125 \r\nL 18.3125 18.015625 \r\nQ 18.3125 11.328125 20.140625 9.421875 \r\nQ 21.96875 7.515625 27.59375 7.515625 \r\nL 36.8125 7.515625 \r\nL 36.8125 0 \r\nL 27.59375 0 \r\nQ 17.1875 0 13.234375 3.875 \r\nQ 9.28125 7.765625 9.28125 18.015625 \r\nL 9.28125 47.703125 \r\nL 2.6875 47.703125 \r\nL 2.6875 54.6875 \r\nL 9.28125 54.6875 \r\nL 9.28125 70.21875 \r\nz\r\n\" id=\"DejaVuSans-116\"/>\r\n       <path d=\"M 56.203125 29.59375 \r\nL 56.203125 25.203125 \r\nL 14.890625 25.203125 \r\nQ 15.484375 15.921875 20.484375 11.0625 \r\nQ 25.484375 6.203125 34.421875 6.203125 \r\nQ 39.59375 6.203125 44.453125 7.46875 \r\nQ 49.3125 8.734375 54.109375 11.28125 \r\nL 54.109375 2.78125 \r\nQ 49.265625 0.734375 44.1875 -0.34375 \r\nQ 39.109375 -1.421875 33.890625 -1.421875 \r\nQ 20.796875 -1.421875 13.15625 6.1875 \r\nQ 5.515625 13.8125 5.515625 26.8125 \r\nQ 5.515625 40.234375 12.765625 48.109375 \r\nQ 20.015625 56 32.328125 56 \r\nQ 43.359375 56 49.78125 48.890625 \r\nQ 56.203125 41.796875 56.203125 29.59375 \r\nz\r\nM 47.21875 32.234375 \r\nQ 47.125 39.59375 43.09375 43.984375 \r\nQ 39.0625 48.390625 32.421875 48.390625 \r\nQ 24.90625 48.390625 20.390625 44.140625 \r\nQ 15.875 39.890625 15.1875 32.171875 \r\nz\r\n\" id=\"DejaVuSans-101\"/>\r\n       <path d=\"M 50.984375 -16.609375 \r\nL 50.984375 -23.578125 \r\nL -0.984375 -23.578125 \r\nL -0.984375 -16.609375 \r\nz\r\n\" id=\"DejaVuSans-95\"/>\r\n       <path d=\"M 18.109375 8.203125 \r\nL 18.109375 -20.796875 \r\nL 9.078125 -20.796875 \r\nL 9.078125 54.6875 \r\nL 18.109375 54.6875 \r\nL 18.109375 46.390625 \r\nQ 20.953125 51.265625 25.265625 53.625 \r\nQ 29.59375 56 35.59375 56 \r\nQ 45.5625 56 51.78125 48.09375 \r\nQ 58.015625 40.1875 58.015625 27.296875 \r\nQ 58.015625 14.40625 51.78125 6.484375 \r\nQ 45.5625 -1.421875 35.59375 -1.421875 \r\nQ 29.59375 -1.421875 25.265625 0.953125 \r\nQ 20.953125 3.328125 18.109375 8.203125 \r\nz\r\nM 48.6875 27.296875 \r\nQ 48.6875 37.203125 44.609375 42.84375 \r\nQ 40.53125 48.484375 33.40625 48.484375 \r\nQ 26.265625 48.484375 22.1875 42.84375 \r\nQ 18.109375 37.203125 18.109375 27.296875 \r\nQ 18.109375 17.390625 22.1875 11.75 \r\nQ 26.265625 6.109375 33.40625 6.109375 \r\nQ 40.53125 6.109375 44.609375 11.75 \r\nQ 48.6875 17.390625 48.6875 27.296875 \r\nz\r\n\" id=\"DejaVuSans-112\"/>\r\n       <path d=\"M 41.109375 46.296875 \r\nQ 39.59375 47.171875 37.8125 47.578125 \r\nQ 36.03125 48 33.890625 48 \r\nQ 26.265625 48 22.1875 43.046875 \r\nQ 18.109375 38.09375 18.109375 28.8125 \r\nL 18.109375 0 \r\nL 9.078125 0 \r\nL 9.078125 54.6875 \r\nL 18.109375 54.6875 \r\nL 18.109375 46.1875 \r\nQ 20.953125 51.171875 25.484375 53.578125 \r\nQ 30.03125 56 36.53125 56 \r\nQ 37.453125 56 38.578125 55.875 \r\nQ 39.703125 55.765625 41.0625 55.515625 \r\nz\r\n\" id=\"DejaVuSans-114\"/>\r\n       <path d=\"M 44.28125 53.078125 \r\nL 44.28125 44.578125 \r\nQ 40.484375 46.53125 36.375 47.5 \r\nQ 32.28125 48.484375 27.875 48.484375 \r\nQ 21.1875 48.484375 17.84375 46.4375 \r\nQ 14.5 44.390625 14.5 40.28125 \r\nQ 14.5 37.15625 16.890625 35.375 \r\nQ 19.28125 33.59375 26.515625 31.984375 \r\nL 29.59375 31.296875 \r\nQ 39.15625 29.25 43.1875 25.515625 \r\nQ 47.21875 21.78125 47.21875 15.09375 \r\nQ 47.21875 7.46875 41.1875 3.015625 \r\nQ 35.15625 -1.421875 24.609375 -1.421875 \r\nQ 20.21875 -1.421875 15.453125 -0.5625 \r\nQ 10.6875 0.296875 5.421875 2 \r\nL 5.421875 11.28125 \r\nQ 10.40625 8.6875 15.234375 7.390625 \r\nQ 20.0625 6.109375 24.8125 6.109375 \r\nQ 31.15625 6.109375 34.5625 8.28125 \r\nQ 37.984375 10.453125 37.984375 14.40625 \r\nQ 37.984375 18.0625 35.515625 20.015625 \r\nQ 33.0625 21.96875 24.703125 23.78125 \r\nL 21.578125 24.515625 \r\nQ 13.234375 26.265625 9.515625 29.90625 \r\nQ 5.8125 33.546875 5.8125 39.890625 \r\nQ 5.8125 47.609375 11.28125 51.796875 \r\nQ 16.75 56 26.8125 56 \r\nQ 31.78125 56 36.171875 55.265625 \r\nQ 40.578125 54.546875 44.28125 53.078125 \r\nz\r\n\" id=\"DejaVuSans-115\"/>\r\n      </defs>\r\n      <use xlink:href=\"#DejaVuSans-100\"/>\r\n      <use x=\"63.476562\" xlink:href=\"#DejaVuSans-97\"/>\r\n      <use x=\"124.755859\" xlink:href=\"#DejaVuSans-116\"/>\r\n      <use x=\"163.964844\" xlink:href=\"#DejaVuSans-101\"/>\r\n      <use x=\"225.488281\" xlink:href=\"#DejaVuSans-95\"/>\r\n      <use x=\"275.488281\" xlink:href=\"#DejaVuSans-112\"/>\r\n      <use x=\"338.964844\" xlink:href=\"#DejaVuSans-97\"/>\r\n      <use x=\"400.244141\" xlink:href=\"#DejaVuSans-114\"/>\r\n      <use x=\"441.357422\" xlink:href=\"#DejaVuSans-115\"/>\r\n      <use x=\"493.457031\" xlink:href=\"#DejaVuSans-101\"/>\r\n      <use x=\"554.980469\" xlink:href=\"#DejaVuSans-100\"/>\r\n     </g>\r\n    </g>\r\n   </g>\r\n   <g id=\"matplotlib.axis_2\">\r\n    <g id=\"ytick_1\">\r\n     <g id=\"line2d_8\">\r\n      <defs>\r\n       <path d=\"M 0 0 \r\nL -3.5 0 \r\n\" id=\"m2ea3e5323a\" style=\"stroke:#000000;stroke-width:0.8;\"/>\r\n      </defs>\r\n      <g>\r\n       <use style=\"stroke:#000000;stroke-width:0.8;\" x=\"26.925\" xlink:href=\"#m2ea3e5323a\" y=\"224.64\"/>\r\n      </g>\r\n     </g>\r\n     <g id=\"text_9\">\r\n      <!-- 0 -->\r\n      <g transform=\"translate(13.5625 228.439219)scale(0.1 -0.1)\">\r\n       <use xlink:href=\"#DejaVuSans-48\"/>\r\n      </g>\r\n     </g>\r\n    </g>\r\n    <g id=\"ytick_2\">\r\n     <g id=\"line2d_9\">\r\n      <g>\r\n       <use style=\"stroke:#000000;stroke-width:0.8;\" x=\"26.925\" xlink:href=\"#m2ea3e5323a\" y=\"198.754286\"/>\r\n      </g>\r\n     </g>\r\n     <g id=\"text_10\">\r\n      <!-- 10 -->\r\n      <g transform=\"translate(7.2 202.553504)scale(0.1 -0.1)\">\r\n       <use xlink:href=\"#DejaVuSans-49\"/>\r\n       <use x=\"63.623047\" xlink:href=\"#DejaVuSans-48\"/>\r\n      </g>\r\n     </g>\r\n    </g>\r\n    <g id=\"ytick_3\">\r\n     <g id=\"line2d_10\">\r\n      <g>\r\n       <use style=\"stroke:#000000;stroke-width:0.8;\" x=\"26.925\" xlink:href=\"#m2ea3e5323a\" y=\"172.868571\"/>\r\n      </g>\r\n     </g>\r\n     <g id=\"text_11\">\r\n      <!-- 20 -->\r\n      <g transform=\"translate(7.2 176.66779)scale(0.1 -0.1)\">\r\n       <use xlink:href=\"#DejaVuSans-50\"/>\r\n       <use x=\"63.623047\" xlink:href=\"#DejaVuSans-48\"/>\r\n      </g>\r\n     </g>\r\n    </g>\r\n    <g id=\"ytick_4\">\r\n     <g id=\"line2d_11\">\r\n      <g>\r\n       <use style=\"stroke:#000000;stroke-width:0.8;\" x=\"26.925\" xlink:href=\"#m2ea3e5323a\" y=\"146.982857\"/>\r\n      </g>\r\n     </g>\r\n     <g id=\"text_12\">\r\n      <!-- 30 -->\r\n      <g transform=\"translate(7.2 150.782076)scale(0.1 -0.1)\">\r\n       <use xlink:href=\"#DejaVuSans-51\"/>\r\n       <use x=\"63.623047\" xlink:href=\"#DejaVuSans-48\"/>\r\n      </g>\r\n     </g>\r\n    </g>\r\n    <g id=\"ytick_5\">\r\n     <g id=\"line2d_12\">\r\n      <g>\r\n       <use style=\"stroke:#000000;stroke-width:0.8;\" x=\"26.925\" xlink:href=\"#m2ea3e5323a\" y=\"121.097143\"/>\r\n      </g>\r\n     </g>\r\n     <g id=\"text_13\">\r\n      <!-- 40 -->\r\n      <g transform=\"translate(7.2 124.896362)scale(0.1 -0.1)\">\r\n       <defs>\r\n        <path d=\"M 37.796875 64.3125 \r\nL 12.890625 25.390625 \r\nL 37.796875 25.390625 \r\nz\r\nM 35.203125 72.90625 \r\nL 47.609375 72.90625 \r\nL 47.609375 25.390625 \r\nL 58.015625 25.390625 \r\nL 58.015625 17.1875 \r\nL 47.609375 17.1875 \r\nL 47.609375 0 \r\nL 37.796875 0 \r\nL 37.796875 17.1875 \r\nL 4.890625 17.1875 \r\nL 4.890625 26.703125 \r\nz\r\n\" id=\"DejaVuSans-52\"/>\r\n       </defs>\r\n       <use xlink:href=\"#DejaVuSans-52\"/>\r\n       <use x=\"63.623047\" xlink:href=\"#DejaVuSans-48\"/>\r\n      </g>\r\n     </g>\r\n    </g>\r\n    <g id=\"ytick_6\">\r\n     <g id=\"line2d_13\">\r\n      <g>\r\n       <use style=\"stroke:#000000;stroke-width:0.8;\" x=\"26.925\" xlink:href=\"#m2ea3e5323a\" y=\"95.211429\"/>\r\n      </g>\r\n     </g>\r\n     <g id=\"text_14\">\r\n      <!-- 50 -->\r\n      <g transform=\"translate(7.2 99.010647)scale(0.1 -0.1)\">\r\n       <use xlink:href=\"#DejaVuSans-53\"/>\r\n       <use x=\"63.623047\" xlink:href=\"#DejaVuSans-48\"/>\r\n      </g>\r\n     </g>\r\n    </g>\r\n    <g id=\"ytick_7\">\r\n     <g id=\"line2d_14\">\r\n      <g>\r\n       <use style=\"stroke:#000000;stroke-width:0.8;\" x=\"26.925\" xlink:href=\"#m2ea3e5323a\" y=\"69.325714\"/>\r\n      </g>\r\n     </g>\r\n     <g id=\"text_15\">\r\n      <!-- 60 -->\r\n      <g transform=\"translate(7.2 73.124933)scale(0.1 -0.1)\">\r\n       <defs>\r\n        <path d=\"M 33.015625 40.375 \r\nQ 26.375 40.375 22.484375 35.828125 \r\nQ 18.609375 31.296875 18.609375 23.390625 \r\nQ 18.609375 15.53125 22.484375 10.953125 \r\nQ 26.375 6.390625 33.015625 6.390625 \r\nQ 39.65625 6.390625 43.53125 10.953125 \r\nQ 47.40625 15.53125 47.40625 23.390625 \r\nQ 47.40625 31.296875 43.53125 35.828125 \r\nQ 39.65625 40.375 33.015625 40.375 \r\nz\r\nM 52.59375 71.296875 \r\nL 52.59375 62.3125 \r\nQ 48.875 64.0625 45.09375 64.984375 \r\nQ 41.3125 65.921875 37.59375 65.921875 \r\nQ 27.828125 65.921875 22.671875 59.328125 \r\nQ 17.53125 52.734375 16.796875 39.40625 \r\nQ 19.671875 43.65625 24.015625 45.921875 \r\nQ 28.375 48.1875 33.59375 48.1875 \r\nQ 44.578125 48.1875 50.953125 41.515625 \r\nQ 57.328125 34.859375 57.328125 23.390625 \r\nQ 57.328125 12.15625 50.6875 5.359375 \r\nQ 44.046875 -1.421875 33.015625 -1.421875 \r\nQ 20.359375 -1.421875 13.671875 8.265625 \r\nQ 6.984375 17.96875 6.984375 36.375 \r\nQ 6.984375 53.65625 15.1875 63.9375 \r\nQ 23.390625 74.21875 37.203125 74.21875 \r\nQ 40.921875 74.21875 44.703125 73.484375 \r\nQ 48.484375 72.75 52.59375 71.296875 \r\nz\r\n\" id=\"DejaVuSans-54\"/>\r\n       </defs>\r\n       <use xlink:href=\"#DejaVuSans-54\"/>\r\n       <use x=\"63.623047\" xlink:href=\"#DejaVuSans-48\"/>\r\n      </g>\r\n     </g>\r\n    </g>\r\n    <g id=\"ytick_8\">\r\n     <g id=\"line2d_15\">\r\n      <g>\r\n       <use style=\"stroke:#000000;stroke-width:0.8;\" x=\"26.925\" xlink:href=\"#m2ea3e5323a\" y=\"43.44\"/>\r\n      </g>\r\n     </g>\r\n     <g id=\"text_16\">\r\n      <!-- 70 -->\r\n      <g transform=\"translate(7.2 47.239219)scale(0.1 -0.1)\">\r\n       <defs>\r\n        <path d=\"M 8.203125 72.90625 \r\nL 55.078125 72.90625 \r\nL 55.078125 68.703125 \r\nL 28.609375 0 \r\nL 18.3125 0 \r\nL 43.21875 64.59375 \r\nL 8.203125 64.59375 \r\nz\r\n\" id=\"DejaVuSans-55\"/>\r\n       </defs>\r\n       <use xlink:href=\"#DejaVuSans-55\"/>\r\n       <use x=\"63.623047\" xlink:href=\"#DejaVuSans-48\"/>\r\n      </g>\r\n     </g>\r\n    </g>\r\n    <g id=\"ytick_9\">\r\n     <g id=\"line2d_16\">\r\n      <g>\r\n       <use style=\"stroke:#000000;stroke-width:0.8;\" x=\"26.925\" xlink:href=\"#m2ea3e5323a\" y=\"17.554286\"/>\r\n      </g>\r\n     </g>\r\n     <g id=\"text_17\">\r\n      <!-- 80 -->\r\n      <g transform=\"translate(7.2 21.353504)scale(0.1 -0.1)\">\r\n       <defs>\r\n        <path d=\"M 31.78125 34.625 \r\nQ 24.75 34.625 20.71875 30.859375 \r\nQ 16.703125 27.09375 16.703125 20.515625 \r\nQ 16.703125 13.921875 20.71875 10.15625 \r\nQ 24.75 6.390625 31.78125 6.390625 \r\nQ 38.8125 6.390625 42.859375 10.171875 \r\nQ 46.921875 13.96875 46.921875 20.515625 \r\nQ 46.921875 27.09375 42.890625 30.859375 \r\nQ 38.875 34.625 31.78125 34.625 \r\nz\r\nM 21.921875 38.8125 \r\nQ 15.578125 40.375 12.03125 44.71875 \r\nQ 8.5 49.078125 8.5 55.328125 \r\nQ 8.5 64.0625 14.71875 69.140625 \r\nQ 20.953125 74.21875 31.78125 74.21875 \r\nQ 42.671875 74.21875 48.875 69.140625 \r\nQ 55.078125 64.0625 55.078125 55.328125 \r\nQ 55.078125 49.078125 51.53125 44.71875 \r\nQ 48 40.375 41.703125 38.8125 \r\nQ 48.828125 37.15625 52.796875 32.3125 \r\nQ 56.78125 27.484375 56.78125 20.515625 \r\nQ 56.78125 9.90625 50.3125 4.234375 \r\nQ 43.84375 -1.421875 31.78125 -1.421875 \r\nQ 19.734375 -1.421875 13.25 4.234375 \r\nQ 6.78125 9.90625 6.78125 20.515625 \r\nQ 6.78125 27.484375 10.78125 32.3125 \r\nQ 14.796875 37.15625 21.921875 38.8125 \r\nz\r\nM 18.3125 54.390625 \r\nQ 18.3125 48.734375 21.84375 45.5625 \r\nQ 25.390625 42.390625 31.78125 42.390625 \r\nQ 38.140625 42.390625 41.71875 45.5625 \r\nQ 45.3125 48.734375 45.3125 54.390625 \r\nQ 45.3125 60.0625 41.71875 63.234375 \r\nQ 38.140625 66.40625 31.78125 66.40625 \r\nQ 25.390625 66.40625 21.84375 63.234375 \r\nQ 18.3125 60.0625 18.3125 54.390625 \r\nz\r\n\" id=\"DejaVuSans-56\"/>\r\n       </defs>\r\n       <use xlink:href=\"#DejaVuSans-56\"/>\r\n       <use x=\"63.623047\" xlink:href=\"#DejaVuSans-48\"/>\r\n      </g>\r\n     </g>\r\n    </g>\r\n   </g>\r\n   <g id=\"patch_34\">\r\n    <path d=\"M 26.925 224.64 \r\nL 26.925 7.2 \r\n\" style=\"fill:none;stroke:#000000;stroke-linecap:square;stroke-linejoin:miter;stroke-width:0.8;\"/>\r\n   </g>\r\n   <g id=\"patch_35\">\r\n    <path d=\"M 361.725 224.64 \r\nL 361.725 7.2 \r\n\" style=\"fill:none;stroke:#000000;stroke-linecap:square;stroke-linejoin:miter;stroke-width:0.8;\"/>\r\n   </g>\r\n   <g id=\"patch_36\">\r\n    <path d=\"M 26.925 224.64 \r\nL 361.725 224.64 \r\n\" style=\"fill:none;stroke:#000000;stroke-linecap:square;stroke-linejoin:miter;stroke-width:0.8;\"/>\r\n   </g>\r\n   <g id=\"patch_37\">\r\n    <path d=\"M 26.925 7.2 \r\nL 361.725 7.2 \r\n\" style=\"fill:none;stroke:#000000;stroke-linecap:square;stroke-linejoin:miter;stroke-width:0.8;\"/>\r\n   </g>\r\n  </g>\r\n </g>\r\n <defs>\r\n  <clipPath id=\"pb915f810a0\">\r\n   <rect height=\"217.44\" width=\"334.8\" x=\"26.925\" y=\"7.2\"/>\r\n  </clipPath>\r\n </defs>\r\n</svg>\r\n",
      "image/png": "[encoded data removed]"
     },
     "metadata": {
      "needs_background": "light"
     }
    }
   ],
   "source": [
    "day_of_month_landslides = day_of_month_landslides.dropna()# remove na's\n",
    "sns.distplot(day_of_month_landslides, kde=False, bins=31)# plot the day of the month"
   ]
  },
  {
   "cell_type": "code",
   "execution_count": 51,
   "metadata": {},
   "outputs": [
    {
     "output_type": "execute_result",
     "data": {
      "text/plain": [
       "id                         0\n",
       "date                       3\n",
       "time                    1064\n",
       "continent_code          1529\n",
       "country_name               0\n",
       "country_code               0\n",
       "state/province             1\n",
       "population                 0\n",
       "city/town                  4\n",
       "distance                   1\n",
       "location_description    1142\n",
       "latitude                   1\n",
       "longitude                  1\n",
       "geolocation                1\n",
       "hazard_type                0\n",
       "landslide_type             1\n",
       "landslide_size             1\n",
       "trigger                    2\n",
       "storm_name              1561\n",
       "injuries                1178\n",
       "fatalities               247\n",
       "date_parsed                3\n",
       "dtype: int64"
      ]
     },
     "metadata": {},
     "execution_count": 51
    }
   ],
   "source": [
    "missing_values_count = df.isnull().sum()\n",
    "missing_values_count"
   ]
  },
  {
   "cell_type": "code",
   "execution_count": 52,
   "metadata": {},
   "outputs": [
    {
     "output_type": "execute_result",
     "data": {
      "text/plain": [
       "6740"
      ]
     },
     "metadata": {},
     "execution_count": 52
    }
   ],
   "source": [
    "total_missing = missing_values_count.sum()\n",
    "total_missing"
   ]
  },
  {
   "cell_type": "code",
   "execution_count": 53,
   "metadata": {},
   "outputs": [
    {
     "output_type": "stream",
     "name": "stdout",
     "text": [
      "18.095902915749342\n"
     ]
    }
   ],
   "source": [
    "total_cells = np.product(df.shape)\n",
    "# percent of data that is missing\n",
    "percent_missing = (total_missing/total_cells) * 100\n",
    "print(percent_missing)"
   ]
  },
  {
   "cell_type": "code",
   "execution_count": null,
   "metadata": {},
   "outputs": [],
   "source": []
  }
 ]
}