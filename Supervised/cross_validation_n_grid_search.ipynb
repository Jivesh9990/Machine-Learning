{
 "metadata": {
  "language_info": {
   "codemirror_mode": {
    "name": "ipython",
    "version": 3
   },
   "file_extension": ".py",
   "mimetype": "text/x-python",
   "name": "python",
   "nbconvert_exporter": "python",
   "pygments_lexer": "ipython3",
   "version": "3.7.4-final"
  },
  "orig_nbformat": 2,
  "kernelspec": {
   "name": "python3",
   "display_name": "Python 3",
   "language": "python"
  }
 },
 "nbformat": 4,
 "nbformat_minor": 2,
 "cells": [
  {
   "source": [
    "# Model performance and accuracy"
   ],
   "cell_type": "markdown",
   "metadata": {}
  },
  {
   "source": [
    "1 feature selection\n",
    "\n",
    "      correlation\n",
    "      box plot\n",
    "      p values (OLS)\n",
    "\n",
    "2 cross validation (common)\n",
    "\n",
    "3 grid search (common)"
   ],
   "cell_type": "markdown",
   "metadata": {}
  },
  {
   "cell_type": "code",
   "execution_count": 1,
   "metadata": {},
   "outputs": [],
   "source": [
    "# common \n",
    "import pandas as pd\n",
    "import seaborn as sns\n",
    "import numpy as np\n",
    "import matplotlib.pyplot as plt\n",
    "import plotly.express as px\n",
    "\n",
    "# ml preprocessing\n",
    "from sklearn.preprocessing import StandardScaler\n",
    "from sklearn.preprocessing import LabelEncoder\n",
    "from sklearn.preprocessing import OneHotEncoder\n",
    "from sklearn.model_selection import train_test_split\n",
    "from sklearn.impute import SimpleImputer\n",
    "\n",
    "# algo\n",
    "from sklearn.linear_model import LinearRegression\n",
    "from sklearn.tree import DecisionTreeRegressor\n",
    "from sklearn.ensemble import RandomForestRegressor\n",
    "from sklearn.neighbors import KNeighborsRegressor"
   ]
  },
  {
   "cell_type": "code",
   "execution_count": 2,
   "metadata": {},
   "outputs": [
    {
     "output_type": "stream",
     "name": "stdout",
     "text": [
      "<class 'pandas.core.frame.DataFrame'>\nRangeIndex: 1000 entries, 0 to 999\nData columns (total 3 columns):\n #   Column     Non-Null Count  Dtype  \n---  ------     --------------  -----  \n 0   Paleonium  1000 non-null   int64  \n 1   Pressure   1000 non-null   int64  \n 2   Price      1000 non-null   float64\ndtypes: float64(1), int64(2)\nmemory usage: 23.6 KB\n"
     ]
    },
    {
     "output_type": "execute_result",
     "data": {
      "text/plain": [
       "   Paleonium  Pressure        Price\n",
       "0         17      6567  2810.280298\n",
       "1         59      5253  1986.967089\n",
       "2        123      9715  2083.132087\n",
       "3        182      2073  2236.340285\n",
       "4        133      6400  1903.323339"
      ],
      "text/html": "<div>\n<style scoped>\n    .dataframe tbody tr th:only-of-type {\n        vertical-align: middle;\n    }\n\n    .dataframe tbody tr th {\n        vertical-align: top;\n    }\n\n    .dataframe thead th {\n        text-align: right;\n    }\n</style>\n<table border=\"1\" class=\"dataframe\">\n  <thead>\n    <tr style=\"text-align: right;\">\n      <th></th>\n      <th>Paleonium</th>\n      <th>Pressure</th>\n      <th>Price</th>\n    </tr>\n  </thead>\n  <tbody>\n    <tr>\n      <th>0</th>\n      <td>17</td>\n      <td>6567</td>\n      <td>2810.280298</td>\n    </tr>\n    <tr>\n      <th>1</th>\n      <td>59</td>\n      <td>5253</td>\n      <td>1986.967089</td>\n    </tr>\n    <tr>\n      <th>2</th>\n      <td>123</td>\n      <td>9715</td>\n      <td>2083.132087</td>\n    </tr>\n    <tr>\n      <th>3</th>\n      <td>182</td>\n      <td>2073</td>\n      <td>2236.340285</td>\n    </tr>\n    <tr>\n      <th>4</th>\n      <td>133</td>\n      <td>6400</td>\n      <td>1903.323339</td>\n    </tr>\n  </tbody>\n</table>\n</div>"
     },
     "metadata": {},
     "execution_count": 2
    }
   ],
   "source": [
    "df = pd.read_csv('../datasets/diamond_pricing.csv')\n",
    "df.info()\n",
    "df.head()"
   ]
  },
  {
   "cell_type": "code",
   "execution_count": 3,
   "metadata": {},
   "outputs": [],
   "source": [
    "x=df[['Paleonium','Pressure']]\n",
    "y=df['Price']\n",
    "xtrain,xtest,ytrain,ytest=train_test_split(x,y,random_state=0)"
   ]
  },
  {
   "cell_type": "code",
   "execution_count": 4,
   "metadata": {},
   "outputs": [
    {
     "output_type": "execute_result",
     "data": {
      "text/plain": [
       "9.519827070002417"
      ]
     },
     "metadata": {},
     "execution_count": 4
    }
   ],
   "source": [
    "m0=LinearRegression()\n",
    "m0.fit(xtrain,ytrain)\n",
    "m0.score(xtest,ytest)*100"
   ]
  },
  {
   "cell_type": "code",
   "execution_count": 6,
   "metadata": {},
   "outputs": [
    {
     "output_type": "execute_result",
     "data": {
      "text/plain": [
       "96.06810143230412"
      ]
     },
     "metadata": {},
     "execution_count": 6
    }
   ],
   "source": [
    "m1=DecisionTreeRegressor()\n",
    "m1.fit(xtrain,ytrain)\n",
    "m1.score(xtest,ytest)*100"
   ]
  },
  {
   "cell_type": "code",
   "execution_count": 7,
   "metadata": {},
   "outputs": [
    {
     "output_type": "execute_result",
     "data": {
      "text/plain": [
       "97.72601026880847"
      ]
     },
     "metadata": {},
     "execution_count": 7
    }
   ],
   "source": [
    "m2=RandomForestRegressor()\n",
    "m2.fit(xtrain,ytrain)\n",
    "m2.score(xtest,ytest)*100"
   ]
  },
  {
   "cell_type": "code",
   "execution_count": 8,
   "metadata": {},
   "outputs": [
    {
     "output_type": "execute_result",
     "data": {
      "text/plain": [
       "56.32691844914095"
      ]
     },
     "metadata": {},
     "execution_count": 8
    }
   ],
   "source": [
    "m3=KNeighborsRegressor()\n",
    "m3.fit(xtrain,ytrain)\n",
    "m3.score(xtest,ytest)*100"
   ]
  },
  {
   "source": [
    "# Cross Validation\n",
    "from sklearn.model_selection import cross_val_score we use this to check if the model created from algo work well with data or not"
   ],
   "cell_type": "markdown",
   "metadata": {}
  },
  {
   "cell_type": "code",
   "execution_count": 10,
   "metadata": {},
   "outputs": [],
   "source": [
    "from sklearn.model_selection import cross_val_score"
   ]
  },
  {
   "cell_type": "code",
   "execution_count": 11,
   "metadata": {},
   "outputs": [],
   "source": [
    "data=[]"
   ]
  },
  {
   "cell_type": "code",
   "execution_count": 13,
   "metadata": {},
   "outputs": [
    {
     "output_type": "stream",
     "name": "stdout",
     "text": [
      "mean score => 7.42, cross val => [9.36937106 3.47592133 8.16364376 8.66355679]\n"
     ]
    },
    {
     "output_type": "execute_result",
     "data": {
      "text/plain": [
       "[{'algo': 'linear reg.',\n",
       "  'cv0': 9.369371059886955,\n",
       "  'cv1': 3.475921331374232,\n",
       "  'cv2': 8.163643756147131,\n",
       "  'cv3': 8.663556790007465}]"
      ]
     },
     "metadata": {},
     "execution_count": 13
    }
   ],
   "source": [
    "# linear reg\n",
    "scores = cross_val_score(m0,x,y,cv=4)\n",
    "print(f'mean score => {scores.mean() *100:.2f}, cross val => {scores * 100}')\n",
    "scores = scores * 100\n",
    "data.append({\n",
    "    'algo':'linear reg.',\n",
    "    'cv0': scores[0],\n",
    "    'cv1': scores[1],\n",
    "    'cv2': scores[2],\n",
    "    'cv3': scores[3],\n",
    "})\n",
    "data"
   ]
  },
  {
   "cell_type": "code",
   "execution_count": 14,
   "metadata": {},
   "outputs": [
    {
     "output_type": "stream",
     "name": "stdout",
     "text": [
      "mean score => 95.57, cross val => [95.27019283 96.61137721 95.69640874 94.70705545]\n"
     ]
    },
    {
     "output_type": "execute_result",
     "data": {
      "text/plain": [
       "[{'algo': 'linear reg.',\n",
       "  'cv0': 9.369371059886955,\n",
       "  'cv1': 3.475921331374232,\n",
       "  'cv2': 8.163643756147131,\n",
       "  'cv3': 8.663556790007465},\n",
       " {'algo': 'decision tree',\n",
       "  'cv0': 95.27019283276104,\n",
       "  'cv1': 96.61137720938426,\n",
       "  'cv2': 95.6964087408041,\n",
       "  'cv3': 94.70705544807993}]"
      ]
     },
     "metadata": {},
     "execution_count": 14
    }
   ],
   "source": [
    "scores = cross_val_score(m1,x,y,cv=4)\n",
    "print(f'mean score => {scores.mean() *100:.2f}, cross val => {scores * 100}')\n",
    "scores = scores * 100\n",
    "data.append({\n",
    "    'algo':'decision tree',\n",
    "    'cv0': scores[0],\n",
    "    'cv1': scores[1],\n",
    "    'cv2': scores[2],\n",
    "    'cv3': scores[3],\n",
    "})\n",
    "data"
   ]
  },
  {
   "cell_type": "code",
   "execution_count": 15,
   "metadata": {},
   "outputs": [
    {
     "output_type": "stream",
     "name": "stdout",
     "text": [
      "mean score => 97.74, cross val => [97.55714435 97.49662583 98.03433971 97.85308475]\n"
     ]
    },
    {
     "output_type": "execute_result",
     "data": {
      "text/plain": [
       "[{'algo': 'linear reg.',\n",
       "  'cv0': 9.369371059886955,\n",
       "  'cv1': 3.475921331374232,\n",
       "  'cv2': 8.163643756147131,\n",
       "  'cv3': 8.663556790007465},\n",
       " {'algo': 'decision tree',\n",
       "  'cv0': 95.27019283276104,\n",
       "  'cv1': 96.61137720938426,\n",
       "  'cv2': 95.6964087408041,\n",
       "  'cv3': 94.70705544807993},\n",
       " {'algo': 'random forest',\n",
       "  'cv0': 97.5571443479455,\n",
       "  'cv1': 97.49662583040055,\n",
       "  'cv2': 98.03433971066342,\n",
       "  'cv3': 97.85308474779909}]"
      ]
     },
     "metadata": {},
     "execution_count": 15
    }
   ],
   "source": [
    "# random forest\n",
    "scores = cross_val_score(m2,x,y,cv=4)\n",
    "print(f'mean score => {scores.mean() *100:.2f}, cross val => {scores * 100}')\n",
    "scores = scores * 100\n",
    "data.append({\n",
    "    'algo':'random forest',\n",
    "    'cv0': scores[0],\n",
    "    'cv1': scores[1],\n",
    "    'cv2': scores[2],\n",
    "    'cv3': scores[3],\n",
    "})\n",
    "data"
   ]
  },
  {
   "cell_type": "code",
   "execution_count": 16,
   "metadata": {},
   "outputs": [
    {
     "output_type": "stream",
     "name": "stdout",
     "text": [
      "mean score => 55.59, cross val => [65.55938886 49.98008102 50.75358555 56.0756552 ]\n"
     ]
    },
    {
     "output_type": "execute_result",
     "data": {
      "text/plain": [
       "[{'algo': 'linear reg.',\n",
       "  'cv0': 9.369371059886955,\n",
       "  'cv1': 3.475921331374232,\n",
       "  'cv2': 8.163643756147131,\n",
       "  'cv3': 8.663556790007465},\n",
       " {'algo': 'decision tree',\n",
       "  'cv0': 95.27019283276104,\n",
       "  'cv1': 96.61137720938426,\n",
       "  'cv2': 95.6964087408041,\n",
       "  'cv3': 94.70705544807993},\n",
       " {'algo': 'random forest',\n",
       "  'cv0': 97.5571443479455,\n",
       "  'cv1': 97.49662583040055,\n",
       "  'cv2': 98.03433971066342,\n",
       "  'cv3': 97.85308474779909},\n",
       " {'algo': 'knn',\n",
       "  'cv0': 65.55938885969191,\n",
       "  'cv1': 49.98008102062565,\n",
       "  'cv2': 50.75358554780218,\n",
       "  'cv3': 56.075655198812434}]"
      ]
     },
     "metadata": {},
     "execution_count": 16
    }
   ],
   "source": [
    "# nearest neighbor\n",
    "scores = cross_val_score(m3,x,y,cv=4)\n",
    "print(f'mean score => {scores.mean() *100:.2f}, cross val => {scores * 100}')\n",
    "scores = scores * 100\n",
    "data.append({\n",
    "    'algo':'knn',\n",
    "    'cv0': scores[0],\n",
    "    'cv1': scores[1],\n",
    "    'cv2': scores[2],\n",
    "    'cv3': scores[3],\n",
    "})\n",
    "data"
   ]
  },
  {
   "cell_type": "code",
   "execution_count": 18,
   "metadata": {},
   "outputs": [
    {
     "output_type": "execute_result",
     "data": {
      "text/plain": [
       "                     cv0        cv1        cv2        cv3\n",
       "algo                                                     \n",
       "linear reg.     9.369371   3.475921   8.163644   8.663557\n",
       "decision tree  95.270193  96.611377  95.696409  94.707055\n",
       "random forest  97.557144  97.496626  98.034340  97.853085\n",
       "knn            65.559389  49.980081  50.753586  56.075655"
      ],
      "text/html": "<div>\n<style scoped>\n    .dataframe tbody tr th:only-of-type {\n        vertical-align: middle;\n    }\n\n    .dataframe tbody tr th {\n        vertical-align: top;\n    }\n\n    .dataframe thead th {\n        text-align: right;\n    }\n</style>\n<table border=\"1\" class=\"dataframe\">\n  <thead>\n    <tr style=\"text-align: right;\">\n      <th></th>\n      <th>cv0</th>\n      <th>cv1</th>\n      <th>cv2</th>\n      <th>cv3</th>\n    </tr>\n    <tr>\n      <th>algo</th>\n      <th></th>\n      <th></th>\n      <th></th>\n      <th></th>\n    </tr>\n  </thead>\n  <tbody>\n    <tr>\n      <th>linear reg.</th>\n      <td>9.369371</td>\n      <td>3.475921</td>\n      <td>8.163644</td>\n      <td>8.663557</td>\n    </tr>\n    <tr>\n      <th>decision tree</th>\n      <td>95.270193</td>\n      <td>96.611377</td>\n      <td>95.696409</td>\n      <td>94.707055</td>\n    </tr>\n    <tr>\n      <th>random forest</th>\n      <td>97.557144</td>\n      <td>97.496626</td>\n      <td>98.034340</td>\n      <td>97.853085</td>\n    </tr>\n    <tr>\n      <th>knn</th>\n      <td>65.559389</td>\n      <td>49.980081</td>\n      <td>50.753586</td>\n      <td>56.075655</td>\n    </tr>\n  </tbody>\n</table>\n</div>"
     },
     "metadata": {},
     "execution_count": 18
    }
   ],
   "source": [
    "# convert to data frame\n",
    "cross_val_df = pd.DataFrame(data)\n",
    "cross_val_df = cross_val_df.set_index('algo')\n",
    "cross_val_df"
   ]
  },
  {
   "cell_type": "code",
   "execution_count": 19,
   "metadata": {},
   "outputs": [
    {
     "output_type": "display_data",
     "data": {
      "text/plain": "<Figure size 1080x288 with 4 Axes>",
      "image/svg+xml": "<?xml version=\"1.0\" encoding=\"utf-8\" standalone=\"no\"?>\r\n<!DOCTYPE svg PUBLIC \"-//W3C//DTD SVG 1.1//EN\"\r\n  \"http://www.w3.org/Graphics/SVG/1.1/DTD/svg11.dtd\">\r\n<!-- Created with matplotlib (https://matplotlib.org/) -->\r\n<svg height=\"242.898261pt\" version=\"1.1\" viewBox=\"0 0 865.078125 242.898261\" width=\"865.078125pt\" xmlns=\"http://www.w3.org/2000/svg\" xmlns:xlink=\"http://www.w3.org/1999/xlink\">\r\n <defs>\r\n  <style type=\"text/css\">\r\n*{stroke-linecap:butt;stroke-linejoin:round;}\r\n  </style>\r\n </defs>\r\n <g id=\"figure_1\">\r\n  <g id=\"patch_1\">\r\n   <path d=\"M 0 242.898261 \r\nL 865.078125 242.898261 \r\nL 865.078125 0 \r\nL 0 0 \r\nz\r\n\" style=\"fill:none;\"/>\r\n  </g>\r\n  <g id=\"axes_1\">\r\n   <g id=\"patch_2\">\r\n    <path d=\"M 184.638995 144.72 \r\nC 184.638995 132.625428 181.624291 120.719453 175.868412 110.082323 \r\nC 170.112533 99.445193 161.794988 90.408649 151.670441 83.792591 \r\nC 141.545894 77.176533 129.9301 73.187297 117.876978 72.186831 \r\nC 105.823856 71.186366 93.709308 73.205873 82.632507 78.06212 \r\nL 111.856386 144.72 \r\nL 184.638995 144.72 \r\nz\r\n\" style=\"fill:#1f77b4;\"/>\r\n   </g>\r\n   <g id=\"patch_3\">\r\n    <path d=\"M 82.632507 78.06212 \r\nC 74.432466 81.657148 66.96575 86.734624 60.608121 93.039022 \r\nC 54.250491 99.343421 49.110417 106.767182 45.446571 114.936706 \r\nL 111.856386 144.72 \r\nL 82.632507 78.06212 \r\nz\r\n\" style=\"fill:#ff7f0e;\"/>\r\n   </g>\r\n   <g id=\"patch_4\">\r\n    <path d=\"M 45.446571 114.936706 \r\nC 41.139511 124.540447 38.966511 134.965165 39.077849 145.489907 \r\nC 39.189188 156.014649 41.582239 166.391065 46.091504 175.901539 \r\nC 50.600768 185.412013 57.119841 193.832131 65.197876 200.57957 \r\nC 73.275911 207.32701 82.722292 212.242554 92.883724 214.986253 \r\nL 111.856386 144.72 \r\nL 45.446571 114.936706 \r\nz\r\n\" style=\"fill:#2ca02c;\"/>\r\n   </g>\r\n   <g id=\"patch_5\">\r\n    <path d=\"M 92.883724 214.986253 \r\nC 103.672636 217.899377 114.988931 218.288894 125.952615 216.124513 \r\nC 136.916299 213.960131 147.235616 209.299448 156.108098 202.504895 \r\nC 164.980581 195.710342 172.170124 186.962728 177.117642 176.9423 \r\nC 182.065159 166.921872 184.638994 155.895284 184.638995 144.720003 \r\nL 111.856386 144.72 \r\nL 92.883724 214.986253 \r\nz\r\n\" style=\"fill:#d62728;\"/>\r\n   </g>\r\n   <g id=\"matplotlib.axis_1\"/>\r\n   <g id=\"matplotlib.axis_2\">\r\n    <g id=\"text_1\">\r\n     <!-- linear reg. -->\r\n     <defs>\r\n      <path d=\"M 9.421875 75.984375 \r\nL 18.40625 75.984375 \r\nL 18.40625 0 \r\nL 9.421875 0 \r\nz\r\n\" id=\"DejaVuSans-108\"/>\r\n      <path d=\"M 9.421875 54.6875 \r\nL 18.40625 54.6875 \r\nL 18.40625 0 \r\nL 9.421875 0 \r\nz\r\nM 9.421875 75.984375 \r\nL 18.40625 75.984375 \r\nL 18.40625 64.59375 \r\nL 9.421875 64.59375 \r\nz\r\n\" id=\"DejaVuSans-105\"/>\r\n      <path d=\"M 54.890625 33.015625 \r\nL 54.890625 0 \r\nL 45.90625 0 \r\nL 45.90625 32.71875 \r\nQ 45.90625 40.484375 42.875 44.328125 \r\nQ 39.84375 48.1875 33.796875 48.1875 \r\nQ 26.515625 48.1875 22.3125 43.546875 \r\nQ 18.109375 38.921875 18.109375 30.90625 \r\nL 18.109375 0 \r\nL 9.078125 0 \r\nL 9.078125 54.6875 \r\nL 18.109375 54.6875 \r\nL 18.109375 46.1875 \r\nQ 21.34375 51.125 25.703125 53.5625 \r\nQ 30.078125 56 35.796875 56 \r\nQ 45.21875 56 50.046875 50.171875 \r\nQ 54.890625 44.34375 54.890625 33.015625 \r\nz\r\n\" id=\"DejaVuSans-110\"/>\r\n      <path d=\"M 56.203125 29.59375 \r\nL 56.203125 25.203125 \r\nL 14.890625 25.203125 \r\nQ 15.484375 15.921875 20.484375 11.0625 \r\nQ 25.484375 6.203125 34.421875 6.203125 \r\nQ 39.59375 6.203125 44.453125 7.46875 \r\nQ 49.3125 8.734375 54.109375 11.28125 \r\nL 54.109375 2.78125 \r\nQ 49.265625 0.734375 44.1875 -0.34375 \r\nQ 39.109375 -1.421875 33.890625 -1.421875 \r\nQ 20.796875 -1.421875 13.15625 6.1875 \r\nQ 5.515625 13.8125 5.515625 26.8125 \r\nQ 5.515625 40.234375 12.765625 48.109375 \r\nQ 20.015625 56 32.328125 56 \r\nQ 43.359375 56 49.78125 48.890625 \r\nQ 56.203125 41.796875 56.203125 29.59375 \r\nz\r\nM 47.21875 32.234375 \r\nQ 47.125 39.59375 43.09375 43.984375 \r\nQ 39.0625 48.390625 32.421875 48.390625 \r\nQ 24.90625 48.390625 20.390625 44.140625 \r\nQ 15.875 39.890625 15.1875 32.171875 \r\nz\r\n\" id=\"DejaVuSans-101\"/>\r\n      <path d=\"M 34.28125 27.484375 \r\nQ 23.390625 27.484375 19.1875 25 \r\nQ 14.984375 22.515625 14.984375 16.5 \r\nQ 14.984375 11.71875 18.140625 8.90625 \r\nQ 21.296875 6.109375 26.703125 6.109375 \r\nQ 34.1875 6.109375 38.703125 11.40625 \r\nQ 43.21875 16.703125 43.21875 25.484375 \r\nL 43.21875 27.484375 \r\nz\r\nM 52.203125 31.203125 \r\nL 52.203125 0 \r\nL 43.21875 0 \r\nL 43.21875 8.296875 \r\nQ 40.140625 3.328125 35.546875 0.953125 \r\nQ 30.953125 -1.421875 24.3125 -1.421875 \r\nQ 15.921875 -1.421875 10.953125 3.296875 \r\nQ 6 8.015625 6 15.921875 \r\nQ 6 25.140625 12.171875 29.828125 \r\nQ 18.359375 34.515625 30.609375 34.515625 \r\nL 43.21875 34.515625 \r\nL 43.21875 35.40625 \r\nQ 43.21875 41.609375 39.140625 45 \r\nQ 35.0625 48.390625 27.6875 48.390625 \r\nQ 23 48.390625 18.546875 47.265625 \r\nQ 14.109375 46.140625 10.015625 43.890625 \r\nL 10.015625 52.203125 \r\nQ 14.9375 54.109375 19.578125 55.046875 \r\nQ 24.21875 56 28.609375 56 \r\nQ 40.484375 56 46.34375 49.84375 \r\nQ 52.203125 43.703125 52.203125 31.203125 \r\nz\r\n\" id=\"DejaVuSans-97\"/>\r\n      <path d=\"M 41.109375 46.296875 \r\nQ 39.59375 47.171875 37.8125 47.578125 \r\nQ 36.03125 48 33.890625 48 \r\nQ 26.265625 48 22.1875 43.046875 \r\nQ 18.109375 38.09375 18.109375 28.8125 \r\nL 18.109375 0 \r\nL 9.078125 0 \r\nL 9.078125 54.6875 \r\nL 18.109375 54.6875 \r\nL 18.109375 46.1875 \r\nQ 20.953125 51.171875 25.484375 53.578125 \r\nQ 30.03125 56 36.53125 56 \r\nQ 37.453125 56 38.578125 55.875 \r\nQ 39.703125 55.765625 41.0625 55.515625 \r\nz\r\n\" id=\"DejaVuSans-114\"/>\r\n      <path id=\"DejaVuSans-32\"/>\r\n      <path d=\"M 45.40625 27.984375 \r\nQ 45.40625 37.75 41.375 43.109375 \r\nQ 37.359375 48.484375 30.078125 48.484375 \r\nQ 22.859375 48.484375 18.828125 43.109375 \r\nQ 14.796875 37.75 14.796875 27.984375 \r\nQ 14.796875 18.265625 18.828125 12.890625 \r\nQ 22.859375 7.515625 30.078125 7.515625 \r\nQ 37.359375 7.515625 41.375 12.890625 \r\nQ 45.40625 18.265625 45.40625 27.984375 \r\nz\r\nM 54.390625 6.78125 \r\nQ 54.390625 -7.171875 48.1875 -13.984375 \r\nQ 42 -20.796875 29.203125 -20.796875 \r\nQ 24.46875 -20.796875 20.265625 -20.09375 \r\nQ 16.0625 -19.390625 12.109375 -17.921875 \r\nL 12.109375 -9.1875 \r\nQ 16.0625 -11.328125 19.921875 -12.34375 \r\nQ 23.78125 -13.375 27.78125 -13.375 \r\nQ 36.625 -13.375 41.015625 -8.765625 \r\nQ 45.40625 -4.15625 45.40625 5.171875 \r\nL 45.40625 9.625 \r\nQ 42.625 4.78125 38.28125 2.390625 \r\nQ 33.9375 0 27.875 0 \r\nQ 17.828125 0 11.671875 7.65625 \r\nQ 5.515625 15.328125 5.515625 27.984375 \r\nQ 5.515625 40.671875 11.671875 48.328125 \r\nQ 17.828125 56 27.875 56 \r\nQ 33.9375 56 38.28125 53.609375 \r\nQ 42.625 51.21875 45.40625 46.390625 \r\nL 45.40625 54.6875 \r\nL 54.390625 54.6875 \r\nz\r\n\" id=\"DejaVuSans-103\"/>\r\n      <path d=\"M 10.6875 12.40625 \r\nL 21 12.40625 \r\nL 21 0 \r\nL 10.6875 0 \r\nz\r\n\" id=\"DejaVuSans-46\"/>\r\n     </defs>\r\n     <g transform=\"translate(14.798438 170.345781)rotate(-90)scale(0.1 -0.1)\">\r\n      <use xlink:href=\"#DejaVuSans-108\"/>\r\n      <use x=\"27.783203\" xlink:href=\"#DejaVuSans-105\"/>\r\n      <use x=\"55.566406\" xlink:href=\"#DejaVuSans-110\"/>\r\n      <use x=\"118.945312\" xlink:href=\"#DejaVuSans-101\"/>\r\n      <use x=\"180.46875\" xlink:href=\"#DejaVuSans-97\"/>\r\n      <use x=\"241.748047\" xlink:href=\"#DejaVuSans-114\"/>\r\n      <use x=\"282.861328\" xlink:href=\"#DejaVuSans-32\"/>\r\n      <use x=\"314.648438\" xlink:href=\"#DejaVuSans-114\"/>\r\n      <use x=\"355.730469\" xlink:href=\"#DejaVuSans-101\"/>\r\n      <use x=\"417.253906\" xlink:href=\"#DejaVuSans-103\"/>\r\n      <use x=\"480.730469\" xlink:href=\"#DejaVuSans-46\"/>\r\n     </g>\r\n    </g>\r\n   </g>\r\n   <g id=\"text_2\">\r\n    <!-- cv0 -->\r\n    <defs>\r\n     <path d=\"M 48.78125 52.59375 \r\nL 48.78125 44.1875 \r\nQ 44.96875 46.296875 41.140625 47.34375 \r\nQ 37.3125 48.390625 33.40625 48.390625 \r\nQ 24.65625 48.390625 19.8125 42.84375 \r\nQ 14.984375 37.3125 14.984375 27.296875 \r\nQ 14.984375 17.28125 19.8125 11.734375 \r\nQ 24.65625 6.203125 33.40625 6.203125 \r\nQ 37.3125 6.203125 41.140625 7.25 \r\nQ 44.96875 8.296875 48.78125 10.40625 \r\nL 48.78125 2.09375 \r\nQ 45.015625 0.34375 40.984375 -0.53125 \r\nQ 36.96875 -1.421875 32.421875 -1.421875 \r\nQ 20.0625 -1.421875 12.78125 6.34375 \r\nQ 5.515625 14.109375 5.515625 27.296875 \r\nQ 5.515625 40.671875 12.859375 48.328125 \r\nQ 20.21875 56 33.015625 56 \r\nQ 37.15625 56 41.109375 55.140625 \r\nQ 45.0625 54.296875 48.78125 52.59375 \r\nz\r\n\" id=\"DejaVuSans-99\"/>\r\n     <path d=\"M 2.984375 54.6875 \r\nL 12.5 54.6875 \r\nL 29.59375 8.796875 \r\nL 46.6875 54.6875 \r\nL 56.203125 54.6875 \r\nL 35.6875 0 \r\nL 23.484375 0 \r\nz\r\n\" id=\"DejaVuSans-118\"/>\r\n     <path d=\"M 31.78125 66.40625 \r\nQ 24.171875 66.40625 20.328125 58.90625 \r\nQ 16.5 51.421875 16.5 36.375 \r\nQ 16.5 21.390625 20.328125 13.890625 \r\nQ 24.171875 6.390625 31.78125 6.390625 \r\nQ 39.453125 6.390625 43.28125 13.890625 \r\nQ 47.125 21.390625 47.125 36.375 \r\nQ 47.125 51.421875 43.28125 58.90625 \r\nQ 39.453125 66.40625 31.78125 66.40625 \r\nz\r\nM 31.78125 74.21875 \r\nQ 44.046875 74.21875 50.515625 64.515625 \r\nQ 56.984375 54.828125 56.984375 36.375 \r\nQ 56.984375 17.96875 50.515625 8.265625 \r\nQ 44.046875 -1.421875 31.78125 -1.421875 \r\nQ 19.53125 -1.421875 13.0625 8.265625 \r\nQ 6.59375 17.96875 6.59375 36.375 \r\nQ 6.59375 54.828125 13.0625 64.515625 \r\nQ 19.53125 74.21875 31.78125 74.21875 \r\nz\r\n\" id=\"DejaVuSans-48\"/>\r\n    </defs>\r\n    <g transform=\"translate(155.651846 80.459225)scale(0.1 -0.1)\">\r\n     <use xlink:href=\"#DejaVuSans-99\"/>\r\n     <use x=\"54.980469\" xlink:href=\"#DejaVuSans-118\"/>\r\n     <use x=\"114.160156\" xlink:href=\"#DejaVuSans-48\"/>\r\n    </g>\r\n   </g>\r\n   <g id=\"text_3\">\r\n    <!-- cv1 -->\r\n    <defs>\r\n     <path d=\"M 12.40625 8.296875 \r\nL 28.515625 8.296875 \r\nL 28.515625 63.921875 \r\nL 10.984375 60.40625 \r\nL 10.984375 69.390625 \r\nL 28.421875 72.90625 \r\nL 38.28125 72.90625 \r\nL 38.28125 8.296875 \r\nL 54.390625 8.296875 \r\nL 54.390625 0 \r\nL 12.40625 0 \r\nz\r\n\" id=\"DejaVuSans-49\"/>\r\n    </defs>\r\n    <g transform=\"translate(37.703607 90.630299)scale(0.1 -0.1)\">\r\n     <use xlink:href=\"#DejaVuSans-99\"/>\r\n     <use x=\"54.980469\" xlink:href=\"#DejaVuSans-118\"/>\r\n     <use x=\"114.160156\" xlink:href=\"#DejaVuSans-49\"/>\r\n    </g>\r\n   </g>\r\n   <g id=\"text_4\">\r\n    <!-- cv2 -->\r\n    <defs>\r\n     <path d=\"M 19.1875 8.296875 \r\nL 53.609375 8.296875 \r\nL 53.609375 0 \r\nL 7.328125 0 \r\nL 7.328125 8.296875 \r\nQ 12.9375 14.109375 22.625 23.890625 \r\nQ 32.328125 33.6875 34.8125 36.53125 \r\nQ 39.546875 41.84375 41.421875 45.53125 \r\nQ 43.3125 49.21875 43.3125 52.78125 \r\nQ 43.3125 58.59375 39.234375 62.25 \r\nQ 35.15625 65.921875 28.609375 65.921875 \r\nQ 23.96875 65.921875 18.8125 64.3125 \r\nQ 13.671875 62.703125 7.8125 59.421875 \r\nL 7.8125 69.390625 \r\nQ 13.765625 71.78125 18.9375 73 \r\nQ 24.125 74.21875 28.421875 74.21875 \r\nQ 39.75 74.21875 46.484375 68.546875 \r\nQ 53.21875 62.890625 53.21875 53.421875 \r\nQ 53.21875 48.921875 51.53125 44.890625 \r\nQ 49.859375 40.875 45.40625 35.40625 \r\nQ 44.1875 33.984375 37.640625 27.21875 \r\nQ 31.109375 20.453125 19.1875 8.296875 \r\nz\r\n\" id=\"DejaVuSans-50\"/>\r\n    </defs>\r\n    <g transform=\"translate(21.735328 181.779068)scale(0.1 -0.1)\">\r\n     <use xlink:href=\"#DejaVuSans-99\"/>\r\n     <use x=\"54.980469\" xlink:href=\"#DejaVuSans-118\"/>\r\n     <use x=\"114.160156\" xlink:href=\"#DejaVuSans-50\"/>\r\n    </g>\r\n   </g>\r\n   <g id=\"text_5\">\r\n    <!-- cv3 -->\r\n    <defs>\r\n     <path d=\"M 40.578125 39.3125 \r\nQ 47.65625 37.796875 51.625 33 \r\nQ 55.609375 28.21875 55.609375 21.1875 \r\nQ 55.609375 10.40625 48.1875 4.484375 \r\nQ 40.765625 -1.421875 27.09375 -1.421875 \r\nQ 22.515625 -1.421875 17.65625 -0.515625 \r\nQ 12.796875 0.390625 7.625 2.203125 \r\nL 7.625 11.71875 \r\nQ 11.71875 9.328125 16.59375 8.109375 \r\nQ 21.484375 6.890625 26.8125 6.890625 \r\nQ 36.078125 6.890625 40.9375 10.546875 \r\nQ 45.796875 14.203125 45.796875 21.1875 \r\nQ 45.796875 27.640625 41.28125 31.265625 \r\nQ 36.765625 34.90625 28.71875 34.90625 \r\nL 20.21875 34.90625 \r\nL 20.21875 43.015625 \r\nL 29.109375 43.015625 \r\nQ 36.375 43.015625 40.234375 45.921875 \r\nQ 44.09375 48.828125 44.09375 54.296875 \r\nQ 44.09375 59.90625 40.109375 62.90625 \r\nQ 36.140625 65.921875 28.71875 65.921875 \r\nQ 24.65625 65.921875 20.015625 65.03125 \r\nQ 15.375 64.15625 9.8125 62.3125 \r\nL 9.8125 71.09375 \r\nQ 15.4375 72.65625 20.34375 73.4375 \r\nQ 25.25 74.21875 29.59375 74.21875 \r\nQ 40.828125 74.21875 47.359375 69.109375 \r\nQ 53.90625 64.015625 53.90625 55.328125 \r\nQ 53.90625 49.265625 50.4375 45.09375 \r\nQ 46.96875 40.921875 40.578125 39.3125 \r\nz\r\n\" id=\"DejaVuSans-51\"/>\r\n    </defs>\r\n    <g transform=\"translate(160.533269 211.042759)scale(0.1 -0.1)\">\r\n     <use xlink:href=\"#DejaVuSans-99\"/>\r\n     <use x=\"54.980469\" xlink:href=\"#DejaVuSans-118\"/>\r\n     <use x=\"114.160156\" xlink:href=\"#DejaVuSans-51\"/>\r\n    </g>\r\n   </g>\r\n   <g id=\"legend_1\">\r\n    <g id=\"patch_6\">\r\n     <path d=\"M 146.054959 120.454239 \r\nL 195.834647 120.454239 \r\nQ 197.834647 120.454239 197.834647 118.454239 \r\nL 197.834647 60.741739 \r\nQ 197.834647 58.741739 195.834647 58.741739 \r\nL 146.054959 58.741739 \r\nQ 144.054959 58.741739 144.054959 60.741739 \r\nL 144.054959 118.454239 \r\nQ 144.054959 120.454239 146.054959 120.454239 \r\nz\r\n\" style=\"fill:#ffffff;opacity:0.8;stroke:#cccccc;stroke-linejoin:miter;\"/>\r\n    </g>\r\n    <g id=\"patch_7\">\r\n     <path d=\"M 148.054959 70.340177 \r\nL 168.054959 70.340177 \r\nL 168.054959 63.340177 \r\nL 148.054959 63.340177 \r\nz\r\n\" style=\"fill:#1f77b4;\"/>\r\n    </g>\r\n    <g id=\"text_6\">\r\n     <!-- cv0 -->\r\n     <g transform=\"translate(176.054959 70.340177)scale(0.1 -0.1)\">\r\n      <use xlink:href=\"#DejaVuSans-99\"/>\r\n      <use x=\"54.980469\" xlink:href=\"#DejaVuSans-118\"/>\r\n      <use x=\"114.160156\" xlink:href=\"#DejaVuSans-48\"/>\r\n     </g>\r\n    </g>\r\n    <g id=\"patch_8\">\r\n     <path d=\"M 148.054959 85.018302 \r\nL 168.054959 85.018302 \r\nL 168.054959 78.018302 \r\nL 148.054959 78.018302 \r\nz\r\n\" style=\"fill:#ff7f0e;\"/>\r\n    </g>\r\n    <g id=\"text_7\">\r\n     <!-- cv1 -->\r\n     <g transform=\"translate(176.054959 85.018302)scale(0.1 -0.1)\">\r\n      <use xlink:href=\"#DejaVuSans-99\"/>\r\n      <use x=\"54.980469\" xlink:href=\"#DejaVuSans-118\"/>\r\n      <use x=\"114.160156\" xlink:href=\"#DejaVuSans-49\"/>\r\n     </g>\r\n    </g>\r\n    <g id=\"patch_9\">\r\n     <path d=\"M 148.054959 99.696427 \r\nL 168.054959 99.696427 \r\nL 168.054959 92.696427 \r\nL 148.054959 92.696427 \r\nz\r\n\" style=\"fill:#2ca02c;\"/>\r\n    </g>\r\n    <g id=\"text_8\">\r\n     <!-- cv2 -->\r\n     <g transform=\"translate(176.054959 99.696427)scale(0.1 -0.1)\">\r\n      <use xlink:href=\"#DejaVuSans-99\"/>\r\n      <use x=\"54.980469\" xlink:href=\"#DejaVuSans-118\"/>\r\n      <use x=\"114.160156\" xlink:href=\"#DejaVuSans-50\"/>\r\n     </g>\r\n    </g>\r\n    <g id=\"patch_10\">\r\n     <path d=\"M 148.054959 114.374552 \r\nL 168.054959 114.374552 \r\nL 168.054959 107.374552 \r\nL 148.054959 107.374552 \r\nz\r\n\" style=\"fill:#d62728;\"/>\r\n    </g>\r\n    <g id=\"text_9\">\r\n     <!-- cv3 -->\r\n     <g transform=\"translate(176.054959 114.374552)scale(0.1 -0.1)\">\r\n      <use xlink:href=\"#DejaVuSans-99\"/>\r\n      <use x=\"54.980469\" xlink:href=\"#DejaVuSans-118\"/>\r\n      <use x=\"114.160156\" xlink:href=\"#DejaVuSans-51\"/>\r\n     </g>\r\n    </g>\r\n   </g>\r\n  </g>\r\n  <g id=\"axes_2\">\r\n   <g id=\"patch_11\">\r\n    <path d=\"M 402.986821 144.72 \r\nC 402.986821 125.486529 395.362889 107.016137 381.796462 93.382413 \r\nC 368.230034 79.748688 349.797594 72.033454 330.564358 71.938282 \r\nL 330.204212 144.72 \r\nL 402.986821 144.72 \r\nz\r\n\" style=\"fill:#1f77b4;\"/>\r\n   </g>\r\n   <g id=\"patch_12\">\r\n    <path d=\"M 330.564358 71.938282 \r\nC 320.902062 71.89047 311.326273 73.767242 302.396874 77.458867 \r\nC 293.467475 81.150491 285.361955 86.583588 278.554232 93.440495 \r\nC 271.746509 100.297401 266.371899 108.441821 262.744649 117.397563 \r\nC 259.117399 126.353305 257.309608 135.942356 257.426973 145.604058 \r\nL 330.204212 144.72 \r\nL 330.564358 71.938282 \r\nz\r\n\" style=\"fill:#ff7f0e;\"/>\r\n   </g>\r\n   <g id=\"patch_13\">\r\n    <path d=\"M 257.426973 145.604058 \r\nC 257.543219 155.173672 259.545822 164.62706 263.319875 173.421806 \r\nC 267.093929 182.216551 272.565844 190.181167 279.421653 196.85866 \r\nC 286.277462 203.536153 294.383485 208.796319 303.274615 212.337342 \r\nC 312.165745 215.878365 321.668614 217.631198 331.237969 217.495267 \r\nL 330.204212 144.72 \r\nL 257.426973 145.604058 \r\nz\r\n\" style=\"fill:#2ca02c;\"/>\r\n   </g>\r\n   <g id=\"patch_14\">\r\n    <path d=\"M 331.237969 217.495267 \r\nC 350.353066 217.223741 368.612049 209.431721 382.033485 195.818283 \r\nC 395.454922 182.204845 402.986819 163.837032 402.986821 144.720007 \r\nL 330.204212 144.72 \r\nL 331.237969 217.495267 \r\nz\r\n\" style=\"fill:#d62728;\"/>\r\n   </g>\r\n   <g id=\"matplotlib.axis_3\"/>\r\n   <g id=\"matplotlib.axis_4\">\r\n    <g id=\"text_10\">\r\n     <!-- decision tree -->\r\n     <defs>\r\n      <path d=\"M 45.40625 46.390625 \r\nL 45.40625 75.984375 \r\nL 54.390625 75.984375 \r\nL 54.390625 0 \r\nL 45.40625 0 \r\nL 45.40625 8.203125 \r\nQ 42.578125 3.328125 38.25 0.953125 \r\nQ 33.9375 -1.421875 27.875 -1.421875 \r\nQ 17.96875 -1.421875 11.734375 6.484375 \r\nQ 5.515625 14.40625 5.515625 27.296875 \r\nQ 5.515625 40.1875 11.734375 48.09375 \r\nQ 17.96875 56 27.875 56 \r\nQ 33.9375 56 38.25 53.625 \r\nQ 42.578125 51.265625 45.40625 46.390625 \r\nz\r\nM 14.796875 27.296875 \r\nQ 14.796875 17.390625 18.875 11.75 \r\nQ 22.953125 6.109375 30.078125 6.109375 \r\nQ 37.203125 6.109375 41.296875 11.75 \r\nQ 45.40625 17.390625 45.40625 27.296875 \r\nQ 45.40625 37.203125 41.296875 42.84375 \r\nQ 37.203125 48.484375 30.078125 48.484375 \r\nQ 22.953125 48.484375 18.875 42.84375 \r\nQ 14.796875 37.203125 14.796875 27.296875 \r\nz\r\n\" id=\"DejaVuSans-100\"/>\r\n      <path d=\"M 44.28125 53.078125 \r\nL 44.28125 44.578125 \r\nQ 40.484375 46.53125 36.375 47.5 \r\nQ 32.28125 48.484375 27.875 48.484375 \r\nQ 21.1875 48.484375 17.84375 46.4375 \r\nQ 14.5 44.390625 14.5 40.28125 \r\nQ 14.5 37.15625 16.890625 35.375 \r\nQ 19.28125 33.59375 26.515625 31.984375 \r\nL 29.59375 31.296875 \r\nQ 39.15625 29.25 43.1875 25.515625 \r\nQ 47.21875 21.78125 47.21875 15.09375 \r\nQ 47.21875 7.46875 41.1875 3.015625 \r\nQ 35.15625 -1.421875 24.609375 -1.421875 \r\nQ 20.21875 -1.421875 15.453125 -0.5625 \r\nQ 10.6875 0.296875 5.421875 2 \r\nL 5.421875 11.28125 \r\nQ 10.40625 8.6875 15.234375 7.390625 \r\nQ 20.0625 6.109375 24.8125 6.109375 \r\nQ 31.15625 6.109375 34.5625 8.28125 \r\nQ 37.984375 10.453125 37.984375 14.40625 \r\nQ 37.984375 18.0625 35.515625 20.015625 \r\nQ 33.0625 21.96875 24.703125 23.78125 \r\nL 21.578125 24.515625 \r\nQ 13.234375 26.265625 9.515625 29.90625 \r\nQ 5.8125 33.546875 5.8125 39.890625 \r\nQ 5.8125 47.609375 11.28125 51.796875 \r\nQ 16.75 56 26.8125 56 \r\nQ 31.78125 56 36.171875 55.265625 \r\nQ 40.578125 54.546875 44.28125 53.078125 \r\nz\r\n\" id=\"DejaVuSans-115\"/>\r\n      <path d=\"M 30.609375 48.390625 \r\nQ 23.390625 48.390625 19.1875 42.75 \r\nQ 14.984375 37.109375 14.984375 27.296875 \r\nQ 14.984375 17.484375 19.15625 11.84375 \r\nQ 23.34375 6.203125 30.609375 6.203125 \r\nQ 37.796875 6.203125 41.984375 11.859375 \r\nQ 46.1875 17.53125 46.1875 27.296875 \r\nQ 46.1875 37.015625 41.984375 42.703125 \r\nQ 37.796875 48.390625 30.609375 48.390625 \r\nz\r\nM 30.609375 56 \r\nQ 42.328125 56 49.015625 48.375 \r\nQ 55.71875 40.765625 55.71875 27.296875 \r\nQ 55.71875 13.875 49.015625 6.21875 \r\nQ 42.328125 -1.421875 30.609375 -1.421875 \r\nQ 18.84375 -1.421875 12.171875 6.21875 \r\nQ 5.515625 13.875 5.515625 27.296875 \r\nQ 5.515625 40.765625 12.171875 48.375 \r\nQ 18.84375 56 30.609375 56 \r\nz\r\n\" id=\"DejaVuSans-111\"/>\r\n      <path d=\"M 18.3125 70.21875 \r\nL 18.3125 54.6875 \r\nL 36.8125 54.6875 \r\nL 36.8125 47.703125 \r\nL 18.3125 47.703125 \r\nL 18.3125 18.015625 \r\nQ 18.3125 11.328125 20.140625 9.421875 \r\nQ 21.96875 7.515625 27.59375 7.515625 \r\nL 36.8125 7.515625 \r\nL 36.8125 0 \r\nL 27.59375 0 \r\nQ 17.1875 0 13.234375 3.875 \r\nQ 9.28125 7.765625 9.28125 18.015625 \r\nL 9.28125 47.703125 \r\nL 2.6875 47.703125 \r\nL 2.6875 54.6875 \r\nL 9.28125 54.6875 \r\nL 9.28125 70.21875 \r\nz\r\n\" id=\"DejaVuSans-116\"/>\r\n     </defs>\r\n     <g transform=\"translate(233.146264 177.087187)rotate(-90)scale(0.1 -0.1)\">\r\n      <use xlink:href=\"#DejaVuSans-100\"/>\r\n      <use x=\"63.476562\" xlink:href=\"#DejaVuSans-101\"/>\r\n      <use x=\"125\" xlink:href=\"#DejaVuSans-99\"/>\r\n      <use x=\"179.980469\" xlink:href=\"#DejaVuSans-105\"/>\r\n      <use x=\"207.763672\" xlink:href=\"#DejaVuSans-115\"/>\r\n      <use x=\"259.863281\" xlink:href=\"#DejaVuSans-105\"/>\r\n      <use x=\"287.646484\" xlink:href=\"#DejaVuSans-111\"/>\r\n      <use x=\"348.828125\" xlink:href=\"#DejaVuSans-110\"/>\r\n      <use x=\"412.207031\" xlink:href=\"#DejaVuSans-32\"/>\r\n      <use x=\"443.994141\" xlink:href=\"#DejaVuSans-116\"/>\r\n      <use x=\"483.203125\" xlink:href=\"#DejaVuSans-114\"/>\r\n      <use x=\"524.285156\" xlink:href=\"#DejaVuSans-101\"/>\r\n      <use x=\"585.808594\" xlink:href=\"#DejaVuSans-101\"/>\r\n     </g>\r\n    </g>\r\n   </g>\r\n   <g id=\"text_11\">\r\n    <!-- cv0 -->\r\n    <g transform=\"translate(386.955687 91.008029)scale(0.1 -0.1)\">\r\n     <use xlink:href=\"#DejaVuSans-99\"/>\r\n     <use x=\"54.980469\" xlink:href=\"#DejaVuSans-118\"/>\r\n     <use x=\"114.160156\" xlink:href=\"#DejaVuSans-48\"/>\r\n    </g>\r\n   </g>\r\n   <g id=\"text_12\">\r\n    <!-- cv1 -->\r\n    <g transform=\"translate(255.609546 91.071919)scale(0.1 -0.1)\">\r\n     <use xlink:href=\"#DejaVuSans-99\"/>\r\n     <use x=\"54.980469\" xlink:href=\"#DejaVuSans-118\"/>\r\n     <use x=\"114.160156\" xlink:href=\"#DejaVuSans-49\"/>\r\n    </g>\r\n   </g>\r\n   <g id=\"text_13\">\r\n    <!-- cv2 -->\r\n    <g transform=\"translate(256.56371 204.831901)scale(0.1 -0.1)\">\r\n     <use xlink:href=\"#DejaVuSans-99\"/>\r\n     <use x=\"54.980469\" xlink:href=\"#DejaVuSans-118\"/>\r\n     <use x=\"114.160156\" xlink:href=\"#DejaVuSans-50\"/>\r\n    </g>\r\n   </g>\r\n   <g id=\"text_14\">\r\n    <!-- cv3 -->\r\n    <g transform=\"translate(387.216413 203.687486)scale(0.1 -0.1)\">\r\n     <use xlink:href=\"#DejaVuSans-99\"/>\r\n     <use x=\"54.980469\" xlink:href=\"#DejaVuSans-118\"/>\r\n     <use x=\"114.160156\" xlink:href=\"#DejaVuSans-51\"/>\r\n    </g>\r\n   </g>\r\n   <g id=\"legend_2\">\r\n    <g id=\"patch_15\">\r\n     <path d=\"M 364.402785 120.454239 \r\nL 414.182473 120.454239 \r\nQ 416.182473 120.454239 416.182473 118.454239 \r\nL 416.182473 60.741739 \r\nQ 416.182473 58.741739 414.182473 58.741739 \r\nL 364.402785 58.741739 \r\nQ 362.402785 58.741739 362.402785 60.741739 \r\nL 362.402785 118.454239 \r\nQ 362.402785 120.454239 364.402785 120.454239 \r\nz\r\n\" style=\"fill:#ffffff;opacity:0.8;stroke:#cccccc;stroke-linejoin:miter;\"/>\r\n    </g>\r\n    <g id=\"patch_16\">\r\n     <path d=\"M 366.402785 70.340177 \r\nL 386.402785 70.340177 \r\nL 386.402785 63.340177 \r\nL 366.402785 63.340177 \r\nz\r\n\" style=\"fill:#1f77b4;\"/>\r\n    </g>\r\n    <g id=\"text_15\">\r\n     <!-- cv0 -->\r\n     <g transform=\"translate(394.402785 70.340177)scale(0.1 -0.1)\">\r\n      <use xlink:href=\"#DejaVuSans-99\"/>\r\n      <use x=\"54.980469\" xlink:href=\"#DejaVuSans-118\"/>\r\n      <use x=\"114.160156\" xlink:href=\"#DejaVuSans-48\"/>\r\n     </g>\r\n    </g>\r\n    <g id=\"patch_17\">\r\n     <path d=\"M 366.402785 85.018302 \r\nL 386.402785 85.018302 \r\nL 386.402785 78.018302 \r\nL 366.402785 78.018302 \r\nz\r\n\" style=\"fill:#ff7f0e;\"/>\r\n    </g>\r\n    <g id=\"text_16\">\r\n     <!-- cv1 -->\r\n     <g transform=\"translate(394.402785 85.018302)scale(0.1 -0.1)\">\r\n      <use xlink:href=\"#DejaVuSans-99\"/>\r\n      <use x=\"54.980469\" xlink:href=\"#DejaVuSans-118\"/>\r\n      <use x=\"114.160156\" xlink:href=\"#DejaVuSans-49\"/>\r\n     </g>\r\n    </g>\r\n    <g id=\"patch_18\">\r\n     <path d=\"M 366.402785 99.696427 \r\nL 386.402785 99.696427 \r\nL 386.402785 92.696427 \r\nL 366.402785 92.696427 \r\nz\r\n\" style=\"fill:#2ca02c;\"/>\r\n    </g>\r\n    <g id=\"text_17\">\r\n     <!-- cv2 -->\r\n     <g transform=\"translate(394.402785 99.696427)scale(0.1 -0.1)\">\r\n      <use xlink:href=\"#DejaVuSans-99\"/>\r\n      <use x=\"54.980469\" xlink:href=\"#DejaVuSans-118\"/>\r\n      <use x=\"114.160156\" xlink:href=\"#DejaVuSans-50\"/>\r\n     </g>\r\n    </g>\r\n    <g id=\"patch_19\">\r\n     <path d=\"M 366.402785 114.374552 \r\nL 386.402785 114.374552 \r\nL 386.402785 107.374552 \r\nL 366.402785 107.374552 \r\nz\r\n\" style=\"fill:#d62728;\"/>\r\n    </g>\r\n    <g id=\"text_18\">\r\n     <!-- cv3 -->\r\n     <g transform=\"translate(394.402785 114.374552)scale(0.1 -0.1)\">\r\n      <use xlink:href=\"#DejaVuSans-99\"/>\r\n      <use x=\"54.980469\" xlink:href=\"#DejaVuSans-118\"/>\r\n      <use x=\"114.160156\" xlink:href=\"#DejaVuSans-51\"/>\r\n     </g>\r\n    </g>\r\n   </g>\r\n  </g>\r\n  <g id=\"axes_3\">\r\n   <g id=\"patch_20\">\r\n    <path d=\"M 621.334647 144.72 \r\nC 621.334647 125.460291 613.689901 106.96681 600.090741 93.328656 \r\nC 586.491582 79.690503 568.020065 71.992836 548.760436 71.93769 \r\nL 548.552038 144.72 \r\nL 621.334647 144.72 \r\nz\r\n\" style=\"fill:#1f77b4;\"/>\r\n   </g>\r\n   <g id=\"patch_21\">\r\n    <path d=\"M 548.760436 71.93769 \r\nC 529.513046 71.882579 511.008549 79.464659 497.333616 93.009446 \r\nC 483.658683 106.554234 475.900004 124.985383 475.771063 144.23242 \r\nL 548.552038 144.72 \r\nL 548.760436 71.93769 \r\nz\r\n\" style=\"fill:#ff7f0e;\"/>\r\n   </g>\r\n   <g id=\"patch_22\">\r\n    <path d=\"M 475.771063 144.23242 \r\nC 475.706837 153.81936 477.537473 163.325193 481.157569 172.202606 \r\nC 484.777665 181.080019 490.116384 189.155301 496.86634 195.963505 \r\nC 503.616297 202.771708 511.64541 208.179613 520.491391 211.87585 \r\nC 529.337373 215.572088 538.827126 217.48433 548.414265 217.502478 \r\nL 548.552038 144.72 \r\nL 475.771063 144.23242 \r\nz\r\n\" style=\"fill:#2ca02c;\"/>\r\n   </g>\r\n   <g id=\"patch_23\">\r\n    <path d=\"M 548.414265 217.502478 \r\nC 557.983564 217.520592 567.463161 215.6513 576.309247 212.001836 \r\nC 585.155333 208.352372 593.195456 202.993881 599.968386 196.233759 \r\nC 606.741315 189.473636 612.115015 181.44367 615.781216 172.604507 \r\nC 619.447417 163.765345 621.334649 154.289303 621.334647 144.719986 \r\nL 548.552038 144.72 \r\nL 548.414265 217.502478 \r\nz\r\n\" style=\"fill:#d62728;\"/>\r\n   </g>\r\n   <g id=\"matplotlib.axis_5\"/>\r\n   <g id=\"matplotlib.axis_6\">\r\n    <g id=\"text_19\">\r\n     <!-- random forest -->\r\n     <defs>\r\n      <path d=\"M 52 44.1875 \r\nQ 55.375 50.25 60.0625 53.125 \r\nQ 64.75 56 71.09375 56 \r\nQ 79.640625 56 84.28125 50.015625 \r\nQ 88.921875 44.046875 88.921875 33.015625 \r\nL 88.921875 0 \r\nL 79.890625 0 \r\nL 79.890625 32.71875 \r\nQ 79.890625 40.578125 77.09375 44.375 \r\nQ 74.3125 48.1875 68.609375 48.1875 \r\nQ 61.625 48.1875 57.5625 43.546875 \r\nQ 53.515625 38.921875 53.515625 30.90625 \r\nL 53.515625 0 \r\nL 44.484375 0 \r\nL 44.484375 32.71875 \r\nQ 44.484375 40.625 41.703125 44.40625 \r\nQ 38.921875 48.1875 33.109375 48.1875 \r\nQ 26.21875 48.1875 22.15625 43.53125 \r\nQ 18.109375 38.875 18.109375 30.90625 \r\nL 18.109375 0 \r\nL 9.078125 0 \r\nL 9.078125 54.6875 \r\nL 18.109375 54.6875 \r\nL 18.109375 46.1875 \r\nQ 21.1875 51.21875 25.484375 53.609375 \r\nQ 29.78125 56 35.6875 56 \r\nQ 41.65625 56 45.828125 52.96875 \r\nQ 50 49.953125 52 44.1875 \r\nz\r\n\" id=\"DejaVuSans-109\"/>\r\n      <path d=\"M 37.109375 75.984375 \r\nL 37.109375 68.5 \r\nL 28.515625 68.5 \r\nQ 23.6875 68.5 21.796875 66.546875 \r\nQ 19.921875 64.59375 19.921875 59.515625 \r\nL 19.921875 54.6875 \r\nL 34.71875 54.6875 \r\nL 34.71875 47.703125 \r\nL 19.921875 47.703125 \r\nL 19.921875 0 \r\nL 10.890625 0 \r\nL 10.890625 47.703125 \r\nL 2.296875 47.703125 \r\nL 2.296875 54.6875 \r\nL 10.890625 54.6875 \r\nL 10.890625 58.5 \r\nQ 10.890625 67.625 15.140625 71.796875 \r\nQ 19.390625 75.984375 28.609375 75.984375 \r\nz\r\n\" id=\"DejaVuSans-102\"/>\r\n     </defs>\r\n     <g transform=\"translate(451.49409 180.216094)rotate(-90)scale(0.1 -0.1)\">\r\n      <use xlink:href=\"#DejaVuSans-114\"/>\r\n      <use x=\"41.113281\" xlink:href=\"#DejaVuSans-97\"/>\r\n      <use x=\"102.392578\" xlink:href=\"#DejaVuSans-110\"/>\r\n      <use x=\"165.771484\" xlink:href=\"#DejaVuSans-100\"/>\r\n      <use x=\"229.248047\" xlink:href=\"#DejaVuSans-111\"/>\r\n      <use x=\"290.429688\" xlink:href=\"#DejaVuSans-109\"/>\r\n      <use x=\"387.841797\" xlink:href=\"#DejaVuSans-32\"/>\r\n      <use x=\"419.628906\" xlink:href=\"#DejaVuSans-102\"/>\r\n      <use x=\"454.833984\" xlink:href=\"#DejaVuSans-111\"/>\r\n      <use x=\"516.015625\" xlink:href=\"#DejaVuSans-114\"/>\r\n      <use x=\"557.097656\" xlink:href=\"#DejaVuSans-101\"/>\r\n      <use x=\"618.621094\" xlink:href=\"#DejaVuSans-115\"/>\r\n      <use x=\"670.720703\" xlink:href=\"#DejaVuSans-116\"/>\r\n     </g>\r\n    </g>\r\n   </g>\r\n   <g id=\"text_20\">\r\n    <!-- cv0 -->\r\n    <g transform=\"translate(605.244612 90.948897)scale(0.1 -0.1)\">\r\n     <use xlink:href=\"#DejaVuSans-99\"/>\r\n     <use x=\"54.980469\" xlink:href=\"#DejaVuSans-118\"/>\r\n     <use x=\"114.160156\" xlink:href=\"#DejaVuSans-48\"/>\r\n    </g>\r\n   </g>\r\n   <g id=\"text_21\">\r\n    <!-- cv1 -->\r\n    <g transform=\"translate(474.432086 90.597766)scale(0.1 -0.1)\">\r\n     <use xlink:href=\"#DejaVuSans-99\"/>\r\n     <use x=\"54.980469\" xlink:href=\"#DejaVuSans-118\"/>\r\n     <use x=\"114.160156\" xlink:href=\"#DejaVuSans-49\"/>\r\n    </g>\r\n   </g>\r\n   <g id=\"text_22\">\r\n    <!-- cv2 -->\r\n    <g transform=\"translate(473.918083 203.84723)scale(0.1 -0.1)\">\r\n     <use xlink:href=\"#DejaVuSans-99\"/>\r\n     <use x=\"54.980469\" xlink:href=\"#DejaVuSans-118\"/>\r\n     <use x=\"114.160156\" xlink:href=\"#DejaVuSans-50\"/>\r\n    </g>\r\n   </g>\r\n   <g id=\"text_23\">\r\n    <!-- cv3 -->\r\n    <g transform=\"translate(605.11002 204.144509)scale(0.1 -0.1)\">\r\n     <use xlink:href=\"#DejaVuSans-99\"/>\r\n     <use x=\"54.980469\" xlink:href=\"#DejaVuSans-118\"/>\r\n     <use x=\"114.160156\" xlink:href=\"#DejaVuSans-51\"/>\r\n    </g>\r\n   </g>\r\n   <g id=\"legend_3\">\r\n    <g id=\"patch_24\">\r\n     <path d=\"M 582.750611 120.454239 \r\nL 632.530299 120.454239 \r\nQ 634.530299 120.454239 634.530299 118.454239 \r\nL 634.530299 60.741739 \r\nQ 634.530299 58.741739 632.530299 58.741739 \r\nL 582.750611 58.741739 \r\nQ 580.750611 58.741739 580.750611 60.741739 \r\nL 580.750611 118.454239 \r\nQ 580.750611 120.454239 582.750611 120.454239 \r\nz\r\n\" style=\"fill:#ffffff;opacity:0.8;stroke:#cccccc;stroke-linejoin:miter;\"/>\r\n    </g>\r\n    <g id=\"patch_25\">\r\n     <path d=\"M 584.750611 70.340177 \r\nL 604.750611 70.340177 \r\nL 604.750611 63.340177 \r\nL 584.750611 63.340177 \r\nz\r\n\" style=\"fill:#1f77b4;\"/>\r\n    </g>\r\n    <g id=\"text_24\">\r\n     <!-- cv0 -->\r\n     <g transform=\"translate(612.750611 70.340177)scale(0.1 -0.1)\">\r\n      <use xlink:href=\"#DejaVuSans-99\"/>\r\n      <use x=\"54.980469\" xlink:href=\"#DejaVuSans-118\"/>\r\n      <use x=\"114.160156\" xlink:href=\"#DejaVuSans-48\"/>\r\n     </g>\r\n    </g>\r\n    <g id=\"patch_26\">\r\n     <path d=\"M 584.750611 85.018302 \r\nL 604.750611 85.018302 \r\nL 604.750611 78.018302 \r\nL 584.750611 78.018302 \r\nz\r\n\" style=\"fill:#ff7f0e;\"/>\r\n    </g>\r\n    <g id=\"text_25\">\r\n     <!-- cv1 -->\r\n     <g transform=\"translate(612.750611 85.018302)scale(0.1 -0.1)\">\r\n      <use xlink:href=\"#DejaVuSans-99\"/>\r\n      <use x=\"54.980469\" xlink:href=\"#DejaVuSans-118\"/>\r\n      <use x=\"114.160156\" xlink:href=\"#DejaVuSans-49\"/>\r\n     </g>\r\n    </g>\r\n    <g id=\"patch_27\">\r\n     <path d=\"M 584.750611 99.696427 \r\nL 604.750611 99.696427 \r\nL 604.750611 92.696427 \r\nL 584.750611 92.696427 \r\nz\r\n\" style=\"fill:#2ca02c;\"/>\r\n    </g>\r\n    <g id=\"text_26\">\r\n     <!-- cv2 -->\r\n     <g transform=\"translate(612.750611 99.696427)scale(0.1 -0.1)\">\r\n      <use xlink:href=\"#DejaVuSans-99\"/>\r\n      <use x=\"54.980469\" xlink:href=\"#DejaVuSans-118\"/>\r\n      <use x=\"114.160156\" xlink:href=\"#DejaVuSans-50\"/>\r\n     </g>\r\n    </g>\r\n    <g id=\"patch_28\">\r\n     <path d=\"M 584.750611 114.374552 \r\nL 604.750611 114.374552 \r\nL 604.750611 107.374552 \r\nL 584.750611 107.374552 \r\nz\r\n\" style=\"fill:#d62728;\"/>\r\n    </g>\r\n    <g id=\"text_27\">\r\n     <!-- cv3 -->\r\n     <g transform=\"translate(612.750611 114.374552)scale(0.1 -0.1)\">\r\n      <use xlink:href=\"#DejaVuSans-99\"/>\r\n      <use x=\"54.980469\" xlink:href=\"#DejaVuSans-118\"/>\r\n      <use x=\"114.160156\" xlink:href=\"#DejaVuSans-51\"/>\r\n     </g>\r\n    </g>\r\n   </g>\r\n  </g>\r\n  <g id=\"axes_4\">\r\n   <g id=\"patch_29\">\r\n    <path d=\"M 839.682473 144.72 \r\nC 839.682473 133.434669 837.057697 122.302478 832.016204 112.205843 \r\nC 826.974711 102.109208 819.653325 93.322148 810.63239 86.541187 \r\nC 801.611456 79.760226 791.135797 75.169397 780.03579 73.132602 \r\nC 768.935784 71.095807 757.512677 71.668323 746.671949 74.804769 \r\nL 766.899864 144.72 \r\nL 839.682473 144.72 \r\nz\r\n\" style=\"fill:#1f77b4;\"/>\r\n   </g>\r\n   <g id=\"patch_30\">\r\n    <path d=\"M 746.671949 74.804769 \r\nC 730.047022 79.614702 715.670736 90.200204 706.142048 104.647617 \r\nC 696.61336 119.09503 692.543291 136.477924 694.667632 153.653803 \r\nL 766.899864 144.72 \r\nL 746.671949 74.804769 \r\nz\r\n\" style=\"fill:#ff7f0e;\"/>\r\n   </g>\r\n   <g id=\"patch_31\">\r\n    <path d=\"M 694.667632 153.653803 \r\nC 696.825526 171.10096 705.233357 187.188928 718.325381 198.921732 \r\nC 731.417405 210.654536 748.32715 217.255662 765.905606 217.495817 \r\nL 766.899864 144.72 \r\nL 694.667632 153.653803 \r\nz\r\n\" style=\"fill:#2ca02c;\"/>\r\n   </g>\r\n   <g id=\"patch_32\">\r\n    <path d=\"M 765.905606 217.495817 \r\nC 775.546089 217.627525 785.117349 215.842343 794.06216 212.244202 \r\nC 803.006971 208.64606 811.148313 203.306169 818.012208 196.535407 \r\nC 824.876103 189.764646 830.326713 181.69701 834.04671 172.802186 \r\nC 837.766708 163.907363 839.682473 154.361383 839.682473 144.72 \r\nL 766.899864 144.72 \r\nL 765.905606 217.495817 \r\nz\r\n\" style=\"fill:#d62728;\"/>\r\n   </g>\r\n   <g id=\"matplotlib.axis_7\"/>\r\n   <g id=\"matplotlib.axis_8\">\r\n    <g id=\"text_28\">\r\n     <!-- knn -->\r\n     <defs>\r\n      <path d=\"M 9.078125 75.984375 \r\nL 18.109375 75.984375 \r\nL 18.109375 31.109375 \r\nL 44.921875 54.6875 \r\nL 56.390625 54.6875 \r\nL 27.390625 29.109375 \r\nL 57.625 0 \r\nL 45.90625 0 \r\nL 18.109375 26.703125 \r\nL 18.109375 0 \r\nL 9.078125 0 \r\nz\r\n\" id=\"DejaVuSans-107\"/>\r\n     </defs>\r\n     <g transform=\"translate(669.841916 153.952812)rotate(-90)scale(0.1 -0.1)\">\r\n      <use xlink:href=\"#DejaVuSans-107\"/>\r\n      <use x=\"57.910156\" xlink:href=\"#DejaVuSans-110\"/>\r\n      <use x=\"121.289062\" xlink:href=\"#DejaVuSans-110\"/>\r\n     </g>\r\n    </g>\r\n   </g>\r\n   <g id=\"text_29\">\r\n    <!-- cv0 -->\r\n    <g transform=\"translate(815.005643 83.482681)scale(0.1 -0.1)\">\r\n     <use xlink:href=\"#DejaVuSans-99\"/>\r\n     <use x=\"54.980469\" xlink:href=\"#DejaVuSans-118\"/>\r\n     <use x=\"114.160156\" xlink:href=\"#DejaVuSans-48\"/>\r\n    </g>\r\n   </g>\r\n   <g id=\"text_30\">\r\n    <!-- cv1 -->\r\n    <g transform=\"translate(682.286579 103.399754)scale(0.1 -0.1)\">\r\n     <use xlink:href=\"#DejaVuSans-99\"/>\r\n     <use x=\"54.980469\" xlink:href=\"#DejaVuSans-118\"/>\r\n     <use x=\"114.160156\" xlink:href=\"#DejaVuSans-49\"/>\r\n    </g>\r\n   </g>\r\n   <g id=\"text_31\">\r\n    <!-- cv2 -->\r\n    <g transform=\"translate(695.688245 207.10128)scale(0.1 -0.1)\">\r\n     <use xlink:href=\"#DejaVuSans-99\"/>\r\n     <use x=\"54.980469\" xlink:href=\"#DejaVuSans-118\"/>\r\n     <use x=\"114.160156\" xlink:href=\"#DejaVuSans-50\"/>\r\n    </g>\r\n   </g>\r\n   <g id=\"text_32\">\r\n    <!-- cv3 -->\r\n    <g transform=\"translate(823.123443 204.476323)scale(0.1 -0.1)\">\r\n     <use xlink:href=\"#DejaVuSans-99\"/>\r\n     <use x=\"54.980469\" xlink:href=\"#DejaVuSans-118\"/>\r\n     <use x=\"114.160156\" xlink:href=\"#DejaVuSans-51\"/>\r\n    </g>\r\n   </g>\r\n   <g id=\"legend_4\">\r\n    <g id=\"patch_33\">\r\n     <path d=\"M 801.098438 120.454239 \r\nL 850.878125 120.454239 \r\nQ 852.878125 120.454239 852.878125 118.454239 \r\nL 852.878125 60.741739 \r\nQ 852.878125 58.741739 850.878125 58.741739 \r\nL 801.098438 58.741739 \r\nQ 799.098438 58.741739 799.098438 60.741739 \r\nL 799.098438 118.454239 \r\nQ 799.098438 120.454239 801.098438 120.454239 \r\nz\r\n\" style=\"fill:#ffffff;opacity:0.8;stroke:#cccccc;stroke-linejoin:miter;\"/>\r\n    </g>\r\n    <g id=\"patch_34\">\r\n     <path d=\"M 803.098438 70.340177 \r\nL 823.098438 70.340177 \r\nL 823.098438 63.340177 \r\nL 803.098438 63.340177 \r\nz\r\n\" style=\"fill:#1f77b4;\"/>\r\n    </g>\r\n    <g id=\"text_33\">\r\n     <!-- cv0 -->\r\n     <g transform=\"translate(831.098438 70.340177)scale(0.1 -0.1)\">\r\n      <use xlink:href=\"#DejaVuSans-99\"/>\r\n      <use x=\"54.980469\" xlink:href=\"#DejaVuSans-118\"/>\r\n      <use x=\"114.160156\" xlink:href=\"#DejaVuSans-48\"/>\r\n     </g>\r\n    </g>\r\n    <g id=\"patch_35\">\r\n     <path d=\"M 803.098438 85.018302 \r\nL 823.098438 85.018302 \r\nL 823.098438 78.018302 \r\nL 803.098438 78.018302 \r\nz\r\n\" style=\"fill:#ff7f0e;\"/>\r\n    </g>\r\n    <g id=\"text_34\">\r\n     <!-- cv1 -->\r\n     <g transform=\"translate(831.098438 85.018302)scale(0.1 -0.1)\">\r\n      <use xlink:href=\"#DejaVuSans-99\"/>\r\n      <use x=\"54.980469\" xlink:href=\"#DejaVuSans-118\"/>\r\n      <use x=\"114.160156\" xlink:href=\"#DejaVuSans-49\"/>\r\n     </g>\r\n    </g>\r\n    <g id=\"patch_36\">\r\n     <path d=\"M 803.098438 99.696427 \r\nL 823.098438 99.696427 \r\nL 823.098438 92.696427 \r\nL 803.098438 92.696427 \r\nz\r\n\" style=\"fill:#2ca02c;\"/>\r\n    </g>\r\n    <g id=\"text_35\">\r\n     <!-- cv2 -->\r\n     <g transform=\"translate(831.098438 99.696427)scale(0.1 -0.1)\">\r\n      <use xlink:href=\"#DejaVuSans-99\"/>\r\n      <use x=\"54.980469\" xlink:href=\"#DejaVuSans-118\"/>\r\n      <use x=\"114.160156\" xlink:href=\"#DejaVuSans-50\"/>\r\n     </g>\r\n    </g>\r\n    <g id=\"patch_37\">\r\n     <path d=\"M 803.098438 114.374552 \r\nL 823.098438 114.374552 \r\nL 823.098438 107.374552 \r\nL 803.098438 107.374552 \r\nz\r\n\" style=\"fill:#d62728;\"/>\r\n    </g>\r\n    <g id=\"text_36\">\r\n     <!-- cv3 -->\r\n     <g transform=\"translate(831.098438 114.374552)scale(0.1 -0.1)\">\r\n      <use xlink:href=\"#DejaVuSans-99\"/>\r\n      <use x=\"54.980469\" xlink:href=\"#DejaVuSans-118\"/>\r\n      <use x=\"114.160156\" xlink:href=\"#DejaVuSans-51\"/>\r\n     </g>\r\n    </g>\r\n   </g>\r\n  </g>\r\n  <g id=\"text_37\">\r\n   <!-- cross validation -->\r\n   <g transform=\"translate(378.744375 16.318125)scale(0.12 -0.12)\">\r\n    <use xlink:href=\"#DejaVuSans-99\"/>\r\n    <use x=\"54.980469\" xlink:href=\"#DejaVuSans-114\"/>\r\n    <use x=\"96.0625\" xlink:href=\"#DejaVuSans-111\"/>\r\n    <use x=\"157.244141\" xlink:href=\"#DejaVuSans-115\"/>\r\n    <use x=\"209.34375\" xlink:href=\"#DejaVuSans-115\"/>\r\n    <use x=\"261.443359\" xlink:href=\"#DejaVuSans-32\"/>\r\n    <use x=\"293.230469\" xlink:href=\"#DejaVuSans-118\"/>\r\n    <use x=\"352.410156\" xlink:href=\"#DejaVuSans-97\"/>\r\n    <use x=\"413.689453\" xlink:href=\"#DejaVuSans-108\"/>\r\n    <use x=\"441.472656\" xlink:href=\"#DejaVuSans-105\"/>\r\n    <use x=\"469.255859\" xlink:href=\"#DejaVuSans-100\"/>\r\n    <use x=\"532.732422\" xlink:href=\"#DejaVuSans-97\"/>\r\n    <use x=\"594.011719\" xlink:href=\"#DejaVuSans-116\"/>\r\n    <use x=\"633.220703\" xlink:href=\"#DejaVuSans-105\"/>\r\n    <use x=\"661.003906\" xlink:href=\"#DejaVuSans-111\"/>\r\n    <use x=\"722.185547\" xlink:href=\"#DejaVuSans-110\"/>\r\n   </g>\r\n  </g>\r\n </g>\r\n</svg>\r\n",
      "image/png": "[encoded data removed]"
     },
     "metadata": {}
    }
   ],
   "source": [
    "cross_val_df.T.plot(kind='pie',subplots=True,figsize=(15,4),title='cross validation')\n",
    "plt.show()"
   ]
  },
  {
   "source": [
    "# Grid Search"
   ],
   "cell_type": "markdown",
   "metadata": {}
  },
  {
   "cell_type": "code",
   "execution_count": 20,
   "metadata": {},
   "outputs": [],
   "source": [
    "from sklearn.model_selection import GridSearchCV"
   ]
  },
  {
   "cell_type": "code",
   "execution_count": 22,
   "metadata": {},
   "outputs": [
    {
     "output_type": "stream",
     "name": "stdout",
     "text": [
      "mean score => 97.88, cross val => [98.08142915 97.60598161 97.84631408 97.96832967]\n"
     ]
    }
   ],
   "source": [
    "# random forest\n",
    "scores = cross_val_score(m2,x,y,cv=4)\n",
    "print(f'mean score => {scores.mean() *100:.2f}, cross val => {scores * 100}')"
   ]
  },
  {
   "cell_type": "code",
   "execution_count": 23,
   "metadata": {},
   "outputs": [],
   "source": [
    "params = {\n",
    "    'n_estimators':[10,50,100,150,300,500],\n",
    "    'criterion':['mse','mae'],\n",
    "    'max_features':['auto','sqrt','log2']\n",
    "}\n",
    "model = RandomForestRegressor()\n",
    "grid = GridSearchCV(model, param_grid=params, cv=3, n_jobs=-1,verbose=True)"
   ]
  },
  {
   "cell_type": "code",
   "execution_count": 24,
   "metadata": {},
   "outputs": [
    {
     "output_type": "execute_result",
     "data": {
      "text/plain": [
       "GridSearchCV(cv=3, error_score='raise-deprecating',\n",
       "             estimator=RandomForestRegressor(bootstrap=True, criterion='mse',\n",
       "                                             max_depth=None,\n",
       "                                             max_features='auto',\n",
       "                                             max_leaf_nodes=None,\n",
       "                                             min_impurity_decrease=0.0,\n",
       "                                             min_impurity_split=None,\n",
       "                                             min_samples_leaf=1,\n",
       "                                             min_samples_split=2,\n",
       "                                             min_weight_fraction_leaf=0.0,\n",
       "                                             n_estimators='warn', n_jobs=None,\n",
       "                                             oob_score=False, random_state=None,\n",
       "                                             verbose=0, warm_start=False),\n",
       "             iid='warn', n_jobs=-1,\n",
       "             param_grid={'criterion': ['mse', 'mae'],\n",
       "                         'max_features': ['auto', 'sqrt', 'log2'],\n",
       "                         'n_estimators': [10, 50, 100, 150, 300, 500]},\n",
       "             pre_dispatch='2*n_jobs', refit=True, return_train_score=False,\n",
       "             scoring=None, verbose=True)"
      ]
     },
     "metadata": {},
     "execution_count": 24
    }
   ],
   "source": [
    "grid"
   ]
  },
  {
   "source": [
    "# this is wat the grid object does\n",
    "    - RandomForestRegressor(n_estimators=10,criterion='mse',max_features='auto')\n",
    "    - RandomForestRegressor(n_estimators=50,criterion='mse',max_features='auto')\n",
    "    - RandomForestRegressor(n_estimators=100,criterion='mse',max_features='auto')\n",
    "    - RandomForestRegressor(n_estimators=150,criterion='mse',max_features='auto')\n",
    "    - RandomForestRegressor(n_estimators=300,criterion='mse',max_features='auto')\n",
    "    - RandomForestRegressor(n_estimators=500,criterion='mse',max_features='auto')\n",
    "    - RandomForestRegressor(n_estimators=10,criterion='mae',max_features='auto')\n",
    "    - RandomForestRegressor(n_estimators=10,criterion='mae',max_features='sqrt')\n",
    "    - RandomForestRegressor(n_estimators=10,criterion='mae',max_features='log2')\n",
    "    - ...\n",
    "and so on"
   ],
   "cell_type": "markdown",
   "metadata": {}
  },
  {
   "cell_type": "code",
   "execution_count": 25,
   "metadata": {},
   "outputs": [
    {
     "output_type": "stream",
     "name": "stdout",
     "text": [
      "Fitting 3 folds for each of 36 candidates, totalling 108 fits\n",
      "[Parallel(n_jobs=-1)]: Using backend LokyBackend with 8 concurrent workers.\n",
      "[Parallel(n_jobs=-1)]: Done  34 tasks      | elapsed:   37.7s\n",
      "[Parallel(n_jobs=-1)]: Done 108 out of 108 | elapsed:  1.1min finished\n"
     ]
    },
    {
     "output_type": "execute_result",
     "data": {
      "text/plain": [
       "GridSearchCV(cv=3, error_score='raise-deprecating',\n",
       "             estimator=RandomForestRegressor(bootstrap=True, criterion='mse',\n",
       "                                             max_depth=None,\n",
       "                                             max_features='auto',\n",
       "                                             max_leaf_nodes=None,\n",
       "                                             min_impurity_decrease=0.0,\n",
       "                                             min_impurity_split=None,\n",
       "                                             min_samples_leaf=1,\n",
       "                                             min_samples_split=2,\n",
       "                                             min_weight_fraction_leaf=0.0,\n",
       "                                             n_estimators='warn', n_jobs=None,\n",
       "                                             oob_score=False, random_state=None,\n",
       "                                             verbose=0, warm_start=False),\n",
       "             iid='warn', n_jobs=-1,\n",
       "             param_grid={'criterion': ['mse', 'mae'],\n",
       "                         'max_features': ['auto', 'sqrt', 'log2'],\n",
       "                         'n_estimators': [10, 50, 100, 150, 300, 500]},\n",
       "             pre_dispatch='2*n_jobs', refit=True, return_train_score=False,\n",
       "             scoring=None, verbose=True)"
      ]
     },
     "metadata": {},
     "execution_count": 25
    }
   ],
   "source": [
    "grid.fit(x,y)"
   ]
  },
  {
   "cell_type": "code",
   "execution_count": 26,
   "metadata": {},
   "outputs": [
    {
     "output_type": "execute_result",
     "data": {
      "text/plain": [
       "dict_keys(['mean_fit_time', 'std_fit_time', 'mean_score_time', 'std_score_time', 'param_criterion', 'param_max_features', 'param_n_estimators', 'params', 'split0_test_score', 'split1_test_score', 'split2_test_score', 'mean_test_score', 'std_test_score', 'rank_test_score'])"
      ]
     },
     "metadata": {},
     "execution_count": 26
    }
   ],
   "source": [
    "grid.cv_results_.keys()"
   ]
  },
  {
   "cell_type": "code",
   "execution_count": 27,
   "metadata": {},
   "outputs": [
    {
     "output_type": "execute_result",
     "data": {
      "text/plain": [
       "array([30, 27, 20, 17,  6, 10, 35, 31, 25, 24, 16, 23, 36, 32, 19, 15, 21,\n",
       "       22, 29, 18,  3,  4,  1,  2, 33, 26, 13, 12,  8,  5, 34, 28, 11, 14,\n",
       "        9,  7])"
      ]
     },
     "metadata": {},
     "execution_count": 27
    }
   ],
   "source": [
    "grid.cv_results_.get('rank_test_score')"
   ]
  },
  {
   "cell_type": "code",
   "execution_count": 28,
   "metadata": {},
   "outputs": [
    {
     "output_type": "execute_result",
     "data": {
      "text/plain": [
       "    mean_fit_time  std_fit_time  mean_score_time  std_score_time  \\\n",
       "0        0.053522      0.010183         0.007314        0.002618   \n",
       "1        0.272604      0.049281         0.013629        0.003083   \n",
       "2        0.485693      0.060659         0.020944        0.004955   \n",
       "3        0.817143      0.139172         0.028258        0.003290   \n",
       "4        1.633961      0.222130         0.072473        0.018216   \n",
       "5        2.620988      0.360734         0.109707        0.021297   \n",
       "6        0.038563      0.000471         0.004986        0.000815   \n",
       "7        0.221074      0.042207         0.014959        0.007768   \n",
       "8        0.457108      0.073849         0.022940        0.005701   \n",
       "9        0.626324      0.106096         0.031915        0.006465   \n",
       "10       1.357369      0.214374         0.064496        0.015886   \n",
       "11       2.186818      0.511598         0.100730        0.016266   \n",
       "12       0.053189      0.010181         0.005984        0.002821   \n",
       "13       0.204454      0.033207         0.010976        0.000007   \n",
       "14       0.481712      0.062108         0.022273        0.002858   \n",
       "15       0.654918      0.138461         0.036566        0.010250   \n",
       "16       1.627976      0.209094         0.096081        0.030832   \n",
       "17       2.157226      0.367381         0.119016        0.029408   \n",
       "18       0.165555      0.012797         0.004987        0.001411   \n",
       "19       1.010958      0.288765         0.011304        0.002050   \n",
       "20       2.154236      0.307606         0.023604        0.004631   \n",
       "21       3.110345      0.281989         0.029921        0.000814   \n",
       "22       6.366968      0.366557         0.063163        0.009403   \n",
       "23      10.523848      0.626152         0.097406        0.004098   \n",
       "24       0.189493      0.045986         0.005320        0.000941   \n",
       "25       0.719408      0.164373         0.009974        0.000815   \n",
       "26       1.796527      0.032474         0.034243        0.011811   \n",
       "27       1.992667      0.128856         0.037899        0.009873   \n",
       "28       4.088729      0.434807         0.062168        0.019550   \n",
       "29       7.744948      0.940281         0.107713        0.040911   \n",
       "30       0.173536      0.020794         0.005652        0.002351   \n",
       "31       0.722400      0.134276         0.010971        0.001629   \n",
       "32       1.325785      0.045574         0.029921        0.008580   \n",
       "33       2.500311      0.373772         0.042886        0.012642   \n",
       "34       3.776234      0.347441         0.056846        0.007855   \n",
       "35       5.935808      0.342066         0.063163        0.008708   \n",
       "\n",
       "   param_criterion param_max_features param_n_estimators  \\\n",
       "0              mse               auto                 10   \n",
       "1              mse               auto                 50   \n",
       "2              mse               auto                100   \n",
       "3              mse               auto                150   \n",
       "4              mse               auto                300   \n",
       "5              mse               auto                500   \n",
       "6              mse               sqrt                 10   \n",
       "7              mse               sqrt                 50   \n",
       "8              mse               sqrt                100   \n",
       "9              mse               sqrt                150   \n",
       "10             mse               sqrt                300   \n",
       "11             mse               sqrt                500   \n",
       "12             mse               log2                 10   \n",
       "13             mse               log2                 50   \n",
       "14             mse               log2                100   \n",
       "15             mse               log2                150   \n",
       "16             mse               log2                300   \n",
       "17             mse               log2                500   \n",
       "18             mae               auto                 10   \n",
       "19             mae               auto                 50   \n",
       "20             mae               auto                100   \n",
       "21             mae               auto                150   \n",
       "22             mae               auto                300   \n",
       "23             mae               auto                500   \n",
       "24             mae               sqrt                 10   \n",
       "25             mae               sqrt                 50   \n",
       "26             mae               sqrt                100   \n",
       "27             mae               sqrt                150   \n",
       "28             mae               sqrt                300   \n",
       "29             mae               sqrt                500   \n",
       "30             mae               log2                 10   \n",
       "31             mae               log2                 50   \n",
       "32             mae               log2                100   \n",
       "33             mae               log2                150   \n",
       "34             mae               log2                300   \n",
       "35             mae               log2                500   \n",
       "\n",
       "                                               params  split0_test_score  \\\n",
       "0   {'criterion': 'mse', 'max_features': 'auto', '...           0.975384   \n",
       "1   {'criterion': 'mse', 'max_features': 'auto', '...           0.976546   \n",
       "2   {'criterion': 'mse', 'max_features': 'auto', '...           0.977264   \n",
       "3   {'criterion': 'mse', 'max_features': 'auto', '...           0.978408   \n",
       "4   {'criterion': 'mse', 'max_features': 'auto', '...           0.980442   \n",
       "5   {'criterion': 'mse', 'max_features': 'auto', '...           0.979084   \n",
       "6   {'criterion': 'mse', 'max_features': 'sqrt', '...           0.968711   \n",
       "7   {'criterion': 'mse', 'max_features': 'sqrt', '...           0.975110   \n",
       "8   {'criterion': 'mse', 'max_features': 'sqrt', '...           0.979428   \n",
       "9   {'criterion': 'mse', 'max_features': 'sqrt', '...           0.980526   \n",
       "10  {'criterion': 'mse', 'max_features': 'sqrt', '...           0.981772   \n",
       "11  {'criterion': 'mse', 'max_features': 'sqrt', '...           0.979484   \n",
       "12  {'criterion': 'mse', 'max_features': 'log2', '...           0.964305   \n",
       "13  {'criterion': 'mse', 'max_features': 'log2', '...           0.975989   \n",
       "14  {'criterion': 'mse', 'max_features': 'log2', '...           0.980414   \n",
       "15  {'criterion': 'mse', 'max_features': 'log2', '...           0.981046   \n",
       "16  {'criterion': 'mse', 'max_features': 'log2', '...           0.978934   \n",
       "17  {'criterion': 'mse', 'max_features': 'log2', '...           0.980066   \n",
       "18  {'criterion': 'mae', 'max_features': 'auto', '...           0.976652   \n",
       "19  {'criterion': 'mae', 'max_features': 'auto', '...           0.976392   \n",
       "20  {'criterion': 'mae', 'max_features': 'auto', '...           0.980336   \n",
       "21  {'criterion': 'mae', 'max_features': 'auto', '...           0.981062   \n",
       "22  {'criterion': 'mae', 'max_features': 'auto', '...           0.981433   \n",
       "23  {'criterion': 'mae', 'max_features': 'auto', '...           0.980945   \n",
       "24  {'criterion': 'mae', 'max_features': 'sqrt', '...           0.977283   \n",
       "25  {'criterion': 'mae', 'max_features': 'sqrt', '...           0.980872   \n",
       "26  {'criterion': 'mae', 'max_features': 'sqrt', '...           0.981733   \n",
       "27  {'criterion': 'mae', 'max_features': 'sqrt', '...           0.981030   \n",
       "28  {'criterion': 'mae', 'max_features': 'sqrt', '...           0.981933   \n",
       "29  {'criterion': 'mae', 'max_features': 'sqrt', '...           0.982164   \n",
       "30  {'criterion': 'mae', 'max_features': 'log2', '...           0.961237   \n",
       "31  {'criterion': 'mae', 'max_features': 'log2', '...           0.980235   \n",
       "32  {'criterion': 'mae', 'max_features': 'log2', '...           0.982471   \n",
       "33  {'criterion': 'mae', 'max_features': 'log2', '...           0.981161   \n",
       "34  {'criterion': 'mae', 'max_features': 'log2', '...           0.981760   \n",
       "35  {'criterion': 'mae', 'max_features': 'log2', '...           0.982328   \n",
       "\n",
       "    split1_test_score  split2_test_score  mean_test_score  std_test_score  \\\n",
       "0            0.978384           0.976569         0.976777        0.001234   \n",
       "1            0.977475           0.981236         0.978417        0.002028   \n",
       "2            0.978359           0.981424         0.979014        0.001761   \n",
       "3            0.979018           0.981180         0.979534        0.001189   \n",
       "4            0.979340           0.982076         0.980619        0.001124   \n",
       "5            0.979050           0.981622         0.979917        0.001204   \n",
       "6            0.966619           0.972701         0.969343        0.002522   \n",
       "7            0.976302           0.978202         0.976536        0.001273   \n",
       "8            0.976317           0.980743         0.978830        0.001855   \n",
       "9            0.975847           0.980276         0.978885        0.002149   \n",
       "10           0.977069           0.979815         0.979554        0.001929   \n",
       "11           0.977782           0.979409         0.978892        0.000785   \n",
       "12           0.965907           0.976028         0.968742        0.005189   \n",
       "13           0.976319           0.976798         0.976368        0.000332   \n",
       "14           0.977729           0.979489         0.979212        0.001114   \n",
       "15           0.978257           0.979392         0.979566        0.001145   \n",
       "16           0.977644           0.980274         0.978951        0.001073   \n",
       "17           0.977356           0.979377         0.978934        0.001150   \n",
       "18           0.975123           0.979015         0.976930        0.001600   \n",
       "19           0.980500           0.981116         0.979333        0.002098   \n",
       "20           0.981639           0.981727         0.981233        0.000636   \n",
       "21           0.980396           0.981869         0.981109        0.000602   \n",
       "22           0.981316           0.982087         0.981612        0.000339   \n",
       "23           0.981155           0.981919         0.981339        0.000419   \n",
       "24           0.969100           0.973549         0.973315        0.003346   \n",
       "25           0.977757           0.977683         0.978773        0.001487   \n",
       "26           0.977945           0.979596         0.979760        0.001551   \n",
       "27           0.978085           0.980171         0.979763        0.001237   \n",
       "28           0.979032           0.980320         0.980430        0.001187   \n",
       "29           0.978997           0.980900         0.980689        0.001302   \n",
       "30           0.975483           0.976156         0.970949        0.006883   \n",
       "31           0.975883           0.978473         0.978199        0.001788   \n",
       "32           0.977455           0.979757         0.979897        0.002051   \n",
       "33           0.977896           0.980169         0.979743        0.001367   \n",
       "34           0.978936           0.980323         0.980341        0.001153   \n",
       "35           0.978942           0.980276         0.980517        0.001393   \n",
       "\n",
       "    rank_test_score  \n",
       "0                30  \n",
       "1                27  \n",
       "2                20  \n",
       "3                17  \n",
       "4                 6  \n",
       "5                10  \n",
       "6                35  \n",
       "7                31  \n",
       "8                25  \n",
       "9                24  \n",
       "10               16  \n",
       "11               23  \n",
       "12               36  \n",
       "13               32  \n",
       "14               19  \n",
       "15               15  \n",
       "16               21  \n",
       "17               22  \n",
       "18               29  \n",
       "19               18  \n",
       "20                3  \n",
       "21                4  \n",
       "22                1  \n",
       "23                2  \n",
       "24               33  \n",
       "25               26  \n",
       "26               13  \n",
       "27               12  \n",
       "28                8  \n",
       "29                5  \n",
       "30               34  \n",
       "31               28  \n",
       "32               11  \n",
       "33               14  \n",
       "34                9  \n",
       "35                7  "
      ],
      "text/html": "<div>\n<style scoped>\n    .dataframe tbody tr th:only-of-type {\n        vertical-align: middle;\n    }\n\n    .dataframe tbody tr th {\n        vertical-align: top;\n    }\n\n    .dataframe thead th {\n        text-align: right;\n    }\n</style>\n<table border=\"1\" class=\"dataframe\">\n  <thead>\n    <tr style=\"text-align: right;\">\n      <th></th>\n      <th>mean_fit_time</th>\n      <th>std_fit_time</th>\n      <th>mean_score_time</th>\n      <th>std_score_time</th>\n      <th>param_criterion</th>\n      <th>param_max_features</th>\n      <th>param_n_estimators</th>\n      <th>params</th>\n      <th>split0_test_score</th>\n      <th>split1_test_score</th>\n      <th>split2_test_score</th>\n      <th>mean_test_score</th>\n      <th>std_test_score</th>\n      <th>rank_test_score</th>\n    </tr>\n  </thead>\n  <tbody>\n    <tr>\n      <th>0</th>\n      <td>0.053522</td>\n      <td>0.010183</td>\n      <td>0.007314</td>\n      <td>0.002618</td>\n      <td>mse</td>\n      <td>auto</td>\n      <td>10</td>\n      <td>{'criterion': 'mse', 'max_features': 'auto', '...</td>\n      <td>0.975384</td>\n      <td>0.978384</td>\n      <td>0.976569</td>\n      <td>0.976777</td>\n      <td>0.001234</td>\n      <td>30</td>\n    </tr>\n    <tr>\n      <th>1</th>\n      <td>0.272604</td>\n      <td>0.049281</td>\n      <td>0.013629</td>\n      <td>0.003083</td>\n      <td>mse</td>\n      <td>auto</td>\n      <td>50</td>\n      <td>{'criterion': 'mse', 'max_features': 'auto', '...</td>\n      <td>0.976546</td>\n      <td>0.977475</td>\n      <td>0.981236</td>\n      <td>0.978417</td>\n      <td>0.002028</td>\n      <td>27</td>\n    </tr>\n    <tr>\n      <th>2</th>\n      <td>0.485693</td>\n      <td>0.060659</td>\n      <td>0.020944</td>\n      <td>0.004955</td>\n      <td>mse</td>\n      <td>auto</td>\n      <td>100</td>\n      <td>{'criterion': 'mse', 'max_features': 'auto', '...</td>\n      <td>0.977264</td>\n      <td>0.978359</td>\n      <td>0.981424</td>\n      <td>0.979014</td>\n      <td>0.001761</td>\n      <td>20</td>\n    </tr>\n    <tr>\n      <th>3</th>\n      <td>0.817143</td>\n      <td>0.139172</td>\n      <td>0.028258</td>\n      <td>0.003290</td>\n      <td>mse</td>\n      <td>auto</td>\n      <td>150</td>\n      <td>{'criterion': 'mse', 'max_features': 'auto', '...</td>\n      <td>0.978408</td>\n      <td>0.979018</td>\n      <td>0.981180</td>\n      <td>0.979534</td>\n      <td>0.001189</td>\n      <td>17</td>\n    </tr>\n    <tr>\n      <th>4</th>\n      <td>1.633961</td>\n      <td>0.222130</td>\n      <td>0.072473</td>\n      <td>0.018216</td>\n      <td>mse</td>\n      <td>auto</td>\n      <td>300</td>\n      <td>{'criterion': 'mse', 'max_features': 'auto', '...</td>\n      <td>0.980442</td>\n      <td>0.979340</td>\n      <td>0.982076</td>\n      <td>0.980619</td>\n      <td>0.001124</td>\n      <td>6</td>\n    </tr>\n    <tr>\n      <th>5</th>\n      <td>2.620988</td>\n      <td>0.360734</td>\n      <td>0.109707</td>\n      <td>0.021297</td>\n      <td>mse</td>\n      <td>auto</td>\n      <td>500</td>\n      <td>{'criterion': 'mse', 'max_features': 'auto', '...</td>\n      <td>0.979084</td>\n      <td>0.979050</td>\n      <td>0.981622</td>\n      <td>0.979917</td>\n      <td>0.001204</td>\n      <td>10</td>\n    </tr>\n    <tr>\n      <th>6</th>\n      <td>0.038563</td>\n      <td>0.000471</td>\n      <td>0.004986</td>\n      <td>0.000815</td>\n      <td>mse</td>\n      <td>sqrt</td>\n      <td>10</td>\n      <td>{'criterion': 'mse', 'max_features': 'sqrt', '...</td>\n      <td>0.968711</td>\n      <td>0.966619</td>\n      <td>0.972701</td>\n      <td>0.969343</td>\n      <td>0.002522</td>\n      <td>35</td>\n    </tr>\n    <tr>\n      <th>7</th>\n      <td>0.221074</td>\n      <td>0.042207</td>\n      <td>0.014959</td>\n      <td>0.007768</td>\n      <td>mse</td>\n      <td>sqrt</td>\n      <td>50</td>\n      <td>{'criterion': 'mse', 'max_features': 'sqrt', '...</td>\n      <td>0.975110</td>\n      <td>0.976302</td>\n      <td>0.978202</td>\n      <td>0.976536</td>\n      <td>0.001273</td>\n      <td>31</td>\n    </tr>\n    <tr>\n      <th>8</th>\n      <td>0.457108</td>\n      <td>0.073849</td>\n      <td>0.022940</td>\n      <td>0.005701</td>\n      <td>mse</td>\n      <td>sqrt</td>\n      <td>100</td>\n      <td>{'criterion': 'mse', 'max_features': 'sqrt', '...</td>\n      <td>0.979428</td>\n      <td>0.976317</td>\n      <td>0.980743</td>\n      <td>0.978830</td>\n      <td>0.001855</td>\n      <td>25</td>\n    </tr>\n    <tr>\n      <th>9</th>\n      <td>0.626324</td>\n      <td>0.106096</td>\n      <td>0.031915</td>\n      <td>0.006465</td>\n      <td>mse</td>\n      <td>sqrt</td>\n      <td>150</td>\n      <td>{'criterion': 'mse', 'max_features': 'sqrt', '...</td>\n      <td>0.980526</td>\n      <td>0.975847</td>\n      <td>0.980276</td>\n      <td>0.978885</td>\n      <td>0.002149</td>\n      <td>24</td>\n    </tr>\n    <tr>\n      <th>10</th>\n      <td>1.357369</td>\n      <td>0.214374</td>\n      <td>0.064496</td>\n      <td>0.015886</td>\n      <td>mse</td>\n      <td>sqrt</td>\n      <td>300</td>\n      <td>{'criterion': 'mse', 'max_features': 'sqrt', '...</td>\n      <td>0.981772</td>\n      <td>0.977069</td>\n      <td>0.979815</td>\n      <td>0.979554</td>\n      <td>0.001929</td>\n      <td>16</td>\n    </tr>\n    <tr>\n      <th>11</th>\n      <td>2.186818</td>\n      <td>0.511598</td>\n      <td>0.100730</td>\n      <td>0.016266</td>\n      <td>mse</td>\n      <td>sqrt</td>\n      <td>500</td>\n      <td>{'criterion': 'mse', 'max_features': 'sqrt', '...</td>\n      <td>0.979484</td>\n      <td>0.977782</td>\n      <td>0.979409</td>\n      <td>0.978892</td>\n      <td>0.000785</td>\n      <td>23</td>\n    </tr>\n    <tr>\n      <th>12</th>\n      <td>0.053189</td>\n      <td>0.010181</td>\n      <td>0.005984</td>\n      <td>0.002821</td>\n      <td>mse</td>\n      <td>log2</td>\n      <td>10</td>\n      <td>{'criterion': 'mse', 'max_features': 'log2', '...</td>\n      <td>0.964305</td>\n      <td>0.965907</td>\n      <td>0.976028</td>\n      <td>0.968742</td>\n      <td>0.005189</td>\n      <td>36</td>\n    </tr>\n    <tr>\n      <th>13</th>\n      <td>0.204454</td>\n      <td>0.033207</td>\n      <td>0.010976</td>\n      <td>0.000007</td>\n      <td>mse</td>\n      <td>log2</td>\n      <td>50</td>\n      <td>{'criterion': 'mse', 'max_features': 'log2', '...</td>\n      <td>0.975989</td>\n      <td>0.976319</td>\n      <td>0.976798</td>\n      <td>0.976368</td>\n      <td>0.000332</td>\n      <td>32</td>\n    </tr>\n    <tr>\n      <th>14</th>\n      <td>0.481712</td>\n      <td>0.062108</td>\n      <td>0.022273</td>\n      <td>0.002858</td>\n      <td>mse</td>\n      <td>log2</td>\n      <td>100</td>\n      <td>{'criterion': 'mse', 'max_features': 'log2', '...</td>\n      <td>0.980414</td>\n      <td>0.977729</td>\n      <td>0.979489</td>\n      <td>0.979212</td>\n      <td>0.001114</td>\n      <td>19</td>\n    </tr>\n    <tr>\n      <th>15</th>\n      <td>0.654918</td>\n      <td>0.138461</td>\n      <td>0.036566</td>\n      <td>0.010250</td>\n      <td>mse</td>\n      <td>log2</td>\n      <td>150</td>\n      <td>{'criterion': 'mse', 'max_features': 'log2', '...</td>\n      <td>0.981046</td>\n      <td>0.978257</td>\n      <td>0.979392</td>\n      <td>0.979566</td>\n      <td>0.001145</td>\n      <td>15</td>\n    </tr>\n    <tr>\n      <th>16</th>\n      <td>1.627976</td>\n      <td>0.209094</td>\n      <td>0.096081</td>\n      <td>0.030832</td>\n      <td>mse</td>\n      <td>log2</td>\n      <td>300</td>\n      <td>{'criterion': 'mse', 'max_features': 'log2', '...</td>\n      <td>0.978934</td>\n      <td>0.977644</td>\n      <td>0.980274</td>\n      <td>0.978951</td>\n      <td>0.001073</td>\n      <td>21</td>\n    </tr>\n    <tr>\n      <th>17</th>\n      <td>2.157226</td>\n      <td>0.367381</td>\n      <td>0.119016</td>\n      <td>0.029408</td>\n      <td>mse</td>\n      <td>log2</td>\n      <td>500</td>\n      <td>{'criterion': 'mse', 'max_features': 'log2', '...</td>\n      <td>0.980066</td>\n      <td>0.977356</td>\n      <td>0.979377</td>\n      <td>0.978934</td>\n      <td>0.001150</td>\n      <td>22</td>\n    </tr>\n    <tr>\n      <th>18</th>\n      <td>0.165555</td>\n      <td>0.012797</td>\n      <td>0.004987</td>\n      <td>0.001411</td>\n      <td>mae</td>\n      <td>auto</td>\n      <td>10</td>\n      <td>{'criterion': 'mae', 'max_features': 'auto', '...</td>\n      <td>0.976652</td>\n      <td>0.975123</td>\n      <td>0.979015</td>\n      <td>0.976930</td>\n      <td>0.001600</td>\n      <td>29</td>\n    </tr>\n    <tr>\n      <th>19</th>\n      <td>1.010958</td>\n      <td>0.288765</td>\n      <td>0.011304</td>\n      <td>0.002050</td>\n      <td>mae</td>\n      <td>auto</td>\n      <td>50</td>\n      <td>{'criterion': 'mae', 'max_features': 'auto', '...</td>\n      <td>0.976392</td>\n      <td>0.980500</td>\n      <td>0.981116</td>\n      <td>0.979333</td>\n      <td>0.002098</td>\n      <td>18</td>\n    </tr>\n    <tr>\n      <th>20</th>\n      <td>2.154236</td>\n      <td>0.307606</td>\n      <td>0.023604</td>\n      <td>0.004631</td>\n      <td>mae</td>\n      <td>auto</td>\n      <td>100</td>\n      <td>{'criterion': 'mae', 'max_features': 'auto', '...</td>\n      <td>0.980336</td>\n      <td>0.981639</td>\n      <td>0.981727</td>\n      <td>0.981233</td>\n      <td>0.000636</td>\n      <td>3</td>\n    </tr>\n    <tr>\n      <th>21</th>\n      <td>3.110345</td>\n      <td>0.281989</td>\n      <td>0.029921</td>\n      <td>0.000814</td>\n      <td>mae</td>\n      <td>auto</td>\n      <td>150</td>\n      <td>{'criterion': 'mae', 'max_features': 'auto', '...</td>\n      <td>0.981062</td>\n      <td>0.980396</td>\n      <td>0.981869</td>\n      <td>0.981109</td>\n      <td>0.000602</td>\n      <td>4</td>\n    </tr>\n    <tr>\n      <th>22</th>\n      <td>6.366968</td>\n      <td>0.366557</td>\n      <td>0.063163</td>\n      <td>0.009403</td>\n      <td>mae</td>\n      <td>auto</td>\n      <td>300</td>\n      <td>{'criterion': 'mae', 'max_features': 'auto', '...</td>\n      <td>0.981433</td>\n      <td>0.981316</td>\n      <td>0.982087</td>\n      <td>0.981612</td>\n      <td>0.000339</td>\n      <td>1</td>\n    </tr>\n    <tr>\n      <th>23</th>\n      <td>10.523848</td>\n      <td>0.626152</td>\n      <td>0.097406</td>\n      <td>0.004098</td>\n      <td>mae</td>\n      <td>auto</td>\n      <td>500</td>\n      <td>{'criterion': 'mae', 'max_features': 'auto', '...</td>\n      <td>0.980945</td>\n      <td>0.981155</td>\n      <td>0.981919</td>\n      <td>0.981339</td>\n      <td>0.000419</td>\n      <td>2</td>\n    </tr>\n    <tr>\n      <th>24</th>\n      <td>0.189493</td>\n      <td>0.045986</td>\n      <td>0.005320</td>\n      <td>0.000941</td>\n      <td>mae</td>\n      <td>sqrt</td>\n      <td>10</td>\n      <td>{'criterion': 'mae', 'max_features': 'sqrt', '...</td>\n      <td>0.977283</td>\n      <td>0.969100</td>\n      <td>0.973549</td>\n      <td>0.973315</td>\n      <td>0.003346</td>\n      <td>33</td>\n    </tr>\n    <tr>\n      <th>25</th>\n      <td>0.719408</td>\n      <td>0.164373</td>\n      <td>0.009974</td>\n      <td>0.000815</td>\n      <td>mae</td>\n      <td>sqrt</td>\n      <td>50</td>\n      <td>{'criterion': 'mae', 'max_features': 'sqrt', '...</td>\n      <td>0.980872</td>\n      <td>0.977757</td>\n      <td>0.977683</td>\n      <td>0.978773</td>\n      <td>0.001487</td>\n      <td>26</td>\n    </tr>\n    <tr>\n      <th>26</th>\n      <td>1.796527</td>\n      <td>0.032474</td>\n      <td>0.034243</td>\n      <td>0.011811</td>\n      <td>mae</td>\n      <td>sqrt</td>\n      <td>100</td>\n      <td>{'criterion': 'mae', 'max_features': 'sqrt', '...</td>\n      <td>0.981733</td>\n      <td>0.977945</td>\n      <td>0.979596</td>\n      <td>0.979760</td>\n      <td>0.001551</td>\n      <td>13</td>\n    </tr>\n    <tr>\n      <th>27</th>\n      <td>1.992667</td>\n      <td>0.128856</td>\n      <td>0.037899</td>\n      <td>0.009873</td>\n      <td>mae</td>\n      <td>sqrt</td>\n      <td>150</td>\n      <td>{'criterion': 'mae', 'max_features': 'sqrt', '...</td>\n      <td>0.981030</td>\n      <td>0.978085</td>\n      <td>0.980171</td>\n      <td>0.979763</td>\n      <td>0.001237</td>\n      <td>12</td>\n    </tr>\n    <tr>\n      <th>28</th>\n      <td>4.088729</td>\n      <td>0.434807</td>\n      <td>0.062168</td>\n      <td>0.019550</td>\n      <td>mae</td>\n      <td>sqrt</td>\n      <td>300</td>\n      <td>{'criterion': 'mae', 'max_features': 'sqrt', '...</td>\n      <td>0.981933</td>\n      <td>0.979032</td>\n      <td>0.980320</td>\n      <td>0.980430</td>\n      <td>0.001187</td>\n      <td>8</td>\n    </tr>\n    <tr>\n      <th>29</th>\n      <td>7.744948</td>\n      <td>0.940281</td>\n      <td>0.107713</td>\n      <td>0.040911</td>\n      <td>mae</td>\n      <td>sqrt</td>\n      <td>500</td>\n      <td>{'criterion': 'mae', 'max_features': 'sqrt', '...</td>\n      <td>0.982164</td>\n      <td>0.978997</td>\n      <td>0.980900</td>\n      <td>0.980689</td>\n      <td>0.001302</td>\n      <td>5</td>\n    </tr>\n    <tr>\n      <th>30</th>\n      <td>0.173536</td>\n      <td>0.020794</td>\n      <td>0.005652</td>\n      <td>0.002351</td>\n      <td>mae</td>\n      <td>log2</td>\n      <td>10</td>\n      <td>{'criterion': 'mae', 'max_features': 'log2', '...</td>\n      <td>0.961237</td>\n      <td>0.975483</td>\n      <td>0.976156</td>\n      <td>0.970949</td>\n      <td>0.006883</td>\n      <td>34</td>\n    </tr>\n    <tr>\n      <th>31</th>\n      <td>0.722400</td>\n      <td>0.134276</td>\n      <td>0.010971</td>\n      <td>0.001629</td>\n      <td>mae</td>\n      <td>log2</td>\n      <td>50</td>\n      <td>{'criterion': 'mae', 'max_features': 'log2', '...</td>\n      <td>0.980235</td>\n      <td>0.975883</td>\n      <td>0.978473</td>\n      <td>0.978199</td>\n      <td>0.001788</td>\n      <td>28</td>\n    </tr>\n    <tr>\n      <th>32</th>\n      <td>1.325785</td>\n      <td>0.045574</td>\n      <td>0.029921</td>\n      <td>0.008580</td>\n      <td>mae</td>\n      <td>log2</td>\n      <td>100</td>\n      <td>{'criterion': 'mae', 'max_features': 'log2', '...</td>\n      <td>0.982471</td>\n      <td>0.977455</td>\n      <td>0.979757</td>\n      <td>0.979897</td>\n      <td>0.002051</td>\n      <td>11</td>\n    </tr>\n    <tr>\n      <th>33</th>\n      <td>2.500311</td>\n      <td>0.373772</td>\n      <td>0.042886</td>\n      <td>0.012642</td>\n      <td>mae</td>\n      <td>log2</td>\n      <td>150</td>\n      <td>{'criterion': 'mae', 'max_features': 'log2', '...</td>\n      <td>0.981161</td>\n      <td>0.977896</td>\n      <td>0.980169</td>\n      <td>0.979743</td>\n      <td>0.001367</td>\n      <td>14</td>\n    </tr>\n    <tr>\n      <th>34</th>\n      <td>3.776234</td>\n      <td>0.347441</td>\n      <td>0.056846</td>\n      <td>0.007855</td>\n      <td>mae</td>\n      <td>log2</td>\n      <td>300</td>\n      <td>{'criterion': 'mae', 'max_features': 'log2', '...</td>\n      <td>0.981760</td>\n      <td>0.978936</td>\n      <td>0.980323</td>\n      <td>0.980341</td>\n      <td>0.001153</td>\n      <td>9</td>\n    </tr>\n    <tr>\n      <th>35</th>\n      <td>5.935808</td>\n      <td>0.342066</td>\n      <td>0.063163</td>\n      <td>0.008708</td>\n      <td>mae</td>\n      <td>log2</td>\n      <td>500</td>\n      <td>{'criterion': 'mae', 'max_features': 'log2', '...</td>\n      <td>0.982328</td>\n      <td>0.978942</td>\n      <td>0.980276</td>\n      <td>0.980517</td>\n      <td>0.001393</td>\n      <td>7</td>\n    </tr>\n  </tbody>\n</table>\n</div>"
     },
     "metadata": {},
     "execution_count": 28
    }
   ],
   "source": [
    "grid_scores_df = pd.DataFrame(grid.cv_results_)\n",
    "grid_scores_df.head(10)"
   ]
  },
  {
   "cell_type": "code",
   "execution_count": null,
   "metadata": {},
   "outputs": [],
   "source": []
  }
 ]
}