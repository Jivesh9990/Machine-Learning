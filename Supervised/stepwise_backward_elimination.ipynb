{
 "metadata": {
  "language_info": {
   "codemirror_mode": {
    "name": "ipython",
    "version": 3
   },
   "file_extension": ".py",
   "mimetype": "text/x-python",
   "name": "python",
   "nbconvert_exporter": "python",
   "pygments_lexer": "ipython3",
   "version": "3.7.4-final"
  },
  "orig_nbformat": 2,
  "kernelspec": {
   "name": "python3",
   "display_name": "Python 3",
   "language": "python"
  }
 },
 "nbformat": 4,
 "nbformat_minor": 2,
 "cells": [
  {
   "cell_type": "code",
   "execution_count": 1,
   "metadata": {},
   "outputs": [],
   "source": [
    "import numpy as np\n",
    "import pandas as pd\n",
    "import matplotlib.pyplot as plt\n",
    "import statsmodels.api as sm\n",
    "from sklearn.preprocessing import OneHotEncoder"
   ]
  },
  {
   "cell_type": "code",
   "execution_count": 2,
   "metadata": {},
   "outputs": [
    {
     "output_type": "stream",
     "name": "stdout",
     "text": [
      "<class 'pandas.core.frame.DataFrame'>\nRangeIndex: 50 entries, 0 to 49\nData columns (total 5 columns):\n #   Column           Non-Null Count  Dtype  \n---  ------           --------------  -----  \n 0   R&D Spend        50 non-null     float64\n 1   Administration   50 non-null     float64\n 2   Marketing Spend  50 non-null     float64\n 3   State            50 non-null     object \n 4   Profit           50 non-null     float64\ndtypes: float64(4), object(1)\nmemory usage: 2.1+ KB\n"
     ]
    }
   ],
   "source": [
    "df=pd.read_csv('../datasets/50_Startups.csv')\n",
    "df.info()"
   ]
  },
  {
   "cell_type": "code",
   "execution_count": 3,
   "metadata": {},
   "outputs": [
    {
     "output_type": "execute_result",
     "data": {
      "text/plain": [
       "   R&D Spend  Administration  Marketing Spend     Profit    0    1\n",
       "0  165349.20       136897.80        471784.10  192261.83  0.0  1.0\n",
       "1  162597.70       151377.59        443898.53  191792.06  0.0  0.0\n",
       "2  153441.51       101145.55        407934.54  191050.39  1.0  0.0\n",
       "3  144372.41       118671.85        383199.62  182901.99  0.0  1.0\n",
       "4  142107.34        91391.77        366168.42  166187.94  1.0  0.0"
      ],
      "text/html": "<div>\n<style scoped>\n    .dataframe tbody tr th:only-of-type {\n        vertical-align: middle;\n    }\n\n    .dataframe tbody tr th {\n        vertical-align: top;\n    }\n\n    .dataframe thead th {\n        text-align: right;\n    }\n</style>\n<table border=\"1\" class=\"dataframe\">\n  <thead>\n    <tr style=\"text-align: right;\">\n      <th></th>\n      <th>R&amp;D Spend</th>\n      <th>Administration</th>\n      <th>Marketing Spend</th>\n      <th>Profit</th>\n      <th>0</th>\n      <th>1</th>\n    </tr>\n  </thead>\n  <tbody>\n    <tr>\n      <th>0</th>\n      <td>165349.20</td>\n      <td>136897.80</td>\n      <td>471784.10</td>\n      <td>192261.83</td>\n      <td>0.0</td>\n      <td>1.0</td>\n    </tr>\n    <tr>\n      <th>1</th>\n      <td>162597.70</td>\n      <td>151377.59</td>\n      <td>443898.53</td>\n      <td>191792.06</td>\n      <td>0.0</td>\n      <td>0.0</td>\n    </tr>\n    <tr>\n      <th>2</th>\n      <td>153441.51</td>\n      <td>101145.55</td>\n      <td>407934.54</td>\n      <td>191050.39</td>\n      <td>1.0</td>\n      <td>0.0</td>\n    </tr>\n    <tr>\n      <th>3</th>\n      <td>144372.41</td>\n      <td>118671.85</td>\n      <td>383199.62</td>\n      <td>182901.99</td>\n      <td>0.0</td>\n      <td>1.0</td>\n    </tr>\n    <tr>\n      <th>4</th>\n      <td>142107.34</td>\n      <td>91391.77</td>\n      <td>366168.42</td>\n      <td>166187.94</td>\n      <td>1.0</td>\n      <td>0.0</td>\n    </tr>\n  </tbody>\n</table>\n</div>"
     },
     "metadata": {},
     "execution_count": 3
    }
   ],
   "source": [
    "state_enc = OneHotEncoder(drop='first')\n",
    "dummy_states = state_enc.fit_transform(df[['State']]).toarray()\n",
    "state_dummies = pd.DataFrame(dummy_states)\n",
    "df = pd.concat([df,state_dummies],axis=1)\n",
    "df.drop(['State'],axis=1,inplace=True)\n",
    "df.head()"
   ]
  },
  {
   "cell_type": "code",
   "execution_count": 4,
   "metadata": {},
   "outputs": [],
   "source": [
    "feature_cols  = ['R&D Spend','Administration','Marketing Spend',0,1]\n",
    "X = df[feature_cols]\n",
    "y = df['Profit']"
   ]
  },
  {
   "cell_type": "code",
   "execution_count": 5,
   "metadata": {},
   "outputs": [
    {
     "output_type": "execute_result",
     "data": {
      "text/plain": [
       "           R&D Spend  Administration  Marketing Spend          0          1\n",
       "count      50.000000       50.000000        50.000000  50.000000  50.000000\n",
       "mean    73721.615600   121344.639600    211025.097800   0.320000   0.340000\n",
       "std     45902.256482    28017.802755    122290.310726   0.471212   0.478518\n",
       "min         0.000000    51283.140000         0.000000   0.000000   0.000000\n",
       "25%     39936.370000   103730.875000    129300.132500   0.000000   0.000000\n",
       "50%     73051.080000   122699.795000    212716.240000   0.000000   0.000000\n",
       "75%    101602.800000   144842.180000    299469.085000   1.000000   1.000000\n",
       "max    165349.200000   182645.560000    471784.100000   1.000000   1.000000"
      ],
      "text/html": "<div>\n<style scoped>\n    .dataframe tbody tr th:only-of-type {\n        vertical-align: middle;\n    }\n\n    .dataframe tbody tr th {\n        vertical-align: top;\n    }\n\n    .dataframe thead th {\n        text-align: right;\n    }\n</style>\n<table border=\"1\" class=\"dataframe\">\n  <thead>\n    <tr style=\"text-align: right;\">\n      <th></th>\n      <th>R&amp;D Spend</th>\n      <th>Administration</th>\n      <th>Marketing Spend</th>\n      <th>0</th>\n      <th>1</th>\n    </tr>\n  </thead>\n  <tbody>\n    <tr>\n      <th>count</th>\n      <td>50.000000</td>\n      <td>50.000000</td>\n      <td>50.000000</td>\n      <td>50.000000</td>\n      <td>50.000000</td>\n    </tr>\n    <tr>\n      <th>mean</th>\n      <td>73721.615600</td>\n      <td>121344.639600</td>\n      <td>211025.097800</td>\n      <td>0.320000</td>\n      <td>0.340000</td>\n    </tr>\n    <tr>\n      <th>std</th>\n      <td>45902.256482</td>\n      <td>28017.802755</td>\n      <td>122290.310726</td>\n      <td>0.471212</td>\n      <td>0.478518</td>\n    </tr>\n    <tr>\n      <th>min</th>\n      <td>0.000000</td>\n      <td>51283.140000</td>\n      <td>0.000000</td>\n      <td>0.000000</td>\n      <td>0.000000</td>\n    </tr>\n    <tr>\n      <th>25%</th>\n      <td>39936.370000</td>\n      <td>103730.875000</td>\n      <td>129300.132500</td>\n      <td>0.000000</td>\n      <td>0.000000</td>\n    </tr>\n    <tr>\n      <th>50%</th>\n      <td>73051.080000</td>\n      <td>122699.795000</td>\n      <td>212716.240000</td>\n      <td>0.000000</td>\n      <td>0.000000</td>\n    </tr>\n    <tr>\n      <th>75%</th>\n      <td>101602.800000</td>\n      <td>144842.180000</td>\n      <td>299469.085000</td>\n      <td>1.000000</td>\n      <td>1.000000</td>\n    </tr>\n    <tr>\n      <th>max</th>\n      <td>165349.200000</td>\n      <td>182645.560000</td>\n      <td>471784.100000</td>\n      <td>1.000000</td>\n      <td>1.000000</td>\n    </tr>\n  </tbody>\n</table>\n</div>"
     },
     "metadata": {},
     "execution_count": 5
    }
   ],
   "source": [
    "X.describe()"
   ]
  },
  {
   "cell_type": "code",
   "execution_count": 6,
   "metadata": {},
   "outputs": [],
   "source": [
    "from sklearn.preprocessing import StandardScaler"
   ]
  },
  {
   "cell_type": "code",
   "execution_count": 7,
   "metadata": {},
   "outputs": [
    {
     "output_type": "execute_result",
     "data": {
      "text/plain": [
       "                  0             1             2             3             4\n",
       "count  5.000000e+01  5.000000e+01  5.000000e+01  5.000000e+01  5.000000e+01\n",
       "mean   1.199041e-16 -2.919887e-16 -9.325873e-17 -7.549517e-17 -1.021405e-16\n",
       "std    1.010153e+00  1.010153e+00  1.010153e+00  1.010153e+00  1.010153e+00\n",
       "min   -1.622362e+00 -2.525994e+00 -1.743127e+00 -6.859943e-01 -7.177406e-01\n",
       "25%   -7.434983e-01 -6.350458e-01 -6.750713e-01 -6.859943e-01 -7.177406e-01\n",
       "50%   -1.475621e-02  4.885871e-02  1.396931e-02 -6.859943e-01 -7.177406e-01\n",
       "75%    6.135700e-01  8.471792e-01  7.305723e-01  1.457738e+00  1.393261e+00\n",
       "max    2.016411e+00  2.210141e+00  2.153943e+00  1.457738e+00  1.393261e+00"
      ],
      "text/html": "<div>\n<style scoped>\n    .dataframe tbody tr th:only-of-type {\n        vertical-align: middle;\n    }\n\n    .dataframe tbody tr th {\n        vertical-align: top;\n    }\n\n    .dataframe thead th {\n        text-align: right;\n    }\n</style>\n<table border=\"1\" class=\"dataframe\">\n  <thead>\n    <tr style=\"text-align: right;\">\n      <th></th>\n      <th>0</th>\n      <th>1</th>\n      <th>2</th>\n      <th>3</th>\n      <th>4</th>\n    </tr>\n  </thead>\n  <tbody>\n    <tr>\n      <th>count</th>\n      <td>5.000000e+01</td>\n      <td>5.000000e+01</td>\n      <td>5.000000e+01</td>\n      <td>5.000000e+01</td>\n      <td>5.000000e+01</td>\n    </tr>\n    <tr>\n      <th>mean</th>\n      <td>1.199041e-16</td>\n      <td>-2.919887e-16</td>\n      <td>-9.325873e-17</td>\n      <td>-7.549517e-17</td>\n      <td>-1.021405e-16</td>\n    </tr>\n    <tr>\n      <th>std</th>\n      <td>1.010153e+00</td>\n      <td>1.010153e+00</td>\n      <td>1.010153e+00</td>\n      <td>1.010153e+00</td>\n      <td>1.010153e+00</td>\n    </tr>\n    <tr>\n      <th>min</th>\n      <td>-1.622362e+00</td>\n      <td>-2.525994e+00</td>\n      <td>-1.743127e+00</td>\n      <td>-6.859943e-01</td>\n      <td>-7.177406e-01</td>\n    </tr>\n    <tr>\n      <th>25%</th>\n      <td>-7.434983e-01</td>\n      <td>-6.350458e-01</td>\n      <td>-6.750713e-01</td>\n      <td>-6.859943e-01</td>\n      <td>-7.177406e-01</td>\n    </tr>\n    <tr>\n      <th>50%</th>\n      <td>-1.475621e-02</td>\n      <td>4.885871e-02</td>\n      <td>1.396931e-02</td>\n      <td>-6.859943e-01</td>\n      <td>-7.177406e-01</td>\n    </tr>\n    <tr>\n      <th>75%</th>\n      <td>6.135700e-01</td>\n      <td>8.471792e-01</td>\n      <td>7.305723e-01</td>\n      <td>1.457738e+00</td>\n      <td>1.393261e+00</td>\n    </tr>\n    <tr>\n      <th>max</th>\n      <td>2.016411e+00</td>\n      <td>2.210141e+00</td>\n      <td>2.153943e+00</td>\n      <td>1.457738e+00</td>\n      <td>1.393261e+00</td>\n    </tr>\n  </tbody>\n</table>\n</div>"
     },
     "metadata": {},
     "execution_count": 7
    }
   ],
   "source": [
    "scaler = StandardScaler()\n",
    "scaledX = scaler.fit_transform(X)\n",
    "pd.DataFrame(scaledX).describe() # temp output"
   ]
  },
  {
   "cell_type": "code",
   "execution_count": null,
   "metadata": {},
   "outputs": [],
   "source": []
  }
 ]
}